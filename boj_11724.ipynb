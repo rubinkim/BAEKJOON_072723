{
 "cells": [
  {
   "cell_type": "code",
   "execution_count": 12,
   "metadata": {},
   "outputs": [
    {
     "name": "stdout",
     "output_type": "stream",
     "text": [
      "6 5\n",
      "1 2\n",
      "\n",
      "2 5\n",
      "\n",
      "5 1\n",
      "\n",
      "3 4\n",
      "\n",
      "4 6\n"
     ]
    }
   ],
   "source": [
    "import sys\n",
    "sys.stdin = open(\"data/boj_11724.txt\")\n",
    "fast_input = sys.stdin.readline\n",
    "N, M = map(int, fast_input().split(\" \"))\n",
    "print(N, M)\n",
    "\n",
    "for _ in range(M):\n",
    "    print(fast_input())"
   ]
  },
  {
   "cell_type": "code",
   "execution_count": 38,
   "metadata": {},
   "outputs": [
    {
     "name": "stdout",
     "output_type": "stream",
     "text": [
      "6 5\n",
      "[['1', '2'], ['2', '5'], ['5', '1'], ['3', '4'], ['4', '6']]\n"
     ]
    }
   ],
   "source": [
    "import sys\n",
    "sys.stdin = open(\"data/boj_11724.txt\")\n",
    "fast_input = sys.stdin.readline\n",
    "N, M = map(int, fast_input().split(\" \"))\n",
    "print(N, M)\n",
    "\n",
    "cc_list = []\n",
    "for _ in range(M):\n",
    "    cc_list.append(fast_input().split())\n",
    "    \n",
    "print(cc_list)"
   ]
  },
  {
   "cell_type": "code",
   "execution_count": 40,
   "metadata": {},
   "outputs": [
    {
     "name": "stdout",
     "output_type": "stream",
     "text": [
      "[['1', '2', '2', '5', '5', '1'], ['3', '4', '4', '6']]\n",
      "2\n"
     ]
    }
   ],
   "source": [
    "for i in range(1, N+1):\n",
    "    chk_sum = 0\n",
    "    for j, list in enumerate(cc_list):\n",
    "        if str(i) in list:\n",
    "            chk_sum += 1\n",
    "            if chk_sum >=2:\n",
    "                x = cc_list[j]\n",
    "                cc_list[j-1].extend(x)\n",
    "                cc_list.remove(x)                \n",
    "    \n",
    "print(cc_list)\n",
    "print(len(cc_list))"
   ]
  },
  {
   "cell_type": "code",
   "execution_count": 45,
   "metadata": {},
   "outputs": [
    {
     "name": "stdout",
     "output_type": "stream",
     "text": [
      "6 8\n",
      "1 2\n",
      "2 5\n",
      "5 1\n",
      "3 4\n",
      "4 6\n",
      "5 4\n",
      "2 4\n",
      "2 3\n",
      "[[1, 2], [2, 5], [5, 1], [3, 4], [4, 6], [5, 4], [2, 4], [2, 3]]\n",
      "[[1, 2, 2, 5, 5, 1], [3, 4, 4, 6, 5, 4, 2, 4, 2, 3]]\n",
      "2\n"
     ]
    }
   ],
   "source": [
    "import sys\n",
    "sys.stdin = open(\"data/boj_11724.txt\")\n",
    "fast_input = sys.stdin.readline\n",
    "N, M = map(int, fast_input().split(\" \"))\n",
    "print(N, M)\n",
    "\n",
    "cc_list = []\n",
    "for _ in range(M):\n",
    "    x, y = map(int, fast_input().split())\n",
    "    print(x, y)\n",
    "    cc_list.append([x, y])\n",
    "    \n",
    "print(cc_list)\n",
    "\n",
    "for i in range(1, N+1):\n",
    "    chk_sum = 0\n",
    "    for j, list in enumerate(cc_list):\n",
    "        if i in list:\n",
    "            chk_sum += 1\n",
    "            if chk_sum >=2:\n",
    "                x = cc_list[j]\n",
    "                cc_list[j-1].extend(x)\n",
    "                cc_list.remove(x)                \n",
    "    \n",
    "print(cc_list)\n",
    "print(len(cc_list))"
   ]
  },
  {
   "cell_type": "code",
   "execution_count": 18,
   "metadata": {},
   "outputs": [
    {
     "name": "stdout",
     "output_type": "stream",
     "text": [
      "6 5\n",
      "1 2\n",
      "2 5\n",
      "5 1\n",
      "3 4\n",
      "4 6\n",
      "[[0, 1], [1, 4], [4, 0], [2, 3], [3, 5]]\n"
     ]
    }
   ],
   "source": [
    "import sys\n",
    "sys.stdin = open(\"data/boj_11724.txt\")\n",
    "fast_input = sys.stdin.readline\n",
    "N, M = map(int, fast_input().split(\" \"))\n",
    "print(N, M)\n",
    "\n",
    "cc_list = []\n",
    "for _ in range(M):\n",
    "    x, y = map(int, fast_input().split(\" \"))\n",
    "    print(x, y)\n",
    "    cc_list.append([x-1, y-1])\n",
    "    \n",
    "print(cc_list)"
   ]
  },
  {
   "cell_type": "code",
   "execution_count": 19,
   "metadata": {},
   "outputs": [
    {
     "name": "stdout",
     "output_type": "stream",
     "text": [
      "[0, 0, 0, 0, 0, 0]\n",
      "[0, 0, 0, 0, 0, 0]\n",
      "[0, 0, 0, 0, 0, 0]\n",
      "[0, 0, 0, 0, 0, 0]\n",
      "[0, 0, 0, 0, 0, 0]\n",
      "[0, 0, 0, 0, 0, 0]\n",
      "\n",
      "[0, 1, 0, 0, 1, 0]\n",
      "[1, 0, 0, 0, 1, 0]\n",
      "[0, 0, 0, 1, 0, 0]\n",
      "[0, 0, 1, 0, 0, 1]\n",
      "[1, 1, 0, 0, 0, 0]\n",
      "[0, 0, 0, 1, 0, 0]\n"
     ]
    }
   ],
   "source": [
    "adj = [[0] * N for _ in range(N)]\n",
    "for row in adj:\n",
    "    print(row)\n",
    "print()\n",
    "    \n",
    "for (i, j) in cc_list:\n",
    "    adj[i][j] = 1\n",
    "    adj[j][i] = 1\n",
    "\n",
    "for row in adj:\n",
    "    print(row)"
   ]
  },
  {
   "cell_type": "code",
   "execution_count": 24,
   "metadata": {},
   "outputs": [],
   "source": [
    "adj_sum = 0\n",
    "cc_list = []\n",
    "for j in range(N):\n",
    "    for i in range(N):\n",
    "        if adj[i][j] == 1:\n",
    "            adj_sum += 1\n",
    "            cc_list.append(adj[i])"
   ]
  },
  {
   "cell_type": "code",
   "execution_count": 25,
   "metadata": {},
   "outputs": [
    {
     "data": {
      "text/plain": [
       "[[1, 0, 0, 0, 1, 0],\n",
       " [1, 1, 0, 0, 0, 0],\n",
       " [0, 1, 0, 0, 1, 0],\n",
       " [1, 1, 0, 0, 0, 0],\n",
       " [0, 0, 1, 0, 0, 1],\n",
       " [0, 0, 0, 1, 0, 0],\n",
       " [0, 0, 0, 1, 0, 0],\n",
       " [0, 1, 0, 0, 1, 0],\n",
       " [1, 0, 0, 0, 1, 0],\n",
       " [0, 0, 1, 0, 0, 1]]"
      ]
     },
     "execution_count": 25,
     "metadata": {},
     "output_type": "execute_result"
    }
   ],
   "source": [
    "cc_list"
   ]
  }
 ],
 "metadata": {
  "kernelspec": {
   "display_name": "base",
   "language": "python",
   "name": "python3"
  },
  "language_info": {
   "codemirror_mode": {
    "name": "ipython",
    "version": 3
   },
   "file_extension": ".py",
   "mimetype": "text/x-python",
   "name": "python",
   "nbconvert_exporter": "python",
   "pygments_lexer": "ipython3",
   "version": "3.9.12"
  },
  "orig_nbformat": 4
 },
 "nbformat": 4,
 "nbformat_minor": 2
}
