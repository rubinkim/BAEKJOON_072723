{
 "cells": [
  {
   "cell_type": "code",
   "execution_count": 12,
   "metadata": {},
   "outputs": [
    {
     "name": "stdout",
     "output_type": "stream",
     "text": [
      "6 5\n",
      "1 2\n",
      "\n",
      "2 5\n",
      "\n",
      "5 1\n",
      "\n",
      "3 4\n",
      "\n",
      "4 6\n"
     ]
    }
   ],
   "source": [
    "import sys\n",
    "sys.stdin = open(\"data/boj_11724.txt\")\n",
    "fast_input = sys.stdin.readline\n",
    "N, M = map(int, fast_input().split(\" \"))\n",
    "print(N, M)\n",
    "\n",
    "for _ in range(M):\n",
    "    print(fast_input())"
   ]
  },
  {
   "cell_type": "code",
   "execution_count": 7,
   "metadata": {},
   "outputs": [
    {
     "data": {
      "text/plain": [
       "['6', '5']"
      ]
     },
     "execution_count": 7,
     "metadata": {},
     "output_type": "execute_result"
    }
   ],
   "source": [
    "import sys\n",
    "sys.stdin = open(\"data/boj_11724.txt\")\n",
    "fast_input = sys.stdin.readline\n",
    "N, M = map(int, fast_input().split(\" \"))\n",
    "print(N, M)\n",
    "\n",
    "cc_1 = []\n",
    "for _ in range(M):\n",
    "    "
   ]
  },
  {
   "cell_type": "code",
   "execution_count": 26,
   "metadata": {},
   "outputs": [
    {
     "name": "stdout",
     "output_type": "stream",
     "text": [
      "a and b have at least one element in common.\n"
     ]
    }
   ],
   "source": [
    "a = [1, 2, 4, 9]\n",
    "b = [6, 9]\n",
    "#a.extend(b)\n",
    "#print(a)\n",
    "\n",
    "if set(a).intersection(b):\n",
    "    print(\"a and b have at least one element in common.\")\n",
    "else:\n",
    "    print(\"a and b have no element in common.\")"
   ]
  },
  {
   "cell_type": "code",
   "execution_count": 27,
   "metadata": {},
   "outputs": [
    {
     "data": {
      "text/plain": [
       "{9}"
      ]
     },
     "execution_count": 27,
     "metadata": {},
     "output_type": "execute_result"
    }
   ],
   "source": [
    "set(a).intersection(b)"
   ]
  }
 ],
 "metadata": {
  "kernelspec": {
   "display_name": "base",
   "language": "python",
   "name": "python3"
  },
  "language_info": {
   "codemirror_mode": {
    "name": "ipython",
    "version": 3
   },
   "file_extension": ".py",
   "mimetype": "text/x-python",
   "name": "python",
   "nbconvert_exporter": "python",
   "pygments_lexer": "ipython3",
   "version": "3.9.12"
  },
  "orig_nbformat": 4
 },
 "nbformat": 4,
 "nbformat_minor": 2
}
