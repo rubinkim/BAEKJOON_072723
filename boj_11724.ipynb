{
 "cells": [
  {
   "cell_type": "code",
   "execution_count": 12,
   "metadata": {},
   "outputs": [
    {
     "name": "stdout",
     "output_type": "stream",
     "text": [
      "6 5\n",
      "1 2\n",
      "\n",
      "2 5\n",
      "\n",
      "5 1\n",
      "\n",
      "3 4\n",
      "\n",
      "4 6\n"
     ]
    }
   ],
   "source": [
    "import sys\n",
    "sys.stdin = open(\"data/boj_11724.txt\")\n",
    "fast_input = sys.stdin.readline\n",
    "N, M = map(int, fast_input().split(\" \"))\n",
    "print(N, M)\n",
    "\n",
    "for _ in range(M):\n",
    "    print(fast_input())"
   ]
  },
  {
   "cell_type": "code",
   "execution_count": 28,
   "metadata": {},
   "outputs": [
    {
     "name": "stdout",
     "output_type": "stream",
     "text": [
      "6 5\n",
      "[['1', '2'], ['2', '5'], ['5', '1'], ['3', '4'], ['4', '6']]\n"
     ]
    }
   ],
   "source": [
    "import sys\n",
    "sys.stdin = open(\"data/boj_11724.txt\")\n",
    "fast_input = sys.stdin.readline\n",
    "N, M = map(int, fast_input().split(\" \"))\n",
    "print(N, M)\n",
    "\n",
    "cc_list = []\n",
    "for _ in range(M):\n",
    "    cc_list.append(fast_input().split())\n",
    "    \n",
    "print(cc_list)"
   ]
  },
  {
   "cell_type": "code",
   "execution_count": null,
   "metadata": {},
   "outputs": [],
   "source": []
  }
 ],
 "metadata": {
  "kernelspec": {
   "display_name": "base",
   "language": "python",
   "name": "python3"
  },
  "language_info": {
   "codemirror_mode": {
    "name": "ipython",
    "version": 3
   },
   "file_extension": ".py",
   "mimetype": "text/x-python",
   "name": "python",
   "nbconvert_exporter": "python",
   "pygments_lexer": "ipython3",
   "version": "3.9.12"
  },
  "orig_nbformat": 4
 },
 "nbformat": 4,
 "nbformat_minor": 2
}
