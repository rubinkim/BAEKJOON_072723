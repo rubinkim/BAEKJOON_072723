{
 "cells": [
  {
   "cell_type": "code",
   "execution_count": 27,
   "metadata": {},
   "outputs": [
    {
     "name": "stdout",
     "output_type": "stream",
     "text": [
      "3\n"
     ]
    }
   ],
   "source": [
    "from collections import deque\n",
    "\n",
    "N, M = map(int, input().split())\n",
    "relations_matrix = [[0] * N for _ in range(N)]\n",
    "\n",
    "for _ in range(M):\n",
    "    start, end = map(int, input().split())\n",
    "    relations_matrix[start-1][end-1] = 1\n",
    "    relations_matrix[end-1][start-1] = 1\n",
    "    \n",
    "friends_dict = {}\n",
    "\n",
    "for i in range(N):\n",
    "    friends_list =  []\n",
    "    for j in range(N):\n",
    "        if relations_matrix[i][j] == 1:\n",
    "            friends_list.append((j))\n",
    "    friends_dict[i] = friends_list    \n",
    "\n",
    "def bfs(start, end):\n",
    "    chk = [[False] * N for _ in range(N)]\n",
    "    chk[start][0] = chk[0][start] = True\n",
    "    \n",
    "    dq = deque()\n",
    "    dq.append((start, 0))   \n",
    "    \n",
    "    while dq:\n",
    "        y, d = dq.popleft()\n",
    "        if end == y:\n",
    "            return d        \n",
    "        nd = d + 1        \n",
    "        for v in friends_dict[y]:            \n",
    "            dq.append((v, nd))\n",
    "            \n",
    "kevin = []\n",
    "\n",
    "for i in range(5):\n",
    "    sum = 0\n",
    "    for j in range(5):\n",
    "        if j == i:\n",
    "            continue\n",
    "        sum += bfs(i, j)\n",
    "    kevin.append(sum)    \n",
    "\n",
    "print(kevin.index(min(kevin)) + 1)"
   ]
  },
  {
   "cell_type": "code",
   "execution_count": null,
   "metadata": {},
   "outputs": [],
   "source": []
  },
  {
   "cell_type": "code",
   "execution_count": null,
   "metadata": {},
   "outputs": [],
   "source": []
  },
  {
   "cell_type": "code",
   "execution_count": 1,
   "metadata": {},
   "outputs": [
    {
     "name": "stdout",
     "output_type": "stream",
     "text": [
      "[0, 0, 1, 1, 0]\n",
      "[0, 0, 1, 0, 0]\n",
      "[1, 1, 0, 1, 0]\n",
      "[1, 0, 1, 0, 1]\n",
      "[0, 0, 0, 1, 0]\n"
     ]
    }
   ],
   "source": [
    "from collections import deque\n",
    "\n",
    "N, M = map(int, input().split())\n",
    "relations_matrix = [[0] * N for _ in range(N)]\n",
    "\n",
    "for _ in range(M):\n",
    "    start, end = map(int, input().split())\n",
    "    relations_matrix[start-1][end-1] = 1\n",
    "    relations_matrix[end-1][start-1] = 1\n",
    "    \n",
    "for l in relations_matrix:\n",
    "    print(l)"
   ]
  },
  {
   "cell_type": "code",
   "execution_count": 2,
   "metadata": {},
   "outputs": [
    {
     "name": "stdout",
     "output_type": "stream",
     "text": [
      "{0: [2, 3], 1: [2], 2: [0, 1, 3], 3: [0, 2, 4], 4: [3]}\n",
      "\n",
      "0 : [2, 3]\n",
      "1 : [2]\n",
      "2 : [0, 1, 3]\n",
      "3 : [0, 2, 4]\n",
      "4 : [3]\n"
     ]
    }
   ],
   "source": [
    "friends_dict = {}\n",
    "\n",
    "for i in range(N):\n",
    "    friends_list =  []\n",
    "    for j in range(N):\n",
    "        if relations_matrix[i][j] == 1:\n",
    "            friends_list.append((j))\n",
    "    friends_dict[i] = friends_list\n",
    "    \n",
    "print(friends_dict)\n",
    "print()\n",
    "\n",
    "for k, v in friends_dict.items():\n",
    "    print(f\"{k} : {v}\")"
   ]
  },
  {
   "cell_type": "code",
   "execution_count": 5,
   "metadata": {},
   "outputs": [
    {
     "ename": "KeyError",
     "evalue": "2",
     "output_type": "error",
     "traceback": [
      "\u001b[1;31m---------------------------------------------------------------------------\u001b[0m",
      "\u001b[1;31mKeyError\u001b[0m                                  Traceback (most recent call last)",
      "\u001b[1;32me:\\BAEKJOON_072723\\boj_1389.ipynb Cell 6\u001b[0m in \u001b[0;36m<cell line: 5>\u001b[1;34m()\u001b[0m\n\u001b[0;32m      <a href='vscode-notebook-cell:/e%3A/BAEKJOON_072723/boj_1389.ipynb#X10sZmlsZQ%3D%3D?line=7'>8</a>\u001b[0m         new_friends_dict[k\u001b[39m-\u001b[39m\u001b[39m1\u001b[39m] \u001b[39m=\u001b[39m [v\u001b[39m-\u001b[39m\u001b[39m1\u001b[39m]\n\u001b[0;32m      <a href='vscode-notebook-cell:/e%3A/BAEKJOON_072723/boj_1389.ipynb#X10sZmlsZQ%3D%3D?line=8'>9</a>\u001b[0m     \u001b[39melse\u001b[39;00m:\n\u001b[1;32m---> <a href='vscode-notebook-cell:/e%3A/BAEKJOON_072723/boj_1389.ipynb#X10sZmlsZQ%3D%3D?line=9'>10</a>\u001b[0m         new_friends_dict[k\u001b[39m-\u001b[39;49m\u001b[39m1\u001b[39;49m]\u001b[39m.\u001b[39mappend(v)\n\u001b[0;32m     <a href='vscode-notebook-cell:/e%3A/BAEKJOON_072723/boj_1389.ipynb#X10sZmlsZQ%3D%3D?line=11'>12</a>\u001b[0m \u001b[39mfor\u001b[39;00m k, v \u001b[39min\u001b[39;00m new_friends_dict\u001b[39m.\u001b[39mitems():\n\u001b[0;32m     <a href='vscode-notebook-cell:/e%3A/BAEKJOON_072723/boj_1389.ipynb#X10sZmlsZQ%3D%3D?line=12'>13</a>\u001b[0m     \u001b[39mprint\u001b[39m(\u001b[39mf\u001b[39m\u001b[39m\"\u001b[39m\u001b[39m{\u001b[39;00mk\u001b[39m}\u001b[39;00m\u001b[39m : \u001b[39m\u001b[39m{\u001b[39;00mv\u001b[39m}\u001b[39;00m\u001b[39m\"\u001b[39m)\n",
      "\u001b[1;31mKeyError\u001b[0m: 2"
     ]
    }
   ],
   "source": [
    "N, M = map(int, input().split())\n",
    "\n",
    "new_friends_dict = {}\n",
    "\n",
    "for i in range(M):\n",
    "    k, v = map(int, input().split())\n",
    "    if k not in new_friends_dict.keys():\n",
    "        new_friends_dict[k-1] = [v-1]\n",
    "    else:\n",
    "        new_friends_dict[k].append(v-1)\n",
    "        \n",
    "for k, v in new_friends_dict.items():\n",
    "    print(f\"{k} : {v}\")"
   ]
  },
  {
   "cell_type": "code",
   "execution_count": 25,
   "metadata": {},
   "outputs": [],
   "source": [
    "def bfs(start, end):\n",
    "    chk = [[False] * N for _ in range(N)]\n",
    "    chk[start][0] = chk[0][start] = True\n",
    "    \n",
    "    dq = deque()\n",
    "    dq.append((start, 0))   \n",
    "    \n",
    "    while dq:\n",
    "        y, d = dq.popleft()\n",
    "        if end == y:\n",
    "            return d        \n",
    "        nd = d + 1        \n",
    "        for v in friends_dict[y]:            \n",
    "            dq.append((v, nd))"
   ]
  },
  {
   "cell_type": "code",
   "execution_count": 26,
   "metadata": {},
   "outputs": [
    {
     "name": "stdout",
     "output_type": "stream",
     "text": [
      "[6, 8, 5, 5, 8]\n"
     ]
    },
    {
     "data": {
      "text/plain": [
       "3"
      ]
     },
     "execution_count": 26,
     "metadata": {},
     "output_type": "execute_result"
    }
   ],
   "source": [
    "kevin = []\n",
    "\n",
    "for i in range(5):\n",
    "    sum = 0\n",
    "    for j in range(5):\n",
    "        if j == i:\n",
    "            continue\n",
    "        sum += bfs(i, j)\n",
    "    kevin.append(sum)\n",
    "    \n",
    "print(kevin)\n",
    "kevin.index(min(kevin)) + 1"
   ]
  }
 ],
 "metadata": {
  "kernelspec": {
   "display_name": "base",
   "language": "python",
   "name": "python3"
  },
  "language_info": {
   "codemirror_mode": {
    "name": "ipython",
    "version": 3
   },
   "file_extension": ".py",
   "mimetype": "text/x-python",
   "name": "python",
   "nbconvert_exporter": "python",
   "pygments_lexer": "ipython3",
   "version": "3.9.12"
  },
  "orig_nbformat": 4
 },
 "nbformat": 4,
 "nbformat_minor": 2
}
