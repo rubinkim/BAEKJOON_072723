{
 "cells": [
  {
   "cell_type": "code",
   "execution_count": 1,
   "metadata": {},
   "outputs": [
    {
     "name": "stdout",
     "output_type": "stream",
     "text": [
      "[0, 0, 1, 1, 0]\n",
      "[0, 0, 1, 0, 0]\n",
      "[1, 1, 0, 1, 0]\n",
      "[1, 0, 1, 0, 1]\n",
      "[0, 0, 0, 1, 0]\n"
     ]
    }
   ],
   "source": [
    "import sys\n",
    "\n",
    "# creating an adjacency matrix\n",
    "input = open(\"data/boj_1389.txt\", \"r\").readline\n",
    "N, M = map(int, input().split())\n",
    "relations_matrix = [[0] * N for _ in range(N)]\n",
    "#input = sys.stdin.readline\n",
    "\n",
    "for _ in range(M):\n",
    "    start, end = map(int, input().split())\n",
    "    relations_matrix[start-1][end-1] = 1\n",
    "    relations_matrix[end-1][start-1] = 1\n",
    "    \n",
    "for l in relations_matrix:\n",
    "    print(l)"
   ]
  },
  {
   "cell_type": "code",
   "execution_count": 2,
   "metadata": {},
   "outputs": [
    {
     "name": "stdout",
     "output_type": "stream",
     "text": [
      "{0: [(0, 2), (0, 3)], 1: [(1, 2)], 2: [(2, 0), (2, 1), (2, 3)], 3: [(3, 0), (3, 2), (3, 4)], 4: [(4, 3)]}\n",
      "\n",
      "0 : [(0, 2), (0, 3)]\n",
      "1 : [(1, 2)]\n",
      "2 : [(2, 0), (2, 1), (2, 3)]\n",
      "3 : [(3, 0), (3, 2), (3, 4)]\n",
      "4 : [(4, 3)]\n"
     ]
    }
   ],
   "source": [
    "friends_dict = {}\n",
    "\n",
    "for i in range(N):\n",
    "    friends_list =  []\n",
    "    for j in range(N):\n",
    "        if relations_matrix[i][j] == 1:\n",
    "            friends_list.append((i, j))\n",
    "    friends_dict[i] = friends_list\n",
    "    \n",
    "print(friends_dict)\n",
    "print()\n",
    "\n",
    "for k, v in friends_dict.items():\n",
    "    print(f\"{k} : {v}\")"
   ]
  },
  {
   "cell_type": "code",
   "execution_count": 3,
   "metadata": {},
   "outputs": [
    {
     "name": "stdout",
     "output_type": "stream",
     "text": [
      "[(0, 2), (0, 3), (1, 2), (2, 0), (2, 1), (2, 3), (3, 0), (3, 2), (3, 4), (4, 3)]\n"
     ]
    }
   ],
   "source": [
    "links = []\n",
    "\n",
    "for i in range(N):    \n",
    "    for j in range(N):\n",
    "        if relations_matrix[i][j] == 1:\n",
    "            links.append((i, j))\n",
    "            \n",
    "print(links)"
   ]
  },
  {
   "cell_type": "code",
   "execution_count": 4,
   "metadata": {},
   "outputs": [
    {
     "name": "stdout",
     "output_type": "stream",
     "text": [
      "0 row : [2, 3]\n",
      "1 row : [2]\n",
      "2 row : [0, 3, 1]\n",
      "3 row : [0, 4, 2]\n",
      "4 row : [3]\n"
     ]
    }
   ],
   "source": [
    "# creating adjacency list\n",
    "import sys\n",
    "\n",
    "input = open(\"data/boj_1389.txt\", \"r\").readline\n",
    "N, M = map(int, input().split())\n",
    "relations_list = [[] for _ in range(N)]\n",
    "#input = sys.stdin.readline\n",
    "\n",
    "for _ in range(M):\n",
    "    start, end = map(int, input().split())\n",
    "    relations_list[start-1].append(end-1)\n",
    "    relations_list[end-1].append(start-1)\n",
    "    \n",
    "for i in range(len(relations_list)):\n",
    "    print(f\"{i} row : {relations_list[i]}\")"
   ]
  },
  {
   "cell_type": "code",
   "execution_count": 5,
   "metadata": {},
   "outputs": [
    {
     "data": {
      "text/plain": [
       "[[False, False, False, False, False],\n",
       " [False, False, False, False, False],\n",
       " [False, False, False, False, False],\n",
       " [False, False, False, False, False],\n",
       " [False, False, False, False, False]]"
      ]
     },
     "execution_count": 5,
     "metadata": {},
     "output_type": "execute_result"
    }
   ],
   "source": [
    "# Try just for \"0\"\n",
    "chk = [[False] * N for _ in range(N)]\n",
    "chk"
   ]
  },
  {
   "cell_type": "code",
   "execution_count": 56,
   "metadata": {},
   "outputs": [
    {
     "name": "stdout",
     "output_type": "stream",
     "text": [
      "c = 3 is in [2]:  cnt : 1\n",
      "[1]\n",
      "1\n"
     ]
    }
   ],
   "source": [
    "start, end = 4, 3\n",
    "\n",
    "cnt_list = []\n",
    "for c in relations_list[start]:\n",
    "    if c == end:\n",
    "        cnt = 1\n",
    "        print(f\"c = {c} is in {relations_list[i]}:  cnt : {cnt}\")\n",
    "        cnt_list.append(cnt)\n",
    "        break\n",
    "    cnt = 0\n",
    "    cnt += 1\n",
    "    if end in relations_list[c]:\n",
    "        cnt += 1\n",
    "        print(f\"row = {c}:  {end} is in {relations_list[c]}:  cnt : {cnt}\")\n",
    "        cnt_list.append(cnt)\n",
    "    else:\n",
    "        cnt += 1\n",
    "        print(f\"row = {c}:  {end} is not in {relations_list[c]}:  cnt : {cnt}\")\n",
    "        \n",
    "        for cc in relations_list[c]:\n",
    "            sub_cnt = 0\n",
    "            if end in relations_list[cc]:\n",
    "                sub_cnt += 1                               \n",
    "                print(f\"row = {cc}:  {end} is in {relations_list[cc]}: cnt : {cnt + sub_cnt}\")\n",
    "                cnt_list.append(cnt + sub_cnt)\n",
    "            else:\n",
    "                print(f\"row = {cc}:  {end} is not in {relations_list[cc]}: cnt : {cnt}\") \n",
    "                \n",
    "print(cnt_list)\n",
    "print(min(cnt_list))  "
   ]
  },
  {
   "cell_type": "code",
   "execution_count": 63,
   "metadata": {},
   "outputs": [
    {
     "name": "stdout",
     "output_type": "stream",
     "text": [
      "cnt : 1     4 ---> 3\n",
      "cnt_list : [1],   min_cnt : 1\n"
     ]
    }
   ],
   "source": [
    "start, end = 4, 3\n",
    "\n",
    "cnt_list = []\n",
    "for c in relations_list[start]:\n",
    "    if c == end:\n",
    "        cnt = 1\n",
    "        print(f\"cnt : {cnt}     {start} ---> {end}\")\n",
    "        cnt_list.append(cnt)\n",
    "        break\n",
    "    cnt = 0\n",
    "    cnt += 1\n",
    "    if end in relations_list[c]:\n",
    "        cnt += 1\n",
    "        print(f\"cnt : {cnt}     {start} ---> {c} ---> {end}\")\n",
    "        cnt_list.append(cnt)\n",
    "    else:\n",
    "        cnt += 1\n",
    "        #print(f\"row = {c}:  {end} is not in {relations_list[c]}:  cnt : {cnt}\")\n",
    "        \n",
    "        for cc in relations_list[c]:\n",
    "            sub_cnt = 0\n",
    "            if end in relations_list[cc]:\n",
    "                sub_cnt += 1                               \n",
    "                print(f\"cnt : {cnt + sub_cnt}     {start} ---> {c} ----> {cc} ---> {end}\")\n",
    "                cnt_list.append(cnt + sub_cnt)\n",
    "\n",
    "print(f\"cnt_list : {cnt_list},   min_cnt : {min(cnt_list)}\")               \n"
   ]
  },
  {
   "cell_type": "code",
   "execution_count": null,
   "metadata": {},
   "outputs": [],
   "source": []
  },
  {
   "cell_type": "code",
   "execution_count": null,
   "metadata": {},
   "outputs": [],
   "source": []
  },
  {
   "cell_type": "code",
   "execution_count": null,
   "metadata": {},
   "outputs": [],
   "source": []
  },
  {
   "cell_type": "code",
   "execution_count": 6,
   "metadata": {},
   "outputs": [],
   "source": [
    "def count_paths(start, end):\n",
    "    \n",
    "    cnt_list = []\n",
    "    for c in relations_list[start]:\n",
    "        if c == end :\n",
    "            cnt = 1\n",
    "            \n",
    "            print(f\"cnt : {cnt}     {start} ---> {end}\")\n",
    "            cnt_list.append(cnt)\n",
    "            \n",
    "        cnt = 0\n",
    "        cnt += 1\n",
    "        if end in relations_list[c] :\n",
    "            cnt += 1\n",
    "            \n",
    "            print(f\"cnt : {cnt}     {start} ---> {c} ---> {end}\")\n",
    "            cnt_list.append(cnt)\n",
    "        else:\n",
    "            cnt += 1\n",
    "            #print(f\"row = {c}:  {end} is not in {relations_list[c]}:  cnt : {cnt}\")\n",
    "            \n",
    "            for cc in relations_list[c]:\n",
    "                sub_cnt = 0\n",
    "                if end in relations_list[cc]:  # and not chk[cc][end] and not chk[end][cc]을 생략! count_paths(0, 1)을 비교해봐라.\n",
    "                    sub_cnt += 1\n",
    "                                                 \n",
    "                    print(f\"cnt : {cnt + sub_cnt}     {start} ---> {c} ----> {cc} ---> {end}\")\n",
    "                    cnt_list.append(cnt + sub_cnt)\n",
    "                else:\n",
    "                    sub_cnt += 1\n",
    "                    for ccc in relations_list[cc]:\n",
    "                        if end in relations_list[ccc]:\n",
    "                            sub_cnt += 1\n",
    "                            print(f\"cnt : {cnt + sub_cnt}     {start} ---> {c} ----> {cc} ---> {ccc} ---> {end}\")\n",
    "\n",
    "    print(f\"cnt_list : {cnt_list},   min_cnt : {min(cnt_list)}\")               \n"
   ]
  },
  {
   "cell_type": "code",
   "execution_count": 10,
   "metadata": {},
   "outputs": [],
   "source": [
    "def count_paths(start, end):\n",
    "    \n",
    "    cnt_list = []\n",
    "    for c in relations_list[start]:\n",
    "        if c == end :\n",
    "            cnt = 1\n",
    "            \n",
    "            #print(f\"cnt : {cnt}     {start} ---> {end}\")\n",
    "            cnt_list.append(cnt)\n",
    "            \n",
    "        cnt = 0\n",
    "        cnt += 1\n",
    "        if end in relations_list[c] :\n",
    "            cnt += 1\n",
    "            \n",
    "            #print(f\"cnt : {cnt}     {start} ---> {c} ---> {end}\")\n",
    "            cnt_list.append(cnt)\n",
    "        else:\n",
    "            cnt += 1\n",
    "            #print(f\"row = {c}:  {end} is not in {relations_list[c]}:  cnt : {cnt}\")\n",
    "            \n",
    "            for cc in relations_list[c]:\n",
    "                sub_cnt = 0\n",
    "                if end in relations_list[cc]:  # and not chk[cc][end] and not chk[end][cc]을 생략! count_paths(0, 1)을 비교해봐라.\n",
    "                    sub_cnt += 1\n",
    "                                                 \n",
    "                    #print(f\"cnt : {cnt + sub_cnt}     {start} ---> {c} ----> {cc} ---> {end}\")\n",
    "                    cnt_list.append(cnt + sub_cnt)\n",
    "                else:\n",
    "                    sub_cnt += 1\n",
    "                    for ccc in relations_list[cc]:\n",
    "                        if end in relations_list[ccc]:\n",
    "                            sub_cnt += 1\n",
    "                            #print(f\"cnt : {cnt + sub_cnt}     {start} ---> {c} ----> {cc} ---> {ccc} ---> {end}\")\n",
    "\n",
    "    print(f\"cnt_list : {cnt_list},   min_cnt : {min(cnt_list)}\")               \n"
   ]
  },
  {
   "cell_type": "code",
   "execution_count": 21,
   "metadata": {},
   "outputs": [
    {
     "name": "stdout",
     "output_type": "stream",
     "text": [
      "cnt : 4     2 ---> 0 ----> 2 ---> 3 ---> 4\n",
      "cnt : 3     2 ---> 0 ----> 3 ---> 4\n",
      "cnt : 2     2 ---> 3 ---> 4\n",
      "cnt : 4     2 ---> 1 ----> 2 ---> 3 ---> 4\n",
      "cnt_list : [3, 2],   min_cnt : 2\n"
     ]
    }
   ],
   "source": [
    "chk = [[False] * N for _ in range(N)]\n",
    "count_paths(2, 4)"
   ]
  },
  {
   "cell_type": "code",
   "execution_count": 22,
   "metadata": {},
   "outputs": [
    {
     "name": "stdout",
     "output_type": "stream",
     "text": [
      "cnt : 1     0 ---> 2\n",
      "cnt : 3     0 ---> 2 ----> 0 ---> 2\n",
      "cnt : 3     0 ---> 2 ----> 3 ---> 2\n",
      "cnt : 3     0 ---> 2 ----> 1 ---> 2\n",
      "cnt : 2     0 ---> 3 ---> 2\n",
      "cnt_list : [1, 3, 3, 3, 2],   min_cnt : 1\n"
     ]
    }
   ],
   "source": [
    "chk = [[False] * N for _ in range(N)]\n",
    "count_paths(0, 2)"
   ]
  },
  {
   "cell_type": "code",
   "execution_count": 12,
   "metadata": {},
   "outputs": [
    {
     "name": "stdout",
     "output_type": "stream",
     "text": [
      "From 0 TO 1\n",
      "cnt_list : [2, 3],   min_cnt : 2\n",
      "From 0 TO 2\n",
      "cnt_list : [1, 3, 3, 3, 2],   min_cnt : 1\n",
      "From 0 TO 3\n",
      "cnt_list : [2, 1, 3, 3, 3],   min_cnt : 1\n",
      "From 0 TO 4\n",
      "cnt_list : [3, 2],   min_cnt : 2\n",
      "From 1 TO 2\n",
      "cnt_list : [1, 3, 3, 3],   min_cnt : 1\n",
      "From 1 TO 3\n",
      "cnt_list : [2],   min_cnt : 2\n",
      "From 1 TO 4\n",
      "cnt_list : [3],   min_cnt : 3\n",
      "From 2 TO 3\n",
      "cnt_list : [2, 1, 3, 3, 3, 3],   min_cnt : 1\n",
      "From 2 TO 4\n",
      "cnt_list : [3, 2],   min_cnt : 2\n",
      "From 3 TO 4\n",
      "cnt_list : [3, 1, 3, 3],   min_cnt : 1\n"
     ]
    }
   ],
   "source": [
    "for i in range(N):\n",
    "    for j in range(i+1, N):\n",
    "        print(f\"From {i} TO {j}\")\n",
    "        count_paths(i, j)        "
   ]
  }
 ],
 "metadata": {
  "kernelspec": {
   "display_name": "base",
   "language": "python",
   "name": "python3"
  },
  "language_info": {
   "codemirror_mode": {
    "name": "ipython",
    "version": 3
   },
   "file_extension": ".py",
   "mimetype": "text/x-python",
   "name": "python",
   "nbconvert_exporter": "python",
   "pygments_lexer": "ipython3",
   "version": "3.9.12"
  },
  "orig_nbformat": 4
 },
 "nbformat": 4,
 "nbformat_minor": 2
}
