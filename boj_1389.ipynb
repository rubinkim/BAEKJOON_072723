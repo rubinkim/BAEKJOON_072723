{
 "cells": [
  {
   "cell_type": "code",
   "execution_count": 1,
   "metadata": {},
   "outputs": [
    {
     "name": "stdout",
     "output_type": "stream",
     "text": [
      "[0, 0, 1, 1, 0]\n",
      "[0, 0, 1, 0, 0]\n",
      "[1, 1, 0, 1, 0]\n",
      "[1, 0, 1, 0, 1]\n",
      "[0, 0, 0, 1, 0]\n"
     ]
    }
   ],
   "source": [
    "import sys\n",
    "\n",
    "# creating an adjacency matrix\n",
    "input = open(\"data/boj_1389.txt\", \"r\").readline\n",
    "N, M = map(int, input().split())\n",
    "relations_matrix = [[0] * N for _ in range(N)]\n",
    "#input = sys.stdin.readline\n",
    "\n",
    "for _ in range(M):\n",
    "    start, end = map(int, input().split())\n",
    "    relations_matrix[start-1][end-1] = 1\n",
    "    relations_matrix[end-1][start-1] = 1\n",
    "    \n",
    "for l in relations_matrix:\n",
    "    print(l)"
   ]
  },
  {
   "cell_type": "code",
   "execution_count": 2,
   "metadata": {},
   "outputs": [
    {
     "name": "stdout",
     "output_type": "stream",
     "text": [
      "{0: [(0, 2), (0, 3)], 1: [(1, 2)], 2: [(2, 0), (2, 1), (2, 3)], 3: [(3, 0), (3, 2), (3, 4)], 4: [(4, 3)]}\n",
      "\n",
      "0 : [(0, 2), (0, 3)]\n",
      "1 : [(1, 2)]\n",
      "2 : [(2, 0), (2, 1), (2, 3)]\n",
      "3 : [(3, 0), (3, 2), (3, 4)]\n",
      "4 : [(4, 3)]\n"
     ]
    }
   ],
   "source": [
    "friends_dict = {}\n",
    "\n",
    "for i in range(N):\n",
    "    friends_list =  []\n",
    "    for j in range(N):\n",
    "        if relations_matrix[i][j] == 1:\n",
    "            friends_list.append((i, j))\n",
    "    friends_dict[i] = friends_list\n",
    "    \n",
    "print(friends_dict)\n",
    "print()\n",
    "\n",
    "for k, v in friends_dict.items():\n",
    "    print(f\"{k} : {v}\")"
   ]
  },
  {
   "cell_type": "code",
   "execution_count": 3,
   "metadata": {},
   "outputs": [
    {
     "name": "stdout",
     "output_type": "stream",
     "text": [
      "[(0, 2), (0, 3), (1, 2), (2, 0), (2, 1), (2, 3), (3, 0), (3, 2), (3, 4), (4, 3)]\n"
     ]
    }
   ],
   "source": [
    "links = []\n",
    "\n",
    "for i in range(N):    \n",
    "    for j in range(N):\n",
    "        if relations_matrix[i][j] == 1:\n",
    "            links.append((i, j))\n",
    "            \n",
    "print(links)"
   ]
  },
  {
   "cell_type": "code",
   "execution_count": 4,
   "metadata": {},
   "outputs": [
    {
     "name": "stdout",
     "output_type": "stream",
     "text": [
      "[2, 3]\n",
      "[2]\n",
      "[0, 3, 1]\n",
      "[0, 4, 2]\n",
      "[3]\n"
     ]
    }
   ],
   "source": [
    "# creating adjacency list\n",
    "import sys\n",
    "\n",
    "input = open(\"data/boj_1389.txt\", \"r\").readline\n",
    "N, M = map(int, input().split())\n",
    "relations_list = [[] for _ in range(N)]\n",
    "#input = sys.stdin.readline\n",
    "\n",
    "for _ in range(M):\n",
    "    start, end = map(int, input().split())\n",
    "    relations_list[start-1].append(end-1)\n",
    "    relations_list[end-1].append(start-1)\n",
    "    \n",
    "for l in relations_list:\n",
    "    print(l)"
   ]
  },
  {
   "cell_type": "code",
   "execution_count": 5,
   "metadata": {},
   "outputs": [
    {
     "data": {
      "text/plain": [
       "[[False, False, False, False, False],\n",
       " [False, False, False, False, False],\n",
       " [False, False, False, False, False],\n",
       " [False, False, False, False, False],\n",
       " [False, False, False, False, False]]"
      ]
     },
     "execution_count": 5,
     "metadata": {},
     "output_type": "execute_result"
    }
   ],
   "source": [
    "# Try just for \"0\"\n",
    "chk = [[False] * N for _ in range(N)]\n",
    "chk"
   ]
  },
  {
   "cell_type": "code",
   "execution_count": 6,
   "metadata": {},
   "outputs": [
    {
     "data": {
      "text/plain": [
       "[[0, 0, 1, 1, 0],\n",
       " [0, 0, 1, 0, 0],\n",
       " [1, 1, 0, 1, 0],\n",
       " [1, 0, 1, 0, 1],\n",
       " [0, 0, 0, 1, 0]]"
      ]
     },
     "execution_count": 6,
     "metadata": {},
     "output_type": "execute_result"
    }
   ],
   "source": [
    "relations_matrix"
   ]
  },
  {
   "cell_type": "code",
   "execution_count": 7,
   "metadata": {},
   "outputs": [
    {
     "name": "stdout",
     "output_type": "stream",
     "text": [
      "[2, 3]\n",
      "[2]\n",
      "[0, 3, 1]\n",
      "[0, 4, 2]\n",
      "[3]\n"
     ]
    }
   ],
   "source": [
    "for l in relations_list:\n",
    "    print(l)"
   ]
  },
  {
   "cell_type": "code",
   "execution_count": null,
   "metadata": {},
   "outputs": [],
   "source": [
    "def count_paths(start, end):\n",
    "    cnt = 0\n",
    "    current = start\n",
    "    \n",
    "    if end  in relations_list[current]:\n",
    "        chk[current][end] = chk[end][current] = True\n",
    "        cnt += 1\n",
    "        return cnt    \n",
    "          \n",
    "    for i in range(len(relations_list[current])):\n",
    "        idx = relations_list[current][i]\n",
    "        chk[current][idx] = chk[idx][current] = True\n",
    "        cnt += 1\n",
    "        \n",
    "        current = idx\n",
    "        count_paths(current, end)                                 "
   ]
  },
  {
   "cell_type": "code",
   "execution_count": 32,
   "metadata": {},
   "outputs": [],
   "source": [
    "def count_paths(start, end):\n",
    "    cnt = 0\n",
    "    current = start\n",
    "    \n",
    "    if end  in relations_list[current]:\n",
    "        chk[current][end] = chk[end][current] = True\n",
    "        cnt += 1\n",
    "        return cnt         \n",
    "\n",
    "    cnt_list = []    \n",
    "    for c in relations_list[current]:\n",
    "        cnt = 0\n",
    "        chk[current][c] = chk[c][current] = True\n",
    "        cnt += 1\n",
    "        \n",
    "        if end in relations_list[c]:\n",
    "            chk[c][end] = chk[end][c] = True\n",
    "            cnt += 1\n",
    "        cnt_list.append(cnt)\n",
    "        print(f\"current : {current}, c : {c}, cnt : {cnt}\")\n",
    "        \n",
    "    min_cnt = min(cnt_list)\n",
    "    return min_cnt\n",
    "                                  "
   ]
  },
  {
   "cell_type": "code",
   "execution_count": 37,
   "metadata": {},
   "outputs": [
    {
     "name": "stdout",
     "output_type": "stream",
     "text": [
      "[2, 3]\n",
      "[2]\n",
      "[0, 3, 1]\n",
      "[0, 4, 2]\n",
      "[3]\n"
     ]
    }
   ],
   "source": [
    "for l in relations_list:\n",
    "    print(l)"
   ]
  },
  {
   "cell_type": "code",
   "execution_count": 33,
   "metadata": {},
   "outputs": [
    {
     "name": "stdout",
     "output_type": "stream",
     "text": [
      "current : 0, c : 2, cnt : 1\n",
      "current : 0, c : 3, cnt : 2\n"
     ]
    },
    {
     "data": {
      "text/plain": [
       "1"
      ]
     },
     "execution_count": 33,
     "metadata": {},
     "output_type": "execute_result"
    }
   ],
   "source": [
    "count_paths(0, 4)"
   ]
  }
 ],
 "metadata": {
  "kernelspec": {
   "display_name": "base",
   "language": "python",
   "name": "python3"
  },
  "language_info": {
   "codemirror_mode": {
    "name": "ipython",
    "version": 3
   },
   "file_extension": ".py",
   "mimetype": "text/x-python",
   "name": "python",
   "nbconvert_exporter": "python",
   "pygments_lexer": "ipython3",
   "version": "3.9.12"
  },
  "orig_nbformat": 4
 },
 "nbformat": 4,
 "nbformat_minor": 2
}
