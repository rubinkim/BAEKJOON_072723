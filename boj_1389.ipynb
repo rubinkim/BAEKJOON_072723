{
 "cells": [
  {
   "cell_type": "code",
   "execution_count": 27,
   "metadata": {},
   "outputs": [
    {
     "name": "stdout",
     "output_type": "stream",
     "text": [
      "3\n"
     ]
    }
   ],
   "source": [
    "from collections import deque\n",
    "\n",
    "N, M = map(int, input().split())\n",
    "relations_matrix = [[0] * N for _ in range(N)]\n",
    "\n",
    "for _ in range(M):\n",
    "    start, end = map(int, input().split())\n",
    "    relations_matrix[start-1][end-1] = 1\n",
    "    relations_matrix[end-1][start-1] = 1\n",
    "    \n",
    "friends_dict = {}\n",
    "\n",
    "for i in range(N):\n",
    "    friends_list =  []\n",
    "    for j in range(N):\n",
    "        if relations_matrix[i][j] == 1:\n",
    "            friends_list.append((j))\n",
    "    friends_dict[i] = friends_list    \n",
    "\n",
    "def bfs(start, end):\n",
    "    chk = [[False] * N for _ in range(N)]\n",
    "    chk[start][0] = chk[0][start] = True\n",
    "    \n",
    "    dq = deque()\n",
    "    dq.append((start, 0))   \n",
    "    \n",
    "    while dq:\n",
    "        y, d = dq.popleft()\n",
    "        if end == y:\n",
    "            return d        \n",
    "        nd = d + 1        \n",
    "        for v in friends_dict[y]:            \n",
    "            dq.append((v, nd))\n",
    "            \n",
    "kevin = []\n",
    "\n",
    "for i in range(5):\n",
    "    sum = 0\n",
    "    for j in range(5):\n",
    "        if j == i:\n",
    "            continue\n",
    "        sum += bfs(i, j)\n",
    "    kevin.append(sum)    \n",
    "\n",
    "print(kevin.index(min(kevin)) + 1)"
   ]
  },
  {
   "cell_type": "code",
   "execution_count": null,
   "metadata": {},
   "outputs": [],
   "source": []
  },
  {
   "cell_type": "code",
   "execution_count": null,
   "metadata": {},
   "outputs": [],
   "source": []
  },
  {
   "cell_type": "code",
   "execution_count": 1,
   "metadata": {},
   "outputs": [
    {
     "name": "stdout",
     "output_type": "stream",
     "text": [
      "[0, 0, 1, 1, 0]\n",
      "[0, 0, 1, 0, 0]\n",
      "[1, 1, 0, 1, 0]\n",
      "[1, 0, 1, 0, 1]\n",
      "[0, 0, 0, 1, 0]\n"
     ]
    }
   ],
   "source": [
    "from collections import deque\n",
    "\n",
    "N, M = map(int, input().split())\n",
    "relations_matrix = [[0] * N for _ in range(N)]\n",
    "\n",
    "for _ in range(M):\n",
    "    start, end = map(int, input().split())\n",
    "    relations_matrix[start-1][end-1] = 1\n",
    "    relations_matrix[end-1][start-1] = 1\n",
    "    \n",
    "for l in relations_matrix:\n",
    "    print(l)"
   ]
  },
  {
   "cell_type": "code",
   "execution_count": 2,
   "metadata": {},
   "outputs": [
    {
     "name": "stdout",
     "output_type": "stream",
     "text": [
      "{0: [2, 3], 1: [2], 2: [0, 1, 3], 3: [0, 2, 4], 4: [3]}\n",
      "\n",
      "0 : [2, 3]\n",
      "1 : [2]\n",
      "2 : [0, 1, 3]\n",
      "3 : [0, 2, 4]\n",
      "4 : [3]\n"
     ]
    }
   ],
   "source": [
    "friends_dict = {}\n",
    "\n",
    "for i in range(N):\n",
    "    friends_list =  []\n",
    "    for j in range(N):\n",
    "        if relations_matrix[i][j] == 1:\n",
    "            friends_list.append((j))\n",
    "    friends_dict[i] = friends_list\n",
    "    \n",
    "print(friends_dict)\n",
    "print()\n",
    "\n",
    "for k, v in friends_dict.items():\n",
    "    print(f\"{k} : {v}\")"
   ]
  },
  {
   "cell_type": "code",
   "execution_count": 10,
   "metadata": {},
   "outputs": [
    {
     "name": "stdout",
     "output_type": "stream",
     "text": [
      "1 : 3 : {0: [2]}\n",
      "1 : 4 : {0: [2, 3]}\n",
      "4 : 5 : {0: [2, 3], 3: [4]}\n",
      "4 : 3 : {0: [2, 3], 3: [4, 2]}\n",
      "3 : 2 : {0: [2, 3], 3: [4, 2], 2: [1]}\n",
      "\n",
      "\n",
      "0 : [2, 3]\n",
      "3 : [4, 2]\n",
      "2 : [1]\n"
     ]
    }
   ],
   "source": [
    "N, M = map(int, input().split())\n",
    "\n",
    "new_friends_dict = {}\n",
    "\n",
    "for i in range(M):\n",
    "    k, v = map(int, input().split())    \n",
    "    if k-1 not in new_friends_dict.keys():\n",
    "        new_friends_dict[k-1] = [v-1]\n",
    "        print(f\"{k} : {v} : {new_friends_dict}\")\n",
    "    else:\n",
    "        new_friends_dict[k-1].append(v-1)\n",
    "        print(f\"{k} : {v} : {new_friends_dict}\")\n",
    "\n",
    "\n",
    "print() \n",
    "print()       \n",
    "for k, v in new_friends_dict.items():\n",
    "    print(f\"{k} : {v}\")"
   ]
  },
  {
   "cell_type": "code",
   "execution_count": 25,
   "metadata": {},
   "outputs": [],
   "source": [
    "def bfs(start, end):\n",
    "    chk = [[False] * N for _ in range(N)]\n",
    "    chk[start][0] = chk[0][start] = True\n",
    "    \n",
    "    dq = deque()\n",
    "    dq.append((start, 0))   \n",
    "    \n",
    "    while dq:\n",
    "        y, d = dq.popleft()\n",
    "        if end == y:\n",
    "            return d        \n",
    "        nd = d + 1        \n",
    "        for v in friends_dict[y]:            \n",
    "            dq.append((v, nd))"
   ]
  },
  {
   "cell_type": "code",
   "execution_count": 15,
   "metadata": {},
   "outputs": [],
   "source": [
    "def bfs(start, end):\n",
    "    chk = [[False] * N for _ in range(N)]\n",
    "    chk[start][0] = chk[0][start] = True\n",
    "    \n",
    "    ans_list = []\n",
    "    dq = deque()\n",
    "    dq.append((start, 0))\n",
    "    print(f\"start : {start},  end : {end},   d : 0,  ans_list : {ans_list}\")\n",
    "    print()   \n",
    "    \n",
    "    while dq:\n",
    "        y, d = dq.popleft()\n",
    "        print(f\"y : {y},  d : {d},  ans_list : {ans_list}\")\n",
    "        \n",
    "        if end == y:            \n",
    "            ans_list.append(d) \n",
    "            print(f\"y : {y},  d : {d},  ans_list : {ans_list}\")\n",
    "            return ans_list\n",
    "                   \n",
    "        nd = d + 1        \n",
    "        for v in friends_dict[y]:            \n",
    "            dq.append((v, nd))\n",
    "            print(f\"dq : {dq}\")\n",
    "        print()"
   ]
  },
  {
   "cell_type": "code",
   "execution_count": 16,
   "metadata": {},
   "outputs": [
    {
     "name": "stdout",
     "output_type": "stream",
     "text": [
      "start : 0,  end : 1,   d : 0,  ans_list : []\n",
      "y : 0,  d : 0,  ans_list : []\n",
      "dq : deque([(2, 1)])\n",
      "dq : deque([(2, 1), (3, 1)])\n",
      "y : 2,  d : 1,  ans_list : []\n",
      "dq : deque([(3, 1), (0, 2)])\n",
      "dq : deque([(3, 1), (0, 2), (1, 2)])\n",
      "dq : deque([(3, 1), (0, 2), (1, 2), (3, 2)])\n",
      "y : 3,  d : 1,  ans_list : []\n",
      "dq : deque([(0, 2), (1, 2), (3, 2), (0, 2)])\n",
      "dq : deque([(0, 2), (1, 2), (3, 2), (0, 2), (2, 2)])\n",
      "dq : deque([(0, 2), (1, 2), (3, 2), (0, 2), (2, 2), (4, 2)])\n",
      "y : 0,  d : 2,  ans_list : []\n",
      "dq : deque([(1, 2), (3, 2), (0, 2), (2, 2), (4, 2), (2, 3)])\n",
      "dq : deque([(1, 2), (3, 2), (0, 2), (2, 2), (4, 2), (2, 3), (3, 3)])\n",
      "y : 1,  d : 2,  ans_list : []\n",
      "y : 1,  d : 2,  ans_list : [2]\n"
     ]
    },
    {
     "data": {
      "text/plain": [
       "[2]"
      ]
     },
     "execution_count": 16,
     "metadata": {},
     "output_type": "execute_result"
    }
   ],
   "source": [
    "bfs(0, 1)"
   ]
  },
  {
   "cell_type": "code",
   "execution_count": 8,
   "metadata": {},
   "outputs": [
    {
     "name": "stdout",
     "output_type": "stream",
     "text": [
      "0 : [2, 3]\n",
      "1 : [2]\n",
      "2 : [0, 1, 3]\n",
      "3 : [0, 2, 4]\n",
      "4 : [3]\n"
     ]
    }
   ],
   "source": [
    "for k, v in friends_dict.items():\n",
    "    print(f\"{k} : {v}\")"
   ]
  },
  {
   "cell_type": "code",
   "execution_count": 12,
   "metadata": {},
   "outputs": [],
   "source": [
    "kevin = []\n",
    "\n",
    "for i in range(5):\n",
    "    sum = 0\n",
    "    for j in range(5):\n",
    "        if j == i:\n",
    "            continue\n",
    "        sum += bfs(i, j)\n",
    "    kevin.append(sum)\n",
    "    \n",
    "print(kevin)\n",
    "kevin.index(min(kevin)) + 1"
   ]
  }
 ],
 "metadata": {
  "kernelspec": {
   "display_name": "base",
   "language": "python",
   "name": "python3"
  },
  "language_info": {
   "codemirror_mode": {
    "name": "ipython",
    "version": 3
   },
   "file_extension": ".py",
   "mimetype": "text/x-python",
   "name": "python",
   "nbconvert_exporter": "python",
   "pygments_lexer": "ipython3",
   "version": "3.9.12"
  },
  "orig_nbformat": 4
 },
 "nbformat": 4,
 "nbformat_minor": 2
}
