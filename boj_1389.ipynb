{
 "cells": [
  {
   "cell_type": "code",
   "execution_count": 20,
   "metadata": {},
   "outputs": [
    {
     "name": "stdout",
     "output_type": "stream",
     "text": [
      "[2, 3]\n",
      "[2]\n",
      "[0, 3, 1]\n",
      "[0, 4, 2]\n",
      "[3]\n"
     ]
    }
   ],
   "source": [
    "from collections import deque\n",
    "\n",
    "N, M = map(int, input().split())\n",
    "adj = [[] for _ in range(N)]\n",
    "for _ in range(M):\n",
    "    a, b = map(lambda x : x-1, map(int, input().split()))\n",
    "    adj[a].append(b)\n",
    "    adj[b].append(a)\n",
    "    \n",
    "for row in adj:\n",
    "    print(row)"
   ]
  },
  {
   "cell_type": "code",
   "execution_count": 21,
   "metadata": {},
   "outputs": [],
   "source": [
    "kevin = []  # 각각 사람들의 케빈베이컨의 수를 저장하는 리스트\n",
    "ans = (-1, N ** 2)  # 각각 사람들의 인덱스와 그의 케빈베이컨 수를 튜플로 저장"
   ]
  },
  {
   "cell_type": "code",
   "execution_count": 35,
   "metadata": {},
   "outputs": [],
   "source": [
    "def bfs(start, goal):\n",
    "    chk = [False] * N\n",
    "    chk[start] = True\n",
    "    \n",
    "    dq = deque()\n",
    "    dq.append((start, 0))\n",
    "    \n",
    "    while dq:\n",
    "        now, d = dq.popleft()\n",
    "        if now == goal:\n",
    "            return d\n",
    "        nd = d + 1\n",
    "        for nxt in adj[now]:\n",
    "            if not chk[nxt]:\n",
    "                chk[nxt] = True\n",
    "                dq.append((nxt, nd))"
   ]
  },
  {
   "cell_type": "code",
   "execution_count": 36,
   "metadata": {},
   "outputs": [],
   "source": [
    "def get_kevin(start):\n",
    "    tot = 0\n",
    "    for i in range(N):\n",
    "        if i != start:\n",
    "            tot += bfs(start, i)\n",
    "    return tot"
   ]
  },
  {
   "cell_type": "code",
   "execution_count": 37,
   "metadata": {},
   "outputs": [
    {
     "name": "stdout",
     "output_type": "stream",
     "text": [
      "kevin : [6, 8, 5, 5, 8]\n"
     ]
    }
   ],
   "source": [
    "for i in range(N):\n",
    "    kevin.append(get_kevin(i))\n",
    "    \n",
    "print(f\"kevin : {kevin}\")"
   ]
  },
  {
   "cell_type": "code",
   "execution_count": 39,
   "metadata": {},
   "outputs": [
    {
     "name": "stdout",
     "output_type": "stream",
     "text": [
      "(2, 5)\n"
     ]
    }
   ],
   "source": [
    "for i, v in enumerate(kevin):\n",
    "    if ans[1] > v:\n",
    "        ans = (i, v)\n",
    "        \n",
    "print(ans)"
   ]
  },
  {
   "cell_type": "code",
   "execution_count": 42,
   "metadata": {},
   "outputs": [
    {
     "name": "stdout",
     "output_type": "stream",
     "text": [
      "3\n"
     ]
    }
   ],
   "source": [
    "print(ans[0] + 1)"
   ]
  },
  {
   "cell_type": "code",
   "execution_count": 43,
   "metadata": {},
   "outputs": [
    {
     "name": "stdout",
     "output_type": "stream",
     "text": [
      "3\n"
     ]
    }
   ],
   "source": [
    "from collections import deque\n",
    "\n",
    "N, M = map(int, input().split())\n",
    "adj = [[] for _ in range(N)]\n",
    "for _ in range(M):\n",
    "    a, b = map(lambda x : x-1, map(int, input().split()))\n",
    "    adj[a].append(b)\n",
    "    adj[b].append(a)\n",
    "    \n",
    "kevin = []  \n",
    "ans = (-1, N ** 2)  \n",
    "\n",
    "def bfs(start, goal):\n",
    "    chk = [False] * N\n",
    "    chk[start] = True\n",
    "    \n",
    "    dq = deque()\n",
    "    dq.append((start, 0))\n",
    "    \n",
    "    while dq:\n",
    "        now, d = dq.popleft()\n",
    "        if now == goal:\n",
    "            return d\n",
    "        nd = d + 1\n",
    "        for nxt in adj[now]:\n",
    "            if not chk[nxt]:\n",
    "                chk[nxt] = True\n",
    "                dq.append((nxt, nd))\n",
    "                \n",
    "def get_kevin(start):\n",
    "    tot = 0\n",
    "    for i in range(N):\n",
    "        if i != start:\n",
    "            tot += bfs(start, i)\n",
    "    return tot\n",
    "\n",
    "for i in range(N):\n",
    "    kevin.append(get_kevin(i))\n",
    "    \n",
    "for i, v in enumerate(kevin):\n",
    "    if ans[1] > v:\n",
    "        ans = (i, v)\n",
    "        \n",
    "print(ans[0] + 1)"
   ]
  }
 ],
 "metadata": {
  "kernelspec": {
   "display_name": "base",
   "language": "python",
   "name": "python3"
  },
  "language_info": {
   "codemirror_mode": {
    "name": "ipython",
    "version": 3
   },
   "file_extension": ".py",
   "mimetype": "text/x-python",
   "name": "python",
   "nbconvert_exporter": "python",
   "pygments_lexer": "ipython3",
   "version": "3.9.12"
  },
  "orig_nbformat": 4
 },
 "nbformat": 4,
 "nbformat_minor": 2
}
