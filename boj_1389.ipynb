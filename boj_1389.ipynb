{
 "cells": [
  {
   "cell_type": "code",
   "execution_count": 10,
   "metadata": {},
   "outputs": [
    {
     "name": "stdout",
     "output_type": "stream",
     "text": [
      "[0, 0, 1, 1, 0]\n",
      "[0, 0, 1, 0, 0]\n",
      "[1, 1, 0, 1, 0]\n",
      "[1, 0, 1, 0, 1]\n",
      "[0, 0, 0, 1, 0]\n"
     ]
    }
   ],
   "source": [
    "import sys\n",
    "\n",
    "input = open(\"data/boj_1389.txt\", \"r\").readline\n",
    "N, M = map(int, input().split())\n",
    "relations = [[0] * N for _ in range(N)]\n",
    "#input = sys.stdin.readline\n",
    "\n",
    "for _ in range(M):\n",
    "    start, end = map(int, input().split())\n",
    "    relations[start-1][end-1] = 1\n",
    "    relations[end-1][start-1] = 1\n",
    "    \n",
    "for l in relations:\n",
    "    print(l)"
   ]
  },
  {
   "cell_type": "code",
   "execution_count": 11,
   "metadata": {},
   "outputs": [
    {
     "name": "stdout",
     "output_type": "stream",
     "text": [
      "[False, False, False, False, False]\n",
      "[False, False, False, False, False]\n",
      "[False, False, False, False, False]\n",
      "[False, False, False, False, False]\n",
      "[False, False, False, False, False]\n"
     ]
    }
   ],
   "source": [
    "dy = (0, 1, 0, -1)\n",
    "dx = (1, 0, -1, 0)\n",
    "chk = [[False] * N for _ in range(N)]\n",
    "for l in chk:\n",
    "    print(l)"
   ]
  }
 ],
 "metadata": {
  "kernelspec": {
   "display_name": "base",
   "language": "python",
   "name": "python3"
  },
  "language_info": {
   "codemirror_mode": {
    "name": "ipython",
    "version": 3
   },
   "file_extension": ".py",
   "mimetype": "text/x-python",
   "name": "python",
   "nbconvert_exporter": "python",
   "pygments_lexer": "ipython3",
   "version": "3.9.12"
  },
  "orig_nbformat": 4
 },
 "nbformat": 4,
 "nbformat_minor": 2
}
