{
 "cells": [
  {
   "cell_type": "code",
   "execution_count": 9,
   "metadata": {},
   "outputs": [
    {
     "name": "stdout",
     "output_type": "stream",
     "text": [
      "[0, 0, 1, 1, 0]\n",
      "[0, 0, 1, 0, 0]\n",
      "[1, 1, 0, 1, 0]\n",
      "[1, 0, 1, 0, 1]\n",
      "[0, 0, 0, 1, 0]\n"
     ]
    }
   ],
   "source": [
    "import sys\n",
    "\n",
    "# creating an adjacency matrix\n",
    "input = open(\"data/boj_1389.txt\", \"r\").readline\n",
    "N, M = map(int, input().split())\n",
    "relations_matrix = [[0] * N for _ in range(N)]\n",
    "#input = sys.stdin.readline\n",
    "\n",
    "for _ in range(M):\n",
    "    start, end = map(int, input().split())\n",
    "    relations_matrix[start-1][end-1] = 1\n",
    "    relations_matrix[end-1][start-1] = 1\n",
    "    \n",
    "for l in relations_matrix:\n",
    "    print(l)"
   ]
  },
  {
   "cell_type": "code",
   "execution_count": 10,
   "metadata": {},
   "outputs": [
    {
     "name": "stdout",
     "output_type": "stream",
     "text": [
      "{0: [(0, 2), (0, 3)], 1: [(1, 2)], 2: [(2, 0), (2, 1), (2, 3)], 3: [(3, 0), (3, 2), (3, 4)], 4: [(4, 3)]}\n",
      "\n",
      "0 : [(0, 2), (0, 3)]\n",
      "1 : [(1, 2)]\n",
      "2 : [(2, 0), (2, 1), (2, 3)]\n",
      "3 : [(3, 0), (3, 2), (3, 4)]\n",
      "4 : [(4, 3)]\n"
     ]
    }
   ],
   "source": [
    "friends_dict = {}\n",
    "\n",
    "for i in range(N):\n",
    "    friends_list =  []\n",
    "    for j in range(N):\n",
    "        if relations_matrix[i][j] == 1:\n",
    "            friends_list.append((i, j))\n",
    "    friends_dict[i] = friends_list\n",
    "    \n",
    "print(friends_dict)\n",
    "print()\n",
    "\n",
    "for k, v in friends_dict.items():\n",
    "    print(f\"{k} : {v}\")"
   ]
  },
  {
   "cell_type": "code",
   "execution_count": 11,
   "metadata": {},
   "outputs": [
    {
     "name": "stdout",
     "output_type": "stream",
     "text": [
      "[(0, 2), (0, 3), (1, 2), (2, 0), (2, 1), (2, 3), (3, 0), (3, 2), (3, 4), (4, 3)]\n"
     ]
    }
   ],
   "source": [
    "links = []\n",
    "\n",
    "for i in range(N):    \n",
    "    for j in range(N):\n",
    "        if relations_matrix[i][j] == 1:\n",
    "            links.append((i, j))\n",
    "            \n",
    "print(links)"
   ]
  },
  {
   "cell_type": "code",
   "execution_count": 2,
   "metadata": {},
   "outputs": [
    {
     "name": "stdout",
     "output_type": "stream",
     "text": [
      "[2, 3]\n",
      "[2]\n",
      "[0, 3, 1]\n",
      "[0, 4, 2]\n",
      "[3]\n"
     ]
    }
   ],
   "source": [
    "# creating adjacency list\n",
    "import sys\n",
    "\n",
    "input = open(\"data/boj_1389.txt\", \"r\").readline\n",
    "N, M = map(int, input().split())\n",
    "relations_list = [[] for _ in range(N)]\n",
    "#input = sys.stdin.readline\n",
    "\n",
    "for _ in range(M):\n",
    "    start, end = map(int, input().split())\n",
    "    relations_list[start-1].append(end-1)\n",
    "    relations_list[end-1].append(start-1)\n",
    "    \n",
    "for l in relations_list:\n",
    "    print(l)"
   ]
  },
  {
   "cell_type": "code",
   "execution_count": 4,
   "metadata": {},
   "outputs": [
    {
     "data": {
      "text/plain": [
       "[[False, False, False, False, False],\n",
       " [False, False, False, False, False],\n",
       " [False, False, False, False, False],\n",
       " [False, False, False, False, False],\n",
       " [False, False, False, False, False]]"
      ]
     },
     "execution_count": 4,
     "metadata": {},
     "output_type": "execute_result"
    }
   ],
   "source": [
    "# Try just for \"0\"\n",
    "chk = [[False] * N for _ in range(N)]\n",
    "chk"
   ]
  },
  {
   "cell_type": "code",
   "execution_count": 13,
   "metadata": {},
   "outputs": [
    {
     "data": {
      "text/plain": [
       "[[0, 0, 1, 1, 0],\n",
       " [0, 0, 1, 0, 0],\n",
       " [1, 1, 0, 1, 0],\n",
       " [1, 0, 1, 0, 1],\n",
       " [0, 0, 0, 1, 0]]"
      ]
     },
     "execution_count": 13,
     "metadata": {},
     "output_type": "execute_result"
    }
   ],
   "source": [
    "relations_matrix"
   ]
  },
  {
   "cell_type": "code",
   "execution_count": 14,
   "metadata": {},
   "outputs": [
    {
     "name": "stdout",
     "output_type": "stream",
     "text": [
      "[2, 3]\n",
      "[2]\n",
      "[0, 3, 1]\n",
      "[0, 4, 2]\n",
      "[3]\n"
     ]
    }
   ],
   "source": [
    "for l in relations_list:\n",
    "    print(l)"
   ]
  },
  {
   "cell_type": "code",
   "execution_count": 1,
   "metadata": {},
   "outputs": [],
   "source": [
    "def count_paths(start, end):\n",
    "    cnt = 0\n",
    "    current = start\n",
    "    \n",
    "    if end  in relations_list[current] and not chk[current][end] and chk[end][current]:\n",
    "        chk[current][end] = chk[end][current] = True\n",
    "        cnt += 1\n",
    "        return cnt\n",
    "    \n",
    "    for i in range(N):        \n",
    "        for j in range(len(relations_list[current])):\n",
    "            idx = relations_list[i][j]\n",
    "            chk[current][idx] = chk[idx][current] = True\n",
    "            cnt += 1\n",
    "            \n",
    "            current = idx\n",
    "            count_paths(current, end)                          "
   ]
  },
  {
   "cell_type": "code",
   "execution_count": 5,
   "metadata": {},
   "outputs": [
    {
     "ename": "",
     "evalue": "",
     "output_type": "error",
     "traceback": [
      "\u001b[1;31mCannot execute code, session has been disposed. Please try restarting the Kernel."
     ]
    },
    {
     "ename": "",
     "evalue": "",
     "output_type": "error",
     "traceback": [
      "\u001b[1;31mThe Kernel crashed while executing code in the the current cell or a previous cell. Please review the code in the cell(s) to identify a possible cause of the failure. Click <a href='https://aka.ms/vscodeJupyterKernelCrash'>here</a> for more info. View Jupyter <a href='command:jupyter.viewOutput'>log</a> for further details."
     ]
    }
   ],
   "source": [
    "count_paths(0, 2)"
   ]
  },
  {
   "cell_type": "code",
   "execution_count": 24,
   "metadata": {},
   "outputs": [
    {
     "data": {
      "text/plain": [
       "2"
      ]
     },
     "execution_count": 24,
     "metadata": {},
     "output_type": "execute_result"
    }
   ],
   "source": [
    "relations_list[0][0]"
   ]
  }
 ],
 "metadata": {
  "kernelspec": {
   "display_name": "base",
   "language": "python",
   "name": "python3"
  },
  "language_info": {
   "codemirror_mode": {
    "name": "ipython",
    "version": 3
   },
   "file_extension": ".py",
   "mimetype": "text/x-python",
   "name": "python",
   "nbconvert_exporter": "python",
   "pygments_lexer": "ipython3",
   "version": "3.9.12"
  },
  "orig_nbformat": 4
 },
 "nbformat": 4,
 "nbformat_minor": 2
}
