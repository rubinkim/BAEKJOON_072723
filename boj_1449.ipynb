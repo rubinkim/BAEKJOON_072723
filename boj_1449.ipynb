{
 "cells": [
  {
   "cell_type": "code",
   "execution_count": 5,
   "metadata": {},
   "outputs": [
    {
     "name": "stdout",
     "output_type": "stream",
     "text": [
      "4 2\n",
      "[  1   2 100 101]\n"
     ]
    }
   ],
   "source": [
    "import numpy as np\n",
    "\n",
    "N, L = map(int, input().split())\n",
    "print(N, L)\n",
    "\n",
    "leaks = list(map(int, input().split()))\n",
    "leaks = np.array(leaks)\n",
    "print(leaks)"
   ]
  },
  {
   "cell_type": "code",
   "execution_count": 17,
   "metadata": {},
   "outputs": [
    {
     "name": "stdout",
     "output_type": "stream",
     "text": [
      "0.5 2.5\n",
      "[1 2]\n",
      "2\n",
      "[100 101]\n"
     ]
    }
   ],
   "source": [
    "first_tape_left_edge = leaks[0] - 0.5\n",
    "first_tape_right_edge = first_tape_left_edge + L\n",
    "\n",
    "print(first_tape_left_edge, first_tape_right_edge)\n",
    "\n",
    "removals = leaks[leaks<=first_tape_right_edge]\n",
    "print(removals)\n",
    "num_removed = len(removals)\n",
    "print(num_removed)\n",
    "\n",
    "new_leaks = leaks[num_removed : ]\n",
    "print(new_leaks)"
   ]
  },
  {
   "cell_type": "code",
   "execution_count": 10,
   "metadata": {},
   "outputs": [
    {
     "data": {
      "text/plain": [
       "array([1, 2])"
      ]
     },
     "execution_count": 10,
     "metadata": {},
     "output_type": "execute_result"
    }
   ],
   "source": [
    "leaks[leaks<=first_tape_right_edge]"
   ]
  },
  {
   "cell_type": "code",
   "execution_count": 9,
   "metadata": {},
   "outputs": [
    {
     "ename": "ValueError",
     "evalue": "The truth value of an array with more than one element is ambiguous. Use a.any() or a.all()",
     "output_type": "error",
     "traceback": [
      "\u001b[1;31m---------------------------------------------------------------------------\u001b[0m",
      "\u001b[1;31mValueError\u001b[0m                                Traceback (most recent call last)",
      "\u001b[1;32me:\\BAEKJOON_072723\\boj_1449.ipynb Cell 3\u001b[0m in \u001b[0;36m<cell line: 1>\u001b[1;34m()\u001b[0m\n\u001b[1;32m----> <a href='vscode-notebook-cell:/e%3A/BAEKJOON_072723/boj_1449.ipynb#W2sZmlsZQ%3D%3D?line=0'>1</a>\u001b[0m leaks\u001b[39m.\u001b[39mall((leaks\u001b[39m>\u001b[39m\u001b[39m=\u001b[39mfirst_tape_left_edge) \u001b[39mand\u001b[39;00m (leaks\u001b[39m<\u001b[39m\u001b[39m=\u001b[39mfirst_tape_right_edge))\n",
      "\u001b[1;31mValueError\u001b[0m: The truth value of an array with more than one element is ambiguous. Use a.any() or a.all()"
     ]
    }
   ],
   "source": [
    "leaks.all((leaks>=first_tape_left_edge) and (leaks<=first_tape_right_edge))"
   ]
  }
 ],
 "metadata": {
  "kernelspec": {
   "display_name": "base",
   "language": "python",
   "name": "python3"
  },
  "language_info": {
   "codemirror_mode": {
    "name": "ipython",
    "version": 3
   },
   "file_extension": ".py",
   "mimetype": "text/x-python",
   "name": "python",
   "nbconvert_exporter": "python",
   "pygments_lexer": "ipython3",
   "version": "3.9.12"
  },
  "orig_nbformat": 4
 },
 "nbformat": 4,
 "nbformat_minor": 2
}
