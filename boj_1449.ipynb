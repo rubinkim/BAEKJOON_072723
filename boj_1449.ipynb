{
 "cells": [
  {
   "cell_type": "code",
   "execution_count": 5,
   "metadata": {},
   "outputs": [
    {
     "name": "stdout",
     "output_type": "stream",
     "text": [
      "4 2\n",
      "[  1   2 100 101]\n"
     ]
    }
   ],
   "source": [
    "import numpy as np\n",
    "\n",
    "N, L = map(int, input().split())\n",
    "print(N, L)\n",
    "\n",
    "leaks = list(map(int, input().split()))\n",
    "leaks = np.array(leaks)\n",
    "print(leaks)"
   ]
  },
  {
   "cell_type": "code",
   "execution_count": 17,
   "metadata": {},
   "outputs": [
    {
     "name": "stdout",
     "output_type": "stream",
     "text": [
      "0.5 2.5\n",
      "[1 2]\n",
      "2\n",
      "[100 101]\n"
     ]
    }
   ],
   "source": [
    "first_tape_left_edge = leaks[0] - 0.5\n",
    "first_tape_right_edge = first_tape_left_edge + L\n",
    "\n",
    "print(first_tape_left_edge, first_tape_right_edge)\n",
    "\n",
    "removals = leaks[leaks<=first_tape_right_edge]\n",
    "print(removals)\n",
    "num_removed = len(removals)\n",
    "print(num_removed)\n",
    "\n",
    "new_leaks = leaks[num_removed : ]\n",
    "print(new_leaks)"
   ]
  },
  {
   "cell_type": "code",
   "execution_count": null,
   "metadata": {},
   "outputs": [],
   "source": [
    "first_tape_left_edge = leaks[0] - 0.5\n",
    "first_tape_right_edge = first_tape_left_edge + L\n",
    "\n",
    "print(first_tape_left_edge, first_tape_right_edge)\n",
    "\n",
    "removals = leaks[leaks<=first_tape_right_edge]\n",
    "print(removals)\n",
    "num_removed = len(removals)\n",
    "print(num_removed)\n",
    "\n",
    "new_leaks = leaks[num_removed : ]\n",
    "print(new_leaks)"
   ]
  },
  {
   "cell_type": "code",
   "execution_count": 19,
   "metadata": {},
   "outputs": [
    {
     "name": "stdout",
     "output_type": "stream",
     "text": [
      "4 2\n",
      "[  1   2 100 101]\n",
      "[100 101]\n"
     ]
    }
   ],
   "source": [
    "import numpy as np\n",
    "\n",
    "N, L = map(int, input().split())\n",
    "print(N, L)\n",
    "\n",
    "leaks = np.array(list(map(int, input().split())))\n",
    "print(leaks)\n",
    "\n",
    "first_tape_right_edge = leaks[0] - 0.5 + L\n",
    "leaks = leaks[leaks > first_tape_right_edge]\n",
    "print(leaks)"
   ]
  },
  {
   "cell_type": "code",
   "execution_count": null,
   "metadata": {},
   "outputs": [],
   "source": [
    "import numpy as np\n",
    "\n",
    "N, L = map(int, input().split())\n",
    "print(N, L)\n",
    "\n",
    "leaks = np.array(list(map(int, input().split())))\n",
    "print(leaks)\n",
    "num_tapes = 0\n",
    "\n",
    "while leaks:\n",
    "    tape_right_edge = leaks[0] - 0.5 + L\n",
    "    leaks = leaks[leaks > tape_right_edge]\n",
    "    print(f\"tape_right_edge : {tape_right_edge}, leaks : {leaks}\")\n",
    "    "
   ]
  }
 ],
 "metadata": {
  "kernelspec": {
   "display_name": "base",
   "language": "python",
   "name": "python3"
  },
  "language_info": {
   "codemirror_mode": {
    "name": "ipython",
    "version": 3
   },
   "file_extension": ".py",
   "mimetype": "text/x-python",
   "name": "python",
   "nbconvert_exporter": "python",
   "pygments_lexer": "ipython3",
   "version": "3.9.12"
  },
  "orig_nbformat": 4
 },
 "nbformat": 4,
 "nbformat_minor": 2
}
