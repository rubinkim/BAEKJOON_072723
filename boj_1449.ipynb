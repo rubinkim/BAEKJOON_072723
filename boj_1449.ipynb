{
 "cells": [
  {
   "cell_type": "code",
   "execution_count": 5,
   "metadata": {},
   "outputs": [
    {
     "name": "stdout",
     "output_type": "stream",
     "text": [
      "4 2\n",
      "[  1   2 100 101]\n"
     ]
    }
   ],
   "source": [
    "import numpy as np\n",
    "\n",
    "N, L = map(int, input().split())\n",
    "print(N, L)\n",
    "\n",
    "leaks = list(map(int, input().split()))\n",
    "leaks = np.array(leaks)\n",
    "print(leaks)"
   ]
  },
  {
   "cell_type": "code",
   "execution_count": 17,
   "metadata": {},
   "outputs": [
    {
     "name": "stdout",
     "output_type": "stream",
     "text": [
      "0.5 2.5\n",
      "[1 2]\n",
      "2\n",
      "[100 101]\n"
     ]
    }
   ],
   "source": [
    "first_tape_left_edge = leaks[0] - 0.5\n",
    "first_tape_right_edge = first_tape_left_edge + L\n",
    "\n",
    "print(first_tape_left_edge, first_tape_right_edge)\n",
    "\n",
    "removals = leaks[leaks<=first_tape_right_edge]\n",
    "print(removals)\n",
    "num_removed = len(removals)\n",
    "print(num_removed)\n",
    "\n",
    "new_leaks = leaks[num_removed : ]\n",
    "print(new_leaks)"
   ]
  },
  {
   "cell_type": "code",
   "execution_count": null,
   "metadata": {},
   "outputs": [],
   "source": [
    "first_tape_left_edge = leaks[0] - 0.5\n",
    "first_tape_right_edge = first_tape_left_edge + L\n",
    "\n",
    "print(first_tape_left_edge, first_tape_right_edge)\n",
    "\n",
    "removals = leaks[leaks<=first_tape_right_edge]\n",
    "print(removals)\n",
    "num_removed = len(removals)\n",
    "print(num_removed)\n",
    "\n",
    "new_leaks = leaks[num_removed : ]\n",
    "print(new_leaks)"
   ]
  },
  {
   "cell_type": "code",
   "execution_count": 19,
   "metadata": {},
   "outputs": [
    {
     "name": "stdout",
     "output_type": "stream",
     "text": [
      "4 2\n",
      "[  1   2 100 101]\n",
      "[100 101]\n"
     ]
    }
   ],
   "source": [
    "import numpy as np\n",
    "\n",
    "N, L = map(int, input().split())\n",
    "print(N, L)\n",
    "\n",
    "leaks = np.array(list(map(int, input().split())))\n",
    "print(leaks)\n",
    "\n",
    "first_tape_right_edge = leaks[0] - 0.5 + L\n",
    "leaks = leaks[leaks > first_tape_right_edge]\n",
    "print(leaks)"
   ]
  },
  {
   "cell_type": "code",
   "execution_count": 26,
   "metadata": {},
   "outputs": [
    {
     "name": "stdout",
     "output_type": "stream",
     "text": [
      "4 2\n",
      "[  1   2 100 101]\n",
      "tape_right_edge : 2.5, leaks : [100 101]\n",
      "tape_right_edge : 101.5, leaks : []\n",
      "2\n"
     ]
    }
   ],
   "source": [
    "import numpy as np\n",
    "\n",
    "N, L = map(int, input().split())\n",
    "print(N, L)\n",
    "\n",
    "leaks = np.array(list(map(int, input().split())))\n",
    "leaks.sort()\n",
    "print(leaks)\n",
    "num_tapes = 0\n",
    "\n",
    "while len(leaks) > 0:\n",
    "    num_tapes += 1\n",
    "    tape_right_edge = leaks[0] - 0.5 + L\n",
    "    leaks = leaks[leaks > tape_right_edge]\n",
    "    print(f\"tape_right_edge : {tape_right_edge}, leaks : {leaks}\")\n",
    "    \n",
    "print(num_tapes)"
   ]
  },
  {
   "cell_type": "code",
   "execution_count": 33,
   "metadata": {},
   "outputs": [
    {
     "name": "stdout",
     "output_type": "stream",
     "text": [
      "4 2\n",
      "1 2 100 101 \n",
      "2\n"
     ]
    }
   ],
   "source": [
    "import numpy as np\n",
    "\n",
    "N, L = map(int, input().split())\n",
    "print(N, L)\n",
    "\n",
    "leaks = np.array(list(map(int, input().split())))\n",
    "#print(leaks)\n",
    "\n",
    "for i in leaks:\n",
    "    print(i, end=\" \")    \n",
    "    \n",
    "leaks.sort()\n",
    "num_tapes = 0\n",
    "\n",
    "while len(leaks) > 0:\n",
    "    num_tapes += 1\n",
    "    tape_right_edge = leaks[0] - 0.5 + L\n",
    "    leaks = leaks[leaks > tape_right_edge]\n",
    "    #print(f\"tape_right_edge : {tape_right_edge}, leaks : {leaks}\")\n",
    "\n",
    "print()    \n",
    "print(num_tapes)"
   ]
  },
  {
   "cell_type": "code",
   "execution_count": 40,
   "metadata": {},
   "outputs": [
    {
     "name": "stdout",
     "output_type": "stream",
     "text": [
      "3 1\n",
      "3 2 1 \n",
      "3\n"
     ]
    }
   ],
   "source": [
    "N, L = map(int, input().split())\n",
    "print(N, L)\n",
    "\n",
    "leaks = list(map(int, input().split()))\n",
    "for i in leaks:\n",
    "    print(i, end=' ')\n",
    "print()\n",
    "\n",
    "leaks.sort()\n",
    "#print(leaks)\n",
    "num_tapes = 0\n",
    "\n",
    "while leaks:\n",
    "    num_tapes += 1\n",
    "    tape_right_edge = leaks[0] - 0.5 + L\n",
    "    leaks = [leak for leak in leaks if leak > tape_right_edge ]\n",
    "\n",
    "print(num_tapes)"
   ]
  },
  {
   "cell_type": "markdown",
   "metadata": {},
   "source": [
    "##### 좌표압축기법"
   ]
  },
  {
   "cell_type": "code",
   "execution_count": 8,
   "metadata": {},
   "outputs": [
    {
     "name": "stdout",
     "output_type": "stream",
     "text": [
      "[1, 2, 100, 101]\n",
      "coord : [100, 101], x : 1, ans : 1\n",
      "[100, 101]\n",
      "coord : [], x : 100, ans : 2\n",
      "\n",
      "2\n"
     ]
    }
   ],
   "source": [
    "N, L = map(int, input().split())\n",
    "coord = list(map(int, input().split()))\n",
    "coord.sort()\n",
    "ans = 0 # ans는 사용된 테이프의 갯수\n",
    "\n",
    "while coord:\n",
    "    print(coord)\n",
    "    x = coord[0]\n",
    "    ans += 1\n",
    "    coord = [c for c in coord if c >= x + L]\n",
    "    print(f\"coord : {coord}, x : {x}, ans : {ans}\")\n",
    "    \n",
    "print()\n",
    "print(ans)"
   ]
  },
  {
   "cell_type": "code",
   "execution_count": 16,
   "metadata": {},
   "outputs": [
    {
     "name": "stdout",
     "output_type": "stream",
     "text": [
      "exp : (, stack : ['(']\n",
      "exp : R, stack : ['(']\n",
      "exp : U, stack : ['(']\n",
      "exp : (, stack : ['(', '(']\n",
      "exp : b, stack : ['(', '(']\n",
      "exp : (, stack : ['(', '(', '(']\n",
      "exp : i, stack : ['(', '(', '(']\n",
      "exp : (, stack : ['(', '(', '(', '(']\n",
      "exp : n, stack : ['(', '(', '(', '(']\n",
      "exp : ), stack : ['(', '(', '(']\n",
      "exp : ), stack : ['(', '(']\n",
      "exp : ), stack : ['(']\n"
     ]
    }
   ],
   "source": [
    "expression = '(RU(b(i(n)))'\n",
    "stack = []\n",
    "\n",
    "for exp in expression:\n",
    "    if exp == \"(\":\n",
    "        stack.append(exp)\n",
    "        \n",
    "    elif exp == \")\":\n",
    "        if not stack.pop():\n",
    "            print(\"False\")\n",
    "            \n",
    "    print(f'exp : {exp}, stack : {stack}')"
   ]
  },
  {
   "cell_type": "code",
   "execution_count": 18,
   "metadata": {},
   "outputs": [
    {
     "name": "stdout",
     "output_type": "stream",
     "text": [
      "Push data = A\n",
      "Push data = B\n",
      "Push data = C\n",
      "\n",
      "Pop data = C\n",
      "Pop data = B\n",
      "Pop data = A\n",
      "\n",
      "Peek data = None\n"
     ]
    }
   ],
   "source": [
    "class Node:\n",
    "    def __init__(self, data):\n",
    "        self.data = data\n",
    "        self.next = None\n",
    "\n",
    "class Stack:\n",
    "    def __init__(self):\n",
    "        self.top = None\n",
    "\n",
    "    def push(self, data):\n",
    "        node = Node(data)\n",
    "        if self.top is None:\n",
    "            self.top = node\n",
    "        else:\n",
    "            node.next = self.top\n",
    "            self.top = node\n",
    "\n",
    "    def pop(self):\n",
    "        if self.top is None:\n",
    "            return None\n",
    "        node = self.top\n",
    "        self.top = node.next\n",
    "        return node.data\n",
    "\n",
    "    def peek(self):\n",
    "        if self.top is None:\n",
    "            return None\n",
    "        return self.top.data\n",
    "\n",
    "    def is_empty(self):\n",
    "        return self.top is None\n",
    "\n",
    "if __name__ == \"__main__\":\n",
    "    s = Stack()\n",
    "\n",
    "    for i in range(3):\n",
    "        s.push(chr(ord(\"A\") + i))\n",
    "        print(f\"Push data = {s.peek()}\")\n",
    "    print()\n",
    "\n",
    "    while not s.is_empty():\n",
    "        print(f\"Pop data = {s.pop()}\")\n",
    "    print()\n",
    "\n",
    "    print(f\"Peek data = {s.peek()}\")\n",
    "\n"
   ]
  },
  {
   "cell_type": "code",
   "execution_count": 21,
   "metadata": {},
   "outputs": [],
   "source": [
    "def check_bracket2(expression):\n",
    "    brackets = {\")\": \"(\", \"}\": \"{\", \"]\": \"[\"}\n",
    "    s = Stack()\n",
    "    for exp in expression:\n",
    "        if exp in brackets.values():\n",
    "            s.push(exp)\n",
    "        elif exp in brackets:\n",
    "            pop_bracket = s.pop()\n",
    "            if not pop_bracket or pop_bracket != brackets[exp]:\n",
    "                return  False\n",
    "    return True if s.is_empty() else False\n"
   ]
  },
  {
   "cell_type": "code",
   "execution_count": 22,
   "metadata": {},
   "outputs": [
    {
     "name": "stdout",
     "output_type": "stream",
     "text": [
      "True\n"
     ]
    }
   ],
   "source": [
    "print(check_bracket2(\"[{a * (b + c)} - d] / e\"))"
   ]
  },
  {
   "cell_type": "code",
   "execution_count": 23,
   "metadata": {},
   "outputs": [
    {
     "name": "stdout",
     "output_type": "stream",
     "text": [
      "False\n"
     ]
    }
   ],
   "source": [
    "print(check_bracket2(\"[{a * (b + c)] - d] / e\"))"
   ]
  },
  {
   "cell_type": "code",
   "execution_count": null,
   "metadata": {},
   "outputs": [],
   "source": []
  }
 ],
 "metadata": {
  "kernelspec": {
   "display_name": "base",
   "language": "python",
   "name": "python3"
  },
  "language_info": {
   "codemirror_mode": {
    "name": "ipython",
    "version": 3
   },
   "file_extension": ".py",
   "mimetype": "text/x-python",
   "name": "python",
   "nbconvert_exporter": "python",
   "pygments_lexer": "ipython3",
   "version": "3.9.12"
  },
  "orig_nbformat": 4
 },
 "nbformat": 4,
 "nbformat_minor": 2
}
