{
 "cells": [
  {
   "cell_type": "code",
   "execution_count": 5,
   "metadata": {},
   "outputs": [
    {
     "name": "stdout",
     "output_type": "stream",
     "text": [
      "4 2\n",
      "[  1   2 100 101]\n"
     ]
    }
   ],
   "source": [
    "import numpy as np\n",
    "\n",
    "N, L = map(int, input().split())\n",
    "print(N, L)\n",
    "\n",
    "leaks = list(map(int, input().split()))\n",
    "leaks = np.array(leaks)\n",
    "print(leaks)"
   ]
  },
  {
   "cell_type": "code",
   "execution_count": 17,
   "metadata": {},
   "outputs": [
    {
     "name": "stdout",
     "output_type": "stream",
     "text": [
      "0.5 2.5\n",
      "[1 2]\n",
      "2\n",
      "[100 101]\n"
     ]
    }
   ],
   "source": [
    "first_tape_left_edge = leaks[0] - 0.5\n",
    "first_tape_right_edge = first_tape_left_edge + L\n",
    "\n",
    "print(first_tape_left_edge, first_tape_right_edge)\n",
    "\n",
    "removals = leaks[leaks<=first_tape_right_edge]\n",
    "print(removals)\n",
    "num_removed = len(removals)\n",
    "print(num_removed)\n",
    "\n",
    "new_leaks = leaks[num_removed : ]\n",
    "print(new_leaks)"
   ]
  },
  {
   "cell_type": "code",
   "execution_count": null,
   "metadata": {},
   "outputs": [],
   "source": [
    "first_tape_left_edge = leaks[0] - 0.5\n",
    "first_tape_right_edge = first_tape_left_edge + L\n",
    "\n",
    "print(first_tape_left_edge, first_tape_right_edge)\n",
    "\n",
    "removals = leaks[leaks<=first_tape_right_edge]\n",
    "print(removals)\n",
    "num_removed = len(removals)\n",
    "print(num_removed)\n",
    "\n",
    "new_leaks = leaks[num_removed : ]\n",
    "print(new_leaks)"
   ]
  },
  {
   "cell_type": "code",
   "execution_count": 19,
   "metadata": {},
   "outputs": [
    {
     "name": "stdout",
     "output_type": "stream",
     "text": [
      "4 2\n",
      "[  1   2 100 101]\n",
      "[100 101]\n"
     ]
    }
   ],
   "source": [
    "import numpy as np\n",
    "\n",
    "N, L = map(int, input().split())\n",
    "print(N, L)\n",
    "\n",
    "leaks = np.array(list(map(int, input().split())))\n",
    "print(leaks)\n",
    "\n",
    "first_tape_right_edge = leaks[0] - 0.5 + L\n",
    "leaks = leaks[leaks > first_tape_right_edge]\n",
    "print(leaks)"
   ]
  },
  {
   "cell_type": "code",
   "execution_count": 26,
   "metadata": {},
   "outputs": [
    {
     "name": "stdout",
     "output_type": "stream",
     "text": [
      "4 2\n",
      "[  1   2 100 101]\n",
      "tape_right_edge : 2.5, leaks : [100 101]\n",
      "tape_right_edge : 101.5, leaks : []\n",
      "2\n"
     ]
    }
   ],
   "source": [
    "import numpy as np\n",
    "\n",
    "N, L = map(int, input().split())\n",
    "print(N, L)\n",
    "\n",
    "leaks = np.array(list(map(int, input().split())))\n",
    "leaks.sort()\n",
    "print(leaks)\n",
    "num_tapes = 0\n",
    "\n",
    "while len(leaks) > 0:\n",
    "    num_tapes += 1\n",
    "    tape_right_edge = leaks[0] - 0.5 + L\n",
    "    leaks = leaks[leaks > tape_right_edge]\n",
    "    print(f\"tape_right_edge : {tape_right_edge}, leaks : {leaks}\")\n",
    "    \n",
    "print(num_tapes)"
   ]
  },
  {
   "cell_type": "code",
   "execution_count": 33,
   "metadata": {},
   "outputs": [
    {
     "name": "stdout",
     "output_type": "stream",
     "text": [
      "4 2\n",
      "1 2 100 101 \n",
      "2\n"
     ]
    }
   ],
   "source": [
    "import numpy as np\n",
    "\n",
    "N, L = map(int, input().split())\n",
    "print(N, L)\n",
    "\n",
    "leaks = np.array(list(map(int, input().split())))\n",
    "#print(leaks)\n",
    "\n",
    "for i in leaks:\n",
    "    print(i, end=\" \")    \n",
    "    \n",
    "leaks.sort()\n",
    "num_tapes = 0\n",
    "\n",
    "while len(leaks) > 0:\n",
    "    num_tapes += 1\n",
    "    tape_right_edge = leaks[0] - 0.5 + L\n",
    "    leaks = leaks[leaks > tape_right_edge]\n",
    "    #print(f\"tape_right_edge : {tape_right_edge}, leaks : {leaks}\")\n",
    "\n",
    "print()    \n",
    "print(num_tapes)"
   ]
  },
  {
   "cell_type": "code",
   "execution_count": 40,
   "metadata": {},
   "outputs": [
    {
     "name": "stdout",
     "output_type": "stream",
     "text": [
      "3 1\n",
      "3 2 1 \n",
      "3\n"
     ]
    }
   ],
   "source": [
    "N, L = map(int, input().split())\n",
    "print(N, L)\n",
    "\n",
    "leaks = list(map(int, input().split()))\n",
    "for i in leaks:\n",
    "    print(i, end=' ')\n",
    "print()\n",
    "\n",
    "leaks.sort()\n",
    "#print(leaks)\n",
    "num_tapes = 0\n",
    "\n",
    "while leaks:\n",
    "    num_tapes += 1\n",
    "    tape_right_edge = leaks[0] - 0.5 + L\n",
    "    leaks = [leak for leak in leaks if leak > tape_right_edge ]\n",
    "\n",
    "print(num_tapes)"
   ]
  },
  {
   "cell_type": "markdown",
   "metadata": {},
   "source": [
    "##### 좌표압축기법"
   ]
  },
  {
   "cell_type": "code",
   "execution_count": 9,
   "metadata": {},
   "outputs": [
    {
     "name": "stdout",
     "output_type": "stream",
     "text": [
      "coord : [100, 101], x : 100, ans : 1\n"
     ]
    },
    {
     "ename": "IndexError",
     "evalue": "list index out of range",
     "output_type": "error",
     "traceback": [
      "\u001b[1;31m---------------------------------------------------------------------------\u001b[0m",
      "\u001b[1;31mIndexError\u001b[0m                                Traceback (most recent call last)",
      "\u001b[1;32me:\\BAEKJOON_072723\\boj_1449.ipynb Cell 9\u001b[0m in \u001b[0;36m<cell line: 8>\u001b[1;34m()\u001b[0m\n\u001b[0;32m      <a href='vscode-notebook-cell:/e%3A/BAEKJOON_072723/boj_1449.ipynb#X10sZmlsZQ%3D%3D?line=8'>9</a>\u001b[0m \u001b[39mif\u001b[39;00m x \u001b[39m<\u001b[39m\u001b[39m=\u001b[39m coord[\u001b[39m-\u001b[39m\u001b[39m1\u001b[39m]:\n\u001b[0;32m     <a href='vscode-notebook-cell:/e%3A/BAEKJOON_072723/boj_1449.ipynb#X10sZmlsZQ%3D%3D?line=9'>10</a>\u001b[0m     coord \u001b[39m=\u001b[39m [c \u001b[39mfor\u001b[39;00m c \u001b[39min\u001b[39;00m coord \u001b[39mif\u001b[39;00m c \u001b[39m>\u001b[39m x \u001b[39m+\u001b[39m L]\n\u001b[1;32m---> <a href='vscode-notebook-cell:/e%3A/BAEKJOON_072723/boj_1449.ipynb#X10sZmlsZQ%3D%3D?line=10'>11</a>\u001b[0m     x \u001b[39m=\u001b[39m coord[\u001b[39m0\u001b[39;49m]\n\u001b[0;32m     <a href='vscode-notebook-cell:/e%3A/BAEKJOON_072723/boj_1449.ipynb#X10sZmlsZQ%3D%3D?line=11'>12</a>\u001b[0m     ans \u001b[39m+\u001b[39m\u001b[39m=\u001b[39m \u001b[39m1\u001b[39m    \n\u001b[0;32m     <a href='vscode-notebook-cell:/e%3A/BAEKJOON_072723/boj_1449.ipynb#X10sZmlsZQ%3D%3D?line=12'>13</a>\u001b[0m     \u001b[39mprint\u001b[39m(\u001b[39mf\u001b[39m\u001b[39m\"\u001b[39m\u001b[39mcoord : \u001b[39m\u001b[39m{\u001b[39;00mcoord\u001b[39m}\u001b[39;00m\u001b[39m, x : \u001b[39m\u001b[39m{\u001b[39;00mx\u001b[39m}\u001b[39;00m\u001b[39m, ans : \u001b[39m\u001b[39m{\u001b[39;00mans\u001b[39m}\u001b[39;00m\u001b[39m\"\u001b[39m)\n",
      "\u001b[1;31mIndexError\u001b[0m: list index out of range"
     ]
    }
   ],
   "source": [
    "N, L = map(int, input().split())\n",
    "coord = list(map(int, input().split()))\n",
    "coord.sort()\n",
    "\n",
    "x = coord[0] # x는 현재 좌표의 위치\n",
    "ans = 0 # ans는 사용된 테이프의 갯수\n",
    "\n",
    "while coord:\n",
    "    \n",
    "    coord = [c for c in coord if c > x + L]\n",
    "    if coord:\n",
    "        x = coord[0]\n",
    "        ans += 1 \n",
    "    else:\n",
    "        break   \n",
    "    print(f\"coord : {coord}, x : {x}, ans : {ans}\")\n",
    "    \n",
    "print()\n",
    "print(ans)"
   ]
  },
  {
   "cell_type": "code",
   "execution_count": 6,
   "metadata": {},
   "outputs": [
    {
     "name": "stdout",
     "output_type": "stream",
     "text": [
      "[1, 3, 4, 5, 6, 8]\n"
     ]
    },
    {
     "data": {
      "text/plain": [
       "[4, 5, 6, 8]"
      ]
     },
     "execution_count": 6,
     "metadata": {},
     "output_type": "execute_result"
    }
   ],
   "source": [
    "x = [1, 3, 4, 6, 8, 5]\n",
    "x.sort()\n",
    "print(x)\n",
    "x = [c for c in x if c > 3]\n",
    "x"
   ]
  },
  {
   "cell_type": "code",
   "execution_count": 7,
   "metadata": {},
   "outputs": [
    {
     "name": "stdout",
     "output_type": "stream",
     "text": [
      "[4, 5, 6, 8]\n",
      "[5, 6, 8]\n",
      "[6, 8]\n",
      "[8]\n"
     ]
    }
   ],
   "source": [
    "while x:\n",
    "    print(x)\n",
    "    x.pop(0)"
   ]
  }
 ],
 "metadata": {
  "kernelspec": {
   "display_name": "base",
   "language": "python",
   "name": "python3"
  },
  "language_info": {
   "codemirror_mode": {
    "name": "ipython",
    "version": 3
   },
   "file_extension": ".py",
   "mimetype": "text/x-python",
   "name": "python",
   "nbconvert_exporter": "python",
   "pygments_lexer": "ipython3",
   "version": "3.9.12"
  },
  "orig_nbformat": 4
 },
 "nbformat": 4,
 "nbformat_minor": 2
}
