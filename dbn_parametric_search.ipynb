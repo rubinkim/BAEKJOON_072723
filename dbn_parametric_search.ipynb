{
 "cells": [
  {
   "cell_type": "code",
   "execution_count": 1,
   "metadata": {},
   "outputs": [],
   "source": [
    "def binary_search(array, target, start, end):\n",
    "    if start > end : \n",
    "        return None\n",
    "    mid = (start + end) // 2\n",
    "    if target == array[mid]:\n",
    "        return mid\n",
    "    elif target < array[mid]:\n",
    "        return binary_search(array, target, start, mid-1)\n",
    "    else:\n",
    "        return binary_search(array, target, mid+1, end)\n",
    "    return None"
   ]
  },
  {
   "cell_type": "code",
   "execution_count": 2,
   "metadata": {},
   "outputs": [],
   "source": [
    "def binary_search_while(array, target, start, end):\n",
    "    if start > end:\n",
    "        return None\n",
    "    while start <= end:\n",
    "        mid = (start + end) // 2\n",
    "        if target == array[mid]:\n",
    "            return mid\n",
    "        elif target < array[mid]:\n",
    "            end = mid - 1\n",
    "        else:\n",
    "            start = mid + 1"
   ]
  },
  {
   "cell_type": "code",
   "execution_count": 4,
   "metadata": {},
   "outputs": [
    {
     "name": "stdout",
     "output_type": "stream",
     "text": [
      "[-24, 0, 1, 2, 3, 4, 5, 6, 7, 8, 9, 88]\n"
     ]
    }
   ],
   "source": [
    "ary = list(map(int, input().split()))  # 7 5 88 9 0 -24 3 1 6 2 4 8\n",
    "ary.sort()\n",
    "print(ary)"
   ]
  }
 ],
 "metadata": {
  "kernelspec": {
   "display_name": "base",
   "language": "python",
   "name": "python3"
  },
  "language_info": {
   "codemirror_mode": {
    "name": "ipython",
    "version": 3
   },
   "file_extension": ".py",
   "mimetype": "text/x-python",
   "name": "python",
   "nbconvert_exporter": "python",
   "pygments_lexer": "ipython3",
   "version": "3.9.12"
  },
  "orig_nbformat": 4
 },
 "nbformat": 4,
 "nbformat_minor": 2
}
