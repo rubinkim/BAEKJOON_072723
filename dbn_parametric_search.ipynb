{
 "cells": [
  {
   "cell_type": "code",
   "execution_count": 9,
   "metadata": {},
   "outputs": [],
   "source": [
    "def binary_search(array, target, start, end):\n",
    "    if start > end : \n",
    "        return None\n",
    "    mid = (start + end) // 2\n",
    "    if target == array[mid]:\n",
    "        return mid\n",
    "    elif target < array[mid]:\n",
    "        return binary_search(array, target, start, mid-1)\n",
    "    else:\n",
    "        return binary_search(array, target, mid+1, end)\n",
    "    return None"
   ]
  },
  {
   "cell_type": "code",
   "execution_count": 10,
   "metadata": {},
   "outputs": [],
   "source": [
    "def binary_search_while(array, target, start, end):\n",
    "    if start > end:\n",
    "        return None\n",
    "    while start <= end:\n",
    "        mid = (start + end) // 2\n",
    "        if target == array[mid]:\n",
    "            return mid\n",
    "        elif target < array[mid]:\n",
    "            end = mid - 1\n",
    "        else:\n",
    "            start = mid + 1"
   ]
  },
  {
   "cell_type": "code",
   "execution_count": 2,
   "metadata": {},
   "outputs": [
    {
     "name": "stdout",
     "output_type": "stream",
     "text": [
      "n : 4, m : 6\n",
      "rice_array : [10, 19, 15, 17]\n",
      "[0, 1, 2, 3, 4, 5, 6, 7, 8, 9, 10, 11, 12, 13, 14, 15, 16, 17, 18, 19]\n"
     ]
    }
   ],
   "source": [
    "n, m = map(int, input().split())    #4 6\n",
    "rice_array = list(map(int, input().split()))\n",
    "print(f\"n : {n}, m : {m}\")\n",
    "print(f\"rice_array : {rice_array}\")\n",
    "\n",
    "param_list = [i for i in range(max(rice_array)+1)]\n",
    "print(param_list)"
   ]
  },
  {
   "cell_type": "code",
   "execution_count": 5,
   "metadata": {},
   "outputs": [],
   "source": [
    "def measure_rice(cutting_lnth):\n",
    "    rice_sum = 0\n",
    "    for x in rice_array:\n",
    "        if x > cutting_lnth:\n",
    "           rice_sum += (x - cutting_lnth)\n",
    "    return rice_sum"
   ]
  },
  {
   "cell_type": "code",
   "execution_count": 13,
   "metadata": {},
   "outputs": [
    {
     "name": "stdout",
     "output_type": "stream",
     "text": [
      "[61, 57, 53, 49, 45, 41, 37, 33, 29, 25, 21, 18, 15, 12, 9, 6, 4, 2, 1, 0]\n"
     ]
    }
   ],
   "source": [
    "my_rice = [measure_rice(x) for x in param_list]\n",
    "print(my_rice)"
   ]
  }
 ],
 "metadata": {
  "kernelspec": {
   "display_name": "base",
   "language": "python",
   "name": "python3"
  },
  "language_info": {
   "codemirror_mode": {
    "name": "ipython",
    "version": 3
   },
   "file_extension": ".py",
   "mimetype": "text/x-python",
   "name": "python",
   "nbconvert_exporter": "python",
   "pygments_lexer": "ipython3",
   "version": "3.9.12"
  },
  "orig_nbformat": 4
 },
 "nbformat": 4,
 "nbformat_minor": 2
}
