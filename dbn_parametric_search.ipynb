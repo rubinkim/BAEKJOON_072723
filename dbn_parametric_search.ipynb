{
 "cells": [
  {
   "cell_type": "code",
   "execution_count": 1,
   "metadata": {},
   "outputs": [],
   "source": [
    "def binary_search(array, target, start, end):\n",
    "    if start > end : \n",
    "        return None\n",
    "    else:\n",
    "        mid = (start + end) // 2\n",
    "        if target == array[mid]:\n",
    "            return mid\n",
    "        elif target < array[mid]:\n",
    "            return binary_search(array, target, start, mid-1)\n",
    "        else:\n",
    "            return binary_search(array, target, mid+1, end)"
   ]
  },
  {
   "cell_type": "code",
   "execution_count": 2,
   "metadata": {},
   "outputs": [],
   "source": [
    "def binary_search_while(array, target, start, end):\n",
    "    if start > end:\n",
    "        return None\n",
    "    while start <= end:\n",
    "        mid = (start + end) // 2\n",
    "        if target == array[mid]:\n",
    "            return mid\n",
    "        elif target < array[mid]:\n",
    "            end = mid - 1\n",
    "        else:\n",
    "            start = mid + 1\n",
    "    return mid"
   ]
  },
  {
   "cell_type": "code",
   "execution_count": 3,
   "metadata": {},
   "outputs": [],
   "source": [
    "def reverse_binary_search(array, target, start, end):\n",
    "    if start > end:\n",
    "        return None\n",
    "    mid = (start + end) // 2\n",
    "    \n",
    "    if target == array[mid]:\n",
    "        return mid\n",
    "    elif target < array[mid]:\n",
    "        return reverse_binary_search(array, target, mid+1, end)\n",
    "    else:\n",
    "        return reverse_binary_search(array, target, start, mid-1) "
   ]
  },
  {
   "cell_type": "code",
   "execution_count": 12,
   "metadata": {},
   "outputs": [],
   "source": [
    "def reverse_binary_search_while(array, target, start, end):\n",
    "    if start > end:\n",
    "        return None\n",
    "    while start <= end:\n",
    "        mid = (start + end) // 2\n",
    "        if target == array[mid]:\n",
    "            return mid\n",
    "        elif target < array[mid]:\n",
    "            start = mid + 1\n",
    "        else:\n",
    "            end = mid - 1\n",
    "\n",
    "    return mid"
   ]
  },
  {
   "cell_type": "code",
   "execution_count": 5,
   "metadata": {},
   "outputs": [
    {
     "name": "stdout",
     "output_type": "stream",
     "text": [
      "n : 4, m : 6\n",
      "rice_array : [19, 15, 10, 17]\n",
      "[0, 1, 2, 3, 4, 5, 6, 7, 8, 9, 10, 11, 12, 13, 14, 15, 16, 17, 18, 19]\n"
     ]
    }
   ],
   "source": [
    "n, m = map(int, input().split())    # n : 떡의 개수,  m : 내가 가져가야 할 떡의 총 길이    (4  6)\n",
    "rices = list(map(int, input().split()))    # 방아간에 있는 떡들의 길이(n개)          (19 15 10 17)\n",
    "print(f\"n : {n}, m : {m}\")\n",
    "print(f\"rice_array : {rices}\")\n",
    "\n",
    "cutting_lengths = [i for i in range(max(rices)+1)]\n",
    "print(cutting_lengths)"
   ]
  },
  {
   "cell_type": "code",
   "execution_count": 6,
   "metadata": {},
   "outputs": [],
   "source": [
    "def measure_rice(cl):  # cl : cutting limit\n",
    "    rice_sum = 0\n",
    "    for x in rices:\n",
    "        if x > cl:\n",
    "           rice_sum += (x - cl)\n",
    "    return rice_sum"
   ]
  },
  {
   "cell_type": "code",
   "execution_count": 7,
   "metadata": {},
   "outputs": [
    {
     "name": "stdout",
     "output_type": "stream",
     "text": [
      "[61, 57, 53, 49, 45, 41, 37, 33, 29, 25, 21, 18, 15, 12, 9, 6, 4, 2, 1, 0]\n"
     ]
    }
   ],
   "source": [
    "my_rice = [measure_rice(x) for x in cutting_lengths]\n",
    "print(my_rice)"
   ]
  },
  {
   "cell_type": "code",
   "execution_count": 25,
   "metadata": {},
   "outputs": [
    {
     "data": {
      "text/plain": [
       "15"
      ]
     },
     "execution_count": 25,
     "metadata": {},
     "output_type": "execute_result"
    }
   ],
   "source": [
    "reverse_binary_search(my_rice, 6, 0, len(my_rice)-1)"
   ]
  },
  {
   "cell_type": "code",
   "execution_count": 26,
   "metadata": {},
   "outputs": [
    {
     "data": {
      "text/plain": [
       "15"
      ]
     },
     "execution_count": 26,
     "metadata": {},
     "output_type": "execute_result"
    }
   ],
   "source": [
    "reverse_binary_search_while(my_rice, m, 0, len(my_rice)-1)"
   ]
  },
  {
   "cell_type": "code",
   "execution_count": null,
   "metadata": {},
   "outputs": [],
   "source": []
  }
 ],
 "metadata": {
  "kernelspec": {
   "display_name": "base",
   "language": "python",
   "name": "python3"
  },
  "language_info": {
   "codemirror_mode": {
    "name": "ipython",
    "version": 3
   },
   "file_extension": ".py",
   "mimetype": "text/x-python",
   "name": "python",
   "nbconvert_exporter": "python",
   "pygments_lexer": "ipython3",
   "version": "3.9.12"
  },
  "orig_nbformat": 4
 },
 "nbformat": 4,
 "nbformat_minor": 2
}
