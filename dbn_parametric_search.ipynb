{
 "cells": [
  {
   "cell_type": "code",
   "execution_count": 1,
   "metadata": {},
   "outputs": [],
   "source": [
    "def binary_search(array, target, start, end):\n",
    "    if start > end : \n",
    "        return None\n",
    "    mid = (start + end) // 2\n",
    "    if target == array[mid]:\n",
    "        return mid\n",
    "    elif target < array[mid]:\n",
    "        return binary_search(array, target, start, mid-1)\n",
    "    else:\n",
    "        return binary_search(array, target, mid+1, end)\n",
    "    return None"
   ]
  },
  {
   "cell_type": "code",
   "execution_count": 2,
   "metadata": {},
   "outputs": [],
   "source": [
    "def binary_search_while(array, target, start, end):\n",
    "    if start > end:\n",
    "        return None\n",
    "    while start <= end:\n",
    "        mid = (start + end) // 2\n",
    "        if target == array[mid]:\n",
    "            return mid\n",
    "        elif target < array[mid]:\n",
    "            end = mid - 1\n",
    "        else:\n",
    "            start = mid + 1"
   ]
  },
  {
   "cell_type": "code",
   "execution_count": 18,
   "metadata": {},
   "outputs": [
    {
     "name": "stdout",
     "output_type": "stream",
     "text": [
      "n : 6, m : 4\n",
      "rice_array : [19, 10, 12, 15, 11, 18]\n",
      "[0, 1, 2, 3, 4, 5, 6, 7, 8, 9, 10, 11, 12, 13, 14, 15, 16, 17, 18, 19]\n"
     ]
    }
   ],
   "source": [
    "n, m = map(int, input().split())    # n : 떡의 개수,  m : 내가 가져가야 할 떡의 총 길이    (4  6)\n",
    "rices = list(map(int, input().split()))    # 방아간에 있는 떡들의 길이(n개)          (19 15 10 17)\n",
    "print(f\"n : {n}, m : {m}\")\n",
    "print(f\"rice_array : {rices}\")\n",
    "\n",
    "cutting_lengths = [i for i in range(max(rices)+1)]\n",
    "print(cutting_lengths)"
   ]
  },
  {
   "cell_type": "code",
   "execution_count": 19,
   "metadata": {},
   "outputs": [],
   "source": [
    "def measure_rice(cl):\n",
    "    rice_sum = 0\n",
    "    for x in rices:\n",
    "        if x > cl:\n",
    "           rice_sum += (x - cl)\n",
    "    return rice_sum"
   ]
  },
  {
   "cell_type": "code",
   "execution_count": null,
   "metadata": {},
   "outputs": [],
   "source": [
    "def reverse_binary_search(array, target, start, end):"
   ]
  },
  {
   "cell_type": "code",
   "execution_count": 20,
   "metadata": {},
   "outputs": [
    {
     "name": "stdout",
     "output_type": "stream",
     "text": [
      "[85, 79, 73, 67, 61, 55, 49, 43, 37, 31, 25, 20, 16, 13, 10, 7, 5, 3, 1, 0]\n"
     ]
    }
   ],
   "source": [
    "my_rice = [measure_rice(x) for x in cutting_lengths]\n",
    "print(my_rice)"
   ]
  },
  {
   "cell_type": "code",
   "execution_count": 21,
   "metadata": {},
   "outputs": [
    {
     "name": "stdout",
     "output_type": "stream",
     "text": [
      "16\n",
      "16\n"
     ]
    }
   ],
   "source": [
    "k = 0\n",
    "while True:\n",
    "    if my_rice[k] >= m:\n",
    "        k += 1\n",
    "    else:\n",
    "        break\n",
    "print(k-1)\n",
    "print(cutting_lengths[k-1])"
   ]
  },
  {
   "cell_type": "code",
   "execution_count": 22,
   "metadata": {},
   "outputs": [
    {
     "name": "stdout",
     "output_type": "stream",
     "text": [
      "[True, True, True, True, True, True, True, True, True, True, True, True, True, True, True, True, True, False, False, False]\n"
     ]
    }
   ],
   "source": [
    "my_rice_chk = [i >= m for i in my_rice]\n",
    "print(my_rice_chk)"
   ]
  },
  {
   "cell_type": "code",
   "execution_count": 27,
   "metadata": {},
   "outputs": [
    {
     "data": {
      "text/plain": [
       "6"
      ]
     },
     "execution_count": 27,
     "metadata": {},
     "output_type": "execute_result"
    }
   ],
   "source": [
    "my_list = [12, 17, 9, 23, 7, 8, 3, 10, 15, 19]\n",
    "binary_search(sorted(my_list), 15, 0, len(my_list)-1)"
   ]
  },
  {
   "cell_type": "code",
   "execution_count": null,
   "metadata": {},
   "outputs": [],
   "source": []
  }
 ],
 "metadata": {
  "kernelspec": {
   "display_name": "base",
   "language": "python",
   "name": "python3"
  },
  "language_info": {
   "codemirror_mode": {
    "name": "ipython",
    "version": 3
   },
   "file_extension": ".py",
   "mimetype": "text/x-python",
   "name": "python",
   "nbconvert_exporter": "python",
   "pygments_lexer": "ipython3",
   "version": "3.9.12"
  },
  "orig_nbformat": 4
 },
 "nbformat": 4,
 "nbformat_minor": 2
}
