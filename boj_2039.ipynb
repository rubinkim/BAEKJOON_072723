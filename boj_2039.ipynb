{
 "cells": [
  {
   "cell_type": "code",
   "execution_count": 1,
   "metadata": {},
   "outputs": [],
   "source": [
    "import sys\n",
    "from itertools import combinations"
   ]
  },
  {
   "cell_type": "code",
   "execution_count": null,
   "metadata": {},
   "outputs": [],
   "source": [
    "fast_input = sys.stdin.readline\n",
    "dwarfs = []\n",
    "\n",
    "for _ in range(9):\n",
    "    x = int(fast_input())\n",
    "    dwarfs.append(x)\n",
    "    \n",
    "print(dwarfs)\n",
    "\n",
    "true_dwarfs = []\n",
    "for i in combinations(dwarfs, 7):\n",
    "    if sum(i) == 100:\n",
    "        i_list = list(i)\n",
    "        i_list.sort()\n",
    "        true_dwarfs.append(i_list)\n",
    "        \n",
    "print(true_dwarfs[0])\n",
    "print()\n",
    "\n",
    "for i in true_dwarfs[0]:\n",
    "    print(i)"
   ]
  },
  {
   "cell_type": "code",
   "execution_count": 12,
   "metadata": {},
   "outputs": [
    {
     "name": "stdout",
     "output_type": "stream",
     "text": [
      "[20, 7, 23, 19, 10, 15, 25, 8, 13]\n",
      "[7, 8, 10, 13, 19, 20, 23]\n",
      "7\n",
      "8\n",
      "10\n",
      "13\n",
      "19\n",
      "20\n",
      "23\n"
     ]
    }
   ],
   "source": [
    "sys.stdin = open(\"data/boj_2309.txt\", \"r\")\n",
    "dwarfs = []\n",
    "\n",
    "for _ in range(9):\n",
    "    x = int(sys.stdin.readline())\n",
    "    dwarfs.append(x)\n",
    "    \n",
    "print(dwarfs)\n",
    "\n",
    "true_dwarfs = []\n",
    "for i in combinations(dwarfs, 7):\n",
    "    if sum(i) == 100:\n",
    "        i_list = list(i)\n",
    "        i_list.sort()\n",
    "        true_dwarfs.append(i_list)\n",
    "        \n",
    "print(true_dwarfs[0])\n",
    "print()\n",
    "\n",
    "for i in true_dwarfs[0]:\n",
    "    print(i)"
   ]
  },
  {
   "cell_type": "code",
   "execution_count": 10,
   "metadata": {},
   "outputs": [
    {
     "name": "stdout",
     "output_type": "stream",
     "text": [
      "(20, 7) 27 [7, 20]\n",
      "(20, 23) 43 [20, 23]\n",
      "(20, 19) 39 [19, 20]\n",
      "(20, 10) 30 [10, 20]\n",
      "(20, 15) 35 [15, 20]\n",
      "(20, 25) 45 [20, 25]\n",
      "(20, 8) 28 [8, 20]\n",
      "(20, 13) 33 [13, 20]\n",
      "(7, 23) 30 [7, 23]\n",
      "(7, 19) 26 [7, 19]\n",
      "(7, 10) 17 [7, 10]\n",
      "(7, 15) 22 [7, 15]\n",
      "(7, 25) 32 [7, 25]\n",
      "(7, 8) 15 [7, 8]\n",
      "(7, 13) 20 [7, 13]\n",
      "(23, 19) 42 [19, 23]\n",
      "(23, 10) 33 [10, 23]\n",
      "(23, 15) 38 [15, 23]\n",
      "(23, 25) 48 [23, 25]\n",
      "(23, 8) 31 [8, 23]\n",
      "(23, 13) 36 [13, 23]\n",
      "(19, 10) 29 [10, 19]\n",
      "(19, 15) 34 [15, 19]\n",
      "(19, 25) 44 [19, 25]\n",
      "(19, 8) 27 [8, 19]\n",
      "(19, 13) 32 [13, 19]\n",
      "(10, 15) 25 [10, 15]\n",
      "(10, 25) 35 [10, 25]\n",
      "(10, 8) 18 [8, 10]\n",
      "(10, 13) 23 [10, 13]\n",
      "(15, 25) 40 [15, 25]\n",
      "(15, 8) 23 [8, 15]\n",
      "(15, 13) 28 [13, 15]\n",
      "(25, 8) 33 [8, 25]\n",
      "(25, 13) 38 [13, 25]\n",
      "(8, 13) 21 [8, 13]\n"
     ]
    }
   ],
   "source": [
    "a = [20, 7, 23, 19, 10, 15, 25, 8, 13]\n",
    "\n",
    "for i in combinations(a, 2):\n",
    "    i_list = list(i)\n",
    "    i_list.sort()\n",
    "    print(i, sum(i), i_list)"
   ]
  },
  {
   "cell_type": "code",
   "execution_count": 9,
   "metadata": {},
   "outputs": [],
   "source": [
    "a = (20,4,7)\n",
    "list(a).sort()"
   ]
  }
 ],
 "metadata": {
  "kernelspec": {
   "display_name": "keras_study",
   "language": "python",
   "name": "keras_study"
  },
  "language_info": {
   "codemirror_mode": {
    "name": "ipython",
    "version": 3
   },
   "file_extension": ".py",
   "mimetype": "text/x-python",
   "name": "python",
   "nbconvert_exporter": "python",
   "pygments_lexer": "ipython3",
   "version": "3.9.12"
  },
  "orig_nbformat": 4
 },
 "nbformat": 4,
 "nbformat_minor": 2
}
