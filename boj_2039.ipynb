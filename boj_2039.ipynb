{
 "cells": [
  {
   "cell_type": "code",
   "execution_count": 1,
   "metadata": {},
   "outputs": [],
   "source": [
    "import sys\n",
    "from itertools import combinations"
   ]
  },
  {
   "cell_type": "code",
   "execution_count": null,
   "metadata": {},
   "outputs": [],
   "source": [
    "fast_input = sys.stdin.readline\n",
    "dwarfs = []\n",
    "\n",
    "for _ in range(9):\n",
    "    x = int(fast_input())\n",
    "    dwarfs.append(x)\n",
    "    \n",
    "print(dwarfs)\n",
    "\n",
    "true_dwarfs = []\n",
    "for i in combinations(dwarfs, 7):\n",
    "    if sum(i) == 100:\n",
    "        true_dwarfs.append(i.sort())\n",
    "        \n",
    "print(true_dwarfs[0])"
   ]
  },
  {
   "cell_type": "code",
   "execution_count": 4,
   "metadata": {},
   "outputs": [
    {
     "name": "stdout",
     "output_type": "stream",
     "text": [
      "[20, 7, 23, 19, 10, 15, 25, 8, 13]\n"
     ]
    },
    {
     "ename": "AttributeError",
     "evalue": "'tuple' object has no attribute 'sort'",
     "output_type": "error",
     "traceback": [
      "\u001b[1;31m---------------------------------------------------------------------------\u001b[0m",
      "\u001b[1;31mAttributeError\u001b[0m                            Traceback (most recent call last)",
      "\u001b[1;32me:\\BAEKJOON_072723\\boj_2039.ipynb Cell 3\u001b[0m in \u001b[0;36m<cell line: 11>\u001b[1;34m()\u001b[0m\n\u001b[0;32m     <a href='vscode-notebook-cell:/e%3A/BAEKJOON_072723/boj_2039.ipynb#W3sZmlsZQ%3D%3D?line=10'>11</a>\u001b[0m \u001b[39mfor\u001b[39;00m i \u001b[39min\u001b[39;00m combinations(dwarfs, \u001b[39m7\u001b[39m):\n\u001b[0;32m     <a href='vscode-notebook-cell:/e%3A/BAEKJOON_072723/boj_2039.ipynb#W3sZmlsZQ%3D%3D?line=11'>12</a>\u001b[0m     \u001b[39mif\u001b[39;00m \u001b[39msum\u001b[39m(i) \u001b[39m==\u001b[39m \u001b[39m100\u001b[39m:\n\u001b[1;32m---> <a href='vscode-notebook-cell:/e%3A/BAEKJOON_072723/boj_2039.ipynb#W3sZmlsZQ%3D%3D?line=12'>13</a>\u001b[0m         true_dwarfs\u001b[39m.\u001b[39mappend(i\u001b[39m.\u001b[39;49msort())\n\u001b[0;32m     <a href='vscode-notebook-cell:/e%3A/BAEKJOON_072723/boj_2039.ipynb#W3sZmlsZQ%3D%3D?line=14'>15</a>\u001b[0m \u001b[39mprint\u001b[39m(true_dwarfs[\u001b[39m0\u001b[39m])\n",
      "\u001b[1;31mAttributeError\u001b[0m: 'tuple' object has no attribute 'sort'"
     ]
    }
   ],
   "source": [
    "sys.stdin = open(\"data/boj_2309.txt\", \"r\")\n",
    "dwarfs = []\n",
    "\n",
    "for _ in range(9):\n",
    "    x = int(sys.stdin.readline())\n",
    "    dwarfs.append(x)\n",
    "    \n",
    "print(dwarfs)\n",
    "\n",
    "true_dwarfs = []\n",
    "for i in combinations(dwarfs, 7):\n",
    "    if sum(i) == 100:\n",
    "        true_dwarfs.append(list(i).sort())\n",
    "        \n",
    "print(true_dwarfs[0])"
   ]
  },
  {
   "cell_type": "code",
   "execution_count": 7,
   "metadata": {},
   "outputs": [
    {
     "name": "stdout",
     "output_type": "stream",
     "text": [
      "(20, 7) 27 None\n",
      "(20, 23) 43 None\n",
      "(20, 19) 39 None\n",
      "(20, 10) 30 None\n",
      "(20, 15) 35 None\n",
      "(20, 25) 45 None\n",
      "(20, 8) 28 None\n",
      "(20, 13) 33 None\n",
      "(7, 23) 30 None\n",
      "(7, 19) 26 None\n",
      "(7, 10) 17 None\n",
      "(7, 15) 22 None\n",
      "(7, 25) 32 None\n",
      "(7, 8) 15 None\n",
      "(7, 13) 20 None\n",
      "(23, 19) 42 None\n",
      "(23, 10) 33 None\n",
      "(23, 15) 38 None\n",
      "(23, 25) 48 None\n",
      "(23, 8) 31 None\n",
      "(23, 13) 36 None\n",
      "(19, 10) 29 None\n",
      "(19, 15) 34 None\n",
      "(19, 25) 44 None\n",
      "(19, 8) 27 None\n",
      "(19, 13) 32 None\n",
      "(10, 15) 25 None\n",
      "(10, 25) 35 None\n",
      "(10, 8) 18 None\n",
      "(10, 13) 23 None\n",
      "(15, 25) 40 None\n",
      "(15, 8) 23 None\n",
      "(15, 13) 28 None\n",
      "(25, 8) 33 None\n",
      "(25, 13) 38 None\n",
      "(8, 13) 21 None\n"
     ]
    }
   ],
   "source": [
    "a = [20, 7, 23, 19, 10, 15, 25, 8, 13]\n",
    "\n",
    "for i in combinations(a, 2):\n",
    "    print(i, sum(i), list(i).sort())"
   ]
  }
 ],
 "metadata": {
  "kernelspec": {
   "display_name": "keras_study",
   "language": "python",
   "name": "keras_study"
  },
  "language_info": {
   "codemirror_mode": {
    "name": "ipython",
    "version": 3
   },
   "file_extension": ".py",
   "mimetype": "text/x-python",
   "name": "python",
   "nbconvert_exporter": "python",
   "pygments_lexer": "ipython3",
   "version": "3.9.12"
  },
  "orig_nbformat": 4
 },
 "nbformat": 4,
 "nbformat_minor": 2
}
