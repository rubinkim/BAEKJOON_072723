{
 "cells": [
  {
   "cell_type": "code",
   "execution_count": 1,
   "metadata": {},
   "outputs": [],
   "source": [
    "import sys\n",
    "from itertools import combinations"
   ]
  },
  {
   "cell_type": "code",
   "execution_count": null,
   "metadata": {},
   "outputs": [],
   "source": [
    "fast_input = sys.stdin.readline\n",
    "dwarfs = []\n",
    "\n",
    "for _ in range(9):\n",
    "    x = int(fast_input())\n",
    "    dwarfs.append(x)\n",
    "    \n",
    "print(dwarfs)\n",
    "\n",
    "true_dwarfs = []\n",
    "for i in combinations(dwarfs, 7):\n",
    "    if sum(i) == 100:\n",
    "        true_dwarfs.append(i.sort())"
   ]
  }
 ],
 "metadata": {
  "kernelspec": {
   "display_name": "keras_study",
   "language": "python",
   "name": "keras_study"
  },
  "language_info": {
   "codemirror_mode": {
    "name": "ipython",
    "version": 3
   },
   "file_extension": ".py",
   "mimetype": "text/x-python",
   "name": "python",
   "nbconvert_exporter": "python",
   "pygments_lexer": "ipython3",
   "version": "3.9.12"
  },
  "orig_nbformat": 4
 },
 "nbformat": 4,
 "nbformat_minor": 2
}
