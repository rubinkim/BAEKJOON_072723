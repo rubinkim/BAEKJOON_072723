{
 "cells": [
  {
   "cell_type": "code",
   "execution_count": 141,
   "metadata": {},
   "outputs": [
    {
     "name": "stdout",
     "output_type": "stream",
     "text": [
      "행수 : 10,  열수 : 13\n"
     ]
    }
   ],
   "source": [
    "import sys\n",
    "with open(\"data/boj_1018.txt\", \"r\") as f:\n",
    "    N, M = map(int, f.readline().split())\n",
    "    \n",
    "    board = [[0] * M for _ in range(N)]\n",
    "    for i in range(N):\n",
    "        row = f.readline()        \n",
    "        for j in range(M):\n",
    "            board[i][j] = row[j]\n",
    "            \n",
    "print(f\"행수 : {len(board)},  열수 : {len(board[0])}\")"
   ]
  },
  {
   "cell_type": "code",
   "execution_count": 142,
   "metadata": {},
   "outputs": [
    {
     "name": "stdout",
     "output_type": "stream",
     "text": [
      "['B', 'B', 'B', 'B', 'B', 'B', 'B', 'B', 'W', 'B', 'W', 'B', 'W']\n",
      "['B', 'B', 'B', 'B', 'B', 'B', 'B', 'B', 'B', 'W', 'B', 'W', 'B']\n",
      "['B', 'B', 'B', 'B', 'B', 'B', 'B', 'B', 'W', 'B', 'W', 'B', 'W']\n",
      "['B', 'B', 'B', 'B', 'B', 'B', 'B', 'B', 'B', 'W', 'B', 'W', 'B']\n",
      "['B', 'B', 'B', 'B', 'B', 'B', 'B', 'B', 'W', 'B', 'W', 'B', 'W']\n",
      "['B', 'B', 'B', 'B', 'B', 'B', 'B', 'B', 'B', 'W', 'B', 'W', 'B']\n",
      "['B', 'B', 'B', 'B', 'B', 'B', 'B', 'B', 'W', 'B', 'W', 'B', 'W']\n",
      "['B', 'B', 'B', 'B', 'B', 'B', 'B', 'B', 'B', 'W', 'B', 'W', 'B']\n",
      "['W', 'W', 'W', 'W', 'W', 'W', 'W', 'W', 'W', 'W', 'B', 'W', 'B']\n",
      "['W', 'W', 'W', 'W', 'W', 'W', 'W', 'W', 'W', 'W', 'B', 'W', 'B']\n"
     ]
    }
   ],
   "source": [
    "for row in board:\n",
    "    print(row)"
   ]
  },
  {
   "cell_type": "code",
   "execution_count": 143,
   "metadata": {},
   "outputs": [
    {
     "data": {
      "text/plain": [
       "[[1, 1, 1, 1, 1, 1, 1, 1, 0, 1, 0, 1, 0],\n",
       " [1, 1, 1, 1, 1, 1, 1, 1, 1, 0, 1, 0, 1],\n",
       " [1, 1, 1, 1, 1, 1, 1, 1, 0, 1, 0, 1, 0],\n",
       " [1, 1, 1, 1, 1, 1, 1, 1, 1, 0, 1, 0, 1],\n",
       " [1, 1, 1, 1, 1, 1, 1, 1, 0, 1, 0, 1, 0],\n",
       " [1, 1, 1, 1, 1, 1, 1, 1, 1, 0, 1, 0, 1],\n",
       " [1, 1, 1, 1, 1, 1, 1, 1, 0, 1, 0, 1, 0],\n",
       " [1, 1, 1, 1, 1, 1, 1, 1, 1, 0, 1, 0, 1],\n",
       " [0, 0, 0, 0, 0, 0, 0, 0, 0, 0, 1, 0, 1],\n",
       " [0, 0, 0, 0, 0, 0, 0, 0, 0, 0, 1, 0, 1]]"
      ]
     },
     "execution_count": 143,
     "metadata": {},
     "output_type": "execute_result"
    }
   ],
   "source": [
    "board = [[0 if board[i][j] == \"W\" else 1 for j in range(len(board[i]))] for i in range(len(board))]\n",
    "board"
   ]
  },
  {
   "cell_type": "code",
   "execution_count": 145,
   "metadata": {},
   "outputs": [],
   "source": [
    "white_row = [0, 1] * 4\n",
    "black_row = [1, 0] * 4\n",
    "\n",
    "white_chess = [white_row, black_row] * 4\n",
    "black_chess = [black_row, white_row] * 4"
   ]
  },
  {
   "cell_type": "code",
   "execution_count": 146,
   "metadata": {},
   "outputs": [
    {
     "data": {
      "text/plain": [
       "[[0, 1, 0, 1, 0, 1, 0, 1],\n",
       " [1, 0, 1, 0, 1, 0, 1, 0],\n",
       " [0, 1, 0, 1, 0, 1, 0, 1],\n",
       " [1, 0, 1, 0, 1, 0, 1, 0],\n",
       " [0, 1, 0, 1, 0, 1, 0, 1],\n",
       " [1, 0, 1, 0, 1, 0, 1, 0],\n",
       " [0, 1, 0, 1, 0, 1, 0, 1],\n",
       " [1, 0, 1, 0, 1, 0, 1, 0]]"
      ]
     },
     "execution_count": 146,
     "metadata": {},
     "output_type": "execute_result"
    }
   ],
   "source": [
    "white_chess"
   ]
  },
  {
   "cell_type": "code",
   "execution_count": 147,
   "metadata": {},
   "outputs": [
    {
     "data": {
      "text/plain": [
       "[[1, 0, 1, 0, 1, 0, 1, 0],\n",
       " [0, 1, 0, 1, 0, 1, 0, 1],\n",
       " [1, 0, 1, 0, 1, 0, 1, 0],\n",
       " [0, 1, 0, 1, 0, 1, 0, 1],\n",
       " [1, 0, 1, 0, 1, 0, 1, 0],\n",
       " [0, 1, 0, 1, 0, 1, 0, 1],\n",
       " [1, 0, 1, 0, 1, 0, 1, 0],\n",
       " [0, 1, 0, 1, 0, 1, 0, 1]]"
      ]
     },
     "execution_count": 147,
     "metadata": {},
     "output_type": "execute_result"
    }
   ],
   "source": [
    "black_chess"
   ]
  },
  {
   "cell_type": "code",
   "execution_count": 148,
   "metadata": {},
   "outputs": [
    {
     "name": "stdout",
     "output_type": "stream",
     "text": [
      "3 6\n"
     ]
    }
   ],
   "source": [
    "row_board_len, col_board_len, row_chess_len, col_chess_len = len(board), len(board[0]), len(white_chess), len(white_chess[0])\n",
    "diff_list = [[0] * (col_board_len - col_chess_len + 1) for _ in range(row_board_len - row_chess_len + 1)]\n",
    "print(len(diff_list), len(diff_list[0]))\n",
    "\n",
    "for i in range(row_board_len - row_chess_len + 1):\n",
    "    for j in range(col_board_len - col_chess_len + 1):\n",
    "        \n",
    "        chk_board = [[board[x][y] for y in range(j, j+8)] for x in range(i, i+8)]\n",
    "     \n",
    "        if chk_board[0][0] == 0:                       \n",
    "            diff = sum([sum([abs(white_chess[k][l] - chk_board[k][l]) for l in range(len(chk_board[0]))]) for k in range(len(chk_board))])            \n",
    "        else:\n",
    "            diff = sum([sum([abs(black_chess[k][l] - chk_board[k][l]) for l in range(len(chk_board[0]))]) for k in range(len(chk_board))])    \n",
    "        \n",
    "        diff_list[i][j] = diff   "
   ]
  },
  {
   "cell_type": "code",
   "execution_count": 149,
   "metadata": {},
   "outputs": [
    {
     "name": "stdout",
     "output_type": "stream",
     "text": [
      "[[32, 28, 40, 20, 48, 12], [32, 35, 25, 41, 19, 47], [32, 29, 38, 23, 44, 17]]\n"
     ]
    }
   ],
   "source": [
    "print(diff_list)\n",
    "print()\n",
    "print(min([min(x) for x in diff_list]))"
   ]
  },
  {
   "cell_type": "code",
   "execution_count": null,
   "metadata": {},
   "outputs": [],
   "source": []
  },
  {
   "cell_type": "code",
   "execution_count": 156,
   "metadata": {},
   "outputs": [
    {
     "name": "stdout",
     "output_type": "stream",
     "text": [
      "1 1\n",
      "[[0]]\n",
      "\n",
      "0\n"
     ]
    }
   ],
   "source": [
    "import sys\n",
    "with open(\"data/boj_1018.txt\", \"r\") as f:\n",
    "    N, M = map(int, f.readline().split())\n",
    "    \n",
    "    board = [[0] * M for _ in range(N)]\n",
    "    for i in range(N):\n",
    "        row = f.readline()        \n",
    "        for j in range(M):\n",
    "            board[i][j] = row[j]\n",
    "            \n",
    "board = [[0 if board[i][j] == \"W\" else 1 for j in range(len(board[i]))] for i in range(len(board))]\n",
    "\n",
    "white_row = [0, 1] * 4\n",
    "black_row = [1, 0] * 4\n",
    "\n",
    "white_chess = [white_row, black_row] * 4\n",
    "black_chess = [black_row, white_row] * 4\n",
    "\n",
    "row_board_len, col_board_len, row_chess_len, col_chess_len = len(board), len(board[0]), len(white_chess), len(white_chess[0])\n",
    "diff_list = [[0] * (col_board_len - col_chess_len + 1) for _ in range(row_board_len - row_chess_len + 1)]\n",
    "print(len(diff_list), len(diff_list[0]))\n",
    "\n",
    "for i in range(row_board_len - row_chess_len + 1):\n",
    "    for j in range(col_board_len - col_chess_len + 1):\n",
    "        \n",
    "        chk_board = [[board[x][y] for y in range(j, j+8)] for x in range(i, i+8)]\n",
    "     \n",
    "        if chk_board[0][0] == 0:                       \n",
    "            diff = sum([sum([abs(white_chess[k][l] - chk_board[k][l]) for l in range(len(chk_board[0]))]) for k in range(len(chk_board))])            \n",
    "        else:\n",
    "            diff = sum([sum([abs(black_chess[k][l] - chk_board[k][l]) for l in range(len(chk_board[0]))]) for k in range(len(chk_board))])    \n",
    "        \n",
    "        diff_list[i][j] = diff   \n",
    "        \n",
    "print(diff_list)\n",
    "print()\n",
    "print(min([min(x) for x in diff_list]))"
   ]
  }
 ],
 "metadata": {
  "kernelspec": {
   "display_name": "base",
   "language": "python",
   "name": "python3"
  },
  "language_info": {
   "codemirror_mode": {
    "name": "ipython",
    "version": 3
   },
   "file_extension": ".py",
   "mimetype": "text/x-python",
   "name": "python",
   "nbconvert_exporter": "python",
   "pygments_lexer": "ipython3",
   "version": "3.9.12"
  },
  "orig_nbformat": 4
 },
 "nbformat": 4,
 "nbformat_minor": 2
}
