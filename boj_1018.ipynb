{
 "cells": [
  {
   "cell_type": "code",
   "execution_count": 113,
   "metadata": {},
   "outputs": [
    {
     "name": "stdout",
     "output_type": "stream",
     "text": [
      "행수 : 10,  열수 : 13\n"
     ]
    }
   ],
   "source": [
    "import sys\n",
    "with open(\"data/boj_1018.txt\", \"r\") as f:\n",
    "    N, M = map(int, f.readline().split())\n",
    "    \n",
    "    board = [[0] * M for _ in range(N)]\n",
    "    for i in range(N):\n",
    "        row = f.readline()        \n",
    "        for j in range(M):\n",
    "            board[i][j] = row[j]\n",
    "            \n",
    "print(f\"행수 : {len(board)},  열수 : {len(board[0])}\")"
   ]
  },
  {
   "cell_type": "code",
   "execution_count": 114,
   "metadata": {},
   "outputs": [
    {
     "name": "stdout",
     "output_type": "stream",
     "text": [
      "['B', 'B', 'B', 'B', 'B', 'B', 'B', 'B', 'W', 'B', 'W', 'B', 'W']\n",
      "['B', 'B', 'B', 'B', 'B', 'B', 'B', 'B', 'B', 'W', 'B', 'W', 'B']\n",
      "['B', 'B', 'B', 'B', 'B', 'B', 'B', 'B', 'W', 'B', 'W', 'B', 'W']\n",
      "['B', 'B', 'B', 'B', 'B', 'B', 'B', 'B', 'B', 'W', 'B', 'W', 'B']\n",
      "['B', 'B', 'B', 'B', 'B', 'B', 'B', 'B', 'W', 'B', 'W', 'B', 'W']\n",
      "['B', 'B', 'B', 'B', 'B', 'B', 'B', 'B', 'B', 'W', 'B', 'W', 'B']\n",
      "['B', 'B', 'B', 'B', 'B', 'B', 'B', 'B', 'W', 'B', 'W', 'B', 'W']\n",
      "['B', 'B', 'B', 'B', 'B', 'B', 'B', 'B', 'B', 'W', 'B', 'W', 'B']\n",
      "['W', 'W', 'W', 'W', 'W', 'W', 'W', 'W', 'W', 'W', 'B', 'W', 'B']\n",
      "['W', 'W', 'W', 'W', 'W', 'W', 'W', 'W', 'W', 'W', 'B', 'W', 'B']\n"
     ]
    }
   ],
   "source": [
    "for row in board:\n",
    "    print(row)"
   ]
  },
  {
   "cell_type": "code",
   "execution_count": 115,
   "metadata": {},
   "outputs": [
    {
     "data": {
      "text/plain": [
       "[[1, 1, 1, 1, 1, 1, 1, 1, 0, 1, 0, 1, 0],\n",
       " [1, 1, 1, 1, 1, 1, 1, 1, 1, 0, 1, 0, 1],\n",
       " [1, 1, 1, 1, 1, 1, 1, 1, 0, 1, 0, 1, 0],\n",
       " [1, 1, 1, 1, 1, 1, 1, 1, 1, 0, 1, 0, 1],\n",
       " [1, 1, 1, 1, 1, 1, 1, 1, 0, 1, 0, 1, 0],\n",
       " [1, 1, 1, 1, 1, 1, 1, 1, 1, 0, 1, 0, 1],\n",
       " [1, 1, 1, 1, 1, 1, 1, 1, 0, 1, 0, 1, 0],\n",
       " [1, 1, 1, 1, 1, 1, 1, 1, 1, 0, 1, 0, 1],\n",
       " [0, 0, 0, 0, 0, 0, 0, 0, 0, 0, 1, 0, 1],\n",
       " [0, 0, 0, 0, 0, 0, 0, 0, 0, 0, 1, 0, 1]]"
      ]
     },
     "execution_count": 115,
     "metadata": {},
     "output_type": "execute_result"
    }
   ],
   "source": [
    "board = [[0 if board[i][j] == \"W\" else 1 for j in range(len(board[i]))] for i in range(len(board))]\n",
    "board"
   ]
  },
  {
   "cell_type": "code",
   "execution_count": 116,
   "metadata": {},
   "outputs": [],
   "source": [
    "white_row = [0, 1] * 4\n",
    "black_row = [1, 0] * 4\n",
    "\n",
    "white_chess = [white_row, black_row] * 4\n",
    "black_chess = [black_row, white_row] * 4"
   ]
  },
  {
   "cell_type": "code",
   "execution_count": 117,
   "metadata": {},
   "outputs": [
    {
     "data": {
      "text/plain": [
       "[[0, 1, 0, 1, 0, 1, 0, 1],\n",
       " [1, 0, 1, 0, 1, 0, 1, 0],\n",
       " [0, 1, 0, 1, 0, 1, 0, 1],\n",
       " [1, 0, 1, 0, 1, 0, 1, 0],\n",
       " [0, 1, 0, 1, 0, 1, 0, 1],\n",
       " [1, 0, 1, 0, 1, 0, 1, 0],\n",
       " [0, 1, 0, 1, 0, 1, 0, 1],\n",
       " [1, 0, 1, 0, 1, 0, 1, 0]]"
      ]
     },
     "execution_count": 117,
     "metadata": {},
     "output_type": "execute_result"
    }
   ],
   "source": [
    "white_chess"
   ]
  },
  {
   "cell_type": "code",
   "execution_count": 118,
   "metadata": {},
   "outputs": [
    {
     "data": {
      "text/plain": [
       "[[1, 0, 1, 0, 1, 0, 1, 0],\n",
       " [0, 1, 0, 1, 0, 1, 0, 1],\n",
       " [1, 0, 1, 0, 1, 0, 1, 0],\n",
       " [0, 1, 0, 1, 0, 1, 0, 1],\n",
       " [1, 0, 1, 0, 1, 0, 1, 0],\n",
       " [0, 1, 0, 1, 0, 1, 0, 1],\n",
       " [1, 0, 1, 0, 1, 0, 1, 0],\n",
       " [0, 1, 0, 1, 0, 1, 0, 1]]"
      ]
     },
     "execution_count": 118,
     "metadata": {},
     "output_type": "execute_result"
    }
   ],
   "source": [
    "black_chess"
   ]
  },
  {
   "cell_type": "code",
   "execution_count": 123,
   "metadata": {},
   "outputs": [
    {
     "name": "stdout",
     "output_type": "stream",
     "text": [
      "3 6\n"
     ]
    },
    {
     "ename": "IndexError",
     "evalue": "list index out of range",
     "output_type": "error",
     "traceback": [
      "\u001b[1;31m---------------------------------------------------------------------------\u001b[0m",
      "\u001b[1;31mIndexError\u001b[0m                                Traceback (most recent call last)",
      "\u001b[1;32me:\\BAEKJOON_072723\\boj_1018.ipynb Cell 7\u001b[0m in \u001b[0;36m<cell line: 5>\u001b[1;34m()\u001b[0m\n\u001b[0;32m     <a href='vscode-notebook-cell:/e%3A/BAEKJOON_072723/boj_1018.ipynb#X23sZmlsZQ%3D%3D?line=10'>11</a>\u001b[0m     diff \u001b[39m=\u001b[39m \u001b[39msum\u001b[39m([\u001b[39msum\u001b[39m([\u001b[39mabs\u001b[39m(white_chess[k][l] \u001b[39m-\u001b[39m chk_board[k][l]) \u001b[39mfor\u001b[39;00m l \u001b[39min\u001b[39;00m \u001b[39mrange\u001b[39m(\u001b[39mlen\u001b[39m(chk_board[\u001b[39m0\u001b[39m]))]) \u001b[39mfor\u001b[39;00m k \u001b[39min\u001b[39;00m \u001b[39mrange\u001b[39m(\u001b[39mlen\u001b[39m(chk_board))])            \n\u001b[0;32m     <a href='vscode-notebook-cell:/e%3A/BAEKJOON_072723/boj_1018.ipynb#X23sZmlsZQ%3D%3D?line=11'>12</a>\u001b[0m \u001b[39melse\u001b[39;00m:\n\u001b[1;32m---> <a href='vscode-notebook-cell:/e%3A/BAEKJOON_072723/boj_1018.ipynb#X23sZmlsZQ%3D%3D?line=12'>13</a>\u001b[0m     diff \u001b[39m=\u001b[39m \u001b[39msum\u001b[39m([\u001b[39msum\u001b[39m([\u001b[39mabs\u001b[39m(black_chess[k][l] \u001b[39m-\u001b[39m chk_board[k][l]) \u001b[39mfor\u001b[39;00m l \u001b[39min\u001b[39;00m \u001b[39mrange\u001b[39m(\u001b[39mlen\u001b[39m(chk_board[\u001b[39m0\u001b[39m]))]) \u001b[39mfor\u001b[39;00m k \u001b[39min\u001b[39;00m \u001b[39mrange\u001b[39m(\u001b[39mlen\u001b[39m(chk_board))])    \n\u001b[0;32m     <a href='vscode-notebook-cell:/e%3A/BAEKJOON_072723/boj_1018.ipynb#X23sZmlsZQ%3D%3D?line=14'>15</a>\u001b[0m diff_list[i][j] \u001b[39m=\u001b[39m diff\n",
      "\u001b[1;32me:\\BAEKJOON_072723\\boj_1018.ipynb Cell 7\u001b[0m in \u001b[0;36m<listcomp>\u001b[1;34m(.0)\u001b[0m\n\u001b[0;32m     <a href='vscode-notebook-cell:/e%3A/BAEKJOON_072723/boj_1018.ipynb#X23sZmlsZQ%3D%3D?line=10'>11</a>\u001b[0m     diff \u001b[39m=\u001b[39m \u001b[39msum\u001b[39m([\u001b[39msum\u001b[39m([\u001b[39mabs\u001b[39m(white_chess[k][l] \u001b[39m-\u001b[39m chk_board[k][l]) \u001b[39mfor\u001b[39;00m l \u001b[39min\u001b[39;00m \u001b[39mrange\u001b[39m(\u001b[39mlen\u001b[39m(chk_board[\u001b[39m0\u001b[39m]))]) \u001b[39mfor\u001b[39;00m k \u001b[39min\u001b[39;00m \u001b[39mrange\u001b[39m(\u001b[39mlen\u001b[39m(chk_board))])            \n\u001b[0;32m     <a href='vscode-notebook-cell:/e%3A/BAEKJOON_072723/boj_1018.ipynb#X23sZmlsZQ%3D%3D?line=11'>12</a>\u001b[0m \u001b[39melse\u001b[39;00m:\n\u001b[1;32m---> <a href='vscode-notebook-cell:/e%3A/BAEKJOON_072723/boj_1018.ipynb#X23sZmlsZQ%3D%3D?line=12'>13</a>\u001b[0m     diff \u001b[39m=\u001b[39m \u001b[39msum\u001b[39m([\u001b[39msum\u001b[39m([\u001b[39mabs\u001b[39m(black_chess[k][l] \u001b[39m-\u001b[39m chk_board[k][l]) \u001b[39mfor\u001b[39;00m l \u001b[39min\u001b[39;00m \u001b[39mrange\u001b[39m(\u001b[39mlen\u001b[39m(chk_board[\u001b[39m0\u001b[39m]))]) \u001b[39mfor\u001b[39;00m k \u001b[39min\u001b[39;00m \u001b[39mrange\u001b[39m(\u001b[39mlen\u001b[39m(chk_board))])    \n\u001b[0;32m     <a href='vscode-notebook-cell:/e%3A/BAEKJOON_072723/boj_1018.ipynb#X23sZmlsZQ%3D%3D?line=14'>15</a>\u001b[0m diff_list[i][j] \u001b[39m=\u001b[39m diff\n",
      "\u001b[1;32me:\\BAEKJOON_072723\\boj_1018.ipynb Cell 7\u001b[0m in \u001b[0;36m<listcomp>\u001b[1;34m(.0)\u001b[0m\n\u001b[0;32m     <a href='vscode-notebook-cell:/e%3A/BAEKJOON_072723/boj_1018.ipynb#X23sZmlsZQ%3D%3D?line=10'>11</a>\u001b[0m     diff \u001b[39m=\u001b[39m \u001b[39msum\u001b[39m([\u001b[39msum\u001b[39m([\u001b[39mabs\u001b[39m(white_chess[k][l] \u001b[39m-\u001b[39m chk_board[k][l]) \u001b[39mfor\u001b[39;00m l \u001b[39min\u001b[39;00m \u001b[39mrange\u001b[39m(\u001b[39mlen\u001b[39m(chk_board[\u001b[39m0\u001b[39m]))]) \u001b[39mfor\u001b[39;00m k \u001b[39min\u001b[39;00m \u001b[39mrange\u001b[39m(\u001b[39mlen\u001b[39m(chk_board))])            \n\u001b[0;32m     <a href='vscode-notebook-cell:/e%3A/BAEKJOON_072723/boj_1018.ipynb#X23sZmlsZQ%3D%3D?line=11'>12</a>\u001b[0m \u001b[39melse\u001b[39;00m:\n\u001b[1;32m---> <a href='vscode-notebook-cell:/e%3A/BAEKJOON_072723/boj_1018.ipynb#X23sZmlsZQ%3D%3D?line=12'>13</a>\u001b[0m     diff \u001b[39m=\u001b[39m \u001b[39msum\u001b[39m([\u001b[39msum\u001b[39m([\u001b[39mabs\u001b[39m(black_chess[k][l] \u001b[39m-\u001b[39m chk_board[k][l]) \u001b[39mfor\u001b[39;00m l \u001b[39min\u001b[39;00m \u001b[39mrange\u001b[39m(\u001b[39mlen\u001b[39m(chk_board[\u001b[39m0\u001b[39m]))]) \u001b[39mfor\u001b[39;00m k \u001b[39min\u001b[39;00m \u001b[39mrange\u001b[39m(\u001b[39mlen\u001b[39m(chk_board))])    \n\u001b[0;32m     <a href='vscode-notebook-cell:/e%3A/BAEKJOON_072723/boj_1018.ipynb#X23sZmlsZQ%3D%3D?line=14'>15</a>\u001b[0m diff_list[i][j] \u001b[39m=\u001b[39m diff\n",
      "\u001b[1;31mIndexError\u001b[0m: list index out of range"
     ]
    }
   ],
   "source": [
    "row_board_len, col_board_len, row_chess_len, col_chess_len = len(board), len(board[0]), len(white_chess), len(white_chess[0])\n",
    "diff_list = [[0] * (col_board_len - col_chess_len + 1) for _ in range(row_board_len - row_chess_len + 1)]\n",
    "print(len(diff_list), len(diff_list[0]))\n",
    "\n",
    "for i in range(row_board_len - row_chess_len + 1):\n",
    "    for j in range(col_board_len - col_chess_len + 1):\n",
    "        \n",
    "        chk_board = board[i : i+8][j : j+8]\n",
    "     \n",
    "        if chk_board[0][0] == 0:                       \n",
    "            diff = sum([sum([abs(white_chess[k][l] - chk_board[k][l]) for l in range(len(chk_board[0]))]) for k in range(len(chk_board))])            \n",
    "        else:\n",
    "            diff = sum([sum([abs(black_chess[k][l] - chk_board[k][l]) for l in range(len(chk_board[0]))]) for k in range(len(chk_board))])    \n",
    "        \n",
    "        diff_list[i][j] = diff   "
   ]
  },
  {
   "cell_type": "code",
   "execution_count": 101,
   "metadata": {},
   "outputs": [
    {
     "ename": "TypeError",
     "evalue": "unsupported operand type(s) for +: 'int' and 'list'",
     "output_type": "error",
     "traceback": [
      "\u001b[1;31m---------------------------------------------------------------------------\u001b[0m",
      "\u001b[1;31mTypeError\u001b[0m                                 Traceback (most recent call last)",
      "\u001b[1;32me:\\BAEKJOON_072723\\boj_1018.ipynb Cell 9\u001b[0m in \u001b[0;36m<cell line: 2>\u001b[1;34m()\u001b[0m\n\u001b[0;32m      <a href='vscode-notebook-cell:/e%3A/BAEKJOON_072723/boj_1018.ipynb#X22sZmlsZQ%3D%3D?line=0'>1</a>\u001b[0m x, y \u001b[39m=\u001b[39m [[\u001b[39m2\u001b[39m,\u001b[39m3\u001b[39m], [\u001b[39m7\u001b[39m, \u001b[39m2\u001b[39m]], [[\u001b[39m1\u001b[39m,\u001b[39m2\u001b[39m],[\u001b[39m1\u001b[39m,\u001b[39m2\u001b[39m]]\n\u001b[1;32m----> <a href='vscode-notebook-cell:/e%3A/BAEKJOON_072723/boj_1018.ipynb#X22sZmlsZQ%3D%3D?line=1'>2</a>\u001b[0m \u001b[39msum\u001b[39;49m([[(y[i][j] \u001b[39m-\u001b[39;49m x[i][j]) \u001b[39mfor\u001b[39;49;00m j \u001b[39min\u001b[39;49;00m \u001b[39mrange\u001b[39;49m(\u001b[39mlen\u001b[39;49m(y[\u001b[39m0\u001b[39;49m]))] \u001b[39mfor\u001b[39;49;00m i \u001b[39min\u001b[39;49;00m \u001b[39mrange\u001b[39;49m(\u001b[39mlen\u001b[39;49m(y))])\n",
      "\u001b[1;31mTypeError\u001b[0m: unsupported operand type(s) for +: 'int' and 'list'"
     ]
    }
   ],
   "source": [
    "x, y = [[2,3],[7, 2]], [[1,2],[1,2]]\n",
    "sum([[(y[i][j] - x[i][j]) for j in range(len(y[0]))] for i in range(len(y))])"
   ]
  },
  {
   "cell_type": "code",
   "execution_count": 109,
   "metadata": {},
   "outputs": [
    {
     "data": {
      "text/plain": [
       "[[-1, -1], [-6, 0]]"
      ]
     },
     "execution_count": 109,
     "metadata": {},
     "output_type": "execute_result"
    }
   ],
   "source": [
    "[[(y[i][j] - x[i][j]) for j in range(len(y[0]))] for i in range(len(y))]"
   ]
  },
  {
   "cell_type": "code",
   "execution_count": 111,
   "metadata": {},
   "outputs": [
    {
     "data": {
      "text/plain": [
       "-8"
      ]
     },
     "execution_count": 111,
     "metadata": {},
     "output_type": "execute_result"
    }
   ],
   "source": [
    "sum([sum([(y[i][j] - x[i][j]) for j in range(len(y[0]))]) for i in range(len(y))])"
   ]
  }
 ],
 "metadata": {
  "kernelspec": {
   "display_name": "base",
   "language": "python",
   "name": "python3"
  },
  "language_info": {
   "codemirror_mode": {
    "name": "ipython",
    "version": 3
   },
   "file_extension": ".py",
   "mimetype": "text/x-python",
   "name": "python",
   "nbconvert_exporter": "python",
   "pygments_lexer": "ipython3",
   "version": "3.9.12"
  },
  "orig_nbformat": 4
 },
 "nbformat": 4,
 "nbformat_minor": 2
}
