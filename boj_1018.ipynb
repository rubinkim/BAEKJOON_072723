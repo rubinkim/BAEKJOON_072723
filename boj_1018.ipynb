{
 "cells": [
  {
   "cell_type": "code",
   "execution_count": null,
   "metadata": {},
   "outputs": [],
   "source": [
    "N, M = map(int, input().split())\n",
    "board = [[0] * M for _ in range(N)]\n",
    "\n",
    "for i in range(N):\n",
    "    row = input()\n",
    "    for j in range(M):\n",
    "        board[i][j] = row[j]\n",
    "    \n",
    "board = [[0 if board[i][j] == \"W\" else 1 for j in range(len(board[i]))] for i in range(len(board))]\n",
    "    \n",
    "white_row = [0, 1, 0, 1, 0, 1, 0, 1]\n",
    "black_row = [1, 0, 1, 0, 1, 0, 1, 0]\n",
    "\n",
    "white_chess = [white_row, black_row] * 4\n",
    "black_chess = [black_row, white_row] * 4\n",
    "    \n",
    "trial_rows = N - 8 + 1\n",
    "trial_cols = M - 8 + 1\n",
    "\n",
    "white_diffs = [[0] * trial_cols for _ in range(trial_rows)]    \n",
    "black_diffs = [[0] * trial_cols for _ in range(trial_rows)]\n",
    "\n",
    "    \n",
    "for i in range(trial_rows):\n",
    "    for j in range(trial_cols):\n",
    "        for k in range(8):\n",
    "            for l in range(8):\n",
    "                if white_chess[k][l] != board[i+k][j+l]:\n",
    "                    white_diffs[i][j] += 1\n",
    "                if black_chess[k][l] != board[i+k][j+l]:\n",
    "                    black_diffs[i][j] += 1\n",
    "                    \n",
    "white_min = min([min(x) for x in white_diffs])\n",
    "black_min = min([min(x) for x in black_diffs])\n",
    "overall_min = min(white_min, black_min)\n",
    "\n",
    "print(overall_min)"
   ]
  }
 ],
 "metadata": {
  "kernelspec": {
   "display_name": "base",
   "language": "python",
   "name": "python3"
  },
  "language_info": {
   "codemirror_mode": {
    "name": "ipython",
    "version": 3
   },
   "file_extension": ".py",
   "mimetype": "text/x-python",
   "name": "python",
   "nbconvert_exporter": "python",
   "pygments_lexer": "ipython3",
   "version": "3.9.12"
  },
  "orig_nbformat": 4
 },
 "nbformat": 4,
 "nbformat_minor": 2
}
