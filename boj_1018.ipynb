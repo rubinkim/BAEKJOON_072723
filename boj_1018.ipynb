{
 "cells": [
  {
   "cell_type": "code",
   "execution_count": 86,
   "metadata": {},
   "outputs": [
    {
     "name": "stdout",
     "output_type": "stream",
     "text": [
      "행수 : 10,  열수 : 13\n"
     ]
    }
   ],
   "source": [
    "import sys\n",
    "with open(\"data/boj_1018.txt\", \"r\") as f:\n",
    "    N, M = map(int, f.readline().split())\n",
    "    \n",
    "    board = [[0] * M for _ in range(N)]\n",
    "    for i in range(N):\n",
    "        row = f.readline()        \n",
    "        for j in range(M):\n",
    "            board[i][j] = row[j]\n",
    "            \n",
    "print(f\"행수 : {len(board)},  열수 : {len(board[0])}\")"
   ]
  },
  {
   "cell_type": "code",
   "execution_count": 87,
   "metadata": {},
   "outputs": [
    {
     "name": "stdout",
     "output_type": "stream",
     "text": [
      "['B', 'B', 'B', 'B', 'B', 'B', 'B', 'B', 'W', 'B', 'W', 'B', 'W']\n",
      "['B', 'B', 'B', 'B', 'B', 'B', 'B', 'B', 'B', 'W', 'B', 'W', 'B']\n",
      "['B', 'B', 'B', 'B', 'B', 'B', 'B', 'B', 'W', 'B', 'W', 'B', 'W']\n",
      "['B', 'B', 'B', 'B', 'B', 'B', 'B', 'B', 'B', 'W', 'B', 'W', 'B']\n",
      "['B', 'B', 'B', 'B', 'B', 'B', 'B', 'B', 'W', 'B', 'W', 'B', 'W']\n",
      "['B', 'B', 'B', 'B', 'B', 'B', 'B', 'B', 'B', 'W', 'B', 'W', 'B']\n",
      "['B', 'B', 'B', 'B', 'B', 'B', 'B', 'B', 'W', 'B', 'W', 'B', 'W']\n",
      "['B', 'B', 'B', 'B', 'B', 'B', 'B', 'B', 'B', 'W', 'B', 'W', 'B']\n",
      "['W', 'W', 'W', 'W', 'W', 'W', 'W', 'W', 'W', 'W', 'B', 'W', 'B']\n",
      "['W', 'W', 'W', 'W', 'W', 'W', 'W', 'W', 'W', 'W', 'B', 'W', 'B']\n"
     ]
    }
   ],
   "source": [
    "for row in board:\n",
    "    print(row)"
   ]
  },
  {
   "cell_type": "code",
   "execution_count": 88,
   "metadata": {},
   "outputs": [
    {
     "data": {
      "text/plain": [
       "[[1, 1, 1, 1, 1, 1, 1, 1, 0, 1, 0, 1, 0],\n",
       " [1, 1, 1, 1, 1, 1, 1, 1, 1, 0, 1, 0, 1],\n",
       " [1, 1, 1, 1, 1, 1, 1, 1, 0, 1, 0, 1, 0],\n",
       " [1, 1, 1, 1, 1, 1, 1, 1, 1, 0, 1, 0, 1],\n",
       " [1, 1, 1, 1, 1, 1, 1, 1, 0, 1, 0, 1, 0],\n",
       " [1, 1, 1, 1, 1, 1, 1, 1, 1, 0, 1, 0, 1],\n",
       " [1, 1, 1, 1, 1, 1, 1, 1, 0, 1, 0, 1, 0],\n",
       " [1, 1, 1, 1, 1, 1, 1, 1, 1, 0, 1, 0, 1],\n",
       " [0, 0, 0, 0, 0, 0, 0, 0, 0, 0, 1, 0, 1],\n",
       " [0, 0, 0, 0, 0, 0, 0, 0, 0, 0, 1, 0, 1]]"
      ]
     },
     "execution_count": 88,
     "metadata": {},
     "output_type": "execute_result"
    }
   ],
   "source": [
    "board = [[0 if board[i][j] == \"W\" else 1 for j in range(len(board[i]))] for i in range(len(board))]\n",
    "board"
   ]
  },
  {
   "cell_type": "code",
   "execution_count": null,
   "metadata": {},
   "outputs": [],
   "source": [
    "row_len, col_len = len(board), len(board[0])\n",
    "\n",
    "white_chess = \n",
    "\n",
    "for i in range(row_len+1):\n",
    "    for j in range(col_len+1):\n",
    "        chk_board = board[i:i+8][j:j+8]\n",
    "        if chk_board[0][0] == 0:\n",
    "            "
   ]
  },
  {
   "cell_type": "code",
   "execution_count": 94,
   "metadata": {},
   "outputs": [],
   "source": [
    "white_row = [0, 1] * 4\n",
    "black_row = [1, 0] * 4\n",
    "\n",
    "white_chess = [white_row, black_row] * 4\n",
    "black_chess = [black_row, white_row] * 4"
   ]
  },
  {
   "cell_type": "code",
   "execution_count": 91,
   "metadata": {},
   "outputs": [
    {
     "data": {
      "text/plain": [
       "[[0, 1, 0, 1, 0, 1, 0, 1],\n",
       " [1, 0, 1, 0, 1, 0, 1, 0],\n",
       " [0, 1, 0, 1, 0, 1, 0, 1],\n",
       " [1, 0, 1, 0, 1, 0, 1, 0],\n",
       " [0, 1, 0, 1, 0, 1, 0, 1],\n",
       " [1, 0, 1, 0, 1, 0, 1, 0],\n",
       " [0, 1, 0, 1, 0, 1, 0, 1],\n",
       " [1, 0, 1, 0, 1, 0, 1, 0]]"
      ]
     },
     "execution_count": 91,
     "metadata": {},
     "output_type": "execute_result"
    }
   ],
   "source": [
    "white_chess"
   ]
  }
 ],
 "metadata": {
  "kernelspec": {
   "display_name": "base",
   "language": "python",
   "name": "python3"
  },
  "language_info": {
   "codemirror_mode": {
    "name": "ipython",
    "version": 3
   },
   "file_extension": ".py",
   "mimetype": "text/x-python",
   "name": "python",
   "nbconvert_exporter": "python",
   "pygments_lexer": "ipython3",
   "version": "3.9.12"
  },
  "orig_nbformat": 4
 },
 "nbformat": 4,
 "nbformat_minor": 2
}
