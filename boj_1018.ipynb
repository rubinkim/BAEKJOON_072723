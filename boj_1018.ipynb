{
 "cells": [
  {
   "cell_type": "code",
   "execution_count": 48,
   "metadata": {},
   "outputs": [
    {
     "name": "stdout",
     "output_type": "stream",
     "text": [
      "8 8\n"
     ]
    }
   ],
   "source": [
    "import sys\n",
    "fast_input = open(\"data/boj_1018.txt\", \"r\")\n",
    "N, M = map(int, fast_input.readline().split())\n",
    "print(N, M)\n",
    "print()\n",
    "\n",
    "board = [[0] * M for _ in range(N)]\n",
    "\n"
   ]
  },
  {
   "cell_type": "code",
   "execution_count": 72,
   "metadata": {},
   "outputs": [],
   "source": [
    "import sys\n",
    "with open(\"data/boj_1018.txt\", \"r\") as f:\n",
    "    N, M = map(int, f.readline().split())\n",
    "    \n",
    "    board = [[0] * M for _ in range(N)]\n",
    "    for i in range(N):\n",
    "        row = f.readline()        \n",
    "        for j in range(M):\n",
    "            board[i][j] = row[j]"
   ]
  },
  {
   "cell_type": "code",
   "execution_count": 74,
   "metadata": {},
   "outputs": [
    {
     "data": {
      "text/plain": [
       "[['W', 'B', 'W', 'B', 'W', 'B', 'W', 'B'],\n",
       " ['B', 'W', 'B', 'W', 'B', 'W', 'B', 'W'],\n",
       " ['W', 'B', 'W', 'B', 'W', 'B', 'W', 'B'],\n",
       " ['B', 'W', 'B', 'B', 'B', 'W', 'B', 'W'],\n",
       " ['W', 'B', 'W', 'B', 'W', 'B', 'W', 'B'],\n",
       " ['B', 'W', 'B', 'W', 'B', 'W', 'B', 'W'],\n",
       " ['W', 'B', 'W', 'B', 'W', 'B', 'W', 'B'],\n",
       " ['B', 'W', 'B', 'W', 'B', 'W', 'B', 'W']]"
      ]
     },
     "execution_count": 74,
     "metadata": {},
     "output_type": "execute_result"
    }
   ],
   "source": [
    "board"
   ]
  },
  {
   "cell_type": "code",
   "execution_count": 75,
   "metadata": {},
   "outputs": [
    {
     "data": {
      "text/plain": [
       "[[0, 1, 0, 1, 0, 1, 0, 1],\n",
       " [1, 0, 1, 0, 1, 0, 1, 0],\n",
       " [0, 1, 0, 1, 0, 1, 0, 1],\n",
       " [1, 0, 1, 1, 1, 0, 1, 0],\n",
       " [0, 1, 0, 1, 0, 1, 0, 1],\n",
       " [1, 0, 1, 0, 1, 0, 1, 0],\n",
       " [0, 1, 0, 1, 0, 1, 0, 1],\n",
       " [1, 0, 1, 0, 1, 0, 1, 0]]"
      ]
     },
     "execution_count": 75,
     "metadata": {},
     "output_type": "execute_result"
    }
   ],
   "source": [
    "board = [[0 if board[i][j] == \"W\" else 1 for j in range(len(board[i]))] for i in range(len(board))]\n",
    "board"
   ]
  }
 ],
 "metadata": {
  "kernelspec": {
   "display_name": "base",
   "language": "python",
   "name": "python3"
  },
  "language_info": {
   "codemirror_mode": {
    "name": "ipython",
    "version": 3
   },
   "file_extension": ".py",
   "mimetype": "text/x-python",
   "name": "python",
   "nbconvert_exporter": "python",
   "pygments_lexer": "ipython3",
   "version": "3.9.12"
  },
  "orig_nbformat": 4
 },
 "nbformat": 4,
 "nbformat_minor": 2
}
