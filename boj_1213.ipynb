{
 "cells": [
  {
   "cell_type": "code",
   "execution_count": 30,
   "metadata": {},
   "outputs": [
    {
     "name": "stdout",
     "output_type": "stream",
     "text": [
      "AABBA\n"
     ]
    }
   ],
   "source": [
    "import heapq\n",
    "\n",
    "pq = []\n",
    "\n",
    "for ch in input():  # ABACABA\n",
    "    heapq.heappush(pq, ch)\n",
    "    \n",
    "#print(f\"size : {len(pq)}\")\n",
    "\n",
    "front_list, rear_list = [], []\n",
    "\n",
    "for i in range(len(pq)):\n",
    "    if i % 2 == 0:\n",
    "        #print(f\"첫번째 i : {i}\")\n",
    "        front_list.append(heapq.heappop(pq))\n",
    "    else:\n",
    "        #print(f\"두번째 i : {i}\")\n",
    "        rear_list.append(heapq.heappop(pq))\n",
    "        \n",
    "if len(front_list) == len(rear_list):\n",
    "    if front_list == rear_list:\n",
    "        print(\"\".join(front_list + sorted(rear_list, reverse=True)))\n",
    "    else:\n",
    "        print(\"I'm Sorry Hansoo\")\n",
    "        \n",
    "else:\n",
    "    if front_list[:-1] == rear_list or front_list[1:] == rear_list:\n",
    "        print(\"\".join(front_list + sorted(rear_list, reverse=True)))\n",
    "    else:\n",
    "        print(\"I'm Sorry Hansoo\")\n",
    "    "
   ]
  },
  {
   "cell_type": "code",
   "execution_count": 35,
   "metadata": {},
   "outputs": [
    {
     "name": "stdout",
     "output_type": "stream",
     "text": [
      "I'm Sorry Hansoo\n"
     ]
    }
   ],
   "source": [
    "import heapq\n",
    "\n",
    "pq = []\n",
    "\n",
    "for ch in input():  # ABACABA\n",
    "    heapq.heappush(pq, ch)\n",
    "    \n",
    "#print(f\"size : {len(pq)}\")\n",
    "\n",
    "front_list, rear_list = [], []\n",
    "\n",
    "for i in range(len(pq)):\n",
    "    if i % 2 == 0:\n",
    "        #print(f\"첫번째 i : {i}\")\n",
    "        front_list.append(heapq.heappop(pq))\n",
    "    else:\n",
    "        #print(f\"두번째 i : {i}\")\n",
    "        rear_list.append(heapq.heappop(pq))\n",
    "        \n",
    "if len(front_list) == len(rear_list):\n",
    "    if front_list == rear_list:\n",
    "        print(\"\".join(front_list + sorted(rear_list, reverse=True)))\n",
    "    else:\n",
    "        print(\"I'm Sorry Hansoo\")\n",
    "        \n",
    "else:\n",
    "    if front_list[1:] == rear_list:\n",
    "        print(\"\".join(front_list[1:] + [front_list[0]] + sorted(rear_list, reverse=True)))\n",
    "        \n",
    "    elif front_list[:-1] == rear_list:\n",
    "        print(\"\".join(front_list + sorted(rear_list, reverse=True)))\n",
    "    \n",
    "    else:\n",
    "        print(\"I'm Sorry Hansoo\")\n",
    "    "
   ]
  },
  {
   "cell_type": "code",
   "execution_count": 36,
   "metadata": {},
   "outputs": [
    {
     "name": "stdout",
     "output_type": "stream",
     "text": [
      "['A', 'B', 'C', 'C', 'D']\n",
      "['A', 'B', 'C', 'D']\n"
     ]
    }
   ],
   "source": [
    "# AAABB\n",
    "# ABABA\n",
    "print(front_list)\n",
    "print(rear_list)"
   ]
  },
  {
   "cell_type": "markdown",
   "metadata": {},
   "source": [
    "##### 정답"
   ]
  },
  {
   "cell_type": "code",
   "execution_count": 2,
   "metadata": {},
   "outputs": [],
   "source": [
    "c = {}\n",
    "s = input()\n",
    "\n",
    "if sum(i % 2 for i in c.values()) > 1:  # 개수가 홀수인 알파벳이 몇개인가?\n",
    "    print(\"I'm Sorry Hansoo\")\n",
    "    \n",
    "else:\n",
    "    half = \"\"\n",
    "    for k, v in sorted(c.items()):\n",
    "        half += k * (v // 2)\n",
    "    ans = half\n",
    "    \n",
    "    for k, v in c.items():\n",
    "        if v % 2:  # 알파벳 k가 홀수개라면\n",
    "            ans += v\n",
    "            break\n",
    "    \n",
    "    ans += \"\".join(reversed(half))\n",
    "    print(ans)"
   ]
  }
 ],
 "metadata": {
  "kernelspec": {
   "display_name": "base",
   "language": "python",
   "name": "python3"
  },
  "language_info": {
   "codemirror_mode": {
    "name": "ipython",
    "version": 3
   },
   "file_extension": ".py",
   "mimetype": "text/x-python",
   "name": "python",
   "nbconvert_exporter": "python",
   "pygments_lexer": "ipython3",
   "version": "3.9.12"
  },
  "orig_nbformat": 4
 },
 "nbformat": 4,
 "nbformat_minor": 2
}
