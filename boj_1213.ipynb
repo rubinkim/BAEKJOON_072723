{
 "cells": [
  {
   "cell_type": "code",
   "execution_count": 13,
   "metadata": {},
   "outputs": [
    {
     "name": "stdout",
     "output_type": "stream",
     "text": [
      "AABCGCBAA\n"
     ]
    }
   ],
   "source": [
    "import heapq\n",
    "\n",
    "pq = []\n",
    "\n",
    "for ch in input():  # ABACABA\n",
    "    heapq.heappush(pq, ch)\n",
    "    \n",
    "print(f\"size : {len(pq)}\")\n",
    "\n",
    "front_list, rear_list = [], []\n",
    "\n",
    "for i in range(len(pq)):\n",
    "    if i % 2 == 0:\n",
    "        #print(f\"첫번째 i : {i}\")\n",
    "        front_list.append(heapq.heappop(pq))\n",
    "    else:\n",
    "        #print(f\"두번째 i : {i}\")\n",
    "        rear_list.append(heapq.heappop(pq))\n",
    "        \n",
    "if len(front_list) == len(rear_list):\n",
    "    if front_list == rear_list:\n",
    "        print(\"\".join(front_list + sorted(rear_list, reverse=True)))\n",
    "    else:\n",
    "        print(\"I'm Sorry Hansoo\")\n",
    "        \n",
    "else:\n",
    "    if front_list[:-1] == rear_list:\n",
    "        print(\"\".join(front_list + sorted(rear_list, reverse=True)))\n",
    "    else:\n",
    "        print(\"I'm Sorry Hansoo\")\n",
    "    "
   ]
  },
  {
   "cell_type": "code",
   "execution_count": 5,
   "metadata": {},
   "outputs": [
    {
     "name": "stdout",
     "output_type": "stream",
     "text": [
      "['A', 'A', 'B', 'C', 'G']\n",
      "['A', 'A', 'B', 'C']\n"
     ]
    }
   ],
   "source": [
    "# ABACABACG\n",
    "print(front_list)\n",
    "print(rear_list)"
   ]
  },
  {
   "cell_type": "code",
   "execution_count": 9,
   "metadata": {},
   "outputs": [
    {
     "data": {
      "text/plain": [
       "True"
      ]
     },
     "execution_count": 9,
     "metadata": {},
     "output_type": "execute_result"
    }
   ],
   "source": [
    "front_list[:-1] == rear_list"
   ]
  },
  {
   "cell_type": "code",
   "execution_count": 6,
   "metadata": {},
   "outputs": [
    {
     "data": {
      "text/plain": [
       "'AABCGCBAA'"
      ]
     },
     "execution_count": 6,
     "metadata": {},
     "output_type": "execute_result"
    }
   ],
   "source": [
    "\"\".join(front_list + sorted(rear_list, reverse=True))"
   ]
  },
  {
   "cell_type": "code",
   "execution_count": 7,
   "metadata": {},
   "outputs": [
    {
     "data": {
      "text/plain": [
       "True"
      ]
     },
     "execution_count": 7,
     "metadata": {},
     "output_type": "execute_result"
    }
   ],
   "source": [
    "a = ['a', 'b', 'c']\n",
    "b = ['a', 'b', 'c']\n",
    "\n",
    "a == b"
   ]
  }
 ],
 "metadata": {
  "kernelspec": {
   "display_name": "base",
   "language": "python",
   "name": "python3"
  },
  "language_info": {
   "codemirror_mode": {
    "name": "ipython",
    "version": 3
   },
   "file_extension": ".py",
   "mimetype": "text/x-python",
   "name": "python",
   "nbconvert_exporter": "python",
   "pygments_lexer": "ipython3",
   "version": "3.9.12"
  },
  "orig_nbformat": 4
 },
 "nbformat": 4,
 "nbformat_minor": 2
}
