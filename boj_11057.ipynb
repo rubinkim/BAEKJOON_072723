{
 "cells": [
  {
   "cell_type": "markdown",
   "metadata": {},
   "source": [
    "##### binomial coefficient<br>bino(n,0) = bino(n,n) = 1<br>bino(n,r) = bino(n-1, r-1) + bino(n-1, r)"
   ]
  },
  {
   "cell_type": "code",
   "execution_count": 14,
   "metadata": {},
   "outputs": [
    {
     "data": {
      "text/plain": [
       "[[1, 1],\n",
       " [1, -1, 1],\n",
       " [1, -1, -1, 1],\n",
       " [1, -1, -1, -1, 1],\n",
       " [1, -1, -1, -1, -1, 1]]"
      ]
     },
     "execution_count": 14,
     "metadata": {},
     "output_type": "execute_result"
    }
   ],
   "source": [
    "N, K = map(int, input().split())\n",
    "cnt = 0\n",
    "\n",
    "cache = [[-1] * (N+1) for N in range(1, N+1)]\n",
    "\n",
    "for i in range(len(cache)):\n",
    "    for j in range(len(cache[i])):\n",
    "        cache[i][0] = cache[i][-1] = 1\n",
    "        \n",
    "cache"
   ]
  },
  {
   "cell_type": "code",
   "execution_count": 34,
   "metadata": {},
   "outputs": [],
   "source": [
    "def bino(N, K):\n",
    "    global cnt\n",
    "    cnt += 1\n",
    "    \n",
    "    if cache[N-1][K] == -1:\n",
    "        cache[N-1][K] = bino(N-1, K-1) + bino(N-1, K)\n",
    "        #print(f\"N : {N},  K : {K}\")\n",
    "    \n",
    "    return cache[N-1][K]"
   ]
  },
  {
   "cell_type": "code",
   "execution_count": 36,
   "metadata": {},
   "outputs": [
    {
     "data": {
      "text/plain": [
       "10"
      ]
     },
     "execution_count": 36,
     "metadata": {},
     "output_type": "execute_result"
    }
   ],
   "source": [
    "bino(N, K)"
   ]
  },
  {
   "cell_type": "code",
   "execution_count": 28,
   "metadata": {},
   "outputs": [
    {
     "data": {
      "text/plain": [
       "[[1, 1],\n",
       " [1, -1, 1],\n",
       " [1, -1, -1, 1],\n",
       " [1, -1, -1, -1, 1],\n",
       " [1, -1, -1, -1, -1, 1]]"
      ]
     },
     "execution_count": 28,
     "metadata": {},
     "output_type": "execute_result"
    }
   ],
   "source": [
    "cache"
   ]
  },
  {
   "cell_type": "code",
   "execution_count": 33,
   "metadata": {},
   "outputs": [
    {
     "name": "stdout",
     "output_type": "stream",
     "text": [
      "[[1, 1], [1, -1, 1], [1, -1, 3, 1], [1, -1, -1, -1, 1], [1, -1, -1, -1, -1, 1]]\n"
     ]
    }
   ],
   "source": [
    "cache[2][2] = 3\n",
    "print(cache)\n"
   ]
  }
 ],
 "metadata": {
  "kernelspec": {
   "display_name": "base",
   "language": "python",
   "name": "python3"
  },
  "language_info": {
   "codemirror_mode": {
    "name": "ipython",
    "version": 3
   },
   "file_extension": ".py",
   "mimetype": "text/x-python",
   "name": "python",
   "nbconvert_exporter": "python",
   "pygments_lexer": "ipython3",
   "version": "3.9.12"
  },
  "orig_nbformat": 4
 },
 "nbformat": 4,
 "nbformat_minor": 2
}
