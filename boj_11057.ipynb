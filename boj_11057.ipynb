{
 "cells": [
  {
   "cell_type": "markdown",
   "metadata": {},
   "source": [
    "##### binomial coefficient<br>bino(n,0) = bino(n,n) = 1<br>bino(n,r) = bino(n-1, r-1) + bino(n-1, r)"
   ]
  },
  {
   "cell_type": "code",
   "execution_count": 53,
   "metadata": {},
   "outputs": [
    {
     "data": {
      "text/plain": [
       "[[1, 1],\n",
       " [1, -1, 1],\n",
       " [1, -1, -1, 1],\n",
       " [1, -1, -1, -1, 1],\n",
       " [1, -1, -1, -1, -1, 1],\n",
       " [1, -1, -1, -1, -1, -1, 1],\n",
       " [1, -1, -1, -1, -1, -1, -1, 1],\n",
       " [1, -1, -1, -1, -1, -1, -1, -1, 1],\n",
       " [1, -1, -1, -1, -1, -1, -1, -1, -1, 1],\n",
       " [1, -1, -1, -1, -1, -1, -1, -1, -1, -1, 1]]"
      ]
     },
     "execution_count": 53,
     "metadata": {},
     "output_type": "execute_result"
    }
   ],
   "source": [
    "N, K = map(int, input().split())\n",
    "cnt = 0\n",
    "\n",
    "cache = [[-1] * (i+1) for i in range(1, N+1)]\n",
    "\n",
    "for i in range(len(cache)):\n",
    "    for j in range(len(cache[i])):\n",
    "        cache[i][0] = cache[i][-1] = 1\n",
    "        \n",
    "cache"
   ]
  },
  {
   "cell_type": "code",
   "execution_count": 65,
   "metadata": {},
   "outputs": [
    {
     "data": {
      "text/plain": [
       "[[1],\n",
       " [1, 1],\n",
       " [1, -1, 1],\n",
       " [1, -1, -1, 1],\n",
       " [1, -1, -1, -1, 1],\n",
       " [1, -1, -1, -1, -1, 1],\n",
       " [1, -1, -1, -1, -1, -1, 1],\n",
       " [1, -1, -1, -1, -1, -1, -1, 1],\n",
       " [1, -1, -1, -1, -1, -1, -1, -1, 1],\n",
       " [1, -1, -1, -1, -1, -1, -1, -1, -1, 1],\n",
       " [1, -1, -1, -1, -1, -1, -1, -1, -1, -1, 1]]"
      ]
     },
     "execution_count": 65,
     "metadata": {},
     "output_type": "execute_result"
    }
   ],
   "source": [
    "N, K = map(int, input().split())\n",
    "cnt = 0\n",
    "\n",
    "cache = [[-1] * (i+1) for i in range(N+1)]\n",
    "cache[0][0] = 1\n",
    "\n",
    "for i in range(len(cache)):\n",
    "    for j in range(len(cache[i])):\n",
    "        cache[i][0] = cache[i][-1] = 1\n",
    "        \n",
    "cache"
   ]
  },
  {
   "cell_type": "code",
   "execution_count": 66,
   "metadata": {},
   "outputs": [
    {
     "name": "stdout",
     "output_type": "stream",
     "text": [
      "120\n",
      "120\n"
     ]
    }
   ],
   "source": [
    "def bino(N, K):\n",
    "    global cnt\n",
    "    cnt += 1\n",
    "    \n",
    "    if cache[N][K] == -1:\n",
    "        cache[N][K] = bino(N-1, K-1) + bino(N-1, K)\n",
    "        #print(f\"N : {N},  K : {K}\")\n",
    "    \n",
    "    return cache[N][K]\n",
    "\n",
    "print(bino(N, K))\n",
    "print(bino(N, K) % 10007)"
   ]
  },
  {
   "cell_type": "code",
   "execution_count": 50,
   "metadata": {},
   "outputs": [
    {
     "name": "stdout",
     "output_type": "stream",
     "text": [
      "657800\n",
      "7345\n"
     ]
    }
   ],
   "source": [
    "N, K = map(int, input().split())\n",
    "cnt = 0\n",
    "\n",
    "cache = [[-1] * (i+1) for i in range(1, N+1)]\n",
    "\n",
    "for i in range(len(cache)):\n",
    "    for j in range(len(cache[i])):\n",
    "        cache[i][0] = cache[i][-1] = 1\n",
    "        \n",
    "def bino(N, K):\n",
    "    global cnt\n",
    "    cnt += 1\n",
    "    \n",
    "    if cache[N-1][K] == -1:\n",
    "        cache[N-1][K] = bino(N-1, K-1) + bino(N-1, K)\n",
    "        #print(f\"N : {N},  K : {K}\")\n",
    "    \n",
    "    return cache[N-1][K]\n",
    "\n",
    "print(bino(N, K))\n",
    "print(bino(N, K) % 10007)"
   ]
  },
  {
   "cell_type": "code",
   "execution_count": null,
   "metadata": {},
   "outputs": [],
   "source": [
    "N, K = map(int, input().split())\n",
    "cnt = 0\n",
    "\n",
    "cache = [[-1] * (N+1) for i in range(N+1)]\n",
    "\n",
    "for i in range(len(cache)):\n",
    "    for j in range(len(cache[i])):\n",
    "        cache[i][0] = cache[i][-1] = 1\n",
    "        \n",
    "def bino(N, K):\n",
    "    global cnt\n",
    "    cnt += 1\n",
    "    \n",
    "    if cache[N-1][K] == -1:\n",
    "        cache[N-1][K] = bino(N-1, K-1) + bino(N-1, K)\n",
    "        #print(f\"N : {N},  K : {K}\")\n",
    "    \n",
    "    return cache[N-1][K]\n",
    "\n",
    "print(bino(N, K))\n",
    "print(bino(N, K) % 10007)"
   ]
  },
  {
   "cell_type": "code",
   "execution_count": 49,
   "metadata": {},
   "outputs": [
    {
     "name": "stdout",
     "output_type": "stream",
     "text": [
      "[1, 1]\n",
      "[1, 2, 1]\n",
      "[1, 3, 3, 1]\n",
      "[1, 4, 6, 4, 1]\n",
      "[1, 5, 10, 10, 5, 1]\n",
      "[1, 6, 15, 20, 15, 6, 1]\n",
      "[1, 7, 21, 35, 35, 21, 7, 1]\n",
      "[1, 8, 28, 56, 70, 56, 28, 8, 1]\n",
      "[1, -1, 36, 84, 126, 126, 84, 36, 9, 1]\n",
      "[1, -1, -1, 120, 210, 252, 210, 120, 45, 10, 1]\n",
      "[1, -1, -1, -1, 330, 462, 462, 330, 165, 55, 11, 1]\n",
      "[1, -1, -1, -1, -1, 792, 924, 792, 495, 220, 66, 12, 1]\n",
      "[1, -1, -1, -1, -1, -1, 1716, 1716, 1287, 715, 286, 78, 13, 1]\n",
      "[1, -1, -1, -1, -1, -1, -1, 3432, 3003, 2002, 1001, 364, 91, 14, 1]\n",
      "[1, -1, -1, -1, -1, -1, -1, -1, 6435, 5005, 3003, 1365, 455, 105, 15, 1]\n",
      "[1, -1, -1, -1, -1, -1, -1, -1, -1, 11440, 8008, 4368, 1820, 560, 120, 16, 1]\n",
      "[1, -1, -1, -1, -1, -1, -1, -1, -1, -1, 19448, 12376, 6188, 2380, 680, 136, 17, 1]\n",
      "[1, -1, -1, -1, -1, -1, -1, -1, -1, -1, -1, 31824, 18564, 8568, 3060, 816, 153, 18, 1]\n",
      "[1, -1, -1, -1, -1, -1, -1, -1, -1, -1, -1, -1, 50388, 27132, 11628, 3876, 969, 171, 19, 1]\n",
      "[1, -1, -1, -1, -1, -1, -1, -1, -1, -1, -1, -1, -1, 77520, 38760, 15504, 4845, 1140, 190, 20, 1]\n",
      "[1, -1, -1, -1, -1, -1, -1, -1, -1, -1, -1, -1, -1, -1, 116280, 54264, 20349, 5985, 1330, 210, -1, 1]\n",
      "[1, -1, -1, -1, -1, -1, -1, -1, -1, -1, -1, -1, -1, -1, -1, 170544, 74613, 26334, 7315, 1540, -1, -1, 1]\n",
      "[1, -1, -1, -1, -1, -1, -1, -1, -1, -1, -1, -1, -1, -1, -1, -1, 245157, 100947, 33649, 8855, -1, -1, -1, 1]\n",
      "[1, -1, -1, -1, -1, -1, -1, -1, -1, -1, -1, -1, -1, -1, -1, -1, -1, 346104, 134596, 42504, -1, -1, -1, -1, 1]\n",
      "[1, -1, -1, -1, -1, -1, -1, -1, -1, -1, -1, -1, -1, -1, -1, -1, -1, -1, 480700, 177100, -1, -1, -1, -1, -1, 1]\n",
      "[1, -1, -1, -1, -1, -1, -1, -1, -1, -1, -1, -1, -1, -1, -1, -1, -1, -1, -1, 657800, -1, -1, -1, -1, -1, -1, 1]\n"
     ]
    }
   ],
   "source": [
    "for c in cache:\n",
    "    print(c)\n",
    "    "
   ]
  },
  {
   "cell_type": "code",
   "execution_count": 41,
   "metadata": {},
   "outputs": [],
   "source": [
    "def bino(N, K):\n",
    "    global cnt\n",
    "    cnt += 1\n",
    "    \n",
    "    if cache[N-1][K] == -1:\n",
    "        cache[N-1][K] = bino(N-1, K-1) + bino(N-1, K)\n",
    "        #print(f\"N : {N},  K : {K}\")\n",
    "    \n",
    "    return cache[N-1][K]"
   ]
  },
  {
   "cell_type": "code",
   "execution_count": 42,
   "metadata": {},
   "outputs": [
    {
     "data": {
      "text/plain": [
       "57344583780044832879702134659486243027220259850169317628852668088727781498305894549474369545593587030330833998956570698717897592941240866306636873720682449524189094252226399240307643383034268419374901148088"
      ]
     },
     "execution_count": 42,
     "metadata": {},
     "output_type": "execute_result"
    }
   ],
   "source": [
    "bino(N, K)"
   ]
  },
  {
   "cell_type": "code",
   "execution_count": 28,
   "metadata": {},
   "outputs": [
    {
     "data": {
      "text/plain": [
       "[[1, 1],\n",
       " [1, -1, 1],\n",
       " [1, -1, -1, 1],\n",
       " [1, -1, -1, -1, 1],\n",
       " [1, -1, -1, -1, -1, 1]]"
      ]
     },
     "execution_count": 28,
     "metadata": {},
     "output_type": "execute_result"
    }
   ],
   "source": [
    "cache"
   ]
  },
  {
   "cell_type": "code",
   "execution_count": 33,
   "metadata": {},
   "outputs": [
    {
     "name": "stdout",
     "output_type": "stream",
     "text": [
      "[[1, 1], [1, -1, 1], [1, -1, 3, 1], [1, -1, -1, -1, 1], [1, -1, -1, -1, -1, 1]]\n"
     ]
    }
   ],
   "source": [
    "cache[2][2] = 3\n",
    "print(cache)\n"
   ]
  },
  {
   "cell_type": "code",
   "execution_count": 71,
   "metadata": {},
   "outputs": [
    {
     "name": "stdout",
     "output_type": "stream",
     "text": [
      "5418\n",
      "270288240945436569515614693625975275496152008446548287007392875106625428705522193898612483924502370165362606085021546104802209750050679917549894219699518475423665484263751733356162464079737887344364574161119497604571044985756287880514600994219426752366915856603136862602484428109296905863799821216320\n"
     ]
    }
   ],
   "source": [
    "import sys\n",
    "sys.setrecursionlimit(10 ** 7)\n",
    "\n",
    "MOD = 10007\n",
    "\n",
    "N, K = map(int, input().split())\n",
    "\n",
    "cache = [[0] * 1001 for _ in range(1001)]\n",
    "\n",
    "def bino(n, k):\n",
    "    if cache[n][k]:\n",
    "        return cache[n][k]\n",
    "    \n",
    "    if k == 0 or k == n:\n",
    "        cache[n][k] = 1\n",
    "    else:\n",
    "        cache[n][k] = bino(n-1, k-1) + bino(n-1, k)\n",
    "        \n",
    "    return cache[n][k]\n",
    "\n",
    "print(bino(N, K) % MOD)\n",
    "print(bino(N, K))"
   ]
  }
 ],
 "metadata": {
  "kernelspec": {
   "display_name": "base",
   "language": "python",
   "name": "python3"
  },
  "language_info": {
   "codemirror_mode": {
    "name": "ipython",
    "version": 3
   },
   "file_extension": ".py",
   "mimetype": "text/x-python",
   "name": "python",
   "nbconvert_exporter": "python",
   "pygments_lexer": "ipython3",
   "version": "3.9.12"
  },
  "orig_nbformat": 4
 },
 "nbformat": 4,
 "nbformat_minor": 2
}
