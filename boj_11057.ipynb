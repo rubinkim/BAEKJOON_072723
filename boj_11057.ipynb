{
 "cells": [
  {
   "cell_type": "markdown",
   "metadata": {},
   "source": [
    "##### binomial coefficient<br>bino(n,0) = bino(n,n) = 1<br>bino(n,r) = bino(n-1, r-1) + bino(n-1, r)"
   ]
  },
  {
   "cell_type": "code",
   "execution_count": 10,
   "metadata": {},
   "outputs": [
    {
     "data": {
      "text/plain": [
       "[[1, 1],\n",
       " [1, -1, 1],\n",
       " [1, -1, -1, 1],\n",
       " [1, -1, -1, -1, 1],\n",
       " [1, -1, -1, -1, -1, 1],\n",
       " [1, -1, -1, -1, -1, -1, 1],\n",
       " [1, -1, -1, -1, -1, -1, -1, 1],\n",
       " [1, -1, -1, -1, -1, -1, -1, -1, 1],\n",
       " [1, -1, -1, -1, -1, -1, -1, -1, -1, 1],\n",
       " [1, -1, -1, -1, -1, -1, -1, -1, -1, -1, 1]]"
      ]
     },
     "execution_count": 10,
     "metadata": {},
     "output_type": "execute_result"
    }
   ],
   "source": [
    "N = 10\n",
    "K = 3\n",
    "\n",
    "cache = [[-1] * (N+1) for N in range(1, N+1)]\n",
    "\n",
    "for i in range(len(cache)):\n",
    "    for j in range(len(cache[i])):\n",
    "        cache[i][0] = cache[i][-1] = 1\n",
    "        \n",
    "cache"
   ]
  },
  {
   "cell_type": "code",
   "execution_count": 3,
   "metadata": {},
   "outputs": [],
   "source": [
    "def bino(N, K):\n",
    "    global cnt\n",
    "    cnt += 1\n",
    "    \n",
    "    if cache[K] == -1:\n",
    "        cache[K] = bino(N-1, K-1) + bino(N-1, K)\n",
    "    \n",
    "    return cache[K]"
   ]
  },
  {
   "cell_type": "code",
   "execution_count": 5,
   "metadata": {},
   "outputs": [
    {
     "ename": "",
     "evalue": "",
     "output_type": "error",
     "traceback": [
      "\u001b[1;31mCannot execute code, session has been disposed. Please try restarting the Kernel."
     ]
    },
    {
     "ename": "",
     "evalue": "",
     "output_type": "error",
     "traceback": [
      "\u001b[1;31mThe Kernel crashed while executing code in the the current cell or a previous cell. Please review the code in the cell(s) to identify a possible cause of the failure. Click <a href='https://aka.ms/vscodeJupyterKernelCrash'>here</a> for more info. View Jupyter <a href='command:jupyter.viewOutput'>log</a> for further details."
     ]
    }
   ],
   "source": [
    "bino(5, 2)"
   ]
  }
 ],
 "metadata": {
  "kernelspec": {
   "display_name": "base",
   "language": "python",
   "name": "python3"
  },
  "language_info": {
   "codemirror_mode": {
    "name": "ipython",
    "version": 3
   },
   "file_extension": ".py",
   "mimetype": "text/x-python",
   "name": "python",
   "nbconvert_exporter": "python",
   "pygments_lexer": "ipython3",
   "version": "3.9.12"
  },
  "orig_nbformat": 4
 },
 "nbformat": 4,
 "nbformat_minor": 2
}
