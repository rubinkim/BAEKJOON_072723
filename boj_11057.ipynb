{
 "cells": [
  {
   "cell_type": "markdown",
   "metadata": {},
   "source": [
    "##### binomial coefficient<br>bino(n,0) = bino(n,n) = 1<br>bino(n,r) = bino(n-1, r-1) + bino(n-1, r)"
   ]
  },
  {
   "cell_type": "code",
   "execution_count": 10,
   "metadata": {},
   "outputs": [
    {
     "data": {
      "text/plain": [
       "[[1, 1],\n",
       " [1, -1, 1],\n",
       " [1, -1, -1, 1],\n",
       " [1, -1, -1, -1, 1],\n",
       " [1, -1, -1, -1, -1, 1],\n",
       " [1, -1, -1, -1, -1, -1, 1],\n",
       " [1, -1, -1, -1, -1, -1, -1, 1],\n",
       " [1, -1, -1, -1, -1, -1, -1, -1, 1],\n",
       " [1, -1, -1, -1, -1, -1, -1, -1, -1, 1],\n",
       " [1, -1, -1, -1, -1, -1, -1, -1, -1, -1, 1]]"
      ]
     },
     "execution_count": 10,
     "metadata": {},
     "output_type": "execute_result"
    }
   ],
   "source": [
    "N, K = map(int, input().split())\n",
    "\n",
    "cache = [[-1] * (N+1) for N in range(1, N+1)]\n",
    "\n",
    "for i in range(len(cache)):\n",
    "    for j in range(len(cache[i])):\n",
    "        cache[i][0] = cache[i][-1] = 1\n",
    "        \n",
    "cache"
   ]
  },
  {
   "cell_type": "code",
   "execution_count": null,
   "metadata": {},
   "outputs": [],
   "source": [
    "cnt = 0"
   ]
  },
  {
   "cell_type": "code",
   "execution_count": 11,
   "metadata": {},
   "outputs": [],
   "source": [
    "def bino(N, K):\n",
    "    global cnt\n",
    "    cnt += 1\n",
    "    \n",
    "    if cache[N][K] == -1:\n",
    "        cache[N][K] = bino(N-1, K-1) + bino(N-1, K)\n",
    "    \n",
    "    return cache[K]"
   ]
  },
  {
   "cell_type": "code",
   "execution_count": 13,
   "metadata": {},
   "outputs": [
    {
     "ename": "IndexError",
     "evalue": "list index out of range",
     "output_type": "error",
     "traceback": [
      "\u001b[1;31m---------------------------------------------------------------------------\u001b[0m",
      "\u001b[1;31mIndexError\u001b[0m                                Traceback (most recent call last)",
      "\u001b[1;32me:\\BAEKJOON_072723\\boj_11057.ipynb Cell 5\u001b[0m in \u001b[0;36m<cell line: 1>\u001b[1;34m()\u001b[0m\n\u001b[1;32m----> <a href='vscode-notebook-cell:/e%3A/BAEKJOON_072723/boj_11057.ipynb#W4sZmlsZQ%3D%3D?line=0'>1</a>\u001b[0m bino(\u001b[39m10\u001b[39;49m, \u001b[39m3\u001b[39;49m)\n",
      "\u001b[1;32me:\\BAEKJOON_072723\\boj_11057.ipynb Cell 5\u001b[0m in \u001b[0;36mbino\u001b[1;34m(N, K)\u001b[0m\n\u001b[0;32m      <a href='vscode-notebook-cell:/e%3A/BAEKJOON_072723/boj_11057.ipynb#W4sZmlsZQ%3D%3D?line=1'>2</a>\u001b[0m \u001b[39mglobal\u001b[39;00m cnt\n\u001b[0;32m      <a href='vscode-notebook-cell:/e%3A/BAEKJOON_072723/boj_11057.ipynb#W4sZmlsZQ%3D%3D?line=2'>3</a>\u001b[0m cnt \u001b[39m+\u001b[39m\u001b[39m=\u001b[39m \u001b[39m1\u001b[39m\n\u001b[1;32m----> <a href='vscode-notebook-cell:/e%3A/BAEKJOON_072723/boj_11057.ipynb#W4sZmlsZQ%3D%3D?line=4'>5</a>\u001b[0m \u001b[39mif\u001b[39;00m cache[N][K] \u001b[39m==\u001b[39m \u001b[39m-\u001b[39m\u001b[39m1\u001b[39m:\n\u001b[0;32m      <a href='vscode-notebook-cell:/e%3A/BAEKJOON_072723/boj_11057.ipynb#W4sZmlsZQ%3D%3D?line=5'>6</a>\u001b[0m     cache[N][K] \u001b[39m=\u001b[39m bino(N\u001b[39m-\u001b[39m\u001b[39m1\u001b[39m, K\u001b[39m-\u001b[39m\u001b[39m1\u001b[39m) \u001b[39m+\u001b[39m bino(N\u001b[39m-\u001b[39m\u001b[39m1\u001b[39m, K)\n\u001b[0;32m      <a href='vscode-notebook-cell:/e%3A/BAEKJOON_072723/boj_11057.ipynb#W4sZmlsZQ%3D%3D?line=7'>8</a>\u001b[0m \u001b[39mreturn\u001b[39;00m cache[K]\n",
      "\u001b[1;31mIndexError\u001b[0m: list index out of range"
     ]
    }
   ],
   "source": [
    "bino(10, 3)"
   ]
  }
 ],
 "metadata": {
  "kernelspec": {
   "display_name": "base",
   "language": "python",
   "name": "python3"
  },
  "language_info": {
   "codemirror_mode": {
    "name": "ipython",
    "version": 3
   },
   "file_extension": ".py",
   "mimetype": "text/x-python",
   "name": "python",
   "nbconvert_exporter": "python",
   "pygments_lexer": "ipython3",
   "version": "3.9.12"
  },
  "orig_nbformat": 4
 },
 "nbformat": 4,
 "nbformat_minor": 2
}
