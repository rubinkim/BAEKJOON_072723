{
 "cells": [
  {
   "cell_type": "code",
   "execution_count": 2,
   "metadata": {},
   "outputs": [],
   "source": [
    "from bisect import bisect_right, bisect_left"
   ]
  },
  {
   "cell_type": "code",
   "execution_count": 3,
   "metadata": {},
   "outputs": [
    {
     "name": "stdout",
     "output_type": "stream",
     "text": [
      "N : 7,   x : 2\n",
      "seq : [1, 1, 2, 2, 2, 2, 3]\n"
     ]
    }
   ],
   "source": [
    "N, x = list(map(int, input().split()))      # 22 6\n",
    "seq = list(map(int, input().split()))       # 1 1 2 2 2 2 3 4 6 6 6 6 6 6 6 6 6 6 6 6 9 11\n",
    "print(f\"N : {N},   x : {x}\")\n",
    "print(f\"seq : {seq}\")"
   ]
  },
  {
   "cell_type": "code",
   "execution_count": 6,
   "metadata": {},
   "outputs": [
    {
     "name": "stdout",
     "output_type": "stream",
     "text": [
      "start : 2,   end : 6\n",
      "배열안에 2의 개수 : 4\n"
     ]
    }
   ],
   "source": [
    "start = bisect_left(seq, x)\n",
    "end = bisect_right(seq, x)\n",
    "print(f\"start : {start},   end : {end}\")\n",
    "print(f\"배열안에 {x}의 개수 : {end - start}\")"
   ]
  },
  {
   "cell_type": "code",
   "execution_count": 7,
   "metadata": {},
   "outputs": [],
   "source": [
    "def binary_search(array, target, start, end):\n",
    "    if start > end : \n",
    "        return None\n",
    "    else:\n",
    "        mid = (start + end) // 2\n",
    "        if target == array[mid]:\n",
    "            return mid\n",
    "        elif target < array[mid]:\n",
    "            return binary_search(array, target, start, mid-1)\n",
    "        else:\n",
    "            return binary_search(array, target, mid+1, end)"
   ]
  },
  {
   "cell_type": "code",
   "execution_count": 40,
   "metadata": {},
   "outputs": [
    {
     "data": {
      "text/plain": [
       "[3]"
      ]
     },
     "execution_count": 40,
     "metadata": {},
     "output_type": "execute_result"
    }
   ],
   "source": [
    "[x for x in seq if x > 2]"
   ]
  },
  {
   "cell_type": "code",
   "execution_count": 37,
   "metadata": {},
   "outputs": [],
   "source": [
    "def binary_search_count_x(array, target, start, end):\n",
    "    if array.count(target) == 0:\n",
    "        return 0\n",
    "    elif array.count(target) == 1:\n",
    "        return 1\n",
    "    else:\n",
    "        print(array.count(target))\n",
    "        less_than_max_or_equal_to_target = max([x for x in array if x <= target])\n",
    "        greater_than_min_target = min([x for x in array if x > target])\n",
    "        print(greater_than_min_target)\n",
    "        print(less_than_max_or_equal_to_target)\n",
    "        return greater_than_min_target - less_than_max_or_equal_to_target\n",
    "               "
   ]
  },
  {
   "cell_type": "code",
   "execution_count": 49,
   "metadata": {},
   "outputs": [],
   "source": [
    "def binary_search_count_x(array, target, start, end):\n",
    "    if array.count(target) == 0:\n",
    "        return 0\n",
    "    elif array.count(target) == 1:\n",
    "        return 1\n",
    "    else:        \n",
    "        less_than_max_or_equal_to_target = max([x for x in array if x < target])\n",
    "        greater_than_min_target = min([x for x in array if x > target])\n",
    "        \n",
    "        less_than_target_index = binary_search(array, less_than_max_or_equal_to_target, 0, len(array)-1) + 1\n",
    "        greater_than_target_index = binary_search(array, greater_than_min_target, 0, len(array)-1)\n",
    "        \n",
    "        return greater_than_target_index - less_than_target_index\n",
    "               "
   ]
  }
 ],
 "metadata": {
  "kernelspec": {
   "display_name": "base",
   "language": "python",
   "name": "python3"
  },
  "language_info": {
   "codemirror_mode": {
    "name": "ipython",
    "version": 3
   },
   "file_extension": ".py",
   "mimetype": "text/x-python",
   "name": "python",
   "nbconvert_exporter": "python",
   "pygments_lexer": "ipython3",
   "version": "3.9.12"
  },
  "orig_nbformat": 4
 },
 "nbformat": 4,
 "nbformat_minor": 2
}
