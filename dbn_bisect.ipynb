{
 "cells": [
  {
   "cell_type": "code",
   "execution_count": 2,
   "metadata": {},
   "outputs": [],
   "source": [
    "from bisect import bisect_right, bisect_left"
   ]
  },
  {
   "cell_type": "code",
   "execution_count": 1,
   "metadata": {},
   "outputs": [
    {
     "name": "stdout",
     "output_type": "stream",
     "text": [
      "N : 22,   x : 6\n",
      "seq : [1, 1, 2, 2, 2, 2, 3, 4, 6, 6, 6, 6, 6, 6, 6, 6, 6, 6, 6, 6, 9, 11]\n"
     ]
    }
   ],
   "source": [
    "N, x = list(map(int, input().split()))      # 22 6\n",
    "seq = list(map(int, input().split()))       # 1 1 2 2 2 2 3 4 6 6 6 6 6 6 6 6 6 6 6 6 9 11\n",
    "print(f\"N : {N},   x : {x}\")\n",
    "print(f\"seq : {seq}\")"
   ]
  },
  {
   "cell_type": "code",
   "execution_count": 3,
   "metadata": {},
   "outputs": [
    {
     "name": "stdout",
     "output_type": "stream",
     "text": [
      "start : 8,   end : 20\n",
      "배열안에 6의 개수 : 12\n"
     ]
    }
   ],
   "source": [
    "start = bisect_left(seq, x)\n",
    "end = bisect_right(seq, x)\n",
    "print(f\"start : {start},   end : {end}\")\n",
    "print(f\"배열안에 {x}의 개수 : {end - start}\")"
   ]
  },
  {
   "cell_type": "code",
   "execution_count": 4,
   "metadata": {},
   "outputs": [],
   "source": [
    "def binary_search(array, target, start, end):\n",
    "    if start > end : \n",
    "        return None\n",
    "    else:\n",
    "        mid = (start + end) // 2\n",
    "        if target == array[mid]:\n",
    "            return mid\n",
    "        elif target < array[mid]:\n",
    "            return binary_search(array, target, start, mid-1)\n",
    "        else:\n",
    "            return binary_search(array, target, mid+1, end)"
   ]
  },
  {
   "cell_type": "code",
   "execution_count": 5,
   "metadata": {},
   "outputs": [],
   "source": [
    "def binary_search_count_target(array, target, start, end):\n",
    "    if array.count(target) == 0:\n",
    "        return 0\n",
    "    elif array.count(target) == 1:\n",
    "        return 1\n",
    "    else:        \n",
    "        less_than_max_or_equal_to_target = max([x for x in array if x < target])\n",
    "        greater_than_min_target = min([x for x in array if x > target])\n",
    "        \n",
    "        less_than_target_index = binary_search(array, less_than_max_or_equal_to_target, 0, len(array)-1) + 1\n",
    "        greater_than_target_index = binary_search(array, greater_than_min_target, 0, len(array)-1)\n",
    "        \n",
    "        return greater_than_target_index - less_than_target_index\n",
    "               "
   ]
  },
  {
   "cell_type": "code",
   "execution_count": 6,
   "metadata": {},
   "outputs": [
    {
     "data": {
      "text/plain": [
       "12"
      ]
     },
     "execution_count": 6,
     "metadata": {},
     "output_type": "execute_result"
    }
   ],
   "source": [
    "binary_search_count_target(seq, x, 0, len(seq)-1)"
   ]
  },
  {
   "cell_type": "markdown",
   "metadata": {},
   "source": [
    "##### count_by_range(array, x, y) 함수 만들기"
   ]
  },
  {
   "cell_type": "code",
   "execution_count": 1,
   "metadata": {},
   "outputs": [
    {
     "name": "stdout",
     "output_type": "stream",
     "text": [
      "N : 35,   x : 6\n",
      "seq : [1, 1, 2, 2, 2, 2, 3, 4, 5, 5, 5, 5, 6, 6, 6, 6, 6, 6, 6, 6, 6, 6, 6, 6, 7, 7, 7, 7, 7, 8, 8, 8, 9, 9, 11]\n"
     ]
    }
   ],
   "source": [
    "N, x = list(map(int, input().split()))      # 36 6\n",
    "seq = list(map(int, input().split()))       # 1 1 2 2 2 2 3 4 5 5 5 5 6 6 6 6 6 6 6 6 6 6 6 6 6 7 7 7 7 7 8 8 8 9 9 11\n",
    "print(f\"N : {N},   x : {x}\")\n",
    "print(f\"seq : {seq}\")"
   ]
  },
  {
   "cell_type": "code",
   "execution_count": 2,
   "metadata": {},
   "outputs": [
    {
     "data": {
      "text/plain": [
       "(35, 12, 24, 29, 13, 25)"
      ]
     },
     "execution_count": 2,
     "metadata": {},
     "output_type": "execute_result"
    }
   ],
   "source": [
    "len(seq), seq.index(6), seq.index(7), seq.index(8), len([1, 1, 2, 2, 2, 2, 3, 4, 5, 5, 5, 5, 6]), len([1, 1, 2, 2, 2, 2, 3, 4, 5, 5, 5, 5, 6, 6, 6, 6, 6, 6, 6, 6, 6, 6, 6, 6, 7])"
   ]
  },
  {
   "cell_type": "code",
   "execution_count": 3,
   "metadata": {},
   "outputs": [],
   "source": [
    "def binary_search(array, target, start, end):\n",
    "    if start > end:\n",
    "        return None\n",
    "    else:\n",
    "        mid = (start + end) // 2\n",
    "        if target == array[mid]:\n",
    "            return mid\n",
    "        elif target < array[mid]:\n",
    "            return binary_search(array, target, start, mid-1)\n",
    "        else:\n",
    "            return binary_search(array, target, mid+1, end)"
   ]
  },
  {
   "cell_type": "code",
   "execution_count": 4,
   "metadata": {},
   "outputs": [
    {
     "name": "stdout",
     "output_type": "stream",
     "text": [
      "5\n"
     ]
    }
   ],
   "source": [
    "max_less_than_x = max([k for k in seq if k < x])\n",
    "print(max_less_than_x)"
   ]
  },
  {
   "cell_type": "code",
   "execution_count": 5,
   "metadata": {},
   "outputs": [],
   "source": [
    "def count_by_range(array, x, y):\n",
    "    if x > y:\n",
    "        x, y = y, x\n",
    "        \n",
    "    else:\n",
    "        \"\"\"Count the number of elements in interval between x and y inclusive\"\"\"\n",
    "        \"\"\"Find the index of x.\"\"\"\n",
    "        max_less_than_x = max([k for k in array if k < x])\n",
    "        x_idx = binary_search(array, max_less_than_x, 0, len(array)-1) + 1  # Add 1 since x is inclusive of the interval\n",
    "        print(f\"max_less_than_x : {max_less_than_x},  x_idx : {x_idx}\")\n",
    "        \n",
    "        \"\"\"Find the index of y.\"\"\"\n",
    "        min_greater_than_y = min([k for k in array if k > y])\n",
    "        y_idx = binary_search(array, min_greater_than_y, 0, len(array)-1)\n",
    "        print(f\"min_greater_than_y : {min_greater_than_y},  y_idx : {y_idx}\") \n",
    "        \n",
    "    return y_idx - x_idx       "
   ]
  },
  {
   "cell_type": "code",
   "execution_count": 8,
   "metadata": {},
   "outputs": [],
   "source": [
    "def count_by_range_alternative(array, x, y):\n",
    "    if x > y:\n",
    "        x, y = y, x\n",
    "        \n",
    "    else:\n",
    "        \"\"\"Count the number of elements in interval between x and y inclusive\"\"\"\n",
    "        \"\"\"Find the index of x.\"\"\"\n",
    "        max_less_than_x = max([k for k in array if k < x])\n",
    "        x_idx = array.index(max_less_than_x) + 1\n",
    "        print(f\"max_less_than_x : {max_less_than_x},  x_idx : {x_idx}\")\n",
    "        \n",
    "        \"\"\"Find the index of y.\"\"\"\n",
    "        min_greater_than_y = min([k for k in array if k > y])\n",
    "        y_idx = array.index(min_greater_than_y)\n",
    "        print(f\"min_greater_than_y : {min_greater_than_y},  y_idx : {y_idx}\") \n",
    "        \n",
    "    return y_idx - x_idx       "
   ]
  },
  {
   "cell_type": "code",
   "execution_count": 6,
   "metadata": {},
   "outputs": [
    {
     "name": "stdout",
     "output_type": "stream",
     "text": [
      "max_less_than_x : 5,  x_idx : 9\n",
      "min_greater_than_y : 7,  y_idx : 26\n"
     ]
    },
    {
     "data": {
      "text/plain": [
       "17"
      ]
     },
     "execution_count": 6,
     "metadata": {},
     "output_type": "execute_result"
    }
   ],
   "source": [
    "count_by_range(seq, 6, 6)"
   ]
  },
  {
   "cell_type": "code",
   "execution_count": 9,
   "metadata": {},
   "outputs": [
    {
     "name": "stdout",
     "output_type": "stream",
     "text": [
      "max_less_than_x : 5,  x_idx : 9\n",
      "min_greater_than_y : 7,  y_idx : 24\n"
     ]
    },
    {
     "data": {
      "text/plain": [
       "15"
      ]
     },
     "execution_count": 9,
     "metadata": {},
     "output_type": "execute_result"
    }
   ],
   "source": [
    "count_by_range_alternative(seq, 6, 6)"
   ]
  },
  {
   "cell_type": "code",
   "execution_count": 10,
   "metadata": {},
   "outputs": [],
   "source": [
    "def count_num_element(array, target, start, end):\n",
    "    if start > end:\n",
    "        return None\n",
    "    else:\n",
    "        mid = (start + end) // 2\n",
    "        if target == array[mid]:\n",
    "            if array.count(array[mid]) == 1:\n",
    "                return 1\n",
    "            elif array.count(array[mid]) > 1:\n",
    "                return array.index(array[mid]), array.count(array[mid])"
   ]
  },
  {
   "cell_type": "code",
   "execution_count": 11,
   "metadata": {},
   "outputs": [
    {
     "data": {
      "text/plain": [
       "(12, 12)"
      ]
     },
     "execution_count": 11,
     "metadata": {},
     "output_type": "execute_result"
    }
   ],
   "source": [
    "count_num_element(seq, 6, 0, len(seq)-1)"
   ]
  },
  {
   "cell_type": "code",
   "execution_count": 7,
   "metadata": {},
   "outputs": [],
   "source": [
    "def binary_search_start_idx(array, target, start, end):\n",
    "    if start > end:\n",
    "        return None\n",
    "    else:\n",
    "        mid = (start + end) // 2\n",
    "        if target == array[mid]:\n",
    "            if array.count(array[mid]) == 1:\n",
    "                return mid\n",
    "            elif array.count(array[mid]) > 1:\n",
    "                num = array.count(array[mid])\n",
    "                while num > 1:\n",
    "                    num -= 1\n",
    "                    if array.index(num) != array[mid]:\n",
    "                        return num\n",
    "\n",
    "        elif target < array[mid]:\n",
    "            return binary_search(array, target, start, mid-1)\n",
    "        else:\n",
    "            return binary_search(array, target, mid+1, end)"
   ]
  },
  {
   "cell_type": "code",
   "execution_count": 8,
   "metadata": {},
   "outputs": [],
   "source": [
    "def binary_search_end_idx(array, target, start, end):\n",
    "    if start > end:\n",
    "        return None\n",
    "    else:\n",
    "        mid = (start + end) // 2\n",
    "        if target == array[mid]:\n",
    "            if array.count(array[mid]) == 1:\n",
    "                return mid\n",
    "            elif array.count(array[mid]) > 1:\n",
    "                num = array.count(array[mid])\n",
    "                while num > 1:\n",
    "                    num += 1\n",
    "                    if array.index(num) != array[mid]:\n",
    "                        return num               \n",
    "\n",
    "        elif target < array[mid]:\n",
    "            return binary_search(array, target, start, mid-1)\n",
    "        else:\n",
    "            return binary_search(array, target, mid+1, end)"
   ]
  },
  {
   "cell_type": "code",
   "execution_count": 9,
   "metadata": {},
   "outputs": [],
   "source": [
    "def count_by_range_stard_end(array, x, y):\n",
    "    if x > y:\n",
    "        x, y = y, x\n",
    "        \n",
    "    else:\n",
    "        \"\"\"Count the number of elements in interval between x and y inclusive\"\"\"\n",
    "        \"\"\"Find the index of x.\"\"\"\n",
    "        max_less_than_x = max([k for k in array if k < x])\n",
    "        x_idx = binary_search_end_idx(array, max_less_than_x, 0, len(array)-1) + 1  # Add 1 since x is inclusive of the interval\n",
    "        print(f\"max_less_than_x : {max_less_than_x},  x_idx : {x_idx}\")\n",
    "        \n",
    "        \"\"\"Find the index of y.\"\"\"\n",
    "        min_greater_than_y = min([k for k in array if k > y])\n",
    "        y_idx = binary_search_start_idx(array, min_greater_than_y, 0, len(array)-1)\n",
    "        print(f\"min_greater_than_y : {min_greater_than_y},  y_idx : {y_idx}\") \n",
    "        \n",
    "    return y_idx - x_idx       "
   ]
  },
  {
   "cell_type": "code",
   "execution_count": 10,
   "metadata": {},
   "outputs": [
    {
     "name": "stdout",
     "output_type": "stream",
     "text": [
      "max_less_than_x : 5,  x_idx : 9\n",
      "min_greater_than_y : 7,  y_idx : 26\n"
     ]
    },
    {
     "data": {
      "text/plain": [
       "17"
      ]
     },
     "execution_count": 10,
     "metadata": {},
     "output_type": "execute_result"
    }
   ],
   "source": [
    "count_by_range_stard_end(seq, 6, 6)"
   ]
  }
 ],
 "metadata": {
  "kernelspec": {
   "display_name": "base",
   "language": "python",
   "name": "python3"
  },
  "language_info": {
   "codemirror_mode": {
    "name": "ipython",
    "version": 3
   },
   "file_extension": ".py",
   "mimetype": "text/x-python",
   "name": "python",
   "nbconvert_exporter": "python",
   "pygments_lexer": "ipython3",
   "version": "3.9.12"
  },
  "orig_nbformat": 4
 },
 "nbformat": 4,
 "nbformat_minor": 2
}
