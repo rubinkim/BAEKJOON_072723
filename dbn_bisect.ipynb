{
 "cells": [
  {
   "cell_type": "code",
   "execution_count": 1,
   "metadata": {},
   "outputs": [],
   "source": [
    "from bisect import bisect_right, bisect_left"
   ]
  },
  {
   "cell_type": "code",
   "execution_count": 3,
   "metadata": {},
   "outputs": [
    {
     "name": "stdout",
     "output_type": "stream",
     "text": [
      "N : 7,   x : 2\n",
      "seq : [1, 1, 2, 2, 2, 2, 3]\n"
     ]
    }
   ],
   "source": [
    "N, x = list(map(int, input().split()))      # 7 2\n",
    "seq = list(map(int, input().split()))       # 1 1 2 2 2 2 3\n",
    "print(f\"N : {N},   x : {x}\")\n",
    "print(f\"seq : {seq}\")"
   ]
  }
 ],
 "metadata": {
  "kernelspec": {
   "display_name": "base",
   "language": "python",
   "name": "python3"
  },
  "language_info": {
   "codemirror_mode": {
    "name": "ipython",
    "version": 3
   },
   "file_extension": ".py",
   "mimetype": "text/x-python",
   "name": "python",
   "nbconvert_exporter": "python",
   "pygments_lexer": "ipython3",
   "version": "3.9.12"
  },
  "orig_nbformat": 4
 },
 "nbformat": 4,
 "nbformat_minor": 2
}
