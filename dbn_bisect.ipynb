{
 "cells": [
  {
   "cell_type": "code",
   "execution_count": 49,
   "metadata": {},
   "outputs": [],
   "source": [
    "from bisect import bisect_right, bisect_left"
   ]
  },
  {
   "cell_type": "code",
   "execution_count": 52,
   "metadata": {},
   "outputs": [
    {
     "name": "stdout",
     "output_type": "stream",
     "text": [
      "N : 36,   x : 7\n",
      "seq : [1, 1, 2, 2, 2, 2, 3, 4, 5, 5, 5, 5, 6, 6, 6, 6, 6, 6, 6, 6, 6, 6, 6, 6, 6, 7, 7, 7, 7, 7, 8, 8, 8, 9, 9, 11]\n"
     ]
    }
   ],
   "source": [
    "N, x = list(map(int, input().split()))      # 36 7\n",
    "seq = list(map(int, input().split()))       # 1 1 2 2 2 2 3 4 5 5 5 5 6 6 6 6 6 6 6 6 6 6 6 6 6 7 7 7 7 7 8 8 8 9 9 11\n",
    "print(f\"N : {N},   x : {x}\")\n",
    "print(f\"seq : {seq}\")"
   ]
  },
  {
   "cell_type": "code",
   "execution_count": 53,
   "metadata": {},
   "outputs": [
    {
     "name": "stdout",
     "output_type": "stream",
     "text": [
      "start : 25,   end : 30\n",
      "배열안에 7의 개수 : 5\n"
     ]
    }
   ],
   "source": [
    "start = bisect_left(seq, x)\n",
    "end = bisect_right(seq, x)\n",
    "print(f\"start : {start},   end : {end}\")\n",
    "print(f\"배열안에 {x}의 개수 : {end - start}\")"
   ]
  },
  {
   "cell_type": "code",
   "execution_count": 51,
   "metadata": {},
   "outputs": [],
   "source": [
    "def binary_search(array, target, start, end):\n",
    "    if start > end : \n",
    "        return None\n",
    "    else:\n",
    "        mid = (start + end) // 2\n",
    "        if target == array[mid]:\n",
    "            return mid\n",
    "        elif target < array[mid]:\n",
    "            return binary_search(array, target, start, mid-1)\n",
    "        else:\n",
    "            return binary_search(array, target, mid+1, end)"
   ]
  },
  {
   "cell_type": "markdown",
   "metadata": {},
   "source": [
    "##### count_by_range(array, x, y) 함수 만들기"
   ]
  },
  {
   "cell_type": "code",
   "execution_count": 1,
   "metadata": {},
   "outputs": [
    {
     "name": "stdout",
     "output_type": "stream",
     "text": [
      "N : 36,   x : 6\n",
      "seq : [1, 1, 2, 2, 2, 2, 3, 4, 5, 5, 5, 5, 6, 6, 6, 6, 6, 6, 6, 6, 6, 6, 6, 6, 6, 7, 7, 7, 7, 7, 8, 8, 8, 9, 9, 11]\n"
     ]
    }
   ],
   "source": [
    "N, x = list(map(int, input().split()))      # 36 6\n",
    "seq = list(map(int, input().split()))       # 1 1 2 2 2 2 3 4 5 5 5 5 6 6 6 6 6 6 6 6 6 6 6 6 6 7 7 7 7 7 8 8 8 9 9 11\n",
    "print(f\"N : {N},   x : {x}\")\n",
    "print(f\"seq : {seq}\")"
   ]
  },
  {
   "cell_type": "code",
   "execution_count": 2,
   "metadata": {},
   "outputs": [
    {
     "data": {
      "text/plain": [
       "(36, 13, 12, 25, 30, 13, 25)"
      ]
     },
     "execution_count": 2,
     "metadata": {},
     "output_type": "execute_result"
    }
   ],
   "source": [
    "len(seq), seq.count(6), seq.index(6), seq.index(7), seq.index(8), len([1, 1, 2, 2, 2, 2, 3, 4, 5, 5, 5, 5, 6]), len([1, 1, 2, 2, 2, 2, 3, 4, 5, 5, 5, 5, 6, 6, 6, 6, 6, 6, 6, 6, 6, 6, 6, 6, 7])"
   ]
  },
  {
   "cell_type": "code",
   "execution_count": 3,
   "metadata": {},
   "outputs": [],
   "source": [
    "def binary_search_duplicate_elements(array, target, start, end):\n",
    "    if start > end:\n",
    "        return None\n",
    "    else:\n",
    "        mid = (start + end) // 2\n",
    "        if target == array[mid]:\n",
    "            if array.count(array[mid]) == 1:\n",
    "                return mid\n",
    "            elif array.count(array[mid]) > 1:                \n",
    "                start_idx = array.index(array[mid])                \n",
    "                return start_idx\n",
    "        \n",
    "        elif target < array[mid]:\n",
    "            if array.count(array[mid]) == 1:\n",
    "                return binary_search_duplicate_elements(array, target, start, mid-1)\n",
    "            elif array.count(array[mid]) > 1:\n",
    "                start_idx = array.index(array[mid])\n",
    "                return binary_search_duplicate_elements(array, target, start, start_idx-1)\n",
    "        else:\n",
    "            if array.count(array[mid]) == 1:\n",
    "                return binary_search_duplicate_elements(array, target, mid+1, end)\n",
    "            elif array.count(array[mid]) > 1:                \n",
    "                start_idx = array.index(array[mid]) + array.count(array[mid])\n",
    "                return binary_search_duplicate_elements(array, target, start_idx, end)"
   ]
  },
  {
   "cell_type": "code",
   "execution_count": 4,
   "metadata": {},
   "outputs": [
    {
     "data": {
      "text/plain": [
       "8"
      ]
     },
     "execution_count": 4,
     "metadata": {},
     "output_type": "execute_result"
    }
   ],
   "source": [
    "binary_search_duplicate_elements(seq, 5, 0, len(seq)-1)"
   ]
  },
  {
   "cell_type": "code",
   "execution_count": 7,
   "metadata": {},
   "outputs": [],
   "source": [
    "def count_by_range(array, x, y):\n",
    "    if x > y:\n",
    "        x, y = y, x      \n",
    "      \n",
    "    min_greater_than_y = min([k for k in array if k > y])\n",
    "    x_idx = binary_search_duplicate_elements(array, x, 0, len(array)-1)\n",
    "    y_idx = binary_search_duplicate_elements(array, min_greater_than_y, 0, len(array)-1)    \n",
    "\n",
    "    return y_idx - x_idx"
   ]
  },
  {
   "cell_type": "code",
   "execution_count": 14,
   "metadata": {},
   "outputs": [
    {
     "name": "stdout",
     "output_type": "stream",
     "text": [
      "22\n"
     ]
    }
   ],
   "source": [
    "print(count_by_range(seq, 5, 7))"
   ]
  },
  {
   "cell_type": "code",
   "execution_count": 15,
   "metadata": {},
   "outputs": [
    {
     "name": "stdout",
     "output_type": "stream",
     "text": [
      "13\n"
     ]
    }
   ],
   "source": [
    "print(count_by_range(seq, 6, 6))"
   ]
  }
 ],
 "metadata": {
  "kernelspec": {
   "display_name": "base",
   "language": "python",
   "name": "python3"
  },
  "language_info": {
   "codemirror_mode": {
    "name": "ipython",
    "version": 3
   },
   "file_extension": ".py",
   "mimetype": "text/x-python",
   "name": "python",
   "nbconvert_exporter": "python",
   "pygments_lexer": "ipython3",
   "version": "3.9.12"
  },
  "orig_nbformat": 4
 },
 "nbformat": 4,
 "nbformat_minor": 2
}
