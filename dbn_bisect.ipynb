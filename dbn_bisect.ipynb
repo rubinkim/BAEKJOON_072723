{
 "cells": [
  {
   "cell_type": "code",
   "execution_count": 2,
   "metadata": {},
   "outputs": [],
   "source": [
    "from bisect import bisect_right, bisect_left"
   ]
  },
  {
   "cell_type": "code",
   "execution_count": 3,
   "metadata": {},
   "outputs": [
    {
     "name": "stdout",
     "output_type": "stream",
     "text": [
      "N : 7,   x : 2\n",
      "seq : [1, 1, 2, 2, 2, 2, 3]\n"
     ]
    }
   ],
   "source": [
    "N, x = list(map(int, input().split()))      # 7 2\n",
    "seq = list(map(int, input().split()))       # 1 1 2 2 2 2 3\n",
    "print(f\"N : {N},   x : {x}\")\n",
    "print(f\"seq : {seq}\")"
   ]
  },
  {
   "cell_type": "code",
   "execution_count": 6,
   "metadata": {},
   "outputs": [
    {
     "name": "stdout",
     "output_type": "stream",
     "text": [
      "start : 2,   end : 6\n",
      "배열안에 2의 개수 : 4\n"
     ]
    }
   ],
   "source": [
    "start = bisect_left(seq, x)\n",
    "end = bisect_right(seq, x)\n",
    "print(f\"start : {start},   end : {end}\")\n",
    "print(f\"배열안에 {x}의 개수 : {end - start}\")"
   ]
  },
  {
   "cell_type": "code",
   "execution_count": 7,
   "metadata": {},
   "outputs": [],
   "source": [
    "def binary_search(array, target, start, end):\n",
    "    if start > end : \n",
    "        return None\n",
    "    else:\n",
    "        mid = (start + end) // 2\n",
    "        if target == array[mid]:\n",
    "            return mid\n",
    "        elif target < array[mid]:\n",
    "            return binary_search(array, target, start, mid-1)\n",
    "        else:\n",
    "            return binary_search(array, target, mid+1, end)"
   ]
  },
  {
   "cell_type": "code",
   "execution_count": 10,
   "metadata": {},
   "outputs": [],
   "source": [
    "def binary_search_first_element(array, target, start, end):\n",
    "    if array.count(target) == 0:\n",
    "        return 0\n",
    "    elif array.count(target) == 1:\n",
    "        return binary_search(array, target, start, end)            "
   ]
  },
  {
   "cell_type": "code",
   "execution_count": null,
   "metadata": {},
   "outputs": [],
   "source": [
    "conditional_binary_search(seq, 2, 0, len(seq)-1)"
   ]
  }
 ],
 "metadata": {
  "kernelspec": {
   "display_name": "base",
   "language": "python",
   "name": "python3"
  },
  "language_info": {
   "codemirror_mode": {
    "name": "ipython",
    "version": 3
   },
   "file_extension": ".py",
   "mimetype": "text/x-python",
   "name": "python",
   "nbconvert_exporter": "python",
   "pygments_lexer": "ipython3",
   "version": "3.9.12"
  },
  "orig_nbformat": 4
 },
 "nbformat": 4,
 "nbformat_minor": 2
}
