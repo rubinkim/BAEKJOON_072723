{
 "cells": [
  {
   "cell_type": "code",
   "execution_count": 1,
   "metadata": {},
   "outputs": [
    {
     "name": "stdout",
     "output_type": "stream",
     "text": [
      "5\n",
      "6 3 2 10 -10 \n",
      "8\n",
      "10 9 -5 2 3 4 5 -10 \n"
     ]
    }
   ],
   "source": [
    "N = int(input())\n",
    "print(N)\n",
    "\n",
    "sanggeun = list(map(int, input().split()))\n",
    "for c in sanggeun:\n",
    "    print(c, end=' ')\n",
    "print()\n",
    "\n",
    "M = int(input())\n",
    "print(M)\n",
    "\n",
    "cards = list(map(int, input().split()))\n",
    "for c in cards:\n",
    "    print(c, end=' ')\n",
    "print()"
   ]
  },
  {
   "cell_type": "code",
   "execution_count": 2,
   "metadata": {},
   "outputs": [
    {
     "name": "stdout",
     "output_type": "stream",
     "text": [
      "[-10, 2, 3, 6, 10]\n"
     ]
    }
   ],
   "source": [
    "sanggeun.sort()\n",
    "print(sanggeun)"
   ]
  },
  {
   "cell_type": "code",
   "execution_count": 3,
   "metadata": {},
   "outputs": [
    {
     "name": "stdout",
     "output_type": "stream",
     "text": [
      "lo : -10,  hi : 10,  mid : 3\n"
     ]
    }
   ],
   "source": [
    "lo = sanggeun[0]\n",
    "hi = sanggeun[-1]\n",
    "mid = sanggeun[(len(sanggeun)+1) // 2] if not(len(sanggeun) % 2) else sanggeun[len(sanggeun) // 2]\n",
    "\n",
    "print(f\"lo : {lo},  hi : {hi},  mid : {mid}\")"
   ]
  },
  {
   "cell_type": "code",
   "execution_count": 10,
   "metadata": {},
   "outputs": [
    {
     "name": "stdout",
     "output_type": "stream",
     "text": [
      "lo:3,  hi:-10,  mid:-10,  ans:0, len(new_sanggeun):5\n",
      "\n",
      "lo:-10,  hi:-10,  mid:3,  ans:3, len(new_sanggeun):5\n",
      "\n",
      "lo:3,  hi:-10,  mid:6,  ans:6, len(new_sanggeun):3\n",
      "\n",
      "lo:6,  hi:-10,  mid:10,  ans:10, len(new_sanggeun):2\n",
      "\n",
      "lo:10,  hi:-10,  mid:10,  ans:0, len(new_sanggeun):5\n",
      "\n",
      "lo:10,  hi:6,  mid:3,  ans:3, len(new_sanggeun):4\n",
      "\n",
      "lo:3,  hi:6,  mid:6,  ans:6, len(new_sanggeun):2\n",
      "\n",
      "lo:6,  hi:6,  mid:6,  ans:0, len(new_sanggeun):5\n",
      "\n",
      "lo:6,  hi:3,  mid:2,  ans:2, len(new_sanggeun):3\n",
      "\n",
      "lo:6,  hi:-10,  mid:-10,  ans:0, len(new_sanggeun):5\n",
      "\n",
      "lo:-10,  hi:-10,  mid:3,  ans:3, len(new_sanggeun):5\n",
      "\n",
      "lo:-10,  hi:2,  mid:2,  ans:2, len(new_sanggeun):2\n",
      "\n",
      "lo:2,  hi:2,  mid:2,  ans:0, len(new_sanggeun):5\n",
      "\n",
      "lo:2,  hi:2,  mid:6,  ans:6, len(new_sanggeun):4\n",
      "\n",
      "lo:2,  hi:3,  mid:3,  ans:3, len(new_sanggeun):2\n",
      "\n",
      "lo:3,  hi:3,  mid:3,  ans:0, len(new_sanggeun):5\n",
      "\n",
      "lo:3,  hi:3,  mid:6,  ans:6, len(new_sanggeun):3\n",
      "\n",
      "lo:3,  hi:3,  mid:3,  ans:0, len(new_sanggeun):5\n",
      "\n",
      "lo:3,  hi:3,  mid:6,  ans:6, len(new_sanggeun):3\n",
      "\n",
      "lo:3,  hi:3,  mid:3,  ans:0, len(new_sanggeun):5\n",
      "\n",
      "lo:3,  hi:2,  mid:2,  ans:2, len(new_sanggeun):2\n",
      "\n"
     ]
    }
   ],
   "source": [
    "ans_list = []\n",
    "\n",
    "for c in cards:\n",
    "    new_sanggeun = sanggeun\n",
    "    ans = 0\n",
    "    while len(new_sanggeun) >=1:\n",
    "        \n",
    "        print(f\"lo:{lo},  hi:{hi},  mid:{mid},  ans:{ans}, len(new_sanggeun):{len(new_sanggeun)}\")\n",
    "        print()\n",
    "        \n",
    "        if c < mid:            \n",
    "            hi = new_sanggeun[new_sanggeun.index(mid)-1]\n",
    "            new_sanggeun = new_sanggeun[: new_sanggeun.index(mid)]\n",
    "            \n",
    "        else:\n",
    "            lo = new_sanggeun[new_sanggeun.index(mid)]\n",
    "            new_sanggeun = new_sanggeun[new_sanggeun.index(mid) :]\n",
    "        \n",
    "        mid = new_sanggeun[(len(new_sanggeun)+1) // 2] if not(len(new_sanggeun) % 2) else new_sanggeun[len(new_sanggeun) // 2]\n",
    "        ans = mid\n",
    "        \n",
    "        if len(new_sanggeun) == 1:\n",
    "            if c == mid:\n",
    "                ans = 1\n",
    "            else:\n",
    "                ans = 0\n",
    "            break\n",
    "        \n",
    "    ans_list.append(ans)"
   ]
  },
  {
   "cell_type": "code",
   "execution_count": 11,
   "metadata": {},
   "outputs": [
    {
     "data": {
      "text/plain": [
       "[1, 0, 0, 1, 1, 0, 0, 1]"
      ]
     },
     "execution_count": 11,
     "metadata": {},
     "output_type": "execute_result"
    }
   ],
   "source": [
    "ans_list"
   ]
  },
  {
   "cell_type": "code",
   "execution_count": 14,
   "metadata": {},
   "outputs": [
    {
     "name": "stdout",
     "output_type": "stream",
     "text": [
      "1 1 0 1 0 0 1 0 0 1 1 0 0 1 1 1 0 0 1 1 0 1 0 0 1 1 0 0 1 0 0 1 1 0 0 1 "
     ]
    }
   ],
   "source": [
    "N = int(input())\n",
    "sanggeun = list(map(int, input().split()))\n",
    "M = int(input())\n",
    "cards = list(map(int, input().split()))\n",
    "\n",
    "sanggeun.sort()\n",
    "\n",
    "lo = sanggeun[0]\n",
    "hi = sanggeun[-1]\n",
    "mid = sanggeun[(len(sanggeun)+1) // 2] if not(len(sanggeun) % 2) else sanggeun[len(sanggeun) // 2]\n",
    "\n",
    "ans_list = []\n",
    "\n",
    "for c in cards:\n",
    "    new_sanggeun = sanggeun\n",
    "    ans = 0\n",
    "    while len(new_sanggeun) >=1:\n",
    "        \n",
    "        if c < mid:            \n",
    "            hi = new_sanggeun[new_sanggeun.index(mid)-1]\n",
    "            new_sanggeun = new_sanggeun[: new_sanggeun.index(mid)]\n",
    "            \n",
    "        else:\n",
    "            lo = new_sanggeun[new_sanggeun.index(mid)]\n",
    "            new_sanggeun = new_sanggeun[new_sanggeun.index(mid) :]\n",
    "        \n",
    "        mid = new_sanggeun[(len(new_sanggeun)+1) // 2] if not(len(new_sanggeun) % 2) else new_sanggeun[len(new_sanggeun) // 2]\n",
    "        ans = mid\n",
    "        \n",
    "        if len(new_sanggeun) == 1:\n",
    "            if c == mid:\n",
    "                ans = 1\n",
    "            else:\n",
    "                ans = 0\n",
    "            break\n",
    "        \n",
    "    ans_list.append(ans)\n",
    "    \n",
    "for ans in ans_list:\n",
    "    print(ans, end=' ')"
   ]
  }
 ],
 "metadata": {
  "kernelspec": {
   "display_name": "base",
   "language": "python",
   "name": "python3"
  },
  "language_info": {
   "codemirror_mode": {
    "name": "ipython",
    "version": 3
   },
   "file_extension": ".py",
   "mimetype": "text/x-python",
   "name": "python",
   "nbconvert_exporter": "python",
   "pygments_lexer": "ipython3",
   "version": "3.9.12"
  },
  "orig_nbformat": 4
 },
 "nbformat": 4,
 "nbformat_minor": 2
}
