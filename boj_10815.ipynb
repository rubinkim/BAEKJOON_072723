{
 "cells": [
  {
   "cell_type": "code",
   "execution_count": 4,
   "metadata": {},
   "outputs": [
    {
     "name": "stdout",
     "output_type": "stream",
     "text": [
      "5\n",
      "6 3 2 10 -10 \n",
      "8\n",
      "10 9 -5 2 3 4 5 -10 \n"
     ]
    }
   ],
   "source": [
    "N = int(input())\n",
    "print(N)\n",
    "\n",
    "sanggeun = list(map(int, input().split()))\n",
    "for c in sanggeun:\n",
    "    print(c, end=' ')\n",
    "print()\n",
    "\n",
    "M = int(input())\n",
    "print(M)\n",
    "\n",
    "cards = list(map(int, input().split()))\n",
    "for c in cards:\n",
    "    print(c, end=' ')\n",
    "print()"
   ]
  }
 ],
 "metadata": {
  "kernelspec": {
   "display_name": "base",
   "language": "python",
   "name": "python3"
  },
  "language_info": {
   "codemirror_mode": {
    "name": "ipython",
    "version": 3
   },
   "file_extension": ".py",
   "mimetype": "text/x-python",
   "name": "python",
   "nbconvert_exporter": "python",
   "pygments_lexer": "ipython3",
   "version": "3.9.12"
  },
  "orig_nbformat": 4
 },
 "nbformat": 4,
 "nbformat_minor": 2
}
