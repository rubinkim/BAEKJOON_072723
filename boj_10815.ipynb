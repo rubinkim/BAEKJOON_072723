{
 "cells": [
  {
   "cell_type": "code",
   "execution_count": 1,
   "metadata": {},
   "outputs": [
    {
     "name": "stdout",
     "output_type": "stream",
     "text": [
      "5\n",
      "6 3 2 10 -10 \n",
      "8\n",
      "10 9 -5 2 3 4 5 -10 \n"
     ]
    }
   ],
   "source": [
    "N = int(input())\n",
    "print(N)\n",
    "\n",
    "sanggeun = list(map(int, input().split()))\n",
    "for c in sanggeun:\n",
    "    print(c, end=' ')\n",
    "print()\n",
    "\n",
    "M = int(input())\n",
    "print(M)\n",
    "\n",
    "cards = list(map(int, input().split()))\n",
    "for c in cards:\n",
    "    print(c, end=' ')\n",
    "print()"
   ]
  },
  {
   "cell_type": "code",
   "execution_count": 2,
   "metadata": {},
   "outputs": [
    {
     "name": "stdout",
     "output_type": "stream",
     "text": [
      "[-10, 2, 3, 6, 10]\n"
     ]
    }
   ],
   "source": [
    "sanggeun.sort()\n",
    "print(sanggeun)"
   ]
  },
  {
   "cell_type": "code",
   "execution_count": 4,
   "metadata": {},
   "outputs": [
    {
     "name": "stdout",
     "output_type": "stream",
     "text": [
      "lo : -10,  hi : 10,  mid : 3\n"
     ]
    }
   ],
   "source": [
    "lo = sanggeun[0]\n",
    "hi = sanggeun[-1]\n",
    "mid = (len(sanggeun) + 1) // 2 if len(sanggeun) % 2 else len(sanggeun) // 2\n",
    "\n",
    "print(f\"lo : {lo},  hi : {hi},  mid : {mid}\")"
   ]
  },
  {
   "cell_type": "code",
   "execution_count": 7,
   "metadata": {},
   "outputs": [
    {
     "ename": "IndexError",
     "evalue": "list index out of range",
     "output_type": "error",
     "traceback": [
      "\u001b[1;31m---------------------------------------------------------------------------\u001b[0m",
      "\u001b[1;31mIndexError\u001b[0m                                Traceback (most recent call last)",
      "\u001b[1;32me:\\BAEKJOON_072723\\boj_10815.ipynb Cell 4\u001b[0m in \u001b[0;36m<cell line: 5>\u001b[1;34m()\u001b[0m\n\u001b[0;32m      <a href='vscode-notebook-cell:/e%3A/BAEKJOON_072723/boj_10815.ipynb#W6sZmlsZQ%3D%3D?line=2'>3</a>\u001b[0m lo \u001b[39m=\u001b[39m x[\u001b[39m0\u001b[39m]\n\u001b[0;32m      <a href='vscode-notebook-cell:/e%3A/BAEKJOON_072723/boj_10815.ipynb#W6sZmlsZQ%3D%3D?line=3'>4</a>\u001b[0m hi \u001b[39m=\u001b[39m x[\u001b[39m-\u001b[39m\u001b[39m1\u001b[39m]\n\u001b[1;32m----> <a href='vscode-notebook-cell:/e%3A/BAEKJOON_072723/boj_10815.ipynb#W6sZmlsZQ%3D%3D?line=4'>5</a>\u001b[0m mid \u001b[39m=\u001b[39m x[\u001b[39mlen\u001b[39;49m(x) \u001b[39m+\u001b[39;49m \u001b[39m1\u001b[39;49m] \u001b[39m/\u001b[39m\u001b[39m/\u001b[39m \u001b[39m2\u001b[39m \u001b[39mif\u001b[39;00m \u001b[39mlen\u001b[39m(x) \u001b[39m%\u001b[39m \u001b[39m2\u001b[39m \u001b[39melse\u001b[39;00m x[\u001b[39mlen\u001b[39m(x)] \u001b[39m/\u001b[39m\u001b[39m/\u001b[39m \u001b[39m2\u001b[39m\n\u001b[0;32m      <a href='vscode-notebook-cell:/e%3A/BAEKJOON_072723/boj_10815.ipynb#W6sZmlsZQ%3D%3D?line=6'>7</a>\u001b[0m \u001b[39mprint\u001b[39m(\u001b[39mf\u001b[39m\u001b[39m\"\u001b[39m\u001b[39mlo : \u001b[39m\u001b[39m{\u001b[39;00mlo\u001b[39m}\u001b[39;00m\u001b[39m,  hi : \u001b[39m\u001b[39m{\u001b[39;00mhi\u001b[39m}\u001b[39;00m\u001b[39m,  mid : \u001b[39m\u001b[39m{\u001b[39;00mmid\u001b[39m}\u001b[39;00m\u001b[39m\"\u001b[39m)\n",
      "\u001b[1;31mIndexError\u001b[0m: list index out of range"
     ]
    }
   ],
   "source": [
    "x = [-10, -3, 1, 2, 3, 6, 10]\n",
    "\n",
    "lo = x[0]\n",
    "hi = x[-1]\n",
    "mid = x[(len(x)+1) // 2] if len(x) % 2 else x[len(x) // 2]\n",
    "\n",
    "print(f\"lo : {lo},  hi : {hi},  mid : {mid}\")"
   ]
  },
  {
   "cell_type": "code",
   "execution_count": null,
   "metadata": {},
   "outputs": [],
   "source": [
    "for c in cards:\n",
    "    "
   ]
  },
  {
   "cell_type": "code",
   "execution_count": null,
   "metadata": {},
   "outputs": [],
   "source": []
  },
  {
   "cell_type": "code",
   "execution_count": null,
   "metadata": {},
   "outputs": [],
   "source": []
  }
 ],
 "metadata": {
  "kernelspec": {
   "display_name": "base",
   "language": "python",
   "name": "python3"
  },
  "language_info": {
   "codemirror_mode": {
    "name": "ipython",
    "version": 3
   },
   "file_extension": ".py",
   "mimetype": "text/x-python",
   "name": "python",
   "nbconvert_exporter": "python",
   "pygments_lexer": "ipython3",
   "version": "3.9.12"
  },
  "orig_nbformat": 4
 },
 "nbformat": 4,
 "nbformat_minor": 2
}
