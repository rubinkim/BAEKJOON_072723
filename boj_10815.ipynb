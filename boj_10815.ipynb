{
 "cells": [
  {
   "cell_type": "code",
   "execution_count": null,
   "metadata": {},
   "outputs": [],
   "source": [
    "N = int(input())\n",
    "\n",
    "sanggeun = list(map(int, input().split()))\n",
    "for c in sanggeun:\n",
    "    print(c, end=' ')\n",
    "print()\n",
    "\n",
    "M = int(input())\n",
    "\n",
    "cards = list(map(int, input().split()))\n",
    "for c in cards:\n",
    "    print(c, end=' ')\n",
    "print()"
   ]
  }
 ],
 "metadata": {
  "kernelspec": {
   "display_name": "base",
   "language": "python",
   "name": "python3"
  },
  "language_info": {
   "name": "python",
   "version": "3.9.12"
  },
  "orig_nbformat": 4
 },
 "nbformat": 4,
 "nbformat_minor": 2
}
