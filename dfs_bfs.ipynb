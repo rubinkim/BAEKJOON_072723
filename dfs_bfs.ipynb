{
 "cells": [
  {
   "cell_type": "markdown",
   "metadata": {},
   "source": [
    "##### DFS 구현하기"
   ]
  },
  {
   "cell_type": "code",
   "execution_count": 3,
   "metadata": {},
   "outputs": [
    {
     "name": "stdout",
     "output_type": "stream",
     "text": [
      "[0, 1, 0, 0, 0, 0, 0, 1, 0, 0, 0, 0, 0]\n",
      "[0, 0, 1, 0, 0, 1, 0, 0, 0, 0, 0, 0, 0]\n",
      "[0, 0, 0, 1, 1, 0, 0, 0, 0, 0, 0, 0, 0]\n",
      "[0, 0, 0, 0, 0, 0, 0, 0, 0, 0, 0, 0, 0]\n",
      "[0, 0, 0, 0, 0, 0, 0, 0, 0, 0, 0, 0, 0]\n",
      "[0, 0, 0, 0, 0, 0, 1, 0, 0, 0, 0, 0, 0]\n",
      "[0, 0, 0, 0, 0, 0, 0, 0, 0, 0, 0, 0, 0]\n",
      "[0, 0, 0, 0, 0, 0, 0, 0, 1, 1, 0, 0, 0]\n",
      "[0, 0, 0, 0, 0, 0, 0, 0, 0, 0, 0, 0, 0]\n",
      "[0, 0, 0, 0, 0, 0, 0, 0, 0, 0, 1, 1, 1]\n",
      "[0, 0, 0, 0, 0, 0, 0, 0, 0, 0, 0, 0, 0]\n",
      "[0, 0, 0, 0, 0, 0, 0, 0, 0, 0, 0, 0, 0]\n",
      "[0, 0, 0, 0, 0, 0, 0, 0, 0, 0, 0, 0, 0]\n"
     ]
    }
   ],
   "source": [
    "adj = [[0] * 13 for _ in range(13)]\n",
    "adj[0][1], adj[0][7] = 1, 1\n",
    "adj[1][2], adj[1][5], adj[7][8], adj[7][9] = 1, 1, 1, 1\n",
    "adj[2][3], adj[2][4], adj[5][6], adj[9][10], adj[9][11], adj[9][12] = 1, 1, 1, 1, 1, 1\n",
    "\n",
    "for row in adj:\n",
    "    print(row)"
   ]
  },
  {
   "cell_type": "code",
   "execution_count": 15,
   "metadata": {},
   "outputs": [],
   "source": [
    "def dfs(now):    \n",
    "    for nxt in range(len(adj)):\n",
    "        if adj[now][nxt]:\n",
    "            print(f\"({now} --> {nxt})\")\n",
    "            dfs(nxt)            "
   ]
  },
  {
   "cell_type": "code",
   "execution_count": 16,
   "metadata": {},
   "outputs": [
    {
     "name": "stdout",
     "output_type": "stream",
     "text": [
      "(0 --> 1)\n",
      "(1 --> 2)\n",
      "(2 --> 3)\n",
      "(2 --> 4)\n",
      "(1 --> 5)\n",
      "(5 --> 6)\n",
      "(0 --> 7)\n",
      "(7 --> 8)\n",
      "(7 --> 9)\n",
      "(9 --> 10)\n",
      "(9 --> 11)\n",
      "(9 --> 12)\n"
     ]
    }
   ],
   "source": [
    "dfs(0)"
   ]
  },
  {
   "cell_type": "markdown",
   "metadata": {},
   "source": [
    "##### bfs 구현하기"
   ]
  },
  {
   "cell_type": "code",
   "execution_count": 17,
   "metadata": {},
   "outputs": [
    {
     "name": "stdout",
     "output_type": "stream",
     "text": [
      "[0, 1, 1, 0, 0, 0, 0, 0, 0, 0, 0, 0, 0]\n",
      "[0, 0, 0, 1, 1, 0, 0, 0, 0, 0, 0, 0, 0]\n",
      "[0, 0, 0, 0, 0, 1, 1, 0, 0, 0, 0, 0, 0]\n",
      "[0, 0, 0, 0, 0, 0, 0, 1, 1, 0, 0, 0, 0]\n",
      "[0, 0, 0, 0, 0, 0, 0, 0, 0, 1, 0, 0, 0]\n",
      "[0, 0, 0, 0, 0, 0, 0, 0, 0, 0, 0, 0, 0]\n",
      "[0, 0, 0, 0, 0, 0, 0, 0, 0, 0, 1, 1, 1]\n",
      "[0, 0, 0, 0, 0, 0, 0, 0, 0, 0, 0, 0, 0]\n",
      "[0, 0, 0, 0, 0, 0, 0, 0, 0, 0, 0, 0, 0]\n",
      "[0, 0, 0, 0, 0, 0, 0, 0, 0, 0, 0, 0, 0]\n",
      "[0, 0, 0, 0, 0, 0, 0, 0, 0, 0, 0, 0, 0]\n",
      "[0, 0, 0, 0, 0, 0, 0, 0, 0, 0, 0, 0, 0]\n",
      "[0, 0, 0, 0, 0, 0, 0, 0, 0, 0, 0, 0, 0]\n"
     ]
    }
   ],
   "source": [
    "adj = [[0] * 13 for _ in range(13)]\n",
    "adj[0][1], adj[0][2] = 1, 1\n",
    "adj[1][3], adj[1][4], adj[2][5], adj[2][6] = 1, 1, 1, 1\n",
    "adj[3][7], adj[3][8], adj[4][9], adj[6][10], adj[6][11], adj[6][12] = 1, 1, 1, 1, 1, 1\n",
    "\n",
    "for row in adj:\n",
    "    print(row)"
   ]
  },
  {
   "cell_type": "code",
   "execution_count": 19,
   "metadata": {},
   "outputs": [],
   "source": [
    "from collections import deque"
   ]
  },
  {
   "cell_type": "code",
   "execution_count": null,
   "metadata": {},
   "outputs": [],
   "source": [
    "def bfs():\n",
    "    dq = deque()\n",
    "    dq.append(0)\n",
    "    for i in range(13):\n",
    "        for j in range(13):\n",
    "            if adj[i][j]:\n",
    "                dq.popleft()\n",
    "                dq.append(j)"
   ]
  },
  {
   "cell_type": "code",
   "execution_count": 22,
   "metadata": {},
   "outputs": [],
   "source": [
    "def bfs():\n",
    "    dq = deque()\n",
    "    dq.append(0)\n",
    "    \n",
    "    while dq:\n",
    "        now = dq.popleft()\n",
    "        for nxt in range(13):\n",
    "            if adj[now][nxt]:\n",
    "                print(f\"({now} --> {nxt})\")\n",
    "                dq.append(nxt)"
   ]
  },
  {
   "cell_type": "code",
   "execution_count": 23,
   "metadata": {},
   "outputs": [
    {
     "name": "stdout",
     "output_type": "stream",
     "text": [
      "(0 --> 1)\n",
      "(0 --> 2)\n",
      "(1 --> 3)\n",
      "(1 --> 4)\n",
      "(2 --> 5)\n",
      "(2 --> 6)\n",
      "(3 --> 7)\n",
      "(3 --> 8)\n",
      "(4 --> 9)\n",
      "(6 --> 10)\n",
      "(6 --> 11)\n",
      "(6 --> 12)\n"
     ]
    }
   ],
   "source": [
    "bfs()"
   ]
  },
  {
   "cell_type": "markdown",
   "metadata": {},
   "source": [
    "##### 길찾기 "
   ]
  },
  {
   "cell_type": "code",
   "execution_count": 9,
   "metadata": {},
   "outputs": [],
   "source": [
    "dy = (0, 1, 0, -1)\n",
    "dx = (1, 0, -1, 0)\n",
    "\n",
    "chk = [[False] * 5 for _ in range(5)]\n",
    "N = int(input())\n",
    "\n",
    "def is_valid_coord(y, x):\n",
    "    return 0 <= y < N and 0 <= x < N\n",
    "\n",
    "from collections import deque\n",
    "\n",
    "def bfs(start_y, start_x):\n",
    "    q = deque()\n",
    "    q.append((start_y, start_x))\n",
    "    print(f\"The starting coordinates is {start_y, start_x}\")\n",
    "    print()\n",
    "            \n",
    "    while len(q) > 0: \n",
    "        y, x = q.popleft()\n",
    "        chk[y][x] = True\n",
    "        for k in range(4):\n",
    "            ny = y + dy[k]\n",
    "            nx = x + dx[k]\n",
    "                      \n",
    "            if is_valid_coord(ny, nx) and not chk[ny][nx]:\n",
    "                q.append((ny, nx))\n",
    "                print(f\"from {(y, x)} with {dy[k], dx[k]} == to {(ny, nx)}\")\n",
    "        print()                \n",
    "        print(\"Let's go to the next moves!\")        "
   ]
  },
  {
   "cell_type": "code",
   "execution_count": 10,
   "metadata": {},
   "outputs": [
    {
     "name": "stdout",
     "output_type": "stream",
     "text": [
      "The starting coordinates is (2, 2)\n",
      "\n",
      "from (2, 2) with (0, 1) == to (2, 3)\n",
      "from (2, 2) with (1, 0) == to (3, 2)\n",
      "from (2, 2) with (0, -1) == to (2, 1)\n",
      "from (2, 2) with (-1, 0) == to (1, 2)\n",
      "\n",
      "Let's go to the next moves!\n",
      "from (2, 3) with (0, 1) == to (2, 4)\n",
      "from (2, 3) with (1, 0) == to (3, 3)\n",
      "from (2, 3) with (-1, 0) == to (1, 3)\n",
      "\n",
      "Let's go to the next moves!\n",
      "from (3, 2) with (0, 1) == to (3, 3)\n",
      "from (3, 2) with (1, 0) == to (4, 2)\n",
      "from (3, 2) with (0, -1) == to (3, 1)\n",
      "\n",
      "Let's go to the next moves!\n",
      "from (2, 1) with (1, 0) == to (3, 1)\n",
      "from (2, 1) with (0, -1) == to (2, 0)\n",
      "from (2, 1) with (-1, 0) == to (1, 1)\n",
      "\n",
      "Let's go to the next moves!\n",
      "from (1, 2) with (0, 1) == to (1, 3)\n",
      "from (1, 2) with (0, -1) == to (1, 1)\n",
      "from (1, 2) with (-1, 0) == to (0, 2)\n",
      "\n",
      "Let's go to the next moves!\n",
      "from (2, 4) with (1, 0) == to (3, 4)\n",
      "from (2, 4) with (-1, 0) == to (1, 4)\n",
      "\n",
      "Let's go to the next moves!\n",
      "from (3, 3) with (0, 1) == to (3, 4)\n",
      "from (3, 3) with (1, 0) == to (4, 3)\n",
      "\n",
      "Let's go to the next moves!\n",
      "from (1, 3) with (0, 1) == to (1, 4)\n",
      "from (1, 3) with (-1, 0) == to (0, 3)\n",
      "\n",
      "Let's go to the next moves!\n",
      "from (3, 3) with (0, 1) == to (3, 4)\n",
      "from (3, 3) with (1, 0) == to (4, 3)\n",
      "\n",
      "Let's go to the next moves!\n",
      "from (4, 2) with (0, 1) == to (4, 3)\n",
      "from (4, 2) with (0, -1) == to (4, 1)\n",
      "\n",
      "Let's go to the next moves!\n",
      "from (3, 1) with (1, 0) == to (4, 1)\n",
      "from (3, 1) with (0, -1) == to (3, 0)\n",
      "\n",
      "Let's go to the next moves!\n",
      "from (3, 1) with (1, 0) == to (4, 1)\n",
      "from (3, 1) with (0, -1) == to (3, 0)\n",
      "\n",
      "Let's go to the next moves!\n",
      "from (2, 0) with (1, 0) == to (3, 0)\n",
      "from (2, 0) with (-1, 0) == to (1, 0)\n",
      "\n",
      "Let's go to the next moves!\n",
      "from (1, 1) with (0, -1) == to (1, 0)\n",
      "from (1, 1) with (-1, 0) == to (0, 1)\n",
      "\n",
      "Let's go to the next moves!\n",
      "from (1, 3) with (0, 1) == to (1, 4)\n",
      "from (1, 3) with (-1, 0) == to (0, 3)\n",
      "\n",
      "Let's go to the next moves!\n",
      "from (1, 1) with (0, -1) == to (1, 0)\n",
      "from (1, 1) with (-1, 0) == to (0, 1)\n",
      "\n",
      "Let's go to the next moves!\n",
      "from (0, 2) with (0, 1) == to (0, 3)\n",
      "from (0, 2) with (0, -1) == to (0, 1)\n",
      "\n",
      "Let's go to the next moves!\n",
      "from (3, 4) with (1, 0) == to (4, 4)\n",
      "\n",
      "Let's go to the next moves!\n",
      "from (1, 4) with (-1, 0) == to (0, 4)\n",
      "\n",
      "Let's go to the next moves!\n",
      "from (3, 4) with (1, 0) == to (4, 4)\n",
      "\n",
      "Let's go to the next moves!\n",
      "from (4, 3) with (0, 1) == to (4, 4)\n",
      "\n",
      "Let's go to the next moves!\n",
      "from (1, 4) with (-1, 0) == to (0, 4)\n",
      "\n",
      "Let's go to the next moves!\n",
      "from (0, 3) with (0, 1) == to (0, 4)\n",
      "\n",
      "Let's go to the next moves!\n",
      "from (3, 4) with (1, 0) == to (4, 4)\n",
      "\n",
      "Let's go to the next moves!\n",
      "from (4, 3) with (0, 1) == to (4, 4)\n",
      "\n",
      "Let's go to the next moves!\n",
      "from (4, 3) with (0, 1) == to (4, 4)\n",
      "\n",
      "Let's go to the next moves!\n",
      "from (4, 1) with (0, -1) == to (4, 0)\n",
      "\n",
      "Let's go to the next moves!\n",
      "from (4, 1) with (0, -1) == to (4, 0)\n",
      "\n",
      "Let's go to the next moves!\n",
      "from (3, 0) with (1, 0) == to (4, 0)\n",
      "\n",
      "Let's go to the next moves!\n",
      "from (4, 1) with (0, -1) == to (4, 0)\n",
      "\n",
      "Let's go to the next moves!\n",
      "from (3, 0) with (1, 0) == to (4, 0)\n",
      "\n",
      "Let's go to the next moves!\n",
      "from (3, 0) with (1, 0) == to (4, 0)\n",
      "\n",
      "Let's go to the next moves!\n",
      "from (1, 0) with (-1, 0) == to (0, 0)\n",
      "\n",
      "Let's go to the next moves!\n",
      "from (1, 0) with (-1, 0) == to (0, 0)\n",
      "\n",
      "Let's go to the next moves!\n",
      "from (0, 1) with (0, -1) == to (0, 0)\n",
      "\n",
      "Let's go to the next moves!\n",
      "from (1, 4) with (-1, 0) == to (0, 4)\n",
      "\n",
      "Let's go to the next moves!\n",
      "from (0, 3) with (0, 1) == to (0, 4)\n",
      "\n",
      "Let's go to the next moves!\n",
      "from (1, 0) with (-1, 0) == to (0, 0)\n",
      "\n",
      "Let's go to the next moves!\n",
      "from (0, 1) with (0, -1) == to (0, 0)\n",
      "\n",
      "Let's go to the next moves!\n",
      "from (0, 3) with (0, 1) == to (0, 4)\n",
      "\n",
      "Let's go to the next moves!\n",
      "from (0, 1) with (0, -1) == to (0, 0)\n",
      "\n",
      "Let's go to the next moves!\n",
      "\n",
      "Let's go to the next moves!\n",
      "\n",
      "Let's go to the next moves!\n",
      "\n",
      "Let's go to the next moves!\n",
      "\n",
      "Let's go to the next moves!\n",
      "\n",
      "Let's go to the next moves!\n",
      "\n",
      "Let's go to the next moves!\n",
      "\n",
      "Let's go to the next moves!\n",
      "\n",
      "Let's go to the next moves!\n",
      "\n",
      "Let's go to the next moves!\n",
      "\n",
      "Let's go to the next moves!\n",
      "\n",
      "Let's go to the next moves!\n",
      "\n",
      "Let's go to the next moves!\n",
      "\n",
      "Let's go to the next moves!\n",
      "\n",
      "Let's go to the next moves!\n",
      "\n",
      "Let's go to the next moves!\n",
      "\n",
      "Let's go to the next moves!\n",
      "\n",
      "Let's go to the next moves!\n",
      "\n",
      "Let's go to the next moves!\n",
      "\n",
      "Let's go to the next moves!\n",
      "\n",
      "Let's go to the next moves!\n",
      "\n",
      "Let's go to the next moves!\n",
      "\n",
      "Let's go to the next moves!\n",
      "\n",
      "Let's go to the next moves!\n",
      "\n",
      "Let's go to the next moves!\n"
     ]
    }
   ],
   "source": [
    "bfs(2, 2)"
   ]
  },
  {
   "cell_type": "markdown",
   "metadata": {},
   "source": [
    "##### adjacency matrix"
   ]
  },
  {
   "cell_type": "code",
   "execution_count": 4,
   "metadata": {},
   "outputs": [
    {
     "name": "stdout",
     "output_type": "stream",
     "text": [
      "Number of vertices : 4,   Number of edges : 4\n",
      "\n"
     ]
    },
    {
     "ename": "IndexError",
     "evalue": "list assignment index out of range",
     "output_type": "error",
     "traceback": [
      "\u001b[1;31m---------------------------------------------------------------------------\u001b[0m",
      "\u001b[1;31mIndexError\u001b[0m                                Traceback (most recent call last)",
      "\u001b[1;32me:\\BAEKJOON_072723\\dfs_bfs.ipynb Cell 15\u001b[0m in \u001b[0;36m<cell line: 7>\u001b[1;34m()\u001b[0m\n\u001b[0;32m      <a href='vscode-notebook-cell:/e%3A/BAEKJOON_072723/dfs_bfs.ipynb#X16sZmlsZQ%3D%3D?line=6'>7</a>\u001b[0m \u001b[39mfor\u001b[39;00m _ \u001b[39min\u001b[39;00m \u001b[39mrange\u001b[39m(e):\n\u001b[0;32m      <a href='vscode-notebook-cell:/e%3A/BAEKJOON_072723/dfs_bfs.ipynb#X16sZmlsZQ%3D%3D?line=7'>8</a>\u001b[0m     start, end \u001b[39m=\u001b[39m \u001b[39mmap\u001b[39m(\u001b[39mint\u001b[39m, \u001b[39minput\u001b[39m()\u001b[39m.\u001b[39msplit())\n\u001b[1;32m----> <a href='vscode-notebook-cell:/e%3A/BAEKJOON_072723/dfs_bfs.ipynb#X16sZmlsZQ%3D%3D?line=8'>9</a>\u001b[0m     adj[start][end] \u001b[39m=\u001b[39m \u001b[39m1\u001b[39m\n\u001b[0;32m     <a href='vscode-notebook-cell:/e%3A/BAEKJOON_072723/dfs_bfs.ipynb#X16sZmlsZQ%3D%3D?line=9'>10</a>\u001b[0m     adj[end][start] \u001b[39m=\u001b[39m \u001b[39m1\u001b[39m\n\u001b[0;32m     <a href='vscode-notebook-cell:/e%3A/BAEKJOON_072723/dfs_bfs.ipynb#X16sZmlsZQ%3D%3D?line=11'>12</a>\u001b[0m \u001b[39mfor\u001b[39;00m l \u001b[39min\u001b[39;00m adj:\n",
      "\u001b[1;31mIndexError\u001b[0m: list assignment index out of range"
     ]
    }
   ],
   "source": [
    "v, e = map(int, input().split())\n",
    "print(f\"Number of vertices : {v},   Number of edges : {e}\")\n",
    "print()\n",
    "\n",
    "adj = [[0] * v for _ in range(v)]\n",
    "\n",
    "for _ in range(e):\n",
    "    start, end = map(int, input().split())\n",
    "    adj[start-1][end-1] = 1\n",
    "    adj[end-1][start-1] = 1\n",
    "    \n",
    "for l in adj:\n",
    "    print(l)"
   ]
  },
  {
   "cell_type": "code",
   "execution_count": null,
   "metadata": {},
   "outputs": [],
   "source": []
  }
 ],
 "metadata": {
  "kernelspec": {
   "display_name": "base",
   "language": "python",
   "name": "python3"
  },
  "language_info": {
   "codemirror_mode": {
    "name": "ipython",
    "version": 3
   },
   "file_extension": ".py",
   "mimetype": "text/x-python",
   "name": "python",
   "nbconvert_exporter": "python",
   "pygments_lexer": "ipython3",
   "version": "3.9.12"
  },
  "orig_nbformat": 4
 },
 "nbformat": 4,
 "nbformat_minor": 2
}
