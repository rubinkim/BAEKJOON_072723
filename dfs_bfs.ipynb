{
 "cells": [
  {
   "cell_type": "markdown",
   "metadata": {},
   "source": [
    "##### DFS 구현하기"
   ]
  },
  {
   "cell_type": "code",
   "execution_count": 3,
   "metadata": {},
   "outputs": [
    {
     "name": "stdout",
     "output_type": "stream",
     "text": [
      "[0, 1, 0, 0, 0, 0, 0, 1, 0, 0, 0, 0, 0]\n",
      "[0, 0, 1, 0, 0, 1, 0, 0, 0, 0, 0, 0, 0]\n",
      "[0, 0, 0, 1, 1, 0, 0, 0, 0, 0, 0, 0, 0]\n",
      "[0, 0, 0, 0, 0, 0, 0, 0, 0, 0, 0, 0, 0]\n",
      "[0, 0, 0, 0, 0, 0, 0, 0, 0, 0, 0, 0, 0]\n",
      "[0, 0, 0, 0, 0, 0, 1, 0, 0, 0, 0, 0, 0]\n",
      "[0, 0, 0, 0, 0, 0, 0, 0, 0, 0, 0, 0, 0]\n",
      "[0, 0, 0, 0, 0, 0, 0, 0, 1, 1, 0, 0, 0]\n",
      "[0, 0, 0, 0, 0, 0, 0, 0, 0, 0, 0, 0, 0]\n",
      "[0, 0, 0, 0, 0, 0, 0, 0, 0, 0, 1, 1, 1]\n",
      "[0, 0, 0, 0, 0, 0, 0, 0, 0, 0, 0, 0, 0]\n",
      "[0, 0, 0, 0, 0, 0, 0, 0, 0, 0, 0, 0, 0]\n",
      "[0, 0, 0, 0, 0, 0, 0, 0, 0, 0, 0, 0, 0]\n"
     ]
    }
   ],
   "source": [
    "adj = [[0] * 13 for _ in range(13)]\n",
    "adj[0][1], adj[0][7] = 1, 1\n",
    "adj[1][2], adj[1][5], adj[7][8], adj[7][9] = 1, 1, 1, 1\n",
    "adj[2][3], adj[2][4], adj[5][6], adj[9][10], adj[9][11], adj[9][12] = 1, 1, 1, 1, 1, 1\n",
    "\n",
    "for row in adj:\n",
    "    print(row)"
   ]
  },
  {
   "cell_type": "code",
   "execution_count": 15,
   "metadata": {},
   "outputs": [],
   "source": [
    "def dfs(now):    \n",
    "    for nxt in range(len(adj)):\n",
    "        if adj[now][nxt]:\n",
    "            print(f\"({now} --> {nxt})\")\n",
    "            dfs(nxt)            "
   ]
  },
  {
   "cell_type": "code",
   "execution_count": 16,
   "metadata": {},
   "outputs": [
    {
     "name": "stdout",
     "output_type": "stream",
     "text": [
      "(0 --> 1)\n",
      "(1 --> 2)\n",
      "(2 --> 3)\n",
      "(2 --> 4)\n",
      "(1 --> 5)\n",
      "(5 --> 6)\n",
      "(0 --> 7)\n",
      "(7 --> 8)\n",
      "(7 --> 9)\n",
      "(9 --> 10)\n",
      "(9 --> 11)\n",
      "(9 --> 12)\n"
     ]
    }
   ],
   "source": [
    "dfs(0)"
   ]
  },
  {
   "cell_type": "markdown",
   "metadata": {},
   "source": [
    "##### bfs 구현하기"
   ]
  },
  {
   "cell_type": "code",
   "execution_count": 17,
   "metadata": {},
   "outputs": [
    {
     "name": "stdout",
     "output_type": "stream",
     "text": [
      "[0, 1, 1, 0, 0, 0, 0, 0, 0, 0, 0, 0, 0]\n",
      "[0, 0, 0, 1, 1, 0, 0, 0, 0, 0, 0, 0, 0]\n",
      "[0, 0, 0, 0, 0, 1, 1, 0, 0, 0, 0, 0, 0]\n",
      "[0, 0, 0, 0, 0, 0, 0, 1, 1, 0, 0, 0, 0]\n",
      "[0, 0, 0, 0, 0, 0, 0, 0, 0, 1, 0, 0, 0]\n",
      "[0, 0, 0, 0, 0, 0, 0, 0, 0, 0, 0, 0, 0]\n",
      "[0, 0, 0, 0, 0, 0, 0, 0, 0, 0, 1, 1, 1]\n",
      "[0, 0, 0, 0, 0, 0, 0, 0, 0, 0, 0, 0, 0]\n",
      "[0, 0, 0, 0, 0, 0, 0, 0, 0, 0, 0, 0, 0]\n",
      "[0, 0, 0, 0, 0, 0, 0, 0, 0, 0, 0, 0, 0]\n",
      "[0, 0, 0, 0, 0, 0, 0, 0, 0, 0, 0, 0, 0]\n",
      "[0, 0, 0, 0, 0, 0, 0, 0, 0, 0, 0, 0, 0]\n",
      "[0, 0, 0, 0, 0, 0, 0, 0, 0, 0, 0, 0, 0]\n"
     ]
    }
   ],
   "source": [
    "adj = [[0] * 13 for _ in range(13)]\n",
    "adj[0][1], adj[0][2] = 1, 1\n",
    "adj[1][3], adj[1][4], adj[2][5], adj[2][6] = 1, 1, 1, 1\n",
    "adj[3][7], adj[3][8], adj[4][9], adj[6][10], adj[6][11], adj[6][12] = 1, 1, 1, 1, 1, 1\n",
    "\n",
    "for row in adj:\n",
    "    print(row)"
   ]
  },
  {
   "cell_type": "code",
   "execution_count": 19,
   "metadata": {},
   "outputs": [],
   "source": [
    "from collections import deque"
   ]
  },
  {
   "cell_type": "code",
   "execution_count": null,
   "metadata": {},
   "outputs": [],
   "source": [
    "def bfs():\n",
    "    dq = deque()\n",
    "    dq.append(0)\n",
    "    for i in range(13):\n",
    "        for j in range(13):\n",
    "            if adj[i][j]:\n",
    "                dq.popleft()\n",
    "                dq.append(j)"
   ]
  },
  {
   "cell_type": "code",
   "execution_count": 22,
   "metadata": {},
   "outputs": [],
   "source": [
    "def bfs():\n",
    "    dq = deque()\n",
    "    dq.append(0)\n",
    "    \n",
    "    while dq:\n",
    "        now = dq.popleft()\n",
    "        for nxt in range(13):\n",
    "            if adj[now][nxt]:\n",
    "                print(f\"({now} --> {nxt})\")\n",
    "                dq.append(nxt)"
   ]
  },
  {
   "cell_type": "code",
   "execution_count": 23,
   "metadata": {},
   "outputs": [
    {
     "name": "stdout",
     "output_type": "stream",
     "text": [
      "(0 --> 1)\n",
      "(0 --> 2)\n",
      "(1 --> 3)\n",
      "(1 --> 4)\n",
      "(2 --> 5)\n",
      "(2 --> 6)\n",
      "(3 --> 7)\n",
      "(3 --> 8)\n",
      "(4 --> 9)\n",
      "(6 --> 10)\n",
      "(6 --> 11)\n",
      "(6 --> 12)\n"
     ]
    }
   ],
   "source": [
    "bfs()"
   ]
  },
  {
   "cell_type": "markdown",
   "metadata": {},
   "source": [
    "##### 길찾기 "
   ]
  },
  {
   "cell_type": "code",
   "execution_count": 9,
   "metadata": {},
   "outputs": [],
   "source": [
    "dy = (0, 1, 0, -1)\n",
    "dx = (1, 0, -1, 0)\n",
    "\n",
    "chk = [[False] * 5 for _ in range(5)]\n",
    "N = int(input())\n",
    "\n",
    "def is_valid_coord(y, x):\n",
    "    return 0 <= y < N and 0 <= x < N\n",
    "\n",
    "from collections import deque\n",
    "\n",
    "def bfs(start_y, start_x):\n",
    "    q = deque()\n",
    "    q.append((start_y, start_x))\n",
    "    print(f\"The starting coordinates is {start_y, start_x}\")\n",
    "    print()\n",
    "            \n",
    "    while len(q) > 0: \n",
    "        y, x = q.popleft()\n",
    "        chk[y][x] = True\n",
    "        for k in range(4):\n",
    "            ny = y + dy[k]\n",
    "            nx = x + dx[k]\n",
    "                      \n",
    "            if is_valid_coord(ny, nx) and not chk[ny][nx]:\n",
    "                q.append((ny, nx))\n",
    "                print(f\"from {(y, x)} with {dy[k], dx[k]} == to {(ny, nx)}\")\n",
    "        print()                \n",
    "        print(\"Let's go to the next moves!\")        "
   ]
  },
  {
   "cell_type": "code",
   "execution_count": 10,
   "metadata": {},
   "outputs": [
    {
     "name": "stdout",
     "output_type": "stream",
     "text": [
      "The starting coordinates is (2, 2)\n",
      "\n",
      "from (2, 2) with (0, 1) == to (2, 3)\n",
      "from (2, 2) with (1, 0) == to (3, 2)\n",
      "from (2, 2) with (0, -1) == to (2, 1)\n",
      "from (2, 2) with (-1, 0) == to (1, 2)\n",
      "\n",
      "Let's go to the next moves!\n",
      "from (2, 3) with (0, 1) == to (2, 4)\n",
      "from (2, 3) with (1, 0) == to (3, 3)\n",
      "from (2, 3) with (-1, 0) == to (1, 3)\n",
      "\n",
      "Let's go to the next moves!\n",
      "from (3, 2) with (0, 1) == to (3, 3)\n",
      "from (3, 2) with (1, 0) == to (4, 2)\n",
      "from (3, 2) with (0, -1) == to (3, 1)\n",
      "\n",
      "Let's go to the next moves!\n",
      "from (2, 1) with (1, 0) == to (3, 1)\n",
      "from (2, 1) with (0, -1) == to (2, 0)\n",
      "from (2, 1) with (-1, 0) == to (1, 1)\n",
      "\n",
      "Let's go to the next moves!\n",
      "from (1, 2) with (0, 1) == to (1, 3)\n",
      "from (1, 2) with (0, -1) == to (1, 1)\n",
      "from (1, 2) with (-1, 0) == to (0, 2)\n",
      "\n",
      "Let's go to the next moves!\n",
      "from (2, 4) with (1, 0) == to (3, 4)\n",
      "from (2, 4) with (-1, 0) == to (1, 4)\n",
      "\n",
      "Let's go to the next moves!\n",
      "from (3, 3) with (0, 1) == to (3, 4)\n",
      "from (3, 3) with (1, 0) == to (4, 3)\n",
      "\n",
      "Let's go to the next moves!\n",
      "from (1, 3) with (0, 1) == to (1, 4)\n",
      "from (1, 3) with (-1, 0) == to (0, 3)\n",
      "\n",
      "Let's go to the next moves!\n",
      "from (3, 3) with (0, 1) == to (3, 4)\n",
      "from (3, 3) with (1, 0) == to (4, 3)\n",
      "\n",
      "Let's go to the next moves!\n",
      "from (4, 2) with (0, 1) == to (4, 3)\n",
      "from (4, 2) with (0, -1) == to (4, 1)\n",
      "\n",
      "Let's go to the next moves!\n",
      "from (3, 1) with (1, 0) == to (4, 1)\n",
      "from (3, 1) with (0, -1) == to (3, 0)\n",
      "\n",
      "Let's go to the next moves!\n",
      "from (3, 1) with (1, 0) == to (4, 1)\n",
      "from (3, 1) with (0, -1) == to (3, 0)\n",
      "\n",
      "Let's go to the next moves!\n",
      "from (2, 0) with (1, 0) == to (3, 0)\n",
      "from (2, 0) with (-1, 0) == to (1, 0)\n",
      "\n",
      "Let's go to the next moves!\n",
      "from (1, 1) with (0, -1) == to (1, 0)\n",
      "from (1, 1) with (-1, 0) == to (0, 1)\n",
      "\n",
      "Let's go to the next moves!\n",
      "from (1, 3) with (0, 1) == to (1, 4)\n",
      "from (1, 3) with (-1, 0) == to (0, 3)\n",
      "\n",
      "Let's go to the next moves!\n",
      "from (1, 1) with (0, -1) == to (1, 0)\n",
      "from (1, 1) with (-1, 0) == to (0, 1)\n",
      "\n",
      "Let's go to the next moves!\n",
      "from (0, 2) with (0, 1) == to (0, 3)\n",
      "from (0, 2) with (0, -1) == to (0, 1)\n",
      "\n",
      "Let's go to the next moves!\n",
      "from (3, 4) with (1, 0) == to (4, 4)\n",
      "\n",
      "Let's go to the next moves!\n",
      "from (1, 4) with (-1, 0) == to (0, 4)\n",
      "\n",
      "Let's go to the next moves!\n",
      "from (3, 4) with (1, 0) == to (4, 4)\n",
      "\n",
      "Let's go to the next moves!\n",
      "from (4, 3) with (0, 1) == to (4, 4)\n",
      "\n",
      "Let's go to the next moves!\n",
      "from (1, 4) with (-1, 0) == to (0, 4)\n",
      "\n",
      "Let's go to the next moves!\n",
      "from (0, 3) with (0, 1) == to (0, 4)\n",
      "\n",
      "Let's go to the next moves!\n",
      "from (3, 4) with (1, 0) == to (4, 4)\n",
      "\n",
      "Let's go to the next moves!\n",
      "from (4, 3) with (0, 1) == to (4, 4)\n",
      "\n",
      "Let's go to the next moves!\n",
      "from (4, 3) with (0, 1) == to (4, 4)\n",
      "\n",
      "Let's go to the next moves!\n",
      "from (4, 1) with (0, -1) == to (4, 0)\n",
      "\n",
      "Let's go to the next moves!\n",
      "from (4, 1) with (0, -1) == to (4, 0)\n",
      "\n",
      "Let's go to the next moves!\n",
      "from (3, 0) with (1, 0) == to (4, 0)\n",
      "\n",
      "Let's go to the next moves!\n",
      "from (4, 1) with (0, -1) == to (4, 0)\n",
      "\n",
      "Let's go to the next moves!\n",
      "from (3, 0) with (1, 0) == to (4, 0)\n",
      "\n",
      "Let's go to the next moves!\n",
      "from (3, 0) with (1, 0) == to (4, 0)\n",
      "\n",
      "Let's go to the next moves!\n",
      "from (1, 0) with (-1, 0) == to (0, 0)\n",
      "\n",
      "Let's go to the next moves!\n",
      "from (1, 0) with (-1, 0) == to (0, 0)\n",
      "\n",
      "Let's go to the next moves!\n",
      "from (0, 1) with (0, -1) == to (0, 0)\n",
      "\n",
      "Let's go to the next moves!\n",
      "from (1, 4) with (-1, 0) == to (0, 4)\n",
      "\n",
      "Let's go to the next moves!\n",
      "from (0, 3) with (0, 1) == to (0, 4)\n",
      "\n",
      "Let's go to the next moves!\n",
      "from (1, 0) with (-1, 0) == to (0, 0)\n",
      "\n",
      "Let's go to the next moves!\n",
      "from (0, 1) with (0, -1) == to (0, 0)\n",
      "\n",
      "Let's go to the next moves!\n",
      "from (0, 3) with (0, 1) == to (0, 4)\n",
      "\n",
      "Let's go to the next moves!\n",
      "from (0, 1) with (0, -1) == to (0, 0)\n",
      "\n",
      "Let's go to the next moves!\n",
      "\n",
      "Let's go to the next moves!\n",
      "\n",
      "Let's go to the next moves!\n",
      "\n",
      "Let's go to the next moves!\n",
      "\n",
      "Let's go to the next moves!\n",
      "\n",
      "Let's go to the next moves!\n",
      "\n",
      "Let's go to the next moves!\n",
      "\n",
      "Let's go to the next moves!\n",
      "\n",
      "Let's go to the next moves!\n",
      "\n",
      "Let's go to the next moves!\n",
      "\n",
      "Let's go to the next moves!\n",
      "\n",
      "Let's go to the next moves!\n",
      "\n",
      "Let's go to the next moves!\n",
      "\n",
      "Let's go to the next moves!\n",
      "\n",
      "Let's go to the next moves!\n",
      "\n",
      "Let's go to the next moves!\n",
      "\n",
      "Let's go to the next moves!\n",
      "\n",
      "Let's go to the next moves!\n",
      "\n",
      "Let's go to the next moves!\n",
      "\n",
      "Let's go to the next moves!\n",
      "\n",
      "Let's go to the next moves!\n",
      "\n",
      "Let's go to the next moves!\n",
      "\n",
      "Let's go to the next moves!\n",
      "\n",
      "Let's go to the next moves!\n",
      "\n",
      "Let's go to the next moves!\n"
     ]
    }
   ],
   "source": [
    "bfs(2, 2)"
   ]
  },
  {
   "cell_type": "markdown",
   "metadata": {},
   "source": [
    "##### adjacency matrix"
   ]
  },
  {
   "cell_type": "code",
   "execution_count": 5,
   "metadata": {},
   "outputs": [
    {
     "name": "stdout",
     "output_type": "stream",
     "text": [
      "Number of vertices : 4,   Number of edges : 4\n",
      "\n",
      "[0, 1, 1, 0]\n",
      "[1, 0, 1, 0]\n",
      "[1, 1, 0, 1]\n",
      "[0, 0, 1, 0]\n"
     ]
    }
   ],
   "source": [
    "v, e = map(int, input().split())\n",
    "print(f\"Number of vertices : {v},   Number of edges : {e}\")\n",
    "print()\n",
    "\n",
    "adj = [[0] * v for _ in range(v)]\n",
    "\n",
    "for _ in range(e):\n",
    "    start, end = map(int, input().split())\n",
    "    adj[start-1][end-1] = 1\n",
    "    adj[end-1][start-1] = 1\n",
    "    \n",
    "for l in adj:\n",
    "    print(l)"
   ]
  },
  {
   "cell_type": "markdown",
   "metadata": {},
   "source": [
    "##### adjacency list"
   ]
  },
  {
   "cell_type": "code",
   "execution_count": 10,
   "metadata": {},
   "outputs": [
    {
     "name": "stdout",
     "output_type": "stream",
     "text": [
      "[2, 3]\n",
      "[1, 3]\n",
      "[1, 2, 4]\n",
      "[3]\n"
     ]
    }
   ],
   "source": [
    "v, e = map(int, input().split())\n",
    "adj = [[] for _ in range(v)]\n",
    "\n",
    "for _ in range(e):\n",
    "    start, end = map(int, input().split())\n",
    "    adj[start-1].append(end)\n",
    "    adj[end-1].append(start)\n",
    "    \n",
    "for l in adj:\n",
    "    print(l)"
   ]
  },
  {
   "cell_type": "code",
   "execution_count": 13,
   "metadata": {},
   "outputs": [
    {
     "name": "stdout",
     "output_type": "stream",
     "text": [
      "{1: [2, 3], 2: [1, 3], 3: [1, 2, 4], 4: [3]}\n"
     ]
    }
   ],
   "source": [
    "adj_dict = dict(zip(range(1, v+1), adj))\n",
    "print(adj_dict)"
   ]
  },
  {
   "cell_type": "code",
   "execution_count": null,
   "metadata": {},
   "outputs": [],
   "source": []
  },
  {
   "cell_type": "markdown",
   "metadata": {},
   "source": [
    "##### DFS 구현하기"
   ]
  },
  {
   "cell_type": "code",
   "execution_count": 1,
   "metadata": {},
   "outputs": [
    {
     "name": "stdout",
     "output_type": "stream",
     "text": [
      "[0, 1, 1, 0, 0, 0, 0, 0, 0, 0, 0, 0, 0, 0, 0]\n",
      "[0, 0, 0, 1, 1, 0, 0, 0, 0, 0, 0, 0, 0, 0, 0]\n",
      "[0, 0, 0, 0, 0, 1, 1, 0, 0, 0, 0, 0, 0, 0, 0]\n",
      "[0, 0, 0, 0, 0, 0, 0, 1, 0, 0, 0, 0, 0, 0, 0]\n",
      "[0, 0, 0, 0, 0, 0, 0, 0, 1, 1, 0, 0, 0, 0, 0]\n",
      "[0, 0, 0, 0, 0, 0, 0, 0, 0, 0, 0, 0, 0, 0, 0]\n",
      "[0, 0, 0, 0, 0, 0, 0, 0, 0, 0, 1, 1, 1, 0, 0]\n",
      "[0, 0, 0, 0, 0, 0, 0, 0, 0, 0, 0, 0, 0, 1, 1]\n",
      "[0, 0, 0, 0, 0, 0, 0, 0, 0, 0, 0, 0, 0, 0, 0]\n",
      "[0, 0, 0, 0, 0, 0, 0, 0, 0, 0, 0, 0, 0, 0, 0]\n",
      "[0, 0, 0, 0, 0, 0, 0, 0, 0, 0, 0, 0, 0, 0, 0]\n",
      "[0, 0, 0, 0, 0, 0, 0, 0, 0, 0, 0, 0, 0, 0, 0]\n",
      "[0, 0, 0, 0, 0, 0, 0, 0, 0, 0, 0, 0, 0, 0, 0]\n",
      "[0, 0, 0, 0, 0, 0, 0, 0, 0, 0, 0, 0, 0, 0, 0]\n",
      "[0, 0, 0, 0, 0, 0, 0, 0, 0, 0, 0, 0, 0, 0, 0]\n"
     ]
    }
   ],
   "source": [
    "v, e = map(int, input().split())\n",
    "adj = [[0] * v for _ in range(v)]\n",
    "\n",
    "for _ in range(e):\n",
    "    start, end = map(int, input().split())\n",
    "    adj[start][end] = 1\n",
    "    \n",
    "for l in adj:\n",
    "    print(l)"
   ]
  },
  {
   "cell_type": "code",
   "execution_count": 9,
   "metadata": {},
   "outputs": [
    {
     "name": "stdout",
     "output_type": "stream",
     "text": [
      " 0 --->  1\n",
      " 1 --->  3\n",
      " 3 --->  7\n",
      " 7 ---> 13\n",
      " 7 ---> 14\n",
      " 1 --->  4\n",
      " 4 --->  8\n",
      " 4 --->  9\n",
      " 0 --->  2\n",
      " 2 --->  5\n",
      " 2 --->  6\n",
      " 6 ---> 10\n",
      " 6 ---> 11\n",
      " 6 ---> 12\n"
     ]
    }
   ],
   "source": [
    "def dfs(now):\n",
    "    for nxt in range(v):\n",
    "        if adj[now][nxt]:\n",
    "            print(f\"{now:2d} ---> {nxt:2d}\")\n",
    "            dfs(nxt)\n",
    "            \n",
    "dfs(0)"
   ]
  },
  {
   "cell_type": "code",
   "execution_count": 8,
   "metadata": {},
   "outputs": [
    {
     "name": "stdout",
     "output_type": "stream",
     "text": [
      " 1번째 연결은  0 --->  1\n",
      " 3번째 연결은  1 --->  3\n",
      " 7번째 연결은  3 --->  7\n",
      "13번째 연결은  7 ---> 13\n",
      "14번째 연결은  7 ---> 14\n",
      " 4번째 연결은  1 --->  4\n",
      " 8번째 연결은  4 --->  8\n",
      " 9번째 연결은  4 --->  9\n",
      " 2번째 연결은  0 --->  2\n",
      " 5번째 연결은  2 --->  5\n",
      " 6번째 연결은  2 --->  6\n",
      "10번째 연결은  6 ---> 10\n",
      "11번째 연결은  6 ---> 11\n",
      "12번째 연결은  6 ---> 12\n"
     ]
    }
   ],
   "source": [
    "def dfs(now):\n",
    "    for i, nxt in enumerate(range(v)):\n",
    "        if adj[now][nxt]:\n",
    "            print(f\"{i:2d}번째 연결은 {now:2d} ---> {nxt:2d}\")\n",
    "            dfs(nxt)\n",
    "            \n",
    "dfs(0)"
   ]
  },
  {
   "cell_type": "code",
   "execution_count": 10,
   "metadata": {},
   "outputs": [
    {
     "name": "stdout",
     "output_type": "stream",
     "text": [
      "[0, 1, 1, 0, 0, 0, 0, 0, 0, 0, 0, 0, 0, 0, 0]\n",
      "[0, 0, 0, 0, 0, 1, 1, 0, 0, 0, 0, 0, 0, 0, 0]\n",
      "[0, 0, 0, 1, 1, 0, 0, 0, 0, 0, 0, 0, 0, 0, 0]\n",
      "[0, 0, 0, 0, 0, 0, 0, 0, 0, 1, 1, 0, 0, 0, 0]\n",
      "[0, 0, 0, 0, 0, 0, 0, 1, 0, 0, 0, 0, 0, 0, 0]\n",
      "[0, 0, 0, 0, 0, 0, 0, 0, 0, 0, 0, 0, 1, 1, 1]\n",
      "[0, 0, 0, 0, 0, 0, 0, 0, 0, 0, 0, 0, 0, 0, 0]\n",
      "[0, 0, 0, 0, 0, 0, 0, 0, 1, 0, 0, 0, 0, 0, 0]\n",
      "[0, 0, 0, 0, 0, 0, 0, 0, 0, 0, 0, 0, 0, 0, 0]\n",
      "[0, 0, 0, 0, 0, 0, 0, 0, 0, 0, 0, 1, 0, 0, 0]\n",
      "[0, 0, 0, 0, 0, 0, 0, 0, 0, 0, 0, 0, 0, 0, 0]\n",
      "[0, 0, 0, 0, 0, 0, 0, 0, 0, 0, 0, 0, 0, 0, 0]\n",
      "[0, 0, 0, 0, 0, 0, 0, 0, 0, 0, 0, 0, 0, 0, 0]\n",
      "[0, 0, 0, 0, 0, 0, 0, 0, 0, 0, 0, 0, 0, 0, 0]\n",
      "[0, 0, 0, 0, 0, 0, 0, 0, 0, 0, 0, 0, 0, 0, 0]\n"
     ]
    }
   ],
   "source": [
    "v, e = map(int, input().split())\n",
    "adj = [[0] * v for _ in range(v)]\n",
    "\n",
    "for _ in range(e):\n",
    "    start, end = map(int, input().split())\n",
    "    adj[start][end] = 1\n",
    "    \n",
    "for l in adj:\n",
    "    print(l)"
   ]
  },
  {
   "cell_type": "code",
   "execution_count": 11,
   "metadata": {},
   "outputs": [
    {
     "name": "stdout",
     "output_type": "stream",
     "text": [
      " 0 --->  1\n",
      " 1 --->  5\n",
      " 5 ---> 12\n",
      " 5 ---> 13\n",
      " 5 ---> 14\n",
      " 1 --->  6\n",
      " 0 --->  2\n",
      " 2 --->  3\n",
      " 3 --->  9\n",
      " 9 ---> 11\n",
      " 3 ---> 10\n",
      " 2 --->  4\n",
      " 4 --->  7\n",
      " 7 --->  8\n"
     ]
    }
   ],
   "source": [
    "def dfs(now):\n",
    "    for nxt in range(v):\n",
    "        if adj[now][nxt]:\n",
    "            print(f\"{now:2d} ---> {nxt:2d}\")\n",
    "            dfs(nxt)\n",
    "            \n",
    "dfs(0)"
   ]
  },
  {
   "cell_type": "code",
   "execution_count": 1,
   "metadata": {},
   "outputs": [],
   "source": [
    "from collections import deque\n",
    "\n",
    "dy = (0, 1, 0, -1)\n",
    "dx = (1, 0, -1, 0)\n",
    "adj = [[0] * 100 for _ in range(100)]\n",
    "chk = [[False] * 100 for _ in range(100)]\n",
    "\n",
    "upper, lower, left, right = map(int, input().split())\n",
    "\n",
    "def is_coord_valid(y, x):\n",
    "    return lower <= y < upper and left <= x < right\n",
    "\n",
    "def bfs(start_y, start_x):\n",
    "    q = deque()\n",
    "    q.append((start_y, start_x))\n",
    "    \n",
    "    while len(q) > 0:\n",
    "        y, x = q.popleft()\n",
    "        adj[y][x] = 1\n",
    "        chk[y][x] = True\n",
    "        \n",
    "        for k in range(4):\n",
    "            ny = y + dy[k]\n",
    "            nx = x + dx[k]\n",
    "            if is_coord_valid(ny, nx) and not chk[ny][nx]:\n",
    "                q.append((ny, nx))"
   ]
  },
  {
   "cell_type": "code",
   "execution_count": 3,
   "metadata": {},
   "outputs": [],
   "source": [
    "bfs()"
   ]
  }
 ],
 "metadata": {
  "kernelspec": {
   "display_name": "base",
   "language": "python",
   "name": "python3"
  },
  "language_info": {
   "codemirror_mode": {
    "name": "ipython",
    "version": 3
   },
   "file_extension": ".py",
   "mimetype": "text/x-python",
   "name": "python",
   "nbconvert_exporter": "python",
   "pygments_lexer": "ipython3",
   "version": "3.9.12"
  },
  "orig_nbformat": 4
 },
 "nbformat": 4,
 "nbformat_minor": 2
}
