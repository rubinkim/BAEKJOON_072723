{
 "cells": [
  {
   "cell_type": "code",
   "execution_count": 26,
   "metadata": {},
   "outputs": [
    {
     "name": "stdout",
     "output_type": "stream",
     "text": [
      "7g\n",
      "[(0, 0, '1a'), (0, 1, '1b'), (0, 2, '1c'), (0, 3, '1d'), (0, 4, '1e'), (0, 5, '1f'), (0, 6, '1g'), (0, 7, '1h')]\n",
      "[(1, 0, '2a'), (1, 1, '2b'), (1, 2, '2c'), (1, 3, '2d'), (1, 4, '2e'), (1, 5, '2f'), (1, 6, '2g'), (1, 7, '2h')]\n",
      "[(2, 0, '3a'), (2, 1, '3b'), (2, 2, '3c'), (2, 3, '3d'), (2, 4, '3e'), (2, 5, '3f'), (2, 6, '3g'), (2, 7, '3h')]\n",
      "[(3, 0, '4a'), (3, 1, '4b'), (3, 2, '4c'), (3, 3, '4d'), (3, 4, '4e'), (3, 5, '4f'), (3, 6, '4g'), (3, 7, '4h')]\n",
      "[(4, 0, '5a'), (4, 1, '5b'), (4, 2, '5c'), (4, 3, '5d'), (4, 4, '5e'), (4, 5, '5f'), (4, 6, '5g'), (4, 7, '5h')]\n",
      "[(5, 0, '6a'), (5, 1, '6b'), (5, 2, '6c'), (5, 3, '6d'), (5, 4, '6e'), (5, 5, '6f'), (5, 6, '6g'), (5, 7, '6h')]\n",
      "[(6, 0, '7a'), (6, 1, '7b'), (6, 2, '7c'), (6, 3, '7d'), (6, 4, '7e'), (6, 5, '7f'), (6, 6, '7g'), (6, 7, '7h')]\n",
      "[(7, 0, '8a'), (7, 1, '8b'), (7, 2, '8c'), (7, 3, '8d'), (7, 4, '8e'), (7, 5, '8f'), (7, 6, '8g'), (7, 7, '8h')]\n"
     ]
    }
   ],
   "source": [
    "ch = input()\n",
    "print(ch)\n",
    "cnt = 0\n",
    "\n",
    "row, col = '12345678', 'abcdefgh'\n",
    "\n",
    "board = [[(i, j, r+c) for j, c in enumerate(col)] for i, r in enumerate(row)]\n",
    "\n",
    "for row in board:\n",
    "    print(row)"
   ]
  },
  {
   "cell_type": "code",
   "execution_count": 27,
   "metadata": {},
   "outputs": [],
   "source": [
    "def is_valid_coord(y, x):\n",
    "    return 0 <= y <= 7 and 0 <= x <= 7"
   ]
  },
  {
   "cell_type": "code",
   "execution_count": 29,
   "metadata": {},
   "outputs": [
    {
     "name": "stdout",
     "output_type": "stream",
     "text": [
      "6 6 7g\n",
      "7 8\n",
      "7 8\n",
      "7 8\n",
      "7 8\n",
      "7 8\n",
      "7 8\n",
      "7 8\n",
      "7 8\n",
      "7 8\n",
      "7 8\n",
      "7 8\n",
      "7 8\n",
      "7 8\n",
      "7 8\n",
      "7 8\n",
      "7 8\n",
      "7 8\n",
      "7 8\n",
      "7 8\n",
      "7 8\n",
      "7 8\n",
      "7 8\n",
      "7 8\n",
      "7 8\n",
      "7 8\n",
      "7 8\n",
      "7 8\n",
      "7 8\n",
      "7 8\n",
      "7 8\n",
      "7 8\n",
      "7 8\n",
      "7 8\n",
      "7 8\n",
      "7 8\n",
      "7 8\n",
      "7 8\n",
      "7 8\n",
      "7 8\n",
      "7 8\n",
      "7 8\n",
      "7 8\n",
      "7 8\n",
      "7 8\n",
      "7 8\n",
      "7 8\n",
      "7 8\n",
      "7 8\n",
      "7 8\n",
      "7 8\n",
      "7 8\n",
      "7 8\n",
      "7 8\n",
      "7 8\n",
      "7 8\n",
      "7 8\n",
      "7 8\n",
      "7 8\n",
      "7 8\n",
      "7 8\n",
      "7 8\n",
      "7 8\n",
      "7 8\n",
      "7 8\n",
      "0\n"
     ]
    }
   ],
   "source": [
    "dy = (-2, -2,  2, 2, -1, -1,  1, 1)\n",
    "dx = (-1,  1, -1, 1, -2,  2, -2, 2)\n",
    "\n",
    "for i in range(len(board)):\n",
    "    for j in range(len(board[i])):\n",
    "        if board[i][j][2] == ch:\n",
    "            print(i, j, ch)\n",
    "            y, x = i, j\n",
    "            \n",
    "for k in range(8):\n",
    "    ny = y + dy[i]\n",
    "    nx = x + dx[i]\n",
    "    print(ny, nx)\n",
    "    if is_valid_coord(ny, nx):\n",
    "        cnt += 1\n",
    "            \n",
    "print(cnt)"
   ]
  }
 ],
 "metadata": {
  "kernelspec": {
   "display_name": "base",
   "language": "python",
   "name": "python3"
  },
  "language_info": {
   "codemirror_mode": {
    "name": "ipython",
    "version": 3
   },
   "file_extension": ".py",
   "mimetype": "text/x-python",
   "name": "python",
   "nbconvert_exporter": "python",
   "pygments_lexer": "ipython3",
   "version": "3.9.12"
  },
  "orig_nbformat": 4
 },
 "nbformat": 4,
 "nbformat_minor": 2
}
