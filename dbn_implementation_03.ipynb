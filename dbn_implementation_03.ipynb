{
 "cells": [
  {
   "cell_type": "code",
   "execution_count": 75,
   "metadata": {},
   "outputs": [
    {
     "name": "stdout",
     "output_type": "stream",
     "text": [
      "3e\n",
      "(0, 3, True)\n",
      "(0, 5, True)\n",
      "(4, 3, True)\n",
      "(4, 5, True)\n",
      "(1, 2, True)\n",
      "(1, 6, True)\n",
      "(3, 2, True)\n",
      "(3, 6, True)\n",
      "(2, 4, '3e'),  cnt : 8\n"
     ]
    }
   ],
   "source": [
    "ch = input()\n",
    "print(ch)\n",
    "\n",
    "row, col = '12345678', 'abcdefgh'\n",
    "board = [[(i, j, r+c) for j, c in enumerate(col)] for i, r in enumerate(row)]\n",
    "\n",
    "cnt = 0\n",
    "\n",
    "def is_valid_coord(y, x):\n",
    "    return 0 <= y <= 7 and 0 <= x <= 7\n",
    "\n",
    "dy = (-2, -2,  2, 2, -1, -1,  1, 1)\n",
    "dx = (-1,  1, -1, 1, -2,  2, -2, 2)\n",
    "\n",
    "for i in range(len(board)):\n",
    "    for j in range(len(board[i])):\n",
    "        if board[i][j][2] == ch:\n",
    "            y, x = i, j\n",
    "            for k in range(8):\n",
    "                ny = y + dy[k]\n",
    "                nx = x + dx[k]\n",
    "                print((ny, nx, is_valid_coord(ny, nx)))\n",
    "                if is_valid_coord(ny, nx):\n",
    "                    cnt += 1\n",
    "\n",
    "            break\n",
    "print(f\"{(y, x, ch)},  cnt : {cnt}\")"
   ]
  }
 ],
 "metadata": {
  "kernelspec": {
   "display_name": "base",
   "language": "python",
   "name": "python3"
  },
  "language_info": {
   "codemirror_mode": {
    "name": "ipython",
    "version": 3
   },
   "file_extension": ".py",
   "mimetype": "text/x-python",
   "name": "python",
   "nbconvert_exporter": "python",
   "pygments_lexer": "ipython3",
   "version": "3.9.12"
  },
  "orig_nbformat": 4
 },
 "nbformat": 4,
 "nbformat_minor": 2
}
