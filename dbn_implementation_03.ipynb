{
 "cells": [
  {
   "cell_type": "code",
   "execution_count": 2,
   "metadata": {},
   "outputs": [
    {
     "name": "stdout",
     "output_type": "stream",
     "text": [
      "1a\n",
      "['1a', '1b', '1c', '1d', '1e', '1f', '1g', '1h']\n",
      "['2a', '2b', '2c', '2d', '2e', '2f', '2g', '2h']\n",
      "['3a', '3b', '3c', '3d', '3e', '3f', '3g', '3h']\n",
      "['4a', '4b', '4c', '4d', '4e', '4f', '4g', '4h']\n",
      "['5a', '5b', '5c', '5d', '5e', '5f', '5g', '5h']\n",
      "['6a', '6b', '6c', '6d', '6e', '6f', '6g', '6h']\n",
      "['7a', '7b', '7c', '7d', '7e', '7f', '7g', '7h']\n",
      "['8a', '8b', '8c', '8d', '8e', '8f', '8g', '8h']\n"
     ]
    }
   ],
   "source": [
    "ch = input()\n",
    "print(ch)\n",
    "\n",
    "row, col = '12345678', 'abcdefgh'\n",
    "\n",
    "board = [[r+c for c in col ] for r in row]\n",
    "\n",
    "for row in board:\n",
    "    print(row)"
   ]
  },
  {
   "cell_type": "code",
   "execution_count": null,
   "metadata": {},
   "outputs": [],
   "source": []
  }
 ],
 "metadata": {
  "kernelspec": {
   "display_name": "base",
   "language": "python",
   "name": "python3"
  },
  "language_info": {
   "codemirror_mode": {
    "name": "ipython",
    "version": 3
   },
   "file_extension": ".py",
   "mimetype": "text/x-python",
   "name": "python",
   "nbconvert_exporter": "python",
   "pygments_lexer": "ipython3",
   "version": "3.9.12"
  },
  "orig_nbformat": 4
 },
 "nbformat": 4,
 "nbformat_minor": 2
}
