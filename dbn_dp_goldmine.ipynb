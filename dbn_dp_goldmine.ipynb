{
 "cells": [
  {
   "cell_type": "code",
   "execution_count": 19,
   "metadata": {},
   "outputs": [
    {
     "name": "stdout",
     "output_type": "stream",
     "text": [
      "n : 3,  m : 4\n"
     ]
    }
   ],
   "source": [
    "n, m = map(int, input().split())\n",
    "print(f\"n : {n},  m : {m}\")   # n : height   m : width\n",
    "\n",
    "my_input = [x for x in map(int, input().split())]    # 1 3 3 2 2 1 4 1 0 6 4 7\n",
    "goldmine = [[0 for _ in range(m)] for _ in range(n)]\n",
    "\n",
    "for i in range(len(goldmine), 0, -1):\n",
    "    for j in range(len(goldmine[i]), 0, -1):\n",
    "        #goldmine[i][j] = my_input.pop() \n",
    "        print((i, j)) "
   ]
  },
  {
   "cell_type": "code",
   "execution_count": 15,
   "metadata": {},
   "outputs": [
    {
     "data": {
      "text/plain": [
       "(7, [1, 3, 3, 2, 2, 1, 4, 1, 0, 6, 4])"
      ]
     },
     "execution_count": 15,
     "metadata": {},
     "output_type": "execute_result"
    }
   ],
   "source": [
    "my_input.pop(), my_input"
   ]
  },
  {
   "cell_type": "code",
   "execution_count": 9,
   "metadata": {},
   "outputs": [
    {
     "name": "stdout",
     "output_type": "stream",
     "text": [
      "[7, 7, 7, 7]\n",
      "[7, 7, 7, 7]\n",
      "[7, 7, 7, 7]\n"
     ]
    }
   ],
   "source": [
    "for x in map(int, input().split()):\n",
    "    for i in range(len(goldmine)):\n",
    "        for j in range(len(goldmine[i])):\n",
    "            goldmine[i][j] = x\n",
    "            \n",
    "for row in goldmine:\n",
    "    print(row)"
   ]
  },
  {
   "cell_type": "code",
   "execution_count": 3,
   "metadata": {},
   "outputs": [
    {
     "name": "stdout",
     "output_type": "stream",
     "text": [
      "[1, 3, 3, 2, 2, 1, 4, 1, 0, 6, 4, 7]\n"
     ]
    }
   ],
   "source": [
    "goldmine = [x for x in map(int, input().split())]\n",
    "\n",
    "\n",
    "print(goldmine)"
   ]
  },
  {
   "cell_type": "code",
   "execution_count": 2,
   "metadata": {},
   "outputs": [
    {
     "name": "stdout",
     "output_type": "stream",
     "text": [
      "[[1, 1, 1, 1], [1, 1, 1, 1], [1, 1, 1, 1]]\n",
      "[[3, 3, 3, 3], [3, 3, 3, 3], [3, 3, 3, 3]]\n",
      "[[3, 3, 3, 3], [3, 3, 3, 3], [3, 3, 3, 3]]\n",
      "[[2, 2, 2, 2], [2, 2, 2, 2], [2, 2, 2, 2]]\n",
      "[[2, 2, 2, 2], [2, 2, 2, 2], [2, 2, 2, 2]]\n",
      "[[1, 1, 1, 1], [1, 1, 1, 1], [1, 1, 1, 1]]\n",
      "[[4, 4, 4, 4], [4, 4, 4, 4], [4, 4, 4, 4]]\n",
      "[[1, 1, 1, 1], [1, 1, 1, 1], [1, 1, 1, 1]]\n",
      "[[0, 0, 0, 0], [0, 0, 0, 0], [0, 0, 0, 0]]\n",
      "[[6, 6, 6, 6], [6, 6, 6, 6], [6, 6, 6, 6]]\n",
      "[[4, 4, 4, 4], [4, 4, 4, 4], [4, 4, 4, 4]]\n",
      "[[7, 7, 7, 7], [7, 7, 7, 7], [7, 7, 7, 7]]\n"
     ]
    }
   ],
   "source": [
    "n, m = 3, 4\n",
    "k = [[[x for _ in range(m)] for _ in range(n)] for x in map(int, input().split())]\n",
    "for row in k:\n",
    "    print(row)"
   ]
  },
  {
   "cell_type": "code",
   "execution_count": 3,
   "metadata": {},
   "outputs": [
    {
     "data": {
      "text/plain": [
       "[1, 3, 3, 2, 2, 1, 4, 1, 0, 6, 4, 7]"
      ]
     },
     "execution_count": 3,
     "metadata": {},
     "output_type": "execute_result"
    }
   ],
   "source": [
    "k = [x for x in map(int, input().split())]\n",
    "k"
   ]
  }
 ],
 "metadata": {
  "kernelspec": {
   "display_name": "base",
   "language": "python",
   "name": "python3"
  },
  "language_info": {
   "codemirror_mode": {
    "name": "ipython",
    "version": 3
   },
   "file_extension": ".py",
   "mimetype": "text/x-python",
   "name": "python",
   "nbconvert_exporter": "python",
   "pygments_lexer": "ipython3",
   "version": "3.9.12"
  },
  "orig_nbformat": 4
 },
 "nbformat": 4,
 "nbformat_minor": 2
}
