{
 "cells": [
  {
   "cell_type": "code",
   "execution_count": 11,
   "metadata": {},
   "outputs": [
    {
     "name": "stdout",
     "output_type": "stream",
     "text": [
      "n : 3,  m : 4\n",
      "[1, 3, 3, 2]\n",
      "[2, 1, 4, 7]\n",
      "[0, 6, 4, 7]\n"
     ]
    }
   ],
   "source": [
    "n, m = map(int, input().split())\n",
    "print(f\"n : {n},  m : {m}\")\n",
    "\n",
    "my_input = list(map(int, input().split()))   # 1 3 3 2 2 1 4 7 0 6 4 7\n",
    "goldmine = [[0 for _ in range(m)] for _ in range(n)]\n",
    "\n",
    "for i in range(len(goldmine)):\n",
    "    for j in range(len(goldmine[i])):\n",
    "        goldmine[i][j] = my_input.pop(0)\n",
    "        \n",
    "for row in goldmine:\n",
    "    print(row)"
   ]
  },
  {
   "cell_type": "code",
   "execution_count": 12,
   "metadata": {},
   "outputs": [
    {
     "name": "stdout",
     "output_type": "stream",
     "text": [
      "[1, 0, 0, 0]\n",
      "[2, 0, 0, 0]\n",
      "[0, 0, 0, 0]\n"
     ]
    }
   ],
   "source": [
    "submax_by_col = [[0] * m for _ in range(n)]\n",
    "    \n",
    "for j in range(len(submax_by_col)):\n",
    "    submax_by_col[j][0] = goldmine[j][0]\n",
    "    \n",
    "for row in submax_by_col:\n",
    "    print(row)"
   ]
  },
  {
   "cell_type": "code",
   "execution_count": 8,
   "metadata": {},
   "outputs": [
    {
     "name": "stdout",
     "output_type": "stream",
     "text": [
      "[2, 0, 0, 0]\n"
     ]
    }
   ],
   "source": [
    "a = [0] * m\n",
    "a[0] = max(submax_by_col[j][0] for j in range(len(submax_by_col)))\n",
    "print(a)"
   ]
  },
  {
   "cell_type": "code",
   "execution_count": 13,
   "metadata": {},
   "outputs": [],
   "source": [
    "for i in range(1, len(submax_by_col)):\n",
    "    for j in range(len(submax_by_col[i])):\n",
    "        sub_list = []\n",
    "        for k in range(-1, 2):\n",
    "            if (i-k) < 0 or (i+k) >= len(submax_by_col):\n",
    "                continue\n",
    "            else:\n",
    "                sub_list.append(submax_by_col[i][j-1] + goldmine[i+k][j])\n",
    "        submax_by_col[i][j] = max(sub_list)"
   ]
  },
  {
   "cell_type": "code",
   "execution_count": 14,
   "metadata": {},
   "outputs": [
    {
     "name": "stdout",
     "output_type": "stream",
     "text": [
      "[1, 3, 3, 2]\n",
      "[2, 1, 4, 7]\n",
      "[0, 6, 4, 7]\n",
      "\n",
      "[1, 0, 0, 0]\n",
      "[2, 8, 12, 19]\n",
      "[2, 8, 12, 19]\n"
     ]
    }
   ],
   "source": [
    "for row in goldmine:\n",
    "    print(row)\n",
    "\n",
    "print()\n",
    "\n",
    "for row in submax_by_col:\n",
    "    print(row)"
   ]
  }
 ],
 "metadata": {
  "kernelspec": {
   "display_name": "base",
   "language": "python",
   "name": "python3"
  },
  "language_info": {
   "codemirror_mode": {
    "name": "ipython",
    "version": 3
   },
   "file_extension": ".py",
   "mimetype": "text/x-python",
   "name": "python",
   "nbconvert_exporter": "python",
   "pygments_lexer": "ipython3",
   "version": "3.9.12"
  },
  "orig_nbformat": 4
 },
 "nbformat": 4,
 "nbformat_minor": 2
}
