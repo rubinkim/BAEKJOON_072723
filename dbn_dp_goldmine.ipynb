{
 "cells": [
  {
   "cell_type": "code",
   "execution_count": 1,
   "metadata": {},
   "outputs": [
    {
     "name": "stdout",
     "output_type": "stream",
     "text": [
      "n : 3,  m : 4\n",
      "[1, 3, 3, 2]\n",
      "[2, 1, 4, 7]\n",
      "[0, 6, 4, 7]\n"
     ]
    }
   ],
   "source": [
    "n, m = map(int, input().split())\n",
    "print(f\"n : {n},  m : {m}\")\n",
    "\n",
    "my_input = list(map(int, input().split()))   # 1 3 3 2 2 1 4 7 0 6 4 7\n",
    "goldmine = [[0 for _ in range(m)] for _ in range(n)]\n",
    "\n",
    "for i in range(len(goldmine)):\n",
    "    for j in range(len(goldmine[i])):\n",
    "        goldmine[i][j] = my_input.pop(0)\n",
    "        \n",
    "for row in goldmine:\n",
    "    print(row)"
   ]
  }
 ],
 "metadata": {
  "kernelspec": {
   "display_name": "base",
   "language": "python",
   "name": "python3"
  },
  "language_info": {
   "codemirror_mode": {
    "name": "ipython",
    "version": 3
   },
   "file_extension": ".py",
   "mimetype": "text/x-python",
   "name": "python",
   "nbconvert_exporter": "python",
   "pygments_lexer": "ipython3",
   "version": "3.9.12"
  },
  "orig_nbformat": 4
 },
 "nbformat": 4,
 "nbformat_minor": 2
}
