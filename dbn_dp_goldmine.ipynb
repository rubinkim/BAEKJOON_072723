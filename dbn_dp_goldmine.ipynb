{
 "cells": [
  {
   "cell_type": "code",
   "execution_count": 72,
   "metadata": {},
   "outputs": [
    {
     "name": "stdout",
     "output_type": "stream",
     "text": [
      "n : 4,  m : 4\n",
      "[1, 3, 1, 5]\n",
      "[2, 2, 4, 1]\n",
      "[5, 0, 2, 3]\n",
      "[0, 6, 1, 2]\n"
     ]
    }
   ],
   "source": [
    "n, m = map(int, input().split())\n",
    "print(f\"n : {n},  m : {m}\")\n",
    "\n",
    "my_input = list(map(int, input().split()))   # 1 3 3 2 2 1 4 7 0 6 4 7    # 1 3 1 5 2 2 4 1 5 0 2 3 0 6 1 2\n",
    "goldmine = [[0 for _ in range(m)] for _ in range(n)]\n",
    "\n",
    "for i in range(len(goldmine)):\n",
    "    for j in range(len(goldmine[i])):\n",
    "        goldmine[i][j] = my_input.pop(0)\n",
    "        \n",
    "for row in goldmine:\n",
    "    print(row)"
   ]
  },
  {
   "cell_type": "code",
   "execution_count": 73,
   "metadata": {},
   "outputs": [
    {
     "name": "stdout",
     "output_type": "stream",
     "text": [
      "[1, 0, 0, 0]\n",
      "[2, 0, 0, 0]\n",
      "[5, 0, 0, 0]\n",
      "[0, 0, 0, 0]\n"
     ]
    }
   ],
   "source": [
    "submax_by_col = [[0] * m for _ in range(n)]\n",
    "    \n",
    "for j in range(len(submax_by_col)):\n",
    "    submax_by_col[j][0] = goldmine[j][0]\n",
    "    \n",
    "for row in submax_by_col:\n",
    "    print(row)"
   ]
  },
  {
   "cell_type": "code",
   "execution_count": 74,
   "metadata": {},
   "outputs": [],
   "source": [
    "for j in range(1, len(submax_by_col[0])):\n",
    "    for i in range(len(submax_by_col)):\n",
    "        sub_list = []\n",
    "        for k in range(-1, 2):\n",
    "            if (i+k) >= 0 and (i+k) < len(submax_by_col):\n",
    "                sub_list.append(submax_by_col[i+k][j-1] + goldmine[i][j])\n",
    "            else:\n",
    "                continue\n",
    "        submax_by_col[i][j] = max(sub_list)"
   ]
  },
  {
   "cell_type": "code",
   "execution_count": 75,
   "metadata": {},
   "outputs": [
    {
     "name": "stdout",
     "output_type": "stream",
     "text": [
      "[1, 3, 1, 5]\n",
      "[2, 2, 4, 1]\n",
      "[5, 0, 2, 3]\n",
      "[0, 6, 1, 2]\n",
      "\n",
      "[1, 5, 8, 16]\n",
      "[2, 7, 11, 14]\n",
      "[5, 5, 13, 16]\n",
      "[0, 11, 12, 15]\n"
     ]
    }
   ],
   "source": [
    "for row in goldmine:\n",
    "    print(row)\n",
    "\n",
    "print()\n",
    "\n",
    "for row in submax_by_col:\n",
    "    print(row)"
   ]
  },
  {
   "cell_type": "code",
   "execution_count": 76,
   "metadata": {},
   "outputs": [
    {
     "name": "stdout",
     "output_type": "stream",
     "text": [
      "[5, 11, 13, 16]\n",
      "16\n"
     ]
    }
   ],
   "source": [
    "max_by_col = [max([submax_by_col[i][j] for i in range(len(submax_by_col))]) for j in range(len(submax_by_col[0]))]\n",
    "print(max_by_col)\n",
    "\n",
    "print(max_by_col[-1])"
   ]
  }
 ],
 "metadata": {
  "kernelspec": {
   "display_name": "base",
   "language": "python",
   "name": "python3"
  },
  "language_info": {
   "codemirror_mode": {
    "name": "ipython",
    "version": 3
   },
   "file_extension": ".py",
   "mimetype": "text/x-python",
   "name": "python",
   "nbconvert_exporter": "python",
   "pygments_lexer": "ipython3",
   "version": "3.9.12"
  },
  "orig_nbformat": 4
 },
 "nbformat": 4,
 "nbformat_minor": 2
}
