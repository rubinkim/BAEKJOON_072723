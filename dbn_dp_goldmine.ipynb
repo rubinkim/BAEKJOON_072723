{
 "cells": [
  {
   "cell_type": "code",
   "execution_count": 5,
   "metadata": {},
   "outputs": [
    {
     "name": "stdout",
     "output_type": "stream",
     "text": [
      "n : 3,  m : 4\n"
     ]
    },
    {
     "ename": "TypeError",
     "evalue": "'list' object cannot be interpreted as an integer",
     "output_type": "error",
     "traceback": [
      "\u001b[1;31m---------------------------------------------------------------------------\u001b[0m",
      "\u001b[1;31mTypeError\u001b[0m                                 Traceback (most recent call last)",
      "\u001b[1;32me:\\BAEKJOON_072723\\dbn_dp_goldmine.ipynb Cell 1\u001b[0m line \u001b[0;36m<cell line: 7>\u001b[1;34m()\u001b[0m\n\u001b[0;32m      <a href='vscode-notebook-cell:/e%3A/BAEKJOON_072723/dbn_dp_goldmine.ipynb#W0sZmlsZQ%3D%3D?line=4'>5</a>\u001b[0m goldmine \u001b[39m=\u001b[39m [[\u001b[39m0\u001b[39m \u001b[39mfor\u001b[39;00m _ \u001b[39min\u001b[39;00m \u001b[39mrange\u001b[39m(m)] \u001b[39mfor\u001b[39;00m _ \u001b[39min\u001b[39;00m \u001b[39mrange\u001b[39m(n)]\n\u001b[0;32m      <a href='vscode-notebook-cell:/e%3A/BAEKJOON_072723/dbn_dp_goldmine.ipynb#W0sZmlsZQ%3D%3D?line=6'>7</a>\u001b[0m \u001b[39mfor\u001b[39;00m i \u001b[39min\u001b[39;00m \u001b[39mrange\u001b[39m(\u001b[39mlen\u001b[39m(goldmine)):\n\u001b[1;32m----> <a href='vscode-notebook-cell:/e%3A/BAEKJOON_072723/dbn_dp_goldmine.ipynb#W0sZmlsZQ%3D%3D?line=7'>8</a>\u001b[0m     \u001b[39mfor\u001b[39;00m j \u001b[39min\u001b[39;00m \u001b[39mrange\u001b[39;49m(goldmine[i]):\n\u001b[0;32m      <a href='vscode-notebook-cell:/e%3A/BAEKJOON_072723/dbn_dp_goldmine.ipynb#W0sZmlsZQ%3D%3D?line=8'>9</a>\u001b[0m         goldmine[i][j] \u001b[39m=\u001b[39m my_input[(i\u001b[39m+\u001b[39m\u001b[39m1\u001b[39m)\u001b[39m*\u001b[39m(j\u001b[39m+\u001b[39m\u001b[39m1\u001b[39m)]   \n\u001b[0;32m     <a href='vscode-notebook-cell:/e%3A/BAEKJOON_072723/dbn_dp_goldmine.ipynb#W0sZmlsZQ%3D%3D?line=10'>11</a>\u001b[0m \u001b[39mfor\u001b[39;00m row \u001b[39min\u001b[39;00m goldmine:\n",
      "\u001b[1;31mTypeError\u001b[0m: 'list' object cannot be interpreted as an integer"
     ]
    }
   ],
   "source": [
    "n, m = map(int, input().split())\n",
    "print(f\"n : {n},  m : {m}\")   # n : height   m : width\n",
    "\n",
    "my_input = [x for x in map(int, input().split())]    # 1 3 3 2 2 1 4 1 0 6 4 7\n",
    "goldmine = [[0 for _ in range(m)] for _ in range(n)]\n",
    "\n",
    "for i in range(len(goldmine)):\n",
    "    for j in range(len(goldmine[i])):\n",
    "        goldmine[i][j] = my_input[(i+1)*(j+1)]   \n",
    "\n",
    "for row in goldmine:\n",
    "    print(row)"
   ]
  },
  {
   "cell_type": "code",
   "execution_count": 3,
   "metadata": {},
   "outputs": [
    {
     "name": "stdout",
     "output_type": "stream",
     "text": [
      "[1, 3, 3, 2, 2, 1, 4, 1, 0, 6, 4, 7]\n"
     ]
    }
   ],
   "source": [
    "goldmine = [x for x in map(int, input().split())]\n",
    "\n",
    "\n",
    "print(goldmine)"
   ]
  },
  {
   "cell_type": "code",
   "execution_count": 2,
   "metadata": {},
   "outputs": [
    {
     "name": "stdout",
     "output_type": "stream",
     "text": [
      "[[1, 1, 1, 1], [1, 1, 1, 1], [1, 1, 1, 1]]\n",
      "[[3, 3, 3, 3], [3, 3, 3, 3], [3, 3, 3, 3]]\n",
      "[[3, 3, 3, 3], [3, 3, 3, 3], [3, 3, 3, 3]]\n",
      "[[2, 2, 2, 2], [2, 2, 2, 2], [2, 2, 2, 2]]\n",
      "[[2, 2, 2, 2], [2, 2, 2, 2], [2, 2, 2, 2]]\n",
      "[[1, 1, 1, 1], [1, 1, 1, 1], [1, 1, 1, 1]]\n",
      "[[4, 4, 4, 4], [4, 4, 4, 4], [4, 4, 4, 4]]\n",
      "[[1, 1, 1, 1], [1, 1, 1, 1], [1, 1, 1, 1]]\n",
      "[[0, 0, 0, 0], [0, 0, 0, 0], [0, 0, 0, 0]]\n",
      "[[6, 6, 6, 6], [6, 6, 6, 6], [6, 6, 6, 6]]\n",
      "[[4, 4, 4, 4], [4, 4, 4, 4], [4, 4, 4, 4]]\n",
      "[[7, 7, 7, 7], [7, 7, 7, 7], [7, 7, 7, 7]]\n"
     ]
    }
   ],
   "source": [
    "n, m = 3, 4\n",
    "k = [[[x for _ in range(m)] for _ in range(n)] for x in map(int, input().split())]\n",
    "for row in k:\n",
    "    print(row)"
   ]
  },
  {
   "cell_type": "code",
   "execution_count": 3,
   "metadata": {},
   "outputs": [
    {
     "data": {
      "text/plain": [
       "[1, 3, 3, 2, 2, 1, 4, 1, 0, 6, 4, 7]"
      ]
     },
     "execution_count": 3,
     "metadata": {},
     "output_type": "execute_result"
    }
   ],
   "source": [
    "k = [x for x in map(int, input().split())]\n",
    "k"
   ]
  }
 ],
 "metadata": {
  "kernelspec": {
   "display_name": "base",
   "language": "python",
   "name": "python3"
  },
  "language_info": {
   "codemirror_mode": {
    "name": "ipython",
    "version": 3
   },
   "file_extension": ".py",
   "mimetype": "text/x-python",
   "name": "python",
   "nbconvert_exporter": "python",
   "pygments_lexer": "ipython3",
   "version": "3.9.12"
  },
  "orig_nbformat": 4
 },
 "nbformat": 4,
 "nbformat_minor": 2
}
