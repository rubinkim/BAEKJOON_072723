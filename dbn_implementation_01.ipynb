{
 "cells": [
  {
   "cell_type": "code",
   "execution_count": 4,
   "metadata": {},
   "outputs": [
    {
     "name": "stdout",
     "output_type": "stream",
     "text": [
      "[(1, 1), (1, 2), (1, 3), (1, 4), (1, 5), (1, 6)]\n",
      "[(2, 1), (2, 2), (2, 3), (2, 4), (2, 5), (2, 6)]\n",
      "[(3, 1), (3, 2), (3, 3), (3, 4), (3, 5), (3, 6)]\n",
      "[(4, 1), (4, 2), (4, 3), (4, 4), (4, 5), (4, 6)]\n",
      "[(5, 1), (5, 2), (5, 3), (5, 4), (5, 5), (5, 6)]\n",
      "[(6, 1), (6, 2), (6, 3), (6, 4), (6, 5), (6, 6)]\n"
     ]
    }
   ],
   "source": [
    "N = int(input())\n",
    "board = [[(i+1, j+1) for j in range(N)] for i in range(N)]\n",
    "\n",
    "for row in board:\n",
    "    print(row)"
   ]
  },
  {
   "cell_type": "code",
   "execution_count": 5,
   "metadata": {},
   "outputs": [],
   "source": [
    "def is_coord_valid(y, x):\n",
    "    global N\n",
    "    if 1 <= y <= N and 1 <= x <= N:\n",
    "        return True\n",
    "    else:\n",
    "        return False  "
   ]
  },
  {
   "cell_type": "code",
   "execution_count": 3,
   "metadata": {},
   "outputs": [
    {
     "name": "stdout",
     "output_type": "stream",
     "text": [
      "0 : R : (1, 2)--> 1 : R : (1, 3)--> 2 : R : (1, 4)--> 4 : D : (2, 4)--> 5 : D : (3, 4)--> (3, 4)\n"
     ]
    }
   ],
   "source": [
    "y, x = 1, 1\n",
    "dy = (1, 0, -1, 0)\n",
    "dx = (0, 1, 0, -1)\n",
    "\n",
    "# L U U R R R U D R D D   # R R R U D D \n",
    "for i, ch in enumerate(input().split()):\n",
    "    if ch == 'D' and is_coord_valid(y+dy[0], x+dx[0]):\n",
    "        y, x = y + dy[0], x + dx[0]\n",
    "    elif ch == 'R' and is_coord_valid(y+dy[1], x+dx[1]):\n",
    "        y, x = y + dy[1], x + dx[1]\n",
    "    elif ch == 'U' and is_coord_valid(y+dy[2], x+dx[2]):\n",
    "        y, x = y + dy[2], x + dx[2]\n",
    "    elif ch == 'L' and is_coord_valid(y+dy[3], x+dx[3]):\n",
    "        y, x = y + dy[3], x + dx[3]\n",
    "    else:\n",
    "        continue\n",
    "    print(f\"{i} : {ch} : {y, x}--> \", end='')\n",
    "        \n",
    "print((y, x))       "
   ]
  },
  {
   "cell_type": "code",
   "execution_count": 6,
   "metadata": {},
   "outputs": [
    {
     "name": "stdout",
     "output_type": "stream",
     "text": [
      "0 : R : (1, 2)--> 1 : R : (1, 3)--> 2 : R : (1, 4)--> 4 : D : (2, 4)--> 5 : D : (3, 4)--> (3, 4)\n"
     ]
    }
   ],
   "source": [
    "y, x = 1, 1\n",
    "dy = (1, 0, -1, 0)\n",
    "dx = (0, 1, 0, -1)\n",
    "\n",
    "# L U U R R R U D R D D   # R R R U D D \n",
    "for i, ch in enumerate(input().split()):\n",
    "    if ch == 'D' and is_coord_valid(y+dy[0], x+dx[0]):\n",
    "        ny, nx = y + dy[0], x + dx[0]\n",
    "    elif ch == 'R' and is_coord_valid(y+dy[1], x+dx[1]):\n",
    "        ny, nx = y + dy[1], x + dx[1]\n",
    "    elif ch == 'U' and is_coord_valid(y+dy[2], x+dx[2]):\n",
    "        ny, nx = y + dy[2], x + dx[2]\n",
    "    elif ch == 'L' and is_coord_valid(y+dy[3], x+dx[3]):\n",
    "        ny, nx = y + dy[3], x + dx[3]\n",
    "    else:\n",
    "        continue\n",
    "    \n",
    "    y, x = ny, nx\n",
    "    print(f\"({i},{ch}) : {y, x}--> \", end='')\n",
    "        \n",
    "print((y, x))       "
   ]
  }
 ],
 "metadata": {
  "kernelspec": {
   "display_name": "base",
   "language": "python",
   "name": "python3"
  },
  "language_info": {
   "codemirror_mode": {
    "name": "ipython",
    "version": 3
   },
   "file_extension": ".py",
   "mimetype": "text/x-python",
   "name": "python",
   "nbconvert_exporter": "python",
   "pygments_lexer": "ipython3",
   "version": "3.9.12"
  },
  "orig_nbformat": 4
 },
 "nbformat": 4,
 "nbformat_minor": 2
}
