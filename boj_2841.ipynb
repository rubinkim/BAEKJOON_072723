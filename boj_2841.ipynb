{
 "cells": [
  {
   "cell_type": "code",
   "execution_count": 1,
   "metadata": {},
   "outputs": [],
   "source": [
    "import sys\n",
    "import heapq as hq"
   ]
  },
  {
   "cell_type": "code",
   "execution_count": 2,
   "metadata": {},
   "outputs": [
    {
     "name": "stdout",
     "output_type": "stream",
     "text": [
      "N : 7     P : 15\n",
      "\n",
      "String : 1,   Fret : 5\n",
      "String : 2,   Fret : 3\n",
      "String : 2,   Fret : 5\n",
      "String : 2,   Fret : 7\n",
      "String : 2,   Fret : 4\n",
      "String : 1,   Fret : 5\n",
      "String : 1,   Fret : 3\n"
     ]
    }
   ],
   "source": [
    "#input = sys.stdin.readline\n",
    "pq = []\n",
    "\n",
    "N, P = map(int, input().split())\n",
    "print(f\"N : {N}     P : {P}\")\n",
    "print()\n",
    "\n",
    "for _ in range(N):\n",
    "    String, Fret = map(int, input().split())    \n",
    "    print(f\"String : {String},   Fret : {Fret}\")\n",
    "    \n",
    "    hq.heappush(pq, (String, -Fret))"
   ]
  },
  {
   "cell_type": "code",
   "execution_count": 8,
   "metadata": {},
   "outputs": [
    {
     "name": "stdout",
     "output_type": "stream",
     "text": [
      "N : 7     P : 15\n",
      "\n",
      "String : 1,   Fret : 5\n",
      "String : 2,   Fret : 3\n",
      "String : 2,   Fret : 5\n",
      "String : 2,   Fret : 7\n",
      "String : 2,   Fret : 4\n",
      "String : 1,   Fret : 5\n",
      "String : 1,   Fret : 3\n"
     ]
    }
   ],
   "source": [
    "#input = sys.stdin.readline\n",
    "pq = []\n",
    "\n",
    "N, P = map(int, input().split())\n",
    "print(f\"N : {N}     P : {P}\")\n",
    "print()\n",
    "\n",
    "for _ in range(N):\n",
    "    String, Fret = map(int, input().split())    \n",
    "    print(f\"String : {String},   Fret : {Fret}\")\n",
    "    \n",
    "    hq.heappush(pq, (String, -Fret))"
   ]
  },
  {
   "cell_type": "code",
   "execution_count": 90,
   "metadata": {},
   "outputs": [
    {
     "data": {
      "text/plain": [
       "[(1, -5), (2, -7), (1, -5), (2, -3), (2, -4), (2, -5), (1, -3)]"
      ]
     },
     "execution_count": 90,
     "metadata": {},
     "output_type": "execute_result"
    }
   ],
   "source": [
    "pq"
   ]
  },
  {
   "cell_type": "code",
   "execution_count": 42,
   "metadata": {},
   "outputs": [
    {
     "name": "stdout",
     "output_type": "stream",
     "text": [
      "[1, 2, 1, 2, 2, 2, 1]\n",
      "[-5, -7, -5, -3, -4, -5, -3]\n"
     ]
    },
    {
     "data": {
      "text/plain": [
       "{1: [-5, -5, -3], 2: [-7, -3, -4, -5]}"
      ]
     },
     "execution_count": 42,
     "metadata": {},
     "output_type": "execute_result"
    }
   ],
   "source": [
    "pq_dict = {}\n",
    "k_list, v_list = [], []\n",
    "\n",
    "for k, v in pq:\n",
    "    k_list.append(k)\n",
    "    v_list.append(v)\n",
    "    \n",
    "print(k_list)\n",
    "print(v_list)\n",
    "\n",
    "for k, v in zip(k_list, v_list):\n",
    "    if k not in pq_dict.keys():\n",
    "        pq_dict[k] = [v]\n",
    "    else:\n",
    "        pq_dict[k].append(v)   \n",
    "        \n",
    "pq_dict\n"
   ]
  },
  {
   "cell_type": "code",
   "execution_count": 45,
   "metadata": {},
   "outputs": [
    {
     "data": {
      "text/plain": [
       "4"
      ]
     },
     "execution_count": 45,
     "metadata": {},
     "output_type": "execute_result"
    }
   ],
   "source": [
    "def guitar_pop(s, f):\n",
    "    if sum([x > f for x in pq_dict[s]]) > 1:\n",
    "        pop_list = [x > f for x in pq_dict[s]]\n",
    "        for i in range(len(pop_list)):\n",
    "            if pop_list[k] == True:\n",
    "                \n",
    "        "
   ]
  },
  {
   "cell_type": "code",
   "execution_count": 51,
   "metadata": {},
   "outputs": [
    {
     "data": {
      "text/plain": [
       "2"
      ]
     },
     "execution_count": 51,
     "metadata": {},
     "output_type": "execute_result"
    }
   ],
   "source": [
    "sum([x > -4 for x in pq_dict[2]])"
   ]
  },
  {
   "cell_type": "code",
   "execution_count": 70,
   "metadata": {},
   "outputs": [
    {
     "name": "stdout",
     "output_type": "stream",
     "text": [
      "1\n",
      "2\n"
     ]
    }
   ],
   "source": [
    "z = [x >= -4 for x in pq_dict[2]] \n",
    "\n",
    "for k in range(len(z)):\n",
    "    if z[k] == True:\n",
    "        print(k)\n",
    "    "
   ]
  },
  {
   "cell_type": "code",
   "execution_count": 89,
   "metadata": {},
   "outputs": [
    {
     "name": "stdout",
     "output_type": "stream",
     "text": [
      "[1, 4, 8, 0, 3, 0, -5]\n",
      "[False, True, True, False, True, False, False]\n",
      "[1, 4, 8, 0, 3, 0, -5]\n",
      "[1, 0, 0, -5]\n"
     ]
    }
   ],
   "source": [
    "a = [1, 4, 8, 0, 3, 0, -5]\n",
    "print(a)\n",
    "\n",
    "greater_than_one = [x > 1 for x in a]\n",
    "print(greater_than_one)\n",
    "\n",
    "\n",
    "less_than_or_equal_to_one = []\n",
    "for i, x in enumerate(a):\n",
    "    if not greater_than_one[i]:\n",
    "        less_than_or_equal_to_one.append(x)\n",
    "        \n",
    "print(a)\n",
    "print(less_than_or_equal_to_one)"
   ]
  },
  {
   "cell_type": "code",
   "execution_count": 83,
   "metadata": {},
   "outputs": [
    {
     "name": "stdout",
     "output_type": "stream",
     "text": [
      "[1, 4, 8, 0, 3, 0]\n"
     ]
    }
   ],
   "source": [
    "print(a)"
   ]
  },
  {
   "cell_type": "code",
   "execution_count": 49,
   "metadata": {},
   "outputs": [
    {
     "data": {
      "text/plain": [
       "1"
      ]
     },
     "execution_count": 49,
     "metadata": {},
     "output_type": "execute_result"
    }
   ],
   "source": [
    "sum([False, True, False, False])"
   ]
  },
  {
   "cell_type": "code",
   "execution_count": 46,
   "metadata": {},
   "outputs": [
    {
     "data": {
      "text/plain": [
       "[-7, -3, -4, -5]"
      ]
     },
     "execution_count": 46,
     "metadata": {},
     "output_type": "execute_result"
    }
   ],
   "source": [
    "pq_dict[2]"
   ]
  },
  {
   "cell_type": "code",
   "execution_count": null,
   "metadata": {},
   "outputs": [],
   "source": []
  },
  {
   "cell_type": "code",
   "execution_count": 91,
   "metadata": {},
   "outputs": [
    {
     "data": {
      "text/plain": [
       "[(1, -5), (2, -7), (1, -5), (2, -3), (2, -4), (2, -5), (1, -3)]"
      ]
     },
     "execution_count": 91,
     "metadata": {},
     "output_type": "execute_result"
    }
   ],
   "source": [
    "pq"
   ]
  },
  {
   "cell_type": "code",
   "execution_count": 92,
   "metadata": {},
   "outputs": [
    {
     "data": {
      "text/plain": [
       "[(1, -5), (2, -7), (1, -5), (2, -6), (2, -4), (2, -5), (1, -3), (2, -3)]"
      ]
     },
     "execution_count": 92,
     "metadata": {},
     "output_type": "execute_result"
    }
   ],
   "source": [
    "hq.heappush(pq, (2, -6))\n",
    "pq"
   ]
  },
  {
   "cell_type": "code",
   "execution_count": null,
   "metadata": {},
   "outputs": [],
   "source": []
  },
  {
   "cell_type": "code",
   "execution_count": null,
   "metadata": {},
   "outputs": [],
   "source": []
  },
  {
   "cell_type": "code",
   "execution_count": null,
   "metadata": {},
   "outputs": [],
   "source": []
  }
 ],
 "metadata": {
  "kernelspec": {
   "display_name": "base",
   "language": "python",
   "name": "python3"
  },
  "language_info": {
   "codemirror_mode": {
    "name": "ipython",
    "version": 3
   },
   "file_extension": ".py",
   "mimetype": "text/x-python",
   "name": "python",
   "nbconvert_exporter": "python",
   "pygments_lexer": "ipython3",
   "version": "3.9.12"
  },
  "orig_nbformat": 4
 },
 "nbformat": 4,
 "nbformat_minor": 2
}
