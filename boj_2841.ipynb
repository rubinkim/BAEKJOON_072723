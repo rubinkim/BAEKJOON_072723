{
 "cells": [
  {
   "cell_type": "code",
   "execution_count": 1,
   "metadata": {},
   "outputs": [],
   "source": [
    "import sys\n",
    "import heapq as hq"
   ]
  },
  {
   "cell_type": "code",
   "execution_count": 2,
   "metadata": {},
   "outputs": [
    {
     "name": "stdout",
     "output_type": "stream",
     "text": [
      "N : 7     P : 15\n",
      "\n",
      "String : 1,   Fret : 5\n",
      "String : 2,   Fret : 3\n",
      "String : 2,   Fret : 5\n",
      "String : 2,   Fret : 7\n",
      "String : 2,   Fret : 4\n",
      "String : 1,   Fret : 5\n",
      "String : 1,   Fret : 3\n"
     ]
    }
   ],
   "source": [
    "#input = sys.stdin.readline\n",
    "pq = []\n",
    "\n",
    "N, P = map(int, input().split())\n",
    "print(f\"N : {N}     P : {P}\")\n",
    "print()\n",
    "\n",
    "for _ in range(N):\n",
    "    String, Fret = map(int, input().split())    \n",
    "    print(f\"String : {String},   Fret : {Fret}\")\n",
    "    \n",
    "    hq.heappush(pq, (String, -Fret))"
   ]
  },
  {
   "cell_type": "code",
   "execution_count": 11,
   "metadata": {},
   "outputs": [
    {
     "name": "stdout",
     "output_type": "stream",
     "text": [
      "N : 7     P : 15\n",
      "\n",
      "String : 1,   Fret : 5\n",
      "String : 2,   Fret : 3\n",
      "String : 2,   Fret : 5\n",
      "String : 2,   Fret : 7\n",
      "String : 2,   Fret : 4\n",
      "String : 1,   Fret : 5\n",
      "String : 1,   Fret : 3\n"
     ]
    }
   ],
   "source": [
    "pq = [[] for _ in range(50_000)]\n",
    "\n",
    "N, P = map(int, input().split())\n",
    "print(f\"N : {N}     P : {P}\")\n",
    "print()\n",
    "\n",
    "for _ in range(N):\n",
    "    String, Fret = map(int, input().split())    \n",
    "    print(f\"String : {String},   Fret : {Fret}\")\n",
    "    \n",
    "    hq.heappush(pq[String-1], (String, -Fret))"
   ]
  },
  {
   "cell_type": "code",
   "execution_count": 12,
   "metadata": {},
   "outputs": [
    {
     "data": {
      "text/plain": [
       "([(1, -5), (1, -5), (1, -3)], [(2, -7), (2, -4), (2, -5), (2, -3)])"
      ]
     },
     "execution_count": 12,
     "metadata": {},
     "output_type": "execute_result"
    }
   ],
   "source": [
    "pq[0], pq[1]"
   ]
  },
  {
   "cell_type": "code",
   "execution_count": 4,
   "metadata": {},
   "outputs": [
    {
     "name": "stdout",
     "output_type": "stream",
     "text": [
      "[1, 2, 1, 2, 2, 2, 1]\n",
      "[-5, -7, -5, -3, -4, -5, -3]\n"
     ]
    },
    {
     "data": {
      "text/plain": [
       "{1: [-5, -5, -3], 2: [-7, -3, -4, -5]}"
      ]
     },
     "execution_count": 4,
     "metadata": {},
     "output_type": "execute_result"
    }
   ],
   "source": [
    "pq_dict = {}\n",
    "k_list, v_list = [], []\n",
    "\n",
    "for k, v in pq:\n",
    "    k_list.append(k)\n",
    "    v_list.append(v)\n",
    "    \n",
    "print(k_list)\n",
    "print(v_list)\n",
    "\n",
    "for k, v in zip(k_list, v_list):\n",
    "    if k not in pq_dict.keys():\n",
    "        pq_dict[k] = [v]\n",
    "    else:\n",
    "        pq_dict[k].append(v)   \n",
    "        \n",
    "pq_dict"
   ]
  },
  {
   "cell_type": "code",
   "execution_count": 25,
   "metadata": {},
   "outputs": [
    {
     "name": "stdout",
     "output_type": "stream",
     "text": [
      "N : 7     P : 15\n",
      "\n",
      "String : 1,   Fret : 5\n",
      "pq[0] : [-5],   ans : 1\n",
      "String : 2,   Fret : 3\n",
      "pq[1] : [-3],   ans : 2\n",
      "String : 2,   Fret : 5\n",
      "pq[1] : [-5],   ans : 4\n",
      "String : 2,   Fret : 7\n",
      "pq[1] : [-7],   ans : 6\n",
      "String : 2,   Fret : 4\n"
     ]
    }
   ],
   "source": [
    "pq = [[] for _ in range(500_000)]\n",
    "\n",
    "N, P = map(int, input().split())\n",
    "print(f\"N : {N}     P : {P}\")\n",
    "print()\n",
    "\n",
    "ans = 0\n",
    "\n",
    "for _ in range(N):\n",
    "    String, Fret = map(int, input().split())    \n",
    "    print(f\"String : {String},   Fret : {Fret}\") \n",
    "    \n",
    "    while pq[String-1]:\n",
    "        if -Fret < min(pq[String-1]):\n",
    "            hq.heappop(pq[String-1])\n",
    "            ans += 1\n",
    "        \n",
    "    hq.heappush(pq[String-1], -Fret)\n",
    "    ans += 1\n",
    "    \n",
    "    print(f\"pq[{String-1}] : {pq[String-1]},   ans : {ans}\")\n",
    "            \n",
    "print(ans)                       "
   ]
  },
  {
   "cell_type": "code",
   "execution_count": 18,
   "metadata": {},
   "outputs": [
    {
     "data": {
      "text/plain": [
       "([-3], [-4, -3])"
      ]
     },
     "execution_count": 18,
     "metadata": {},
     "output_type": "execute_result"
    }
   ],
   "source": [
    "pq[0], pq[1]"
   ]
  },
  {
   "cell_type": "code",
   "execution_count": 2,
   "metadata": {},
   "outputs": [
    {
     "name": "stdout",
     "output_type": "stream",
     "text": [
      "N : 7     P : 15\n",
      "\n",
      "String : 1,   Fret : 5\n",
      "pq[0] : [-5],   ans : 1\n",
      "String : 2,   Fret : 3\n",
      "pq[1] : [-3],   ans : 2\n",
      "String : 2,   Fret : 5\n"
     ]
    }
   ],
   "source": [
    "import heapq as hq\n",
    "\n",
    "pq = [[] for _ in range(500_000)]\n",
    "\n",
    "N, P = map(int, input().split())\n",
    "print(f\"N : {N}     P : {P}\")\n",
    "print()\n",
    "\n",
    "ans = 0\n",
    "\n",
    "for _ in range(N):\n",
    "    String, Fret = map(int, input().split())    \n",
    "    print(f\"String : {String},   Fret : {Fret}\") \n",
    "    \n",
    "    while pq[String-1]:\n",
    "        if -Fret > min(pq[String-1]):\n",
    "            hq.heappop(pq[String-1])\n",
    "            ans += 1\n",
    "        \n",
    "    hq.heappush(pq[String-1], -Fret)\n",
    "    ans += 1\n",
    "    \n",
    "    print(f\"pq[{String-1}] : {pq[String-1]},   ans : {ans}\")\n",
    "            \n",
    "print(ans)                       "
   ]
  },
  {
   "cell_type": "code",
   "execution_count": 2,
   "metadata": {},
   "outputs": [
    {
     "name": "stdout",
     "output_type": "stream",
     "text": [
      "N : 7     P : 15\n",
      "\n",
      "String : 1,   Fret : 5\n",
      "pq[0] : [-5],   ans : 1\n",
      "String : 2,   Fret : 3\n",
      "pq[1] : [-3],   ans : 2\n",
      "String : 2,   Fret : 5\n",
      "pq[1] : [-5, -3],   ans : 3\n",
      "String : 2,   Fret : 7\n",
      "pq[1] : [-7, -3, -5],   ans : 4\n",
      "String : 2,   Fret : 4\n",
      "pq[1] : [-4, -3],   ans : 7\n",
      "String : 1,   Fret : 5\n",
      "pq[0] : [-5],   ans : 7\n",
      "String : 1,   Fret : 3\n",
      "pq[0] : [-3],   ans : 9\n",
      "9\n"
     ]
    }
   ],
   "source": [
    "import heapq as hq\n",
    "\n",
    "pq = [[] for _ in range(500_000)]\n",
    "\n",
    "N, P = map(int, input().split())\n",
    "print(f\"N : {N}     P : {P}\")\n",
    "print()\n",
    "\n",
    "ans = 0\n",
    "\n",
    "for _ in range(N):\n",
    "    String, Fret = map(int, input().split())    \n",
    "    print(f\"String : {String},   Fret : {Fret}\") \n",
    "    \n",
    "    for _ in range(len(pq[String-1])) :\n",
    "        if -Fret > min(pq[String-1]):\n",
    "            hq.heappop(pq[String-1])\n",
    "            ans += 1\n",
    "    \n",
    "    if -Fret not in pq[String-1]:    \n",
    "        hq.heappush(pq[String-1], -Fret)\n",
    "        ans += 1\n",
    "    \n",
    "    print(f\"pq[{String-1}] : {pq[String-1]},   ans : {ans}\")\n",
    "            \n",
    "print(ans)                       "
   ]
  },
  {
   "cell_type": "code",
   "execution_count": null,
   "metadata": {},
   "outputs": [],
   "source": [
    "import heapq as hq\n",
    "\n",
    "pq = [[] for _ in range(500_000)]\n",
    "\n",
    "N, P = map(int, input().split())\n",
    "\n",
    "ans = 0\n",
    "\n",
    "for _ in range(N):\n",
    "    String, Fret = map(int, input().split())    \n",
    "    print(f\"String : {String},   Fret : {Fret}\") \n",
    "    \n",
    "    for _ in range(len(pq[String-1])) :\n",
    "        if -Fret > min(pq[String-1]):\n",
    "            hq.heappop(pq[String-1])\n",
    "            ans += 1\n",
    "    \n",
    "    if -Fret not in pq[String-1]:    \n",
    "        hq.heappush(pq[String-1], -Fret)\n",
    "        ans += 1    \n",
    "               \n",
    "print(ans)                       "
   ]
  }
 ],
 "metadata": {
  "kernelspec": {
   "display_name": "base",
   "language": "python",
   "name": "python3"
  },
  "language_info": {
   "codemirror_mode": {
    "name": "ipython",
    "version": 3
   },
   "file_extension": ".py",
   "mimetype": "text/x-python",
   "name": "python",
   "nbconvert_exporter": "python",
   "pygments_lexer": "ipython3",
   "version": "3.9.12"
  },
  "orig_nbformat": 4
 },
 "nbformat": 4,
 "nbformat_minor": 2
}
