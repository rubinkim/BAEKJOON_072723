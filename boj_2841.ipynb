{
 "cells": [
  {
   "cell_type": "code",
   "execution_count": 1,
   "metadata": {},
   "outputs": [],
   "source": [
    "import sys\n",
    "import heapq as hq"
   ]
  },
  {
   "cell_type": "code",
   "execution_count": 2,
   "metadata": {},
   "outputs": [
    {
     "name": "stdout",
     "output_type": "stream",
     "text": [
      "N : 7     P : 15\n",
      "\n",
      "String : 1,   Fret : 5\n",
      "String : 2,   Fret : 3\n",
      "String : 2,   Fret : 5\n",
      "String : 2,   Fret : 7\n",
      "String : 2,   Fret : 4\n",
      "String : 1,   Fret : 5\n",
      "String : 1,   Fret : 3\n"
     ]
    }
   ],
   "source": [
    "#input = sys.stdin.readline\n",
    "pq = []\n",
    "\n",
    "N, P = map(int, input().split())\n",
    "print(f\"N : {N}     P : {P}\")\n",
    "print()\n",
    "\n",
    "for _ in range(N):\n",
    "    String, Fret = map(int, input().split())    \n",
    "    print(f\"String : {String},   Fret : {Fret}\")\n",
    "    \n",
    "    hq.heappush(pq, (String, -Fret))"
   ]
  },
  {
   "cell_type": "code",
   "execution_count": null,
   "metadata": {},
   "outputs": [],
   "source": [
    "#input = sys.stdin.readline\n",
    "pq = []\n",
    "\n",
    "N, P = map(int, input().split())\n",
    "print(f\"N : {N}     P : {P}\")\n",
    "print()\n",
    "\n",
    "for _ in range(N):\n",
    "    String, Fret = map(int, input().split())    \n",
    "    print(f\"String : {String},   Fret : {Fret}\")\n",
    "    \n",
    "    hq.heappush(pq, (String, -Fret))"
   ]
  },
  {
   "cell_type": "code",
   "execution_count": 6,
   "metadata": {},
   "outputs": [
    {
     "data": {
      "text/plain": [
       "(2, -7)"
      ]
     },
     "execution_count": 6,
     "metadata": {},
     "output_type": "execute_result"
    }
   ],
   "source": [
    "hq.heappop(pq)"
   ]
  },
  {
   "cell_type": "code",
   "execution_count": 7,
   "metadata": {},
   "outputs": [
    {
     "name": "stdout",
     "output_type": "stream",
     "text": [
      "2 -5\n",
      "2 -4\n",
      "2 -3\n"
     ]
    }
   ],
   "source": [
    "for s, f in pq:\n",
    "    print(s, f)"
   ]
  }
 ],
 "metadata": {
  "kernelspec": {
   "display_name": "base",
   "language": "python",
   "name": "python3"
  },
  "language_info": {
   "codemirror_mode": {
    "name": "ipython",
    "version": 3
   },
   "file_extension": ".py",
   "mimetype": "text/x-python",
   "name": "python",
   "nbconvert_exporter": "python",
   "pygments_lexer": "ipython3",
   "version": "3.9.12"
  },
  "orig_nbformat": 4
 },
 "nbformat": 4,
 "nbformat_minor": 2
}
