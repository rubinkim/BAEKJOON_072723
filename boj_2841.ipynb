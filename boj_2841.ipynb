{
 "cells": [
  {
   "cell_type": "code",
   "execution_count": 1,
   "metadata": {},
   "outputs": [],
   "source": [
    "import sys\n",
    "import heapq as hq"
   ]
  },
  {
   "cell_type": "code",
   "execution_count": 2,
   "metadata": {},
   "outputs": [
    {
     "name": "stdout",
     "output_type": "stream",
     "text": [
      "N : 7     P : 15\n",
      "\n",
      "String : 1,   Fret : 5\n",
      "String : 2,   Fret : 3\n",
      "String : 2,   Fret : 5\n",
      "String : 2,   Fret : 7\n",
      "String : 2,   Fret : 4\n",
      "String : 1,   Fret : 5\n",
      "String : 1,   Fret : 3\n"
     ]
    }
   ],
   "source": [
    "#input = sys.stdin.readline\n",
    "pq = []\n",
    "\n",
    "N, P = map(int, input().split())\n",
    "print(f\"N : {N}     P : {P}\")\n",
    "print()\n",
    "\n",
    "for _ in range(N):\n",
    "    String, Fret = map(int, input().split())    \n",
    "    print(f\"String : {String},   Fret : {Fret}\")\n",
    "    \n",
    "    hq.heappush(pq, (String, -Fret))"
   ]
  },
  {
   "cell_type": "code",
   "execution_count": 11,
   "metadata": {},
   "outputs": [
    {
     "name": "stdout",
     "output_type": "stream",
     "text": [
      "N : 7     P : 15\n",
      "\n",
      "String : 1,   Fret : 5\n",
      "String : 2,   Fret : 3\n",
      "String : 2,   Fret : 5\n",
      "String : 2,   Fret : 7\n",
      "String : 2,   Fret : 4\n",
      "String : 1,   Fret : 5\n",
      "String : 1,   Fret : 3\n"
     ]
    }
   ],
   "source": [
    "pq = [[] for _ in range(50_000)]\n",
    "\n",
    "N, P = map(int, input().split())\n",
    "print(f\"N : {N}     P : {P}\")\n",
    "print()\n",
    "\n",
    "for _ in range(N):\n",
    "    String, Fret = map(int, input().split())    \n",
    "    print(f\"String : {String},   Fret : {Fret}\")\n",
    "    \n",
    "    hq.heappush(pq[String-1], (String, -Fret))"
   ]
  },
  {
   "cell_type": "code",
   "execution_count": 12,
   "metadata": {},
   "outputs": [
    {
     "data": {
      "text/plain": [
       "([(1, -5), (1, -5), (1, -3)], [(2, -7), (2, -4), (2, -5), (2, -3)])"
      ]
     },
     "execution_count": 12,
     "metadata": {},
     "output_type": "execute_result"
    }
   ],
   "source": [
    "pq[0], pq[1]"
   ]
  },
  {
   "cell_type": "code",
   "execution_count": 4,
   "metadata": {},
   "outputs": [
    {
     "name": "stdout",
     "output_type": "stream",
     "text": [
      "[1, 2, 1, 2, 2, 2, 1]\n",
      "[-5, -7, -5, -3, -4, -5, -3]\n"
     ]
    },
    {
     "data": {
      "text/plain": [
       "{1: [-5, -5, -3], 2: [-7, -3, -4, -5]}"
      ]
     },
     "execution_count": 4,
     "metadata": {},
     "output_type": "execute_result"
    }
   ],
   "source": [
    "pq_dict = {}\n",
    "k_list, v_list = [], []\n",
    "\n",
    "for k, v in pq:\n",
    "    k_list.append(k)\n",
    "    v_list.append(v)\n",
    "    \n",
    "print(k_list)\n",
    "print(v_list)\n",
    "\n",
    "for k, v in zip(k_list, v_list):\n",
    "    if k not in pq_dict.keys():\n",
    "        pq_dict[k] = [v]\n",
    "    else:\n",
    "        pq_dict[k].append(v)   \n",
    "        \n",
    "pq_dict"
   ]
  },
  {
   "cell_type": "code",
   "execution_count": 14,
   "metadata": {},
   "outputs": [
    {
     "name": "stdout",
     "output_type": "stream",
     "text": [
      "N : 7     P : 15\n",
      "\n",
      "String : 1,   Fret : 5\n",
      "String : 2,   Fret : 3\n",
      "String : 2,   Fret : 5\n",
      "String : 2,   Fret : 7\n",
      "String : 2,   Fret : 4\n"
     ]
    },
    {
     "ename": "NameError",
     "evalue": "name 'f' is not defined",
     "output_type": "error",
     "traceback": [
      "\u001b[1;31m---------------------------------------------------------------------------\u001b[0m",
      "\u001b[1;31mNameError\u001b[0m                                 Traceback (most recent call last)",
      "\u001b[1;32me:\\BAEKJOON_072723\\boj_2841.ipynb Cell 6\u001b[0m in \u001b[0;36m<cell line: 9>\u001b[1;34m()\u001b[0m\n\u001b[0;32m     <a href='vscode-notebook-cell:/e%3A/BAEKJOON_072723/boj_2841.ipynb#X24sZmlsZQ%3D%3D?line=13'>14</a>\u001b[0m ans \u001b[39m+\u001b[39m\u001b[39m=\u001b[39m \u001b[39m1\u001b[39m\n\u001b[0;32m     <a href='vscode-notebook-cell:/e%3A/BAEKJOON_072723/boj_2841.ipynb#X24sZmlsZQ%3D%3D?line=15'>16</a>\u001b[0m \u001b[39mwhile\u001b[39;00m \u001b[39m-\u001b[39mFret \u001b[39m>\u001b[39m \u001b[39mmin\u001b[39m(pq[String\u001b[39m-\u001b[39m\u001b[39m1\u001b[39m]):\n\u001b[1;32m---> <a href='vscode-notebook-cell:/e%3A/BAEKJOON_072723/boj_2841.ipynb#X24sZmlsZQ%3D%3D?line=16'>17</a>\u001b[0m     \u001b[39mif\u001b[39;00m \u001b[39m-\u001b[39mFret \u001b[39m>\u001b[39m f:\n\u001b[0;32m     <a href='vscode-notebook-cell:/e%3A/BAEKJOON_072723/boj_2841.ipynb#X24sZmlsZQ%3D%3D?line=17'>18</a>\u001b[0m         hq\u001b[39m.\u001b[39mheappop(pq[String\u001b[39m-\u001b[39m\u001b[39m1\u001b[39m])\n\u001b[0;32m     <a href='vscode-notebook-cell:/e%3A/BAEKJOON_072723/boj_2841.ipynb#X24sZmlsZQ%3D%3D?line=18'>19</a>\u001b[0m         ans \u001b[39m+\u001b[39m\u001b[39m=\u001b[39m \u001b[39m1\u001b[39m\n",
      "\u001b[1;31mNameError\u001b[0m: name 'f' is not defined"
     ]
    }
   ],
   "source": [
    "pq = [[] for _ in range(500_000)]\n",
    "\n",
    "N, P = map(int, input().split())\n",
    "print(f\"N : {N}     P : {P}\")\n",
    "print()\n",
    "\n",
    "ans = 0\n",
    "\n",
    "for _ in range(N):\n",
    "    String, Fret = map(int, input().split())    \n",
    "    print(f\"String : {String},   Fret : {Fret}\")\n",
    "    \n",
    "    hq.heappush(pq[String-1], -Fret)\n",
    "    ans += 1\n",
    "    \n",
    "    while -Fret > min(pq[String-1]):\n",
    "        hq.heappop(pq[String-1])\n",
    "        ans += 1\n",
    "            \n",
    "print(ans)                       "
   ]
  }
 ],
 "metadata": {
  "kernelspec": {
   "display_name": "base",
   "language": "python",
   "name": "python3"
  },
  "language_info": {
   "codemirror_mode": {
    "name": "ipython",
    "version": 3
   },
   "file_extension": ".py",
   "mimetype": "text/x-python",
   "name": "python",
   "nbconvert_exporter": "python",
   "pygments_lexer": "ipython3",
   "version": "3.9.12"
  },
  "orig_nbformat": 4
 },
 "nbformat": 4,
 "nbformat_minor": 2
}
