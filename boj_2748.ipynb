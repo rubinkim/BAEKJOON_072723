{
 "cells": [
  {
   "cell_type": "markdown",
   "metadata": {},
   "source": [
    "##### Top-Down : Recursion & Memoization"
   ]
  },
  {
   "cell_type": "code",
   "execution_count": null,
   "metadata": {},
   "outputs": [],
   "source": [
    "cache = [-1] * 91\n",
    "cache[0], cache[1] = 0, 1\n",
    "cnt = 0\n",
    "\n",
    "def f(n):\n",
    "    global cnt\n",
    "    cnt += 1\n",
    "    \n",
    "    if cache[n] == -1:\n",
    "        cache[n] = cache[n-1] + cache[n-2]\n",
    "    \n",
    "    return cache[n]"
   ]
  },
  {
   "cell_type": "code",
   "execution_count": null,
   "metadata": {},
   "outputs": [],
   "source": [
    "print(int(input()))\n",
    "print(f\"cnt : {cnt}\")"
   ]
  }
 ],
 "metadata": {
  "kernelspec": {
   "display_name": "base",
   "language": "python",
   "name": "python3"
  },
  "language_info": {
   "name": "python",
   "version": "3.9.12"
  },
  "orig_nbformat": 4
 },
 "nbformat": 4,
 "nbformat_minor": 2
}
