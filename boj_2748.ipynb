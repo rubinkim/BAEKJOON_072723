{
 "cells": [
  {
   "cell_type": "markdown",
   "metadata": {},
   "source": [
    "##### Top-Down : Recursion & Memoization"
   ]
  },
  {
   "cell_type": "code",
   "execution_count": 15,
   "metadata": {},
   "outputs": [
    {
     "name": "stdout",
     "output_type": "stream",
     "text": [
      "2880067194370816120\n"
     ]
    }
   ],
   "source": [
    "n = int(input())\n",
    "cache = [-1] * 91\n",
    "cache[0], cache[1] = 0, 1\n",
    "cnt = 0\n",
    "\n",
    "def f(n):\n",
    "    global cnt\n",
    "    cnt += 1\n",
    "    \n",
    "    if cache[n] == -1:\n",
    "        cache[n] = f(n-1) + f(n-2)\n",
    "    \n",
    "    return cache[n]\n",
    "\n",
    "print(f(n))"
   ]
  },
  {
   "cell_type": "code",
   "execution_count": 14,
   "metadata": {},
   "outputs": [
    {
     "name": "stdout",
     "output_type": "stream",
     "text": [
      "55\n",
      "cnt : 185\n"
     ]
    }
   ],
   "source": [
    "print(f(int(input())))\n",
    "print(f\"cnt : {cnt}\")"
   ]
  },
  {
   "cell_type": "markdown",
   "metadata": {},
   "source": [
    "##### Bottom-Up : For loops & Tabulation"
   ]
  },
  {
   "cell_type": "code",
   "execution_count": null,
   "metadata": {},
   "outputs": [],
   "source": [
    "n = int(input())\n",
    "cache = [-1] * 91\n",
    "cache[0], cache[1] = 0, 1\n",
    "\n",
    "for i in range(2, n):\n",
    "    cache[n] = cache[n-1] + cache[n-2]\n",
    "    \n",
    "print(cache[n])"
   ]
  }
 ],
 "metadata": {
  "kernelspec": {
   "display_name": "base",
   "language": "python",
   "name": "python3"
  },
  "language_info": {
   "codemirror_mode": {
    "name": "ipython",
    "version": 3
   },
   "file_extension": ".py",
   "mimetype": "text/x-python",
   "name": "python",
   "nbconvert_exporter": "python",
   "pygments_lexer": "ipython3",
   "version": "3.9.12"
  },
  "orig_nbformat": 4
 },
 "nbformat": 4,
 "nbformat_minor": 2
}
