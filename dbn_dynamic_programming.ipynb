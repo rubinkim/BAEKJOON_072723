{
 "cells": [
  {
   "cell_type": "code",
   "execution_count": 1,
   "metadata": {},
   "outputs": [
    {
     "name": "stdout",
     "output_type": "stream",
     "text": [
      "N : 15\n",
      "storages : [5, 2, 9, 11, 8, 4, 3, 6, 10, 2, 7, 4, 1, 8, 12]\n"
     ]
    }
   ],
   "source": [
    "N = int(input())\n",
    "storages = list(map(int, input().split()))     # 5 2 9 11 8 4 3 6 10 2 7 4 1 8 12\n",
    "print(f\"N : {N}\")\n",
    "print(f\"storages : {storages}\")"
   ]
  },
  {
   "cell_type": "code",
   "execution_count": 3,
   "metadata": {},
   "outputs": [
    {
     "name": "stdout",
     "output_type": "stream",
     "text": [
      "[0, 0, 0, 0, 0, 0, 0, 0, 0, 0, 0, 0, 0, 0, 0]\n"
     ]
    }
   ],
   "source": [
    "d = [0] * N\n",
    "print(d)"
   ]
  },
  {
   "cell_type": "code",
   "execution_count": null,
   "metadata": {},
   "outputs": [],
   "source": [
    "d[0] = storages[0] + max(storages[0+2: ])\n",
    "d[1] = storages[1] + max(storages[1+2: ])\n",
    "d[2] = storages[2] + max(storages[0], max(storages[2+2: ]))\n",
    "d[3] = storages[3] + max(storages[1], max(storages[3+2: ]))"
   ]
  }
 ],
 "metadata": {
  "kernelspec": {
   "display_name": "base",
   "language": "python",
   "name": "python3"
  },
  "language_info": {
   "codemirror_mode": {
    "name": "ipython",
    "version": 3
   },
   "file_extension": ".py",
   "mimetype": "text/x-python",
   "name": "python",
   "nbconvert_exporter": "python",
   "pygments_lexer": "ipython3",
   "version": "3.9.12"
  },
  "orig_nbformat": 4
 },
 "nbformat": 4,
 "nbformat_minor": 2
}
