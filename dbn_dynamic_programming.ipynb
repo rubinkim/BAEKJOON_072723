{
 "cells": [
  {
   "cell_type": "code",
   "execution_count": 1,
   "metadata": {},
   "outputs": [
    {
     "name": "stdout",
     "output_type": "stream",
     "text": [
      "N : 15\n",
      "storages : [5, 2, 9, 11, 8, 4, 3, 6, 10, 2, 7, 4, 1, 8, 12]\n"
     ]
    }
   ],
   "source": [
    "N = int(input())\n",
    "storages = list(map(int, input().split()))     # 5 2 9 11 8 4 3 6 10 2 7 4 1 8 12\n",
    "print(f\"N : {N}\")\n",
    "print(f\"storages : {storages}\")"
   ]
  },
  {
   "cell_type": "code",
   "execution_count": 3,
   "metadata": {},
   "outputs": [
    {
     "name": "stdout",
     "output_type": "stream",
     "text": [
      "[0, 0, 0, 0, 0, 0, 0, 0, 0, 0, 0, 0, 0, 0, 0]\n"
     ]
    }
   ],
   "source": [
    "d = [0] * N\n",
    "print(d)"
   ]
  },
  {
   "cell_type": "code",
   "execution_count": 18,
   "metadata": {},
   "outputs": [
    {
     "ename": "TypeError",
     "evalue": "'NoneType' object is not iterable",
     "output_type": "error",
     "traceback": [
      "\u001b[1;31m---------------------------------------------------------------------------\u001b[0m",
      "\u001b[1;31mTypeError\u001b[0m                                 Traceback (most recent call last)",
      "\u001b[1;32me:\\BAEKJOON_072723\\dbn_dynamic_programming.ipynb Cell 3\u001b[0m line \u001b[0;36m<cell line: 6>\u001b[1;34m()\u001b[0m\n\u001b[0;32m      <a href='vscode-notebook-cell:/e%3A/BAEKJOON_072723/dbn_dynamic_programming.ipynb#W2sZmlsZQ%3D%3D?line=3'>4</a>\u001b[0m d[\u001b[39m3\u001b[39m] \u001b[39m=\u001b[39m storages[\u001b[39m3\u001b[39m] \u001b[39m+\u001b[39m \u001b[39mmax\u001b[39m(storages[\u001b[39m1\u001b[39m], \u001b[39mmax\u001b[39m(storages[\u001b[39m3\u001b[39m\u001b[39m+\u001b[39m\u001b[39m2\u001b[39m: ]))\n\u001b[0;32m      <a href='vscode-notebook-cell:/e%3A/BAEKJOON_072723/dbn_dynamic_programming.ipynb#W2sZmlsZQ%3D%3D?line=5'>6</a>\u001b[0m \u001b[39mfor\u001b[39;00m n \u001b[39min\u001b[39;00m \u001b[39mrange\u001b[39m(\u001b[39m4\u001b[39m, N\u001b[39m-\u001b[39m\u001b[39m2\u001b[39m):    \n\u001b[1;32m----> <a href='vscode-notebook-cell:/e%3A/BAEKJOON_072723/dbn_dynamic_programming.ipynb#W2sZmlsZQ%3D%3D?line=6'>7</a>\u001b[0m     d[n] \u001b[39m=\u001b[39m storages[n] \u001b[39m+\u001b[39m \u001b[39mmax\u001b[39;49m(storages[ :n\u001b[39m-\u001b[39;49m\u001b[39m2\u001b[39;49m]\u001b[39m.\u001b[39;49mextend(storages[n\u001b[39m+\u001b[39;49m\u001b[39m2\u001b[39;49m: ]))\n",
      "\u001b[1;31mTypeError\u001b[0m: 'NoneType' object is not iterable"
     ]
    }
   ],
   "source": [
    "d[0] = storages[0] + max(storages[0+2: ])\n",
    "d[1] = storages[1] + max(storages[1+2: ])\n",
    "d[2] = storages[2] + max(storages[0], max(storages[2+2: ]))\n",
    "d[3] = storages[3] + max(storages[1], max(storages[3+2: ]))\n",
    "\n",
    "for n in range(4, N-2):    \n",
    "    d[n] = storages[n] + max(storages[ :n-2].extend(storages[n+2: ]))"
   ]
  },
  {
   "cell_type": "code",
   "execution_count": 22,
   "metadata": {},
   "outputs": [
    {
     "data": {
      "text/plain": [
       "([5, 2, 9], [6, 10, 2, 7, 4, 1, 8, 12], None)"
      ]
     },
     "execution_count": 22,
     "metadata": {},
     "output_type": "execute_result"
    }
   ],
   "source": [
    "storages[ :3], storages[7: ], storages[ :3].append(storages[7: ])"
   ]
  },
  {
   "cell_type": "code",
   "execution_count": 6,
   "metadata": {},
   "outputs": [
    {
     "data": {
      "text/plain": [
       "(4, [6, 10, 2, 7, 4, 1, 8, 12])"
      ]
     },
     "execution_count": 6,
     "metadata": {},
     "output_type": "execute_result"
    }
   ],
   "source": [
    "storages[5], max(storages[ : 5-2], storages[5+2: ])"
   ]
  },
  {
   "cell_type": "code",
   "execution_count": 12,
   "metadata": {},
   "outputs": [
    {
     "data": {
      "text/plain": [
       "([5, 2, 9], [6, 10, 2, 7, 4, 1, 8, 12], 12)"
      ]
     },
     "execution_count": 12,
     "metadata": {},
     "output_type": "execute_result"
    }
   ],
   "source": [
    "storages[ :5-2], storages[5+2: ], max(max(storages[ :5-2]), max(storages[5+2: ])), max()"
   ]
  }
 ],
 "metadata": {
  "kernelspec": {
   "display_name": "base",
   "language": "python",
   "name": "python3"
  },
  "language_info": {
   "codemirror_mode": {
    "name": "ipython",
    "version": 3
   },
   "file_extension": ".py",
   "mimetype": "text/x-python",
   "name": "python",
   "nbconvert_exporter": "python",
   "pygments_lexer": "ipython3",
   "version": "3.9.12"
  },
  "orig_nbformat": 4
 },
 "nbformat": 4,
 "nbformat_minor": 2
}
