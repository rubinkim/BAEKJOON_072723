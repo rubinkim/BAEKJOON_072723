{
 "cells": [
  {
   "cell_type": "code",
   "execution_count": 1,
   "metadata": {},
   "outputs": [
    {
     "name": "stdout",
     "output_type": "stream",
     "text": [
      "N : 15\n",
      "storages : [5, 2, 9, 11, 8, 4, 3, 6, 10, 2, 7, 4, 1, 8, 7]\n"
     ]
    }
   ],
   "source": [
    "N = int(input())\n",
    "storages = list(map(int, input().split()))     # 5 2 9 11 8 4 3 6 10 2 7 4 1 8 7\n",
    "print(f\"N : {N}\")\n",
    "print(f\"storages : {storages}\")"
   ]
  },
  {
   "cell_type": "code",
   "execution_count": 2,
   "metadata": {},
   "outputs": [
    {
     "name": "stdout",
     "output_type": "stream",
     "text": [
      "[0, 0, 0, 0, 0, 0, 0, 0, 0, 0, 0, 0, 0, 0, 0]\n"
     ]
    }
   ],
   "source": [
    "d = [0] * N\n",
    "print(d)"
   ]
  },
  {
   "cell_type": "code",
   "execution_count": 28,
   "metadata": {},
   "outputs": [],
   "source": [
    "d[0] = storages[0] + max(storages[0+2: ])\n",
    "d[1] = storages[1] + max(storages[1+2: ])\n",
    "d[2] = storages[2] + max(storages[0], max(storages[2+2: ]))\n",
    "d[3] = storages[3] + max(storages[1], max(storages[3+2: ]))\n",
    "\n",
    "for n in range(4, N-2):    \n",
    "    d[n] = storages[n] + max(max(storages[ :n-2]), max(storages[n+2: ]))"
   ]
  },
  {
   "cell_type": "code",
   "execution_count": 29,
   "metadata": {},
   "outputs": [
    {
     "name": "stdout",
     "output_type": "stream",
     "text": [
      "[16, 13, 19, 21, 18, 14, 14, 17, 21, 13, 18, 15, 12, 0, 0]\n"
     ]
    }
   ],
   "source": [
    "print(d)"
   ]
  },
  {
   "cell_type": "code",
   "execution_count": 30,
   "metadata": {},
   "outputs": [
    {
     "name": "stdout",
     "output_type": "stream",
     "text": [
      "[5, 2, 9, 11, 8, 4, 3, 6, 10, 2, 7, 4, 1, 8, 7]\n"
     ]
    }
   ],
   "source": [
    "print(storages)"
   ]
  },
  {
   "cell_type": "code",
   "execution_count": 3,
   "metadata": {},
   "outputs": [],
   "source": [
    "def find_max(array, n):\n",
    "    left_max = max(array[:n-2])\n",
    "    right_max = max(array[n+2:])\n",
    "    final_max = max(left_max, right_max)\n",
    "    return final_max"
   ]
  },
  {
   "cell_type": "code",
   "execution_count": 5,
   "metadata": {},
   "outputs": [
    {
     "data": {
      "text/plain": [
       "10"
      ]
     },
     "execution_count": 5,
     "metadata": {},
     "output_type": "execute_result"
    }
   ],
   "source": [
    "find_max(storages, 4)"
   ]
  },
  {
   "cell_type": "code",
   "execution_count": 6,
   "metadata": {},
   "outputs": [
    {
     "ename": "ValueError",
     "evalue": "max() arg is an empty sequence",
     "output_type": "error",
     "traceback": [
      "\u001b[1;31m---------------------------------------------------------------------------\u001b[0m",
      "\u001b[1;31mValueError\u001b[0m                                Traceback (most recent call last)",
      "\u001b[1;32me:\\BAEKJOON_072723\\dbn_dynamic_programming.ipynb Cell 8\u001b[0m line \u001b[0;36m<cell line: 1>\u001b[1;34m()\u001b[0m\n\u001b[1;32m----> <a href='vscode-notebook-cell:/e%3A/BAEKJOON_072723/dbn_dynamic_programming.ipynb#X10sZmlsZQ%3D%3D?line=0'>1</a>\u001b[0m find_max(storages, \u001b[39m2\u001b[39;49m)\n",
      "\u001b[1;32me:\\BAEKJOON_072723\\dbn_dynamic_programming.ipynb Cell 8\u001b[0m line \u001b[0;36mfind_max\u001b[1;34m(array, n)\u001b[0m\n\u001b[0;32m      <a href='vscode-notebook-cell:/e%3A/BAEKJOON_072723/dbn_dynamic_programming.ipynb#X10sZmlsZQ%3D%3D?line=0'>1</a>\u001b[0m \u001b[39mdef\u001b[39;00m \u001b[39mfind_max\u001b[39m(array, n):\n\u001b[1;32m----> <a href='vscode-notebook-cell:/e%3A/BAEKJOON_072723/dbn_dynamic_programming.ipynb#X10sZmlsZQ%3D%3D?line=1'>2</a>\u001b[0m     left_max \u001b[39m=\u001b[39m \u001b[39mmax\u001b[39;49m(array[:n\u001b[39m-\u001b[39;49m\u001b[39m2\u001b[39;49m])\n\u001b[0;32m      <a href='vscode-notebook-cell:/e%3A/BAEKJOON_072723/dbn_dynamic_programming.ipynb#X10sZmlsZQ%3D%3D?line=2'>3</a>\u001b[0m     right_max \u001b[39m=\u001b[39m \u001b[39mmax\u001b[39m(array[n\u001b[39m+\u001b[39m\u001b[39m2\u001b[39m:])\n\u001b[0;32m      <a href='vscode-notebook-cell:/e%3A/BAEKJOON_072723/dbn_dynamic_programming.ipynb#X10sZmlsZQ%3D%3D?line=3'>4</a>\u001b[0m     final_max \u001b[39m=\u001b[39m \u001b[39mmax\u001b[39m(left_max, right_max)\n",
      "\u001b[1;31mValueError\u001b[0m: max() arg is an empty sequence"
     ]
    }
   ],
   "source": [
    "find_max(storages, 2)"
   ]
  },
  {
   "cell_type": "code",
   "execution_count": null,
   "metadata": {},
   "outputs": [],
   "source": []
  }
 ],
 "metadata": {
  "kernelspec": {
   "display_name": "base",
   "language": "python",
   "name": "python3"
  },
  "language_info": {
   "codemirror_mode": {
    "name": "ipython",
    "version": 3
   },
   "file_extension": ".py",
   "mimetype": "text/x-python",
   "name": "python",
   "nbconvert_exporter": "python",
   "pygments_lexer": "ipython3",
   "version": "3.9.12"
  },
  "orig_nbformat": 4
 },
 "nbformat": 4,
 "nbformat_minor": 2
}
