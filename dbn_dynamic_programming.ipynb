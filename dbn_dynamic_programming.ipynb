{
 "cells": [
  {
   "cell_type": "code",
   "execution_count": 7,
   "metadata": {},
   "outputs": [
    {
     "name": "stdout",
     "output_type": "stream",
     "text": [
      "N : 15\n",
      "storages : [5, 2, 9, 11, 8, 4, 3, 6, 10, 2, 7, 4, 1, 8, 7]\n"
     ]
    }
   ],
   "source": [
    "N = int(input())\n",
    "storages = list(map(int, input().split()))     # 5 2 9 11 8 4 3 6 10 2 7 4 1 8 7\n",
    "print(f\"N : {N}\")\n",
    "print(f\"storages : {storages}\")"
   ]
  },
  {
   "cell_type": "code",
   "execution_count": 9,
   "metadata": {},
   "outputs": [
    {
     "name": "stdout",
     "output_type": "stream",
     "text": [
      "[5, 2, 9, 11, 8, 4, 3, 6, 10, 2, 7, 4, 1, 8, 7]\n",
      "[False, False, False, False, False, False, False, False, False, False, False, False, False, False, False]\n"
     ]
    }
   ],
   "source": [
    "d = [k for k in storages]\n",
    "print(d)\n",
    "\n",
    "chk = [False] * N\n",
    "print(chk)"
   ]
  },
  {
   "cell_type": "code",
   "execution_count": null,
   "metadata": {},
   "outputs": [],
   "source": [
    "totals = []\n",
    "\n",
    "while True:\n",
    "    max_element = max(storages)\n",
    "    max_element_idx = storages.index(max_element)\n",
    "    left_max_element_idx = storages.index(max_element) - 1\n",
    "    right_max_element_idx = storages.index(max_element) + 1\n",
    "    \n",
    "    if max_element_idx >= 1 and max_element_idx <= len(storages)-2 and not chk[max_element_idx] and not chk[left_max_element_idx] and not chk[right_max_element_idx]:\n",
    "        chk[max_element_idx] = True\n",
    "        chk[left_max_element_idx] = True\n",
    "        chk[right_max_element_idx] = True\n",
    "        totals.append(storages.pop(max_element_idx))\n",
    "    \n",
    "    elif max_element_idx == 0 and not chk[max_element_idx] and not chk[right_max_element_idx]: \n",
    "        totals.append(storages.pop(max_element_idx))\n",
    "    \n",
    "    elif max_element_idx == len(storages)-1 and not chk[max_element_idx] and not chk[left_max_element_idx]:\n",
    "        totals.append(storages.pop(max_element_idx))\n",
    "        \n",
    "    "
   ]
  }
 ],
 "metadata": {
  "kernelspec": {
   "display_name": "base",
   "language": "python",
   "name": "python3"
  },
  "language_info": {
   "codemirror_mode": {
    "name": "ipython",
    "version": 3
   },
   "file_extension": ".py",
   "mimetype": "text/x-python",
   "name": "python",
   "nbconvert_exporter": "python",
   "pygments_lexer": "ipython3",
   "version": "3.9.12"
  },
  "orig_nbformat": 4
 },
 "nbformat": 4,
 "nbformat_minor": 2
}
