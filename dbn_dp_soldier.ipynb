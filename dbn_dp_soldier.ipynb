{
 "cells": [
  {
   "cell_type": "code",
   "execution_count": 1,
   "metadata": {},
   "outputs": [
    {
     "name": "stdout",
     "output_type": "stream",
     "text": [
      "[7, 5, 4, 4, 3, 8, 6, 5, 5, 3, 3, 2, 9, 1, 1]\n"
     ]
    }
   ],
   "source": [
    "n = int(input())   # number of soliders\n",
    "soldiers = list(map(int, input().split()))     # 7 5 4 4 3 8 6 5 5 3 3 2 9 1 1\n",
    "print(soldiers)"
   ]
  },
  {
   "cell_type": "code",
   "execution_count": 2,
   "metadata": {},
   "outputs": [],
   "source": [
    "def count_removals(array, k):\n",
    "    subArray = array[k:]\n",
    "    removal_cnt = len(array) - len(subArray)   # initialize the number of removals\n",
    "    for i in range(1, len(subArray)):\n",
    "        if subArray[i] > subArray[i-1]:\n",
    "            removal_cnt += 1\n",
    "            subArray[i-1], subArray[i] = subArray[i], subArray[i-1]\n",
    "    remaining_cnt = len(array) - removal_cnt\n",
    "    return (remaining_cnt, removal_cnt)"
   ]
  },
  {
   "cell_type": "code",
   "execution_count": 5,
   "metadata": {},
   "outputs": [
    {
     "name": "stdout",
     "output_type": "stream",
     "text": [
      "[(10, 5), (9, 6), (8, 7), (7, 8), (6, 9), (9, 6), (8, 7), (7, 8), (6, 9), (5, 10), (4, 11), (3, 12), (3, 12), (2, 13), (1, 14)]\n",
      "[(10, 5), (9, 6), (9, 6), (8, 7), (8, 7), (7, 8), (7, 8), (6, 9), (6, 9), (5, 10), (4, 11), (3, 12), (3, 12), (2, 13), (1, 14)]\n"
     ]
    }
   ],
   "source": [
    "cnt_list = []\n",
    "for i in range(len(soldiers)):\n",
    "    cnt_list.append(count_removals(soldiers, i))\n",
    "\n",
    "print(cnt_list)\n",
    "sorted_cnt_list = sorted(cnt_list, key=lambda x : x[0], reverse=True)\n",
    "print(sorted_cnt_list)"
   ]
  },
  {
   "cell_type": "code",
   "execution_count": 20,
   "metadata": {},
   "outputs": [
    {
     "data": {
      "text/plain": [
       "15"
      ]
     },
     "execution_count": 20,
     "metadata": {},
     "output_type": "execute_result"
    }
   ],
   "source": [
    "count_removals(soldiers, 0)"
   ]
  }
 ],
 "metadata": {
  "kernelspec": {
   "display_name": "base",
   "language": "python",
   "name": "python3"
  },
  "language_info": {
   "codemirror_mode": {
    "name": "ipython",
    "version": 3
   },
   "file_extension": ".py",
   "mimetype": "text/x-python",
   "name": "python",
   "nbconvert_exporter": "python",
   "pygments_lexer": "ipython3",
   "version": "3.9.12"
  },
  "orig_nbformat": 4
 },
 "nbformat": 4,
 "nbformat_minor": 2
}
