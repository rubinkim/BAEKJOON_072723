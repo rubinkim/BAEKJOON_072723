{
 "cells": [
  {
   "cell_type": "code",
   "execution_count": 6,
   "metadata": {},
   "outputs": [
    {
     "name": "stdout",
     "output_type": "stream",
     "text": [
      "[15, 11, 4, 8, 5, 2, 4]\n"
     ]
    }
   ],
   "source": [
    "n = int(input())   # number of soliders\n",
    "soldiers = list(map(int, input().split()))     # 15 : 7 5 4 4 3 8 6 5 5 3 3 2 9 1 1    # 7 : 15 11 4 8 5 2 4\n",
    "print(soldiers)"
   ]
  },
  {
   "cell_type": "code",
   "execution_count": 2,
   "metadata": {},
   "outputs": [],
   "source": [
    "def count_removals(array, k):\n",
    "    subArray = array[k:]\n",
    "    removal_cnt = len(array) - len(subArray)   # initialize the number of removals\n",
    "    for i in range(1, len(subArray)):\n",
    "        if subArray[i] > subArray[i-1]:\n",
    "            removal_cnt += 1\n",
    "            subArray[i-1], subArray[i] = subArray[i], subArray[i-1]\n",
    "    remaining_cnt = len(array) - removal_cnt\n",
    "    return (remaining_cnt, removal_cnt)"
   ]
  },
  {
   "cell_type": "code",
   "execution_count": 7,
   "metadata": {},
   "outputs": [
    {
     "name": "stdout",
     "output_type": "stream",
     "text": [
      "[(4, 3), (3, 4), (2, 5), (3, 4), (2, 5), (1, 6), (1, 6)]\n",
      "[(4, 3), (3, 4), (3, 4), (2, 5), (2, 5), (1, 6), (1, 6)]\n"
     ]
    }
   ],
   "source": [
    "cnt_list = []\n",
    "for i in range(len(soldiers)):\n",
    "    cnt_list.append(count_removals(soldiers, i))\n",
    "\n",
    "print(cnt_list)\n",
    "sorted_cnt_list = sorted(cnt_list, key=lambda x : x[0], reverse=True)\n",
    "print(sorted_cnt_list)"
   ]
  },
  {
   "cell_type": "code",
   "execution_count": 20,
   "metadata": {},
   "outputs": [
    {
     "data": {
      "text/plain": [
       "15"
      ]
     },
     "execution_count": 20,
     "metadata": {},
     "output_type": "execute_result"
    }
   ],
   "source": [
    "count_removals(soldiers, 0)"
   ]
  }
 ],
 "metadata": {
  "kernelspec": {
   "display_name": "base",
   "language": "python",
   "name": "python3"
  },
  "language_info": {
   "codemirror_mode": {
    "name": "ipython",
    "version": 3
   },
   "file_extension": ".py",
   "mimetype": "text/x-python",
   "name": "python",
   "nbconvert_exporter": "python",
   "pygments_lexer": "ipython3",
   "version": "3.9.12"
  },
  "orig_nbformat": 4
 },
 "nbformat": 4,
 "nbformat_minor": 2
}
