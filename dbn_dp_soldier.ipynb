{
 "cells": [
  {
   "cell_type": "code",
   "execution_count": 2,
   "metadata": {},
   "outputs": [
    {
     "name": "stdout",
     "output_type": "stream",
     "text": [
      "[7, 5, 4, 4, 3, 8, 6, 5, 5, 3, 3, 2, 9, 1, 1]\n"
     ]
    }
   ],
   "source": [
    "n = int(input())   # number of soliders\n",
    "soldiers = list(map(int, input().split()))     # 7 5 4 4 3 8 6 5 5 3 3 2 9 1 1\n",
    "print(soldiers)"
   ]
  },
  {
   "cell_type": "code",
   "execution_count": 3,
   "metadata": {},
   "outputs": [],
   "source": [
    "def count_removals(array, k):\n",
    "    cnt = 0\n",
    "    subArray = array[k:]\n",
    "    for i in range(len(subArray)):\n",
    "        if subArray[i] > subArray[0]:\n",
    "            cnt += 1\n",
    "    return cnt"
   ]
  }
 ],
 "metadata": {
  "kernelspec": {
   "display_name": "base",
   "language": "python",
   "name": "python3"
  },
  "language_info": {
   "codemirror_mode": {
    "name": "ipython",
    "version": 3
   },
   "file_extension": ".py",
   "mimetype": "text/x-python",
   "name": "python",
   "nbconvert_exporter": "python",
   "pygments_lexer": "ipython3",
   "version": "3.9.12"
  },
  "orig_nbformat": 4
 },
 "nbformat": 4,
 "nbformat_minor": 2
}
