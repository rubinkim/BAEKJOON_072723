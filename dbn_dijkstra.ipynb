{
 "cells": [
  {
   "cell_type": "code",
   "execution_count": 1,
   "metadata": {},
   "outputs": [],
   "source": [
    "import sys\n",
    "input = sys.stdin.readline"
   ]
  },
  {
   "cell_type": "code",
   "execution_count": 28,
   "metadata": {},
   "outputs": [
    {
     "name": "stdout",
     "output_type": "stream",
     "text": [
      "n : 6,   m : 11,   c : 1\n"
     ]
    }
   ],
   "source": [
    "input = open(\"data/dbn_dijkstra.txt\", \"r\")\n",
    "\n",
    "n, m, c = map(int, input.readline().rstrip().split())    # n : number of nodes,  m : number of edges,  c : start city\n",
    "print(f\"n : {n},   m : {m},   c : {c}\")"
   ]
  },
  {
   "cell_type": "code",
   "execution_count": 29,
   "metadata": {},
   "outputs": [],
   "source": [
    "INF = int(1e9)    # set infinity to 1e9\n",
    "start = c         # start node\n",
    "\n",
    "graph = [[] for _ in range(n+1)]       # A list that stores nodes which connect to every node from 1 to n\n",
    "visited = [False] * (n+1)              # A list that checks if a node is visited or not\n",
    "distance = [INF] * (n+1)               # A list that stores shortest paths all of which default to INF"
   ]
  },
  {
   "cell_type": "code",
   "execution_count": 30,
   "metadata": {},
   "outputs": [],
   "source": [
    "for _ in range(m):\n",
    "    a, b, c = map(int, input.readline().rstrip().split())\n",
    "    graph[a] = ((b, c))"
   ]
  }
 ],
 "metadata": {
  "kernelspec": {
   "display_name": "base",
   "language": "python",
   "name": "python3"
  },
  "language_info": {
   "codemirror_mode": {
    "name": "ipython",
    "version": 3
   },
   "file_extension": ".py",
   "mimetype": "text/x-python",
   "name": "python",
   "nbconvert_exporter": "python",
   "pygments_lexer": "ipython3",
   "version": "3.9.12"
  },
  "orig_nbformat": 4
 },
 "nbformat": 4,
 "nbformat_minor": 2
}
