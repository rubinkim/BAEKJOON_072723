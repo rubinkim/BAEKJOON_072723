{
 "cells": [
  {
   "cell_type": "code",
   "execution_count": 1,
   "metadata": {},
   "outputs": [],
   "source": [
    "import sys\n",
    "input = sys.stdin.readline"
   ]
  },
  {
   "cell_type": "code",
   "execution_count": 72,
   "metadata": {},
   "outputs": [
    {
     "name": "stdout",
     "output_type": "stream",
     "text": [
      "n : 6,   m : 11,   c : 1\n"
     ]
    }
   ],
   "source": [
    "input = open(\"data/dbn_dijkstra.txt\", \"r\")\n",
    "\n",
    "n, m, c = map(int, input.readline().rstrip().split())    # n : number of nodes,  m : number of edges,  c : start city\n",
    "print(f\"n : {n},   m : {m},   c : {c}\")"
   ]
  },
  {
   "cell_type": "code",
   "execution_count": 73,
   "metadata": {},
   "outputs": [],
   "source": [
    "INF = int(1e9)    # set infinity to 1e9\n",
    "start = c         # start node\n",
    "\n",
    "graph = [[] for _ in range(n+1)]       # A list that stores nodes which connect to every node from 1 to n\n",
    "visited = [False] * (n+1)              # A list that checks if a node is visited or not\n",
    "distance = [INF] * (n+1)               # A list that stores shortest paths all of which default to INF"
   ]
  },
  {
   "cell_type": "code",
   "execution_count": 58,
   "metadata": {},
   "outputs": [
    {
     "data": {
      "text/plain": [
       "'\\nfor _ in range(m):\\n    a, b, c = map(int, input.readline().rstrip().split())\\n    graph[a].append((b, c))\\n    \\nfor row in graph:\\n    print(row)\\n'"
      ]
     },
     "execution_count": 58,
     "metadata": {},
     "output_type": "execute_result"
    }
   ],
   "source": [
    "\"\"\"\n",
    "for _ in range(m):\n",
    "    a, b, c = map(int, input.readline().rstrip().split())\n",
    "    graph[a].append((b, c))\n",
    "    \n",
    "for row in graph:\n",
    "    print(row)\n",
    "\"\"\""
   ]
  },
  {
   "cell_type": "code",
   "execution_count": 74,
   "metadata": {},
   "outputs": [
    {
     "name": "stdout",
     "output_type": "stream",
     "text": [
      "5 : [(6, 2), (3, 1)]\n",
      "4 : [(5, 1), (3, 3)]\n",
      "3 : [(6, 5), (2, 3)]\n",
      "1 : [(3, 5), (4, 1), (2, 2)]\n",
      "2 : [(3, 3), (4, 2)]\n"
     ]
    }
   ],
   "source": [
    "graph_dict = {}\n",
    "\n",
    "for i in input.readlines():\n",
    "    a, b, c = map(int, i.split())\n",
    "    if a not in graph_dict.keys():\n",
    "        graph_dict[a] = [(b, c)]\n",
    "    else:\n",
    "        graph_dict[a].append((b, c))\n",
    "        \n",
    "for k, v in graph_dict.items():\n",
    "    print(f\"{k} : {v}\")   "
   ]
  },
  {
   "cell_type": "code",
   "execution_count": 75,
   "metadata": {},
   "outputs": [
    {
     "name": "stdout",
     "output_type": "stream",
     "text": [
      "[1000000000, 1000000000, 1000000000, 1000000000, 1000000000, 1000000000, 1000000000]\n",
      "[False, False, False, False, False, False, False]\n"
     ]
    }
   ],
   "source": [
    "print(distance)\n",
    "print(visited)"
   ]
  },
  {
   "cell_type": "code",
   "execution_count": 84,
   "metadata": {},
   "outputs": [],
   "source": [
    "\"\"\"방문하지 않은 노드들중에서 최단거리가 가장 짧은 노드의 인덱스를 반환\"\"\"\n",
    "def get_smallest_node():\n",
    "    min_value = INF\n",
    "    index = 0  # 최단거리가 가장 짧은 노드의 인덱스\n",
    "    for i in range(1, n+1):\n",
    "        if distance[i] < min_value and not visited:\n",
    "            min_value = distance[i]\n",
    "            index = i\n",
    "    return index"
   ]
  },
  {
   "cell_type": "code",
   "execution_count": 100,
   "metadata": {},
   "outputs": [
    {
     "name": "stdout",
     "output_type": "stream",
     "text": [
      "[1000000000, 0, 2, 5, 1, 1000000000, 1000000000]\n",
      "[False, True, False, False, False, False, False]\n",
      "1000000000\n"
     ]
    }
   ],
   "source": [
    "print(distance)\n",
    "print(visited)\n",
    "print(min_value)"
   ]
  },
  {
   "cell_type": "code",
   "execution_count": 99,
   "metadata": {},
   "outputs": [],
   "source": [
    "min_value = INF\n",
    "for i in range(1, n+1):\n",
    "    #print(distance[i])\n",
    "    if distance[i] < min_value and not visited:\n",
    "        min_value = distance[i]\n",
    "        print(i, min_value)\n"
   ]
  },
  {
   "cell_type": "code",
   "execution_count": 104,
   "metadata": {},
   "outputs": [
    {
     "name": "stdout",
     "output_type": "stream",
     "text": [
      "1 0 1000000000 True\n",
      "2 2 1000000000 False\n",
      "3 5 1000000000 False\n",
      "4 1 1000000000 False\n",
      "5 1000000000 1000000000 False\n",
      "6 1000000000 1000000000 False\n"
     ]
    }
   ],
   "source": [
    "min_value = INF\n",
    "for i in range(1, n+1):\n",
    "    print(i, distance[i], min_value, visited[i])"
   ]
  },
  {
   "cell_type": "code",
   "execution_count": 102,
   "metadata": {},
   "outputs": [
    {
     "data": {
      "text/plain": [
       "6"
      ]
     },
     "execution_count": 102,
     "metadata": {},
     "output_type": "execute_result"
    }
   ],
   "source": [
    "n"
   ]
  },
  {
   "cell_type": "code",
   "execution_count": 101,
   "metadata": {},
   "outputs": [
    {
     "name": "stdout",
     "output_type": "stream",
     "text": [
      "1000000000\n"
     ]
    }
   ],
   "source": [
    "print(min_value)"
   ]
  },
  {
   "cell_type": "code",
   "execution_count": 85,
   "metadata": {},
   "outputs": [
    {
     "name": "stdout",
     "output_type": "stream",
     "text": [
      "1\n",
      "[1000000000, 0, 2, 5, 1, 1000000000, 1000000000]\n",
      "[False, True, False, False, False, False, False]\n",
      "0\n"
     ]
    }
   ],
   "source": [
    "print(start)\n",
    "distance[start] = 0\n",
    "visited[start] = True\n",
    "for j in graph_dict[start]:\n",
    "    distance[j[0]] = j[1]    \n",
    "print(distance)\n",
    "print(visited)\n",
    "now = get_smallest_node()\n",
    "print(now)"
   ]
  },
  {
   "cell_type": "code",
   "execution_count": 64,
   "metadata": {},
   "outputs": [],
   "source": [
    "\"\"\"dijstra algorithm\"\"\"\n",
    "def dijkstra(start):\n",
    "    \"\"\"시작노드를 초기화한다.\"\"\"\n",
    "    distance[start] = 0\n",
    "    visited[start] = True\n",
    "    \n",
    "    for j in graph_dict[start]:\n",
    "        distance[j[0]] = j[1]\n",
    "        \n",
    "    \"\"\"시작노드를 제외한 다른 모든 n-1개의 노드에 대해 반복한다.\"\"\"\n",
    "    for i in range(n-1):\n",
    "        \"\"\"현재 최단거리가 가장 짧은 node에 대해 방문처리한다.\"\"\"\n",
    "        now = get_smallest_node()\n",
    "        visited[now] = True\n",
    "        \"\"\"현재노드와 연결된 다른 노드들 확인\"\"\"\n",
    "        for j in graph_dict[now]:\n",
    "            cost = distance[now] + j[1]\n",
    "            \"\"\"현재노드를 거쳐서 다른노드로의 이동거리가 최단거리테이블에 저장된 거리보다 짧은 경우에 최단거리테이블을 갱신한다.\"\"\"\n",
    "            if cost < distance[j[0]]:\n",
    "                distance[j[0]] = cost"
   ]
  },
  {
   "cell_type": "code",
   "execution_count": 66,
   "metadata": {},
   "outputs": [
    {
     "ename": "KeyError",
     "evalue": "0",
     "output_type": "error",
     "traceback": [
      "\u001b[1;31m---------------------------------------------------------------------------\u001b[0m",
      "\u001b[1;31mKeyError\u001b[0m                                  Traceback (most recent call last)",
      "\u001b[1;32me:\\BAEKJOON_072723\\dbn_dijkstra.ipynb Cell 9\u001b[0m line \u001b[0;36m<cell line: 2>\u001b[1;34m()\u001b[0m\n\u001b[0;32m      <a href='vscode-notebook-cell:/e%3A/BAEKJOON_072723/dbn_dijkstra.ipynb#X12sZmlsZQ%3D%3D?line=0'>1</a>\u001b[0m \u001b[39m\"\"\"dijkstra algorithm 수행한다.\"\"\"\u001b[39;00m\n\u001b[1;32m----> <a href='vscode-notebook-cell:/e%3A/BAEKJOON_072723/dbn_dijkstra.ipynb#X12sZmlsZQ%3D%3D?line=1'>2</a>\u001b[0m dijkstra(start)\n",
      "\u001b[1;32me:\\BAEKJOON_072723\\dbn_dijkstra.ipynb Cell 9\u001b[0m line \u001b[0;36mdijkstra\u001b[1;34m(start)\u001b[0m\n\u001b[0;32m     <a href='vscode-notebook-cell:/e%3A/BAEKJOON_072723/dbn_dijkstra.ipynb#X12sZmlsZQ%3D%3D?line=13'>14</a>\u001b[0m visited[now] \u001b[39m=\u001b[39m \u001b[39mTrue\u001b[39;00m\n\u001b[0;32m     <a href='vscode-notebook-cell:/e%3A/BAEKJOON_072723/dbn_dijkstra.ipynb#X12sZmlsZQ%3D%3D?line=14'>15</a>\u001b[0m \u001b[39m\"\"\"현재노드와 연결된 다른 노드들 확인\"\"\"\u001b[39;00m\n\u001b[1;32m---> <a href='vscode-notebook-cell:/e%3A/BAEKJOON_072723/dbn_dijkstra.ipynb#X12sZmlsZQ%3D%3D?line=15'>16</a>\u001b[0m \u001b[39mfor\u001b[39;00m j \u001b[39min\u001b[39;00m graph_dict[now]:\n\u001b[0;32m     <a href='vscode-notebook-cell:/e%3A/BAEKJOON_072723/dbn_dijkstra.ipynb#X12sZmlsZQ%3D%3D?line=16'>17</a>\u001b[0m     cost \u001b[39m=\u001b[39m distance[now] \u001b[39m+\u001b[39m j[\u001b[39m1\u001b[39m]\n\u001b[0;32m     <a href='vscode-notebook-cell:/e%3A/BAEKJOON_072723/dbn_dijkstra.ipynb#X12sZmlsZQ%3D%3D?line=17'>18</a>\u001b[0m     \u001b[39m\"\"\"현재노드를 거쳐서 다른노드로의 이동거리가 최단거리테이블에 저장된 거리보다 짧은 경우에 최단거리테이블을 갱신한다.\"\"\"\u001b[39;00m\n",
      "\u001b[1;31mKeyError\u001b[0m: 0"
     ]
    }
   ],
   "source": [
    "\"\"\"dijkstra algorithm 수행한다.\"\"\"\n",
    "dijkstra(start)"
   ]
  },
  {
   "cell_type": "code",
   "execution_count": 68,
   "metadata": {},
   "outputs": [
    {
     "name": "stdout",
     "output_type": "stream",
     "text": [
      "(3, 5)\n",
      "(4, 1)\n",
      "(2, 2)\n"
     ]
    }
   ],
   "source": [
    "for j in graph_dict[1]:\n",
    "    print(j)"
   ]
  },
  {
   "cell_type": "code",
   "execution_count": 71,
   "metadata": {},
   "outputs": [
    {
     "name": "stdout",
     "output_type": "stream",
     "text": [
      "[1000000000, 0, 2, 5, 1, 1000000000, 1000000000]\n",
      "[True, True, False, False, False, False, False]\n"
     ]
    }
   ],
   "source": [
    "print(distance)\n",
    "print(visited)"
   ]
  },
  {
   "cell_type": "code",
   "execution_count": 69,
   "metadata": {},
   "outputs": [
    {
     "data": {
      "text/plain": [
       "0"
      ]
     },
     "execution_count": 69,
     "metadata": {},
     "output_type": "execute_result"
    }
   ],
   "source": [
    "get_smallest_node()"
   ]
  }
 ],
 "metadata": {
  "kernelspec": {
   "display_name": "base",
   "language": "python",
   "name": "python3"
  },
  "language_info": {
   "codemirror_mode": {
    "name": "ipython",
    "version": 3
   },
   "file_extension": ".py",
   "mimetype": "text/x-python",
   "name": "python",
   "nbconvert_exporter": "python",
   "pygments_lexer": "ipython3",
   "version": "3.9.12"
  },
  "orig_nbformat": 4
 },
 "nbformat": 4,
 "nbformat_minor": 2
}
