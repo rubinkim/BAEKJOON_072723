{
 "cells": [
  {
   "cell_type": "code",
   "execution_count": 1,
   "metadata": {},
   "outputs": [],
   "source": [
    "import sys\n",
    "input = sys.stdin.readline"
   ]
  },
  {
   "cell_type": "code",
   "execution_count": 141,
   "metadata": {},
   "outputs": [
    {
     "name": "stdout",
     "output_type": "stream",
     "text": [
      "n : 6,   m : 11,   c : 1\n"
     ]
    }
   ],
   "source": [
    "input = open(\"data/dbn_dijkstra.txt\", \"r\")\n",
    "\n",
    "n, m, c = map(int, input.readline().rstrip().split())    # n : number of nodes,  m : number of edges,  c : start city\n",
    "print(f\"n : {n},   m : {m},   c : {c}\")"
   ]
  },
  {
   "cell_type": "code",
   "execution_count": 142,
   "metadata": {},
   "outputs": [],
   "source": [
    "INF = int(1e9)    # set infinity to 1e9\n",
    "start = c         # start node\n",
    "\n",
    "graph = [[] for _ in range(n+1)]       # A list that stores nodes which connect to every node from 1 to n\n",
    "visited = [False] * (n+1)              # A list that checks if a node is visited or not\n",
    "distance = [INF] * (n+1)               # A list that stores shortest paths all of which default to INF"
   ]
  },
  {
   "cell_type": "code",
   "execution_count": 58,
   "metadata": {},
   "outputs": [
    {
     "data": {
      "text/plain": [
       "'\\nfor _ in range(m):\\n    a, b, c = map(int, input.readline().rstrip().split())\\n    graph[a].append((b, c))\\n    \\nfor row in graph:\\n    print(row)\\n'"
      ]
     },
     "execution_count": 58,
     "metadata": {},
     "output_type": "execute_result"
    }
   ],
   "source": [
    "\"\"\"\n",
    "for _ in range(m):\n",
    "    a, b, c = map(int, input.readline().rstrip().split())\n",
    "    graph[a].append((b, c))\n",
    "    \n",
    "for row in graph:\n",
    "    print(row)\n",
    "\"\"\""
   ]
  },
  {
   "cell_type": "code",
   "execution_count": 143,
   "metadata": {},
   "outputs": [
    {
     "name": "stdout",
     "output_type": "stream",
     "text": [
      "5 : [(6, 2), (3, 1)]\n",
      "4 : [(5, 1), (3, 3)]\n",
      "3 : [(6, 5), (2, 3)]\n",
      "1 : [(3, 5), (4, 1), (2, 2)]\n",
      "2 : [(3, 3), (4, 2)]\n"
     ]
    }
   ],
   "source": [
    "graph_dict = {}\n",
    "\n",
    "for i in input.readlines():\n",
    "    a, b, c = map(int, i.split())\n",
    "    if a not in graph_dict.keys():\n",
    "        graph_dict[a] = [(b, c)]\n",
    "    else:\n",
    "        graph_dict[a].append((b, c))\n",
    "        \n",
    "for k, v in graph_dict.items():\n",
    "    print(f\"{k} : {v}\")   "
   ]
  },
  {
   "cell_type": "code",
   "execution_count": 144,
   "metadata": {},
   "outputs": [],
   "source": [
    "\"\"\"방문하지 않은 노드들중에서 최단거리가 가장 짧은 노드의 인덱스를 반환\"\"\"\n",
    "def get_smallest_node():\n",
    "    min_value = INF\n",
    "    index = 0  # 최단거리가 가장 짧은 노드의 인덱스\n",
    "    for i in range(1, n+1):\n",
    "        if distance[i] < min_value and not visited[i]:\n",
    "            min_value = distance[i]\n",
    "            index = i\n",
    "    return index"
   ]
  },
  {
   "cell_type": "code",
   "execution_count": 138,
   "metadata": {},
   "outputs": [],
   "source": [
    "\"\"\"dijstra algorithm\"\"\"\n",
    "def dijkstra(start):\n",
    "    \"\"\"시작노드를 초기화한다.\"\"\"\n",
    "    distance[start] = 0\n",
    "    visited[start] = True\n",
    "    \n",
    "    for j in graph_dict[start]:\n",
    "        distance[j[0]] = j[1]\n",
    "        \n",
    "    \"\"\"시작노드를 제외한 다른 모든 n-1개의 노드에 대해 반복한다.\"\"\"\n",
    "    for i in range(n-1):\n",
    "        \"\"\"현재 최단거리가 가장 짧은 node에 대해 방문처리한다.\"\"\"\n",
    "        now = get_smallest_node()\n",
    "        visited[now] = True\n",
    "        \"\"\"현재노드와 연결된 다른 노드들 확인\"\"\"\n",
    "        for j in graph_dict[now]:\n",
    "            cost = distance[now] + j[1]\n",
    "            \"\"\"현재노드를 거쳐서 다른노드로의 이동거리가 최단거리테이블에 저장된 거리보다 짧은 경우에 최단거리테이블을 갱신한다.\"\"\"\n",
    "            if cost < distance[j[0]]:\n",
    "                distance[j[0]] = cost"
   ]
  },
  {
   "cell_type": "code",
   "execution_count": 145,
   "metadata": {},
   "outputs": [],
   "source": [
    "\"\"\"dijstra algorithm\"\"\"\n",
    "def dijkstra(start):\n",
    "    \"\"\"시작노드를 초기화한다.\"\"\"\n",
    "    distance[start] = 0\n",
    "    visited[start] = True\n",
    "    \n",
    "    for j in graph_dict[start]:\n",
    "        distance[j[0]] = j[1]\n",
    "        \n",
    "    \"\"\"시작노드를 제외한 다른 모든 n-1개의 노드에 대해 반복한다.\"\"\"\n",
    "    for i in range(n-1):\n",
    "        \"\"\"현재 최단거리가 가장 짧은 node에 대해 방문처리한다.\"\"\"\n",
    "        now = get_smallest_node()\n",
    "        visited[now] = True\n",
    "        \n",
    "        \"\"\"만약 이동할수 있는 인접노드가 없는 경우에는 건너뛴다.\"\"\"\n",
    "        if now not in graph_dict.keys():\n",
    "            continue\n",
    "        else:\n",
    "            \"\"\"현재노드와 연결된 다른 노드들 확인\"\"\"\n",
    "            for j in graph_dict[now]:\n",
    "                cost = distance[now] + j[1]\n",
    "                \"\"\"현재노드를 거쳐서 다른노드로의 이동거리가 최단거리테이블에 저장된 거리보다 짧은 경우에 최단거리테이블을 갱신한다.\"\"\"\n",
    "                if cost < distance[j[0]]:\n",
    "                    distance[j[0]] = cost\n",
    "                    \n",
    "    return distance"
   ]
  },
  {
   "cell_type": "code",
   "execution_count": 146,
   "metadata": {},
   "outputs": [],
   "source": [
    "\"\"\"dijkstra algorithm 수행한다.\"\"\"\n",
    "dijkstra(start)"
   ]
  },
  {
   "cell_type": "code",
   "execution_count": 140,
   "metadata": {},
   "outputs": [
    {
     "name": "stdout",
     "output_type": "stream",
     "text": [
      "[1000000000, 0, 2, 3, 1, 2, 4]\n",
      "[False, True, True, True, True, True, True]\n"
     ]
    }
   ],
   "source": [
    "print(distance)\n",
    "print(visited)"
   ]
  },
  {
   "cell_type": "code",
   "execution_count": 69,
   "metadata": {},
   "outputs": [
    {
     "data": {
      "text/plain": [
       "0"
      ]
     },
     "execution_count": 69,
     "metadata": {},
     "output_type": "execute_result"
    }
   ],
   "source": [
    "get_smallest_node()"
   ]
  }
 ],
 "metadata": {
  "kernelspec": {
   "display_name": "base",
   "language": "python",
   "name": "python3"
  },
  "language_info": {
   "codemirror_mode": {
    "name": "ipython",
    "version": 3
   },
   "file_extension": ".py",
   "mimetype": "text/x-python",
   "name": "python",
   "nbconvert_exporter": "python",
   "pygments_lexer": "ipython3",
   "version": "3.9.12"
  },
  "orig_nbformat": 4
 },
 "nbformat": 4,
 "nbformat_minor": 2
}
