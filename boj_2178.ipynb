{
 "cells": [
  {
   "cell_type": "code",
   "execution_count": 25,
   "metadata": {},
   "outputs": [],
   "source": [
    "from collections import deque"
   ]
  },
  {
   "cell_type": "code",
   "execution_count": 14,
   "metadata": {},
   "outputs": [
    {
     "name": "stdout",
     "output_type": "stream",
     "text": [
      "[[1, 0, 1, 1, 1, 1], [1, 0, 1, 0, 1, 0], [1, 0, 1, 0, 1, 1], [1, 1, 1, 0, 1, 1]]\n"
     ]
    }
   ],
   "source": [
    "N, M = map(int, input().split())\n",
    "adj = [[0] * M for _ in range(N)]\n",
    "\n",
    "for i in range(N):\n",
    "   x = input()\n",
    "   adj[i] = [int(x[j]) for j in range(len(x))]\n",
    "   \n",
    "print(adj)"
   ]
  },
  {
   "cell_type": "code",
   "execution_count": 15,
   "metadata": {},
   "outputs": [
    {
     "name": "stdout",
     "output_type": "stream",
     "text": [
      "5\n"
     ]
    },
    {
     "data": {
      "text/plain": [
       "['1', '2', '3', '4', '5']"
      ]
     },
     "execution_count": 15,
     "metadata": {},
     "output_type": "execute_result"
    }
   ],
   "source": [
    "a = \"12345\"\n",
    "print(len(a))\n",
    "\n",
    "\" \".join(a).split()"
   ]
  },
  {
   "cell_type": "code",
   "execution_count": 21,
   "metadata": {},
   "outputs": [
    {
     "name": "stdout",
     "output_type": "stream",
     "text": [
      "[[1, 0, 1, 1, 1, 1], [1, 0, 1, 0, 1, 0], [1, 0, 1, 0, 1, 1], [1, 1, 1, 0, 1, 1]]\n"
     ]
    }
   ],
   "source": [
    "N, M = map(int, input().split())\n",
    "adj = [[0] * M for _ in range(N)]\n",
    "\n",
    "for i in range(N):\n",
    "   x = input()\n",
    "   x_list = \" \".join(x).split()\n",
    "   adj[i] = [int(x[j]) for j in range(len(x_list))]\n",
    "   \n",
    "print(adj)"
   ]
  },
  {
   "cell_type": "code",
   "execution_count": 22,
   "metadata": {},
   "outputs": [
    {
     "name": "stdout",
     "output_type": "stream",
     "text": [
      "[1, 0, 1, 1, 1, 1]\n",
      "[1, 0, 1, 0, 1, 0]\n",
      "[1, 0, 1, 0, 1, 1]\n",
      "[1, 1, 1, 0, 1, 1]\n"
     ]
    }
   ],
   "source": [
    "for row in adj:\n",
    "    print(row)"
   ]
  },
  {
   "cell_type": "code",
   "execution_count": 23,
   "metadata": {},
   "outputs": [
    {
     "data": {
      "text/plain": [
       "[[False, False, False, False, False, False],\n",
       " [False, False, False, False, False, False],\n",
       " [False, False, False, False, False, False],\n",
       " [False, False, False, False, False, False]]"
      ]
     },
     "execution_count": 23,
     "metadata": {},
     "output_type": "execute_result"
    }
   ],
   "source": [
    "chk = [[False] * M for _ in range(N)]\n",
    "chk"
   ]
  },
  {
   "cell_type": "code",
   "execution_count": 24,
   "metadata": {},
   "outputs": [],
   "source": [
    "def is_valid_coord(y, x):\n",
    "    return 0 <= y < N and 0 <= x < M"
   ]
  },
  {
   "cell_type": "code",
   "execution_count": 26,
   "metadata": {},
   "outputs": [],
   "source": [
    "dy = (0, 1, 0, -1)\n",
    "dx = (1, 0, -1, 0)"
   ]
  },
  {
   "cell_type": "code",
   "execution_count": 27,
   "metadata": {},
   "outputs": [],
   "source": [
    "def bfs(start_y, start_x):\n",
    "    q = deque()\n",
    "    q.append((start_y, start_x))\n",
    "    print(f\"The starting coordinates is {start_y, start_x}\")\n",
    "    print()\n",
    "       \n",
    "    while len(q):\n",
    "        y, x = q.popleft()\n",
    "        chk[y][x] = True\n",
    "        for k in range(4):\n",
    "            ny = y + dy[k]\n",
    "            nx = x + dx[k]\n",
    "            if is_valid_coord(ny, nx) and not chk[ny][nx] and adj[ny][nx]:\n",
    "                q.append((ny, nx))\n",
    "                print(f\"from {(y, x)} with {dy[k], dx[k]} == to {(ny, nx)}\")\n",
    "                if (ny == adj[N-1]) and (nx == adj[M-1]):\n",
    "                    break                \n",
    "        \n",
    "        print()        \n",
    "        print(\"Let's go to the next moves!\") "
   ]
  },
  {
   "cell_type": "code",
   "execution_count": 28,
   "metadata": {},
   "outputs": [
    {
     "name": "stdout",
     "output_type": "stream",
     "text": [
      "The starting coordinates is (0, 0)\n",
      "\n",
      "from (0, 0) with (1, 0) == to (1, 0)\n",
      "\n",
      "Let's go to the next moves!\n",
      "from (1, 0) with (1, 0) == to (2, 0)\n",
      "\n",
      "Let's go to the next moves!\n",
      "from (2, 0) with (1, 0) == to (3, 0)\n",
      "\n",
      "Let's go to the next moves!\n",
      "from (3, 0) with (0, 1) == to (3, 1)\n",
      "\n",
      "Let's go to the next moves!\n",
      "from (3, 1) with (0, 1) == to (3, 2)\n",
      "\n",
      "Let's go to the next moves!\n",
      "from (3, 2) with (-1, 0) == to (2, 2)\n",
      "\n",
      "Let's go to the next moves!\n",
      "from (2, 2) with (-1, 0) == to (1, 2)\n",
      "\n",
      "Let's go to the next moves!\n",
      "from (1, 2) with (-1, 0) == to (0, 2)\n",
      "\n",
      "Let's go to the next moves!\n",
      "from (0, 2) with (0, 1) == to (0, 3)\n",
      "\n",
      "Let's go to the next moves!\n",
      "from (0, 3) with (0, 1) == to (0, 4)\n",
      "\n",
      "Let's go to the next moves!\n",
      "from (0, 4) with (0, 1) == to (0, 5)\n",
      "from (0, 4) with (1, 0) == to (1, 4)\n",
      "\n",
      "Let's go to the next moves!\n",
      "\n",
      "Let's go to the next moves!\n",
      "from (1, 4) with (1, 0) == to (2, 4)\n",
      "\n",
      "Let's go to the next moves!\n",
      "from (2, 4) with (0, 1) == to (2, 5)\n",
      "from (2, 4) with (1, 0) == to (3, 4)\n",
      "\n",
      "Let's go to the next moves!\n",
      "from (2, 5) with (1, 0) == to (3, 5)\n",
      "\n",
      "Let's go to the next moves!\n",
      "from (3, 4) with (0, 1) == to (3, 5)\n",
      "\n",
      "Let's go to the next moves!\n",
      "\n",
      "Let's go to the next moves!\n",
      "\n",
      "Let's go to the next moves!\n"
     ]
    }
   ],
   "source": [
    "bfs(0, 0)"
   ]
  }
 ],
 "metadata": {
  "kernelspec": {
   "display_name": "base",
   "language": "python",
   "name": "python3"
  },
  "language_info": {
   "codemirror_mode": {
    "name": "ipython",
    "version": 3
   },
   "file_extension": ".py",
   "mimetype": "text/x-python",
   "name": "python",
   "nbconvert_exporter": "python",
   "pygments_lexer": "ipython3",
   "version": "3.9.12"
  },
  "orig_nbformat": 4
 },
 "nbformat": 4,
 "nbformat_minor": 2
}
