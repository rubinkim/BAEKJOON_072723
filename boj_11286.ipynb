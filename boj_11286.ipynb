{
 "cells": [
  {
   "cell_type": "markdown",
   "metadata": {},
   "source": [
    "##### 우선순위큐와 튜플을 이용하는 방법"
   ]
  },
  {
   "cell_type": "code",
   "execution_count": 6,
   "metadata": {},
   "outputs": [
    {
     "name": "stdout",
     "output_type": "stream",
     "text": [
      "-1\n",
      "1\n",
      "0\n",
      "-1\n",
      "-1\n",
      "1\n",
      "1\n",
      "-2\n",
      "2\n",
      "0\n"
     ]
    }
   ],
   "source": [
    "import heapq as hq\n",
    "import sys\n",
    "\n",
    "sys.stdin = open(\"data/boj_11286.txt\", \"r\")\n",
    "pq = []\n",
    "\n",
    "for _ in range(int(sys.stdin.readline())):\n",
    "    x = int(sys.stdin.readline())\n",
    "    \n",
    "    if x:\n",
    "        hq.heappush(pq, (abs(x), x))\n",
    "        \n",
    "    else: \n",
    "        print(hq.heappop(pq)[1] if pq else 0)                    "
   ]
  },
  {
   "cell_type": "code",
   "execution_count": 9,
   "metadata": {},
   "outputs": [
    {
     "name": "stdout",
     "output_type": "stream",
     "text": [
      "-1\n",
      "1\n",
      "0\n",
      "-1\n",
      "-1\n",
      "1\n",
      "1\n",
      "-2\n",
      "2\n",
      "0\n"
     ]
    }
   ],
   "source": [
    "with open(\"data/boj_11286.txt\", 'r') as sys.stdin:\n",
    "    pq = []\n",
    "    \n",
    "    for _ in range(int(sys.stdin.readline())):\n",
    "        x = int(sys.stdin.readline())\n",
    "        if x:\n",
    "            hq.heappush(pq, (abs(x), x))\n",
    "        else:\n",
    "            print(hq.heappop(pq)[1] if pq else 0)"
   ]
  },
  {
   "cell_type": "markdown",
   "metadata": {},
   "source": [
    "##### 우선순위큐를 두개 만들어서 음수와 양수를 따로 저장하는 방법"
   ]
  },
  {
   "cell_type": "code",
   "execution_count": 10,
   "metadata": {},
   "outputs": [
    {
     "data": {
      "text/plain": [
       "<_io.TextIOWrapper name='data/boj_11286.txt' mode='r' encoding='UTF-8'>"
      ]
     },
     "execution_count": 10,
     "metadata": {},
     "output_type": "execute_result"
    }
   ],
   "source": [
    "sys.stdin = open(\"data/boj_11286.txt\", \"r\")\n",
    "sys.stdin"
   ]
  },
  {
   "cell_type": "code",
   "execution_count": 11,
   "metadata": {},
   "outputs": [
    {
     "name": "stdout",
     "output_type": "stream",
     "text": [
      "-1\n",
      "1\n",
      "0\n",
      "-1\n",
      "-1\n",
      "1\n",
      "1\n",
      "-2\n",
      "2\n",
      "0\n"
     ]
    }
   ],
   "source": [
    "min_heap, max_heap = [], []\n",
    "\n",
    "for _ in range(int(sys.stdin.readline())):\n",
    "    x = int(sys.stdin.readline())\n",
    "    \n",
    "    if x:\n",
    "        if x > 0:\n",
    "            hq.heappush(min_heap, x)\n",
    "        else:\n",
    "            hq.heappush(max_heap, -x)\n",
    "        \n",
    "    else:\n",
    "        if min_heap:\n",
    "            if max_heap:                \n",
    "                if min_heap[0] < max_heap[0]:\n",
    "                    print(hq.heappop(min_heap))\n",
    "                elif min_heap[0] > max_heap[0]:\n",
    "                    print(-hq.heappop(max_heap))\n",
    "                else:\n",
    "                    print(-hq.heappop(max_heap))\n",
    "            else:\n",
    "                print(hq.heappop(min_heap))\n",
    "        else:\n",
    "            if max_heap:\n",
    "                print(-hq.heappop(max_heap))\n",
    "            else:\n",
    "                print(0)\n",
    "            "
   ]
  }
 ],
 "metadata": {
  "kernelspec": {
   "display_name": "keras_study",
   "language": "python",
   "name": "keras_study"
  },
  "language_info": {
   "codemirror_mode": {
    "name": "ipython",
    "version": 3
   },
   "file_extension": ".py",
   "mimetype": "text/x-python",
   "name": "python",
   "nbconvert_exporter": "python",
   "pygments_lexer": "ipython3",
   "version": "3.9.12"
  },
  "orig_nbformat": 4
 },
 "nbformat": 4,
 "nbformat_minor": 2
}
