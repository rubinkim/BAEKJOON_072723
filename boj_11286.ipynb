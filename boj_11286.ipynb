{
 "cells": [
  {
   "cell_type": "markdown",
   "metadata": {},
   "source": [
    "##### 우선순위큐와 튜플을 이용하는 방법"
   ]
  },
  {
   "cell_type": "code",
   "execution_count": 3,
   "metadata": {},
   "outputs": [
    {
     "name": "stdout",
     "output_type": "stream",
     "text": [
      "-1\n",
      "1\n",
      "0\n",
      "-1\n",
      "-1\n",
      "1\n",
      "1\n",
      "-2\n",
      "2\n",
      "0\n"
     ]
    }
   ],
   "source": [
    "import heapq as hq\n",
    "import sys\n",
    "\n",
    "sys.stdin = open(\"data/boj_11286.txt\")\n",
    "pq = []\n",
    "\n",
    "for _ in range(int(sys.stdin.readline())):\n",
    "    x = int(sys.stdin.readline())\n",
    "    \n",
    "    if x:\n",
    "        hq.heappush(pq, (abs(x), x))\n",
    "        \n",
    "    else: \n",
    "        print(hq.heappop(pq)[1] if pq else 0)                    "
   ]
  }
 ],
 "metadata": {
  "kernelspec": {
   "display_name": "keras_study",
   "language": "python",
   "name": "keras_study"
  },
  "language_info": {
   "codemirror_mode": {
    "name": "ipython",
    "version": 3
   },
   "file_extension": ".py",
   "mimetype": "text/x-python",
   "name": "python",
   "nbconvert_exporter": "python",
   "pygments_lexer": "ipython3",
   "version": "3.9.12"
  },
  "orig_nbformat": 4
 },
 "nbformat": 4,
 "nbformat_minor": 2
}
