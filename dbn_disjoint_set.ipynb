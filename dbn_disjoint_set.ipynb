{
 "cells": [
  {
   "cell_type": "markdown",
   "metadata": {},
   "source": [
    "##### 서로소집합 - 일반적인 방법"
   ]
  },
  {
   "cell_type": "code",
   "execution_count": 4,
   "metadata": {},
   "outputs": [],
   "source": [
    "def find_parent(parent, x):\n",
    "    if parent[x] != x:\n",
    "        return find_parent(parent, parent[x])\n",
    "    return x\n",
    "\n",
    "def union_parent(parent, a, b):\n",
    "    a = find_parent(parent, a)\n",
    "    b = find_parent(parent, b)\n",
    "    if a < b:\n",
    "        parent[b] = a\n",
    "    else:\n",
    "        parent[a] = b"
   ]
  },
  {
   "cell_type": "code",
   "execution_count": 11,
   "metadata": {},
   "outputs": [
    {
     "name": "stdout",
     "output_type": "stream",
     "text": [
      "v : 6,   e : 4\n"
     ]
    }
   ],
   "source": [
    "input = open(\"data/dbn_disjoint_set.txt\", \"r\")\n",
    "\n",
    "v, e = map(int, input.readline().rstrip().split())\n",
    "print(f\"v : {v},   e : {e}\")"
   ]
  },
  {
   "cell_type": "code",
   "execution_count": 12,
   "metadata": {},
   "outputs": [
    {
     "name": "stdout",
     "output_type": "stream",
     "text": [
      "부모테이블 : [0, 1, 2, 3, 4, 5, 6]\n",
      "부모테이블 : [0, 1, 1, 2, 1, 5, 5]\n",
      "각 원소가 속한 집합 : 1 1 1 1 5 5 \n",
      "부모테이블 : 1 1 2 1 5 5 "
     ]
    }
   ],
   "source": [
    "\"\"\"부모테이블상에서 부모를 자기자신으로 초기화한다.\"\"\"\n",
    "parent = [0] * (v + 1)\n",
    "\n",
    "for i in range(1, v+1):\n",
    "    parent[i] = i\n",
    "    \n",
    "print(f\"부모테이블 : {parent}\")\n",
    "    \n",
    "for i in range(e):\n",
    "    a, b = map(int, input.readline().rstrip().split())\n",
    "    union_parent(parent, a, b)\n",
    "    \n",
    "print(f\"부모테이블 : {parent}\")\n",
    "\n",
    "print(f\"각 원소가 속한 집합 : \", end='')\n",
    "for i in range(1, v+1):\n",
    "    print(find_parent(parent, i), end=' ')\n",
    "print()\n",
    "\n",
    "print(f\"부모테이블 : \", end='')\n",
    "for i in range(1, v+1):\n",
    "    print(parent[i], end=\" \")"
   ]
  },
  {
   "cell_type": "code",
   "execution_count": null,
   "metadata": {},
   "outputs": [],
   "source": []
  },
  {
   "cell_type": "markdown",
   "metadata": {},
   "source": [
    "##### 서로소집합 - 경로압축(Path Compression)"
   ]
  },
  {
   "cell_type": "code",
   "execution_count": 10,
   "metadata": {},
   "outputs": [],
   "source": [
    "def find_parent_pc(parent, x):\n",
    "    if parent[x] != x:\n",
    "        parent[x] = find_parent(parent, parent[x])\n",
    "    return parent[x]\n",
    "\n",
    "def union_parent(parent, a, b):\n",
    "    a = find_parent_pc(parent, a)\n",
    "    b = find_parent_pc(parent, b)\n",
    "    if a < b:\n",
    "        parent[b] = a\n",
    "    else:\n",
    "        parent[a] = b  "
   ]
  },
  {
   "cell_type": "code",
   "execution_count": 13,
   "metadata": {},
   "outputs": [
    {
     "name": "stdout",
     "output_type": "stream",
     "text": [
      "v : 6,   e : 4\n"
     ]
    }
   ],
   "source": [
    "input = open(\"data/dbn_disjoint_set.txt\", \"r\")\n",
    "\n",
    "v, e = map(int, input.readline().rstrip().split())\n",
    "print(f\"v : {v},   e : {e}\")"
   ]
  },
  {
   "cell_type": "code",
   "execution_count": 14,
   "metadata": {},
   "outputs": [
    {
     "name": "stdout",
     "output_type": "stream",
     "text": [
      "부모테이블 : [0, 1, 2, 3, 4, 5, 6]\n",
      "부모테이블 : [0, 1, 1, 2, 1, 5, 5]\n",
      "각 원소가 속한 집합 : 1 1 1 1 5 5 \n",
      "부모테이블 : 1 1 1 1 5 5 "
     ]
    }
   ],
   "source": [
    "\"\"\"부모테이블상에서 부모를 자기자신으로 초기화한다.\"\"\"\n",
    "parent = [0] * (v + 1)\n",
    "\n",
    "for i in range(1, v+1):\n",
    "    parent[i] = i\n",
    "    \n",
    "print(f\"부모테이블 : {parent}\")\n",
    "    \n",
    "for i in range(e):\n",
    "    a, b = map(int, input.readline().rstrip().split())\n",
    "    union_parent(parent, a, b)\n",
    "    \n",
    "print(f\"부모테이블 : {parent}\")\n",
    "\n",
    "print(f\"각 원소가 속한 집합 : \", end='')\n",
    "for i in range(1, v+1):\n",
    "    print(find_parent_pc(parent, i), end=' ')\n",
    "print()\n",
    "\n",
    "print(f\"부모테이블 : \", end='')\n",
    "for i in range(1, v+1):\n",
    "    print(parent[i], end=\" \")"
   ]
  }
 ],
 "metadata": {
  "kernelspec": {
   "display_name": "base",
   "language": "python",
   "name": "python3"
  },
  "language_info": {
   "codemirror_mode": {
    "name": "ipython",
    "version": 3
   },
   "file_extension": ".py",
   "mimetype": "text/x-python",
   "name": "python",
   "nbconvert_exporter": "python",
   "pygments_lexer": "ipython3",
   "version": "3.9.12"
  }
 },
 "nbformat": 4,
 "nbformat_minor": 2
}
