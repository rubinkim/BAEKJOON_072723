{
 "cells": [
  {
   "cell_type": "markdown",
   "metadata": {},
   "source": [
    "##### Bottom up"
   ]
  },
  {
   "cell_type": "code",
   "execution_count": 30,
   "metadata": {},
   "outputs": [
    {
     "name": "stdout",
     "output_type": "stream",
     "text": [
      "18404112\n"
     ]
    }
   ],
   "source": [
    "MOD = 1_000_000_000\n",
    "cache = [[0] * 10 for _  in range(101)]\n",
    "\n",
    "# 초기값\n",
    "for i in range(1, 10):\n",
    "    cache[1][i] = 1\n",
    "    \n",
    "for i in range(2, 101):\n",
    "    for j in range(10):\n",
    "        if j > 0: \n",
    "            cache[i][j] += cache[i-1][j-1]\n",
    "            cache[i][j] %= MOD\n",
    "        if j < 9:\n",
    "            cache[i][j] += cache[i-1][j+1]\n",
    "            cache[i][j] %= MOD\n",
    "\n",
    "ans = 0\n",
    "N = int(input())\n",
    "\n",
    "for j in range(10):\n",
    "    ans += cache[N][j]\n",
    "    ans %= MOD\n",
    "\n",
    "print(ans)"
   ]
  },
  {
   "cell_type": "markdown",
   "metadata": {},
   "source": [
    "##### Top down"
   ]
  },
  {
   "cell_type": "code",
   "execution_count": 4,
   "metadata": {},
   "outputs": [
    {
     "name": "stdout",
     "output_type": "stream",
     "text": [
      "0\n"
     ]
    }
   ],
   "source": [
    "MOD = 1_000_000_000\n",
    "cache = [[0] * 10 for _ in range(101)]\n",
    "\n",
    "for i in range(1, 10):\n",
    "    cache[1][i] = 1\n",
    "    \n",
    "N = int(input())\n",
    "ans = 0\n",
    "\n",
    "def f(n, d):\n",
    "    if not cache[n][d]:             \n",
    "        if d > 0:                \n",
    "            cache[n][d] += f(n-1, d-1)\n",
    "            cache[n][d] %= MOD\n",
    "        if d < 9:\n",
    "            cache[n][d] += f(n-1, d+1)\n",
    "            cache[n][d] %= MOD\n",
    "    \n",
    "    return cache[n][d]\n",
    "    \n",
    "for i in range(10):\n",
    "    ans += cache[N][i]\n",
    "    ans %= MOD\n",
    "    \n",
    "print(ans)"
   ]
  },
  {
   "cell_type": "code",
   "execution_count": null,
   "metadata": {},
   "outputs": [],
   "source": [
    "MOD = 1_000_000_000\n",
    "cache = [[0] * 10 for _ in range(101)]\n",
    "\n",
    "for i in range(1, 10):\n",
    "    cache[1][i] = 1\n",
    "    \n",
    "N = int(input())\n",
    "ans = 0\n",
    "\n",
    "def f(n, d):\n",
    "    if not cache[n][d]: \n",
    "        if d == 0:\n",
    "            cache[n][d] += f(n-1, d+1)     \n",
    "            cache[n][d] %= MOD       \n",
    "        elif 0 < d < 9:                \n",
    "            cache[n][d] += (f(n-1, d-1) + f(n-1, d+1))\n",
    "            cache[n][d] %= MOD\n",
    "        elif d == 9:\n",
    "            cache[n][d] += f(n-1, d-1)\n",
    "            cache[n][d] %= MOD\n",
    "    \n",
    "    return cache[n][d]\n",
    "    \n",
    "for i in range(10):\n",
    "    ans += cache[N][i]\n",
    "    ans %= MOD\n",
    "    \n",
    "print(ans)"
   ]
  }
 ],
 "metadata": {
  "kernelspec": {
   "display_name": "base",
   "language": "python",
   "name": "python3"
  },
  "language_info": {
   "codemirror_mode": {
    "name": "ipython",
    "version": 3
   },
   "file_extension": ".py",
   "mimetype": "text/x-python",
   "name": "python",
   "nbconvert_exporter": "python",
   "pygments_lexer": "ipython3",
   "version": "3.9.12"
  },
  "orig_nbformat": 4
 },
 "nbformat": 4,
 "nbformat_minor": 2
}
