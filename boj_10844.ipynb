{
 "cells": [
  {
   "cell_type": "code",
   "execution_count": 17,
   "metadata": {},
   "outputs": [
    {
     "name": "stdout",
     "output_type": "stream",
     "text": [
      "760091136\n"
     ]
    }
   ],
   "source": [
    "N = int(input())\n",
    "cache = [0] * 101\n",
    "MOD = 1_000_000_000 \n",
    "cache[1] = 9\n",
    "\n",
    "def f(n):        \n",
    "    if not cache[n]:\n",
    "        cache[n] = ((f(n-1) * 2) - 2 ** (n-2)) % MOD\n",
    "    \n",
    "    return cache[n]\n",
    "\n",
    "print(f(N))"
   ]
  },
  {
   "cell_type": "code",
   "execution_count": 7,
   "metadata": {},
   "outputs": [
    {
     "data": {
      "text/plain": [
       "32"
      ]
     },
     "execution_count": 7,
     "metadata": {},
     "output_type": "execute_result"
    }
   ],
   "source": [
    "(17 * 2) - 2 ** (2-1)"
   ]
  },
  {
   "cell_type": "code",
   "execution_count": 8,
   "metadata": {},
   "outputs": [
    {
     "name": "stdout",
     "output_type": "stream",
     "text": [
      "17\n"
     ]
    }
   ],
   "source": [
    "MOD = 1_000_000_000\n",
    "\n",
    "N = int(input())\n",
    "cache = [0] * 101\n",
    "cache[1] = 9\n",
    "\n",
    "def f(n):\n",
    "    cnt = 0\n",
    "    if not cache[n]:\n",
    "        for i in range(10):\n",
    "            cnt += 1\n",
    "        cache[n] = f(n-1) + cnt\n",
    "    return cache[n]\n",
    "\n",
    "print(f(N))"
   ]
  },
  {
   "cell_type": "code",
   "execution_count": 34,
   "metadata": {},
   "outputs": [
    {
     "name": "stdout",
     "output_type": "stream",
     "text": [
      "n : 2,  f(n-1) : 9,  cnt : 8\n",
      "n : 3,  f(n-1) : 17,  cnt : 8\n",
      "25\n"
     ]
    }
   ],
   "source": [
    "MOD = 1_000_000_000\n",
    "\n",
    "N = int(input())\n",
    "cache = [0] * 101\n",
    "cache[1] = 9\n",
    "\n",
    "def f(n):\n",
    "    cnt = 0\n",
    "    if not cache[n]:\n",
    "        for i in range(10):\n",
    "            if i == 0 or i == 9:\n",
    "                continue\n",
    "            else:\n",
    "                cnt += 1\n",
    "\n",
    "        print(f\"n : {n},  f(n-1) : {f(n-1)},  cnt : {cnt}\")\n",
    "        cache[n] = f(n-1) + cnt\n",
    "    return cache[n]\n",
    "\n",
    "print(f(N))"
   ]
  },
  {
   "cell_type": "code",
   "execution_count": 43,
   "metadata": {},
   "outputs": [
    {
     "name": "stdout",
     "output_type": "stream",
     "text": [
      "n : 2,  f(n-1) : 9,  cnt : 8\n",
      "n : 3,  f(n-1) : 17,  cnt : 8\n",
      "33\n"
     ]
    }
   ],
   "source": [
    "MOD = 1_000_000_000\n",
    "\n",
    "N = int(input())\n",
    "cache = [0] * 101\n",
    "cache[1] = 9\n",
    "\n",
    "def f(n):\n",
    "    cnt = 0\n",
    "    if not cache[n]:\n",
    "        for i in range(10):\n",
    "            if 1 <= i <= 8:\n",
    "                cnt += 1\n",
    "            cache[n] = f(n-1) + cnt * 2 ** (n-2)\n",
    "        print(f\"n : {n},  f(n-1) : {f(n-1)},  cnt : {cnt}\")\n",
    "        \n",
    "    return cache[n]\n",
    "\n",
    "print(f(N))"
   ]
  },
  {
   "cell_type": "code",
   "execution_count": null,
   "metadata": {},
   "outputs": [],
   "source": [
    "MOD = 1_000_000_000\n",
    "N = int(input())\n",
    "cache = [0] * 101\n",
    "\n",
    "def f(n):\n",
    "    now = 0\n",
    "    nxt_upper = 0\n",
    "    nxt_lower = 0\n",
    "    \n",
    "    for i in range(10):\n",
    "        now = i\n",
    "        if 1 <= i <= 8:\n",
    "            nxt_upper = now + 1\n",
    "            nxt_lower = now - 1\n",
    "            cnt += 2\n",
    "        elif i == 0:\n",
    "            nxt_upper = now + 1\n",
    "            cnt += 1\n",
    "            \n",
    "        else:\n",
    "            nxt_lower = now - 1\n",
    "            cnt -= 1\n",
    "            \n",
    "    cache[n] = cnt    \n",
    "    return cache[n]       \n",
    "    \n",
    "print(f(N))"
   ]
  }
 ],
 "metadata": {
  "kernelspec": {
   "display_name": "base",
   "language": "python",
   "name": "python3"
  },
  "language_info": {
   "codemirror_mode": {
    "name": "ipython",
    "version": 3
   },
   "file_extension": ".py",
   "mimetype": "text/x-python",
   "name": "python",
   "nbconvert_exporter": "python",
   "pygments_lexer": "ipython3",
   "version": "3.9.12"
  },
  "orig_nbformat": 4
 },
 "nbformat": 4,
 "nbformat_minor": 2
}
