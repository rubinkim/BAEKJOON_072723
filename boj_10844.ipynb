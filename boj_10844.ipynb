{
 "cells": [
  {
   "cell_type": "code",
   "execution_count": 6,
   "metadata": {},
   "outputs": [
    {
     "name": "stdout",
     "output_type": "stream",
     "text": [
      "999999996\n"
     ]
    }
   ],
   "source": [
    "N = int(input())\n",
    "cache = [0] * 101\n",
    "MOD = 1_000_000_000 \n",
    "cache[1] = 9\n",
    "\n",
    "def f(n):\n",
    "    if not cache[n]:\n",
    "        cache[n] = ((f(n-1) * 2) - 2 ** (n-1)) % MOD\n",
    "    return cache[n]\n",
    "\n",
    "print(f(N))"
   ]
  },
  {
   "cell_type": "code",
   "execution_count": 7,
   "metadata": {},
   "outputs": [
    {
     "data": {
      "text/plain": [
       "32"
      ]
     },
     "execution_count": 7,
     "metadata": {},
     "output_type": "execute_result"
    }
   ],
   "source": [
    "(17 * 2) - 2 ** (2-1)"
   ]
  }
 ],
 "metadata": {
  "kernelspec": {
   "display_name": "base",
   "language": "python",
   "name": "python3"
  },
  "language_info": {
   "codemirror_mode": {
    "name": "ipython",
    "version": 3
   },
   "file_extension": ".py",
   "mimetype": "text/x-python",
   "name": "python",
   "nbconvert_exporter": "python",
   "pygments_lexer": "ipython3",
   "version": "3.9.12"
  },
  "orig_nbformat": 4
 },
 "nbformat": 4,
 "nbformat_minor": 2
}
