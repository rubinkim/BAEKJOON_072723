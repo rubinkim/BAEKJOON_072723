{
 "cells": [
  {
   "cell_type": "code",
   "execution_count": 17,
   "metadata": {},
   "outputs": [
    {
     "name": "stdout",
     "output_type": "stream",
     "text": [
      "760091136\n"
     ]
    }
   ],
   "source": [
    "N = int(input())\n",
    "cache = [0] * 101\n",
    "MOD = 1_000_000_000 \n",
    "cache[1] = 9\n",
    "\n",
    "def f(n):        \n",
    "    if not cache[n]:\n",
    "        cache[n] = ((f(n-1) * 2) - 2 ** (n-2)) % MOD\n",
    "    \n",
    "    return cache[n]\n",
    "\n",
    "print(f(N))"
   ]
  },
  {
   "cell_type": "code",
   "execution_count": 7,
   "metadata": {},
   "outputs": [
    {
     "data": {
      "text/plain": [
       "32"
      ]
     },
     "execution_count": 7,
     "metadata": {},
     "output_type": "execute_result"
    }
   ],
   "source": [
    "(17 * 2) - 2 ** (2-1)"
   ]
  },
  {
   "cell_type": "code",
   "execution_count": 8,
   "metadata": {},
   "outputs": [
    {
     "name": "stdout",
     "output_type": "stream",
     "text": [
      "17\n"
     ]
    }
   ],
   "source": [
    "MOD = 1_000_000_000\n",
    "\n",
    "N = int(input())\n",
    "cache = [0] * 101\n",
    "cache[1] = 9\n",
    "\n",
    "def f(n):\n",
    "    cnt = 0\n",
    "    if not cache[n]:\n",
    "        for i in range(10):\n",
    "            cnt += 1\n",
    "        cache[n] = f(n-1) + cnt\n",
    "    return cache[n]\n",
    "\n",
    "print(f(N))"
   ]
  },
  {
   "cell_type": "code",
   "execution_count": 28,
   "metadata": {},
   "outputs": [
    {
     "name": "stdout",
     "output_type": "stream",
     "text": [
      "n : 2,  cnt : 8\n",
      "18\n"
     ]
    }
   ],
   "source": [
    "MOD = 1_000_000_000\n",
    "\n",
    "N = int(input())\n",
    "cache = [0] * 101\n",
    "cache[1] = 9\n",
    "\n",
    "def f(n):\n",
    "    cnt = 0\n",
    "    if not cache[n]:\n",
    "        for i in range(10):\n",
    "            if 1 <= i <=8:\n",
    "                cnt += 1\n",
    "            else:\n",
    "                continue\n",
    "        print(f\"n : {n},  f(n-1) : {f(n-1)},  cnt : {cnt}\")\n",
    "        cache[n] = f(n-1) + cnt + (n-1)\n",
    "    return cache[n]\n",
    "\n",
    "print(f(N))"
   ]
  }
 ],
 "metadata": {
  "kernelspec": {
   "display_name": "base",
   "language": "python",
   "name": "python3"
  },
  "language_info": {
   "codemirror_mode": {
    "name": "ipython",
    "version": 3
   },
   "file_extension": ".py",
   "mimetype": "text/x-python",
   "name": "python",
   "nbconvert_exporter": "python",
   "pygments_lexer": "ipython3",
   "version": "3.9.12"
  },
  "orig_nbformat": 4
 },
 "nbformat": 4,
 "nbformat_minor": 2
}
