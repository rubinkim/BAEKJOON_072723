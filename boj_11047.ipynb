{
 "cells": [
  {
   "cell_type": "code",
   "execution_count": 38,
   "metadata": {},
   "outputs": [
    {
     "name": "stdout",
     "output_type": "stream",
     "text": [
      "10 4200\n",
      "<class 'int'> <class 'int'>\n",
      "1\n",
      "5\n",
      "10\n",
      "50\n",
      "100\n",
      "500\n",
      "1000\n",
      "5000\n",
      "10000\n",
      "50000\n",
      "[1, 5, 10, 50, 100, 500, 1000, 5000, 10000, 50000]\n"
     ]
    }
   ],
   "source": [
    "import sys\n",
    "\n",
    "sys.stdin = open(\"data/boj_11047.txt\", \"r\")\n",
    "fast_input = sys.stdin.readline\n",
    "\n",
    "x = fast_input()\n",
    "N, K = map(int, \"\".join(x).split())\n",
    "print(N, K)\n",
    "print(type(N), type(K))\n",
    "\n",
    "coins = []\n",
    "for i in range(N):\n",
    "    coins.append(int(fast_input()))\n",
    "    print(coins[i])\n",
    "    \n",
    "print(coins)"
   ]
  },
  {
   "cell_type": "code",
   "execution_count": 23,
   "metadata": {},
   "outputs": [
    {
     "ename": "ValueError",
     "evalue": "too many values to unpack (expected 2)",
     "output_type": "error",
     "traceback": [
      "\u001b[1;31m---------------------------------------------------------------------------\u001b[0m",
      "\u001b[1;31mValueError\u001b[0m                                Traceback (most recent call last)",
      "\u001b[1;32me:\\BAEKJOON_072723\\boj_11047.ipynb Cell 3\u001b[0m in \u001b[0;36m<cell line: 5>\u001b[1;34m()\u001b[0m\n\u001b[0;32m      <a href='vscode-notebook-cell:/e%3A/BAEKJOON_072723/boj_11047.ipynb#W4sZmlsZQ%3D%3D?line=2'>3</a>\u001b[0m sys\u001b[39m.\u001b[39mstdin \u001b[39m=\u001b[39m \u001b[39mopen\u001b[39m(\u001b[39m\"\u001b[39m\u001b[39mdata/boj_11047.txt\u001b[39m\u001b[39m\"\u001b[39m, \u001b[39m\"\u001b[39m\u001b[39mr\u001b[39m\u001b[39m\"\u001b[39m)\n\u001b[0;32m      <a href='vscode-notebook-cell:/e%3A/BAEKJOON_072723/boj_11047.ipynb#W4sZmlsZQ%3D%3D?line=3'>4</a>\u001b[0m fast_input \u001b[39m=\u001b[39m sys\u001b[39m.\u001b[39mstdin\u001b[39m.\u001b[39mreadlines\n\u001b[1;32m----> <a href='vscode-notebook-cell:/e%3A/BAEKJOON_072723/boj_11047.ipynb#W4sZmlsZQ%3D%3D?line=4'>5</a>\u001b[0m N, K \u001b[39m=\u001b[39m \u001b[39mmap\u001b[39m(\u001b[39mint\u001b[39m, \u001b[39m\"\u001b[39m\u001b[39m \u001b[39m\u001b[39m\"\u001b[39m\u001b[39m.\u001b[39mjoin(fast_input())\u001b[39m.\u001b[39msplit())\n\u001b[0;32m      <a href='vscode-notebook-cell:/e%3A/BAEKJOON_072723/boj_11047.ipynb#W4sZmlsZQ%3D%3D?line=7'>8</a>\u001b[0m \u001b[39mprint\u001b[39m(N, K)\n\u001b[0;32m      <a href='vscode-notebook-cell:/e%3A/BAEKJOON_072723/boj_11047.ipynb#W4sZmlsZQ%3D%3D?line=8'>9</a>\u001b[0m \u001b[39mprint\u001b[39m(\u001b[39mtype\u001b[39m(N), \u001b[39mtype\u001b[39m(K))\n",
      "\u001b[1;31mValueError\u001b[0m: too many values to unpack (expected 2)"
     ]
    }
   ],
   "source": [
    "import sys\n",
    "\n",
    "sys.stdin = open(\"data/boj_11047.txt\", \"r\")\n",
    "fast_input = sys.stdin.readlines\n",
    "N, K = map(int, \" \".join(fast_input()).split())\n",
    "\n",
    "\n",
    "print(N, K)\n",
    "print(type(N), type(K))"
   ]
  }
 ],
 "metadata": {
  "kernelspec": {
   "display_name": "keras_study",
   "language": "python",
   "name": "keras_study"
  },
  "language_info": {
   "codemirror_mode": {
    "name": "ipython",
    "version": 3
   },
   "file_extension": ".py",
   "mimetype": "text/x-python",
   "name": "python",
   "nbconvert_exporter": "python",
   "pygments_lexer": "ipython3",
   "version": "3.9.12"
  },
  "orig_nbformat": 4
 },
 "nbformat": 4,
 "nbformat_minor": 2
}
