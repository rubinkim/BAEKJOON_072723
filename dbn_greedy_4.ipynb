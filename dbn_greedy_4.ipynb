{
 "cells": [
  {
   "cell_type": "code",
   "execution_count": 25,
   "metadata": {},
   "outputs": [
    {
     "name": "stdout",
     "output_type": "stream",
     "text": [
      "n : 12\n",
      "[3, 2, 1, 7, 6, 5, 6, 3, 5, 2, 1, 7]\n"
     ]
    }
   ],
   "source": [
    "n = int(input())\n",
    "advs = list(map(int, input().split()))   # 3 2 1 7 6 5 6 3 5 2 1 7\n",
    "\n",
    "print(f\"n : {n}\")\n",
    "print(advs)   "
   ]
  },
  {
   "cell_type": "code",
   "execution_count": 26,
   "metadata": {},
   "outputs": [
    {
     "name": "stdout",
     "output_type": "stream",
     "text": [
      "[7, 7, 6, 6, 5, 5, 3, 3, 2, 2, 1, 1]\n"
     ]
    }
   ],
   "source": [
    "advs.sort(reverse=True)\n",
    "print(advs)"
   ]
  },
  {
   "cell_type": "code",
   "execution_count": 27,
   "metadata": {},
   "outputs": [
    {
     "name": "stdout",
     "output_type": "stream",
     "text": [
      "cnt : 1,   start_idx : 3,    end_idx : 7,   advs : [3, 2, 2, 1, 1]\n",
      "cnt : 2,   start_idx : 1,    end_idx : 3,   advs : [1, 1]\n",
      "cnt : 3,   start_idx : 1,    end_idx : 1,   advs : [1]\n",
      "4\n"
     ]
    }
   ],
   "source": [
    "cnt = 0\n",
    "\n",
    "while True:    \n",
    "    end_idx = advs[0]    \n",
    "    cnt += 1\n",
    "    advs = advs[end_idx :]\n",
    "    start_idx = advs[0]\n",
    "    print(f\"cnt : {cnt},   start_idx : {start_idx},    end_idx : {end_idx},   advs : {advs}\")\n",
    "    \n",
    "    if start_idx >= len(advs):\n",
    "        cnt += 1\n",
    "        break\n",
    "\n",
    "print(cnt)"
   ]
  },
  {
   "cell_type": "code",
   "execution_count": 29,
   "metadata": {},
   "outputs": [
    {
     "name": "stdout",
     "output_type": "stream",
     "text": [
      "(0, 0) (0, 1) (0, 2) (0, 3) (0, 4) \n",
      "(1, 0) (1, 1) (1, 2) (1, 3) (1, 4) \n",
      "(2, 0) (2, 1) (2, 2) (2, 3) (2, 4) \n",
      "(3, 0) (3, 1) (3, 2) (3, 3) (3, 4) \n",
      "(4, 0) (4, 1) (4, 2) (4, 3) (4, 4) \n"
     ]
    }
   ],
   "source": [
    "for i in range(5):\n",
    "    for j in range(5):\n",
    "        print(f\"{i, j}\", end=' ')\n",
    "    print()"
   ]
  }
 ],
 "metadata": {
  "kernelspec": {
   "display_name": "base",
   "language": "python",
   "name": "python3"
  },
  "language_info": {
   "codemirror_mode": {
    "name": "ipython",
    "version": 3
   },
   "file_extension": ".py",
   "mimetype": "text/x-python",
   "name": "python",
   "nbconvert_exporter": "python",
   "pygments_lexer": "ipython3",
   "version": "3.9.12"
  },
  "orig_nbformat": 4
 },
 "nbformat": 4,
 "nbformat_minor": 2
}
