{
 "cells": [
  {
   "cell_type": "code",
   "execution_count": 144,
   "metadata": {},
   "outputs": [
    {
     "name": "stdout",
     "output_type": "stream",
     "text": [
      "[0, 0, 1, 1, 0]\n",
      "[0, 0, 0, 1, 1]\n",
      "[1, 1, 1, 1, 1]\n",
      "[0, 0, 0, 0, 0]\n"
     ]
    }
   ],
   "source": [
    "n, m = map(int, input().split())\n",
    "graph = [[0] * m for _ in range(n)]\n",
    "\n",
    "for i in range(len(graph)):\n",
    "    for j, val in enumerate(map(int, input().split())):\n",
    "        graph[i][j] = val\n",
    "\n",
    "for row in graph:\n",
    "    print(row)"
   ]
  },
  {
   "cell_type": "code",
   "execution_count": 145,
   "metadata": {},
   "outputs": [
    {
     "name": "stdout",
     "output_type": "stream",
     "text": [
      "[False, False, False, False, False]\n",
      "[False, False, False, False, False]\n",
      "[False, False, False, False, False]\n",
      "[False, False, False, False, False]\n"
     ]
    }
   ],
   "source": [
    "visited = [[False] * m for _ in range(n)]\n",
    "for row in visited:\n",
    "    print(row)    "
   ]
  },
  {
   "cell_type": "code",
   "execution_count": 146,
   "metadata": {},
   "outputs": [],
   "source": [
    "def is_valid_coord(y, x, n, m):\n",
    "    return 0 <= y <= n-1 and 0 <= x <= m-1"
   ]
  },
  {
   "cell_type": "code",
   "execution_count": 77,
   "metadata": {},
   "outputs": [],
   "source": [
    "def dfs(graph, i, j, visited):\n",
    "    visited[i][j] = True\n",
    "    print((i, j), end=' ')\n",
    "    \n",
    "    for k in range(len(graph)):\n",
    "        for l in range(len(graph[k])):     \n",
    "            if not graph[k][l] and not visited[k][l]:\n",
    "                dfs(graph, k, l, visited)"
   ]
  },
  {
   "cell_type": "code",
   "execution_count": 147,
   "metadata": {},
   "outputs": [],
   "source": [
    "cnt = 0\n",
    "dy = (1, 0, -1,  0)\n",
    "dx = (0, 1,  0, -1)\n",
    "\n",
    "ice_cream_dict = {}"
   ]
  },
  {
   "cell_type": "code",
   "execution_count": 43,
   "metadata": {},
   "outputs": [],
   "source": [
    "def dfs(graph, i, j, visited):\n",
    "    global cnt, n, m\n",
    "    visited[i][j] = True\n",
    "    print((i, j), end=' ')\n",
    "    \n",
    "    for k in range(4):        \n",
    "        n_i = i + dy[k]\n",
    "        n_j = j + dx[k]\n",
    "        \n",
    "        if is_valid_coord(n_i, n_j, n, m) and not visited[n_i][n_j] and not graph[n_i][n_j]:\n",
    "            dfs(graph, n_i, n_j, visited)           "
   ]
  },
  {
   "cell_type": "code",
   "execution_count": 136,
   "metadata": {},
   "outputs": [],
   "source": [
    "def dfs(graph, i, j, visited):\n",
    "    global cnt, n, m\n",
    "    if graph[i][j] == 0:\n",
    "        visited[i][j] = True\n",
    "        print((i, j), end=' ')\n",
    "    else:\n",
    "        print(f\"{(i,j)}칸의 값은 1입니다.\")\n",
    "    \n",
    "    for k in range(4):        \n",
    "        n_i = i + dy[k]\n",
    "        n_j = j + dx[k]\n",
    "        \n",
    "        if is_valid_coord(n_i, n_j, n, m) and not visited[n_i][n_j] and not graph[n_i][n_j]:\n",
    "            \n",
    "            dfs(graph, n_i, n_j, visited)      "
   ]
  },
  {
   "cell_type": "code",
   "execution_count": 148,
   "metadata": {},
   "outputs": [],
   "source": [
    "def dfs(graph, i, j, visited):\n",
    "    global cnt, n, m\n",
    "    if graph[i][j] == 0:\n",
    "        visited[i][j] = True\n",
    "        #print((i, j), end=' ')\n",
    "        ice_cream_list = []\n",
    "        for k in range(4):        \n",
    "            n_i = i + dy[k]\n",
    "            n_j = j + dx[k]\n",
    "            \n",
    "            if is_valid_coord(n_i, n_j, n, m) and not visited[n_i][n_j] and not graph[n_i][n_j]:\n",
    "                ice_cream_list.append((n_i, n_j))\n",
    "                dfs(graph, n_i, n_j, visited)\n",
    "        ice_cream_dict[(i, j)] = ice_cream_list            \n",
    "\n",
    "    else:\n",
    "        print(f\"{(i,j)}칸의 값은 1입니다.\")      "
   ]
  },
  {
   "cell_type": "code",
   "execution_count": 149,
   "metadata": {},
   "outputs": [],
   "source": [
    "dfs(graph, 0, 0, visited)"
   ]
  },
  {
   "cell_type": "code",
   "execution_count": 150,
   "metadata": {},
   "outputs": [
    {
     "data": {
      "text/plain": [
       "{(1, 2): [],\n",
       " (0, 1): [],\n",
       " (1, 1): [(1, 2), (0, 1)],\n",
       " (1, 0): [(1, 1)],\n",
       " (0, 0): [(1, 0)]}"
      ]
     },
     "execution_count": 150,
     "metadata": {},
     "output_type": "execute_result"
    }
   ],
   "source": [
    "ice_cream_dict"
   ]
  },
  {
   "cell_type": "code",
   "execution_count": 138,
   "metadata": {},
   "outputs": [
    {
     "name": "stdout",
     "output_type": "stream",
     "text": [
      "(0, 1) "
     ]
    }
   ],
   "source": [
    "dfs(graph, 0, 1, visited)"
   ]
  },
  {
   "cell_type": "code",
   "execution_count": 127,
   "metadata": {},
   "outputs": [
    {
     "name": "stdout",
     "output_type": "stream",
     "text": [
      "(3, 0) (3, 1) (3, 2) (3, 3) (3, 4) "
     ]
    }
   ],
   "source": [
    "dfs(graph, 3, 0, visited)"
   ]
  },
  {
   "cell_type": "code",
   "execution_count": 128,
   "metadata": {},
   "outputs": [
    {
     "name": "stdout",
     "output_type": "stream",
     "text": [
      "(0, 4) "
     ]
    }
   ],
   "source": [
    "dfs(graph, 0, 4, visited)"
   ]
  },
  {
   "cell_type": "code",
   "execution_count": 129,
   "metadata": {},
   "outputs": [
    {
     "name": "stdout",
     "output_type": "stream",
     "text": [
      "(0, 3)칸의 값은 1입니다.\n"
     ]
    }
   ],
   "source": [
    "dfs(graph, 0, 3, visited)"
   ]
  },
  {
   "cell_type": "code",
   "execution_count": 130,
   "metadata": {},
   "outputs": [
    {
     "name": "stdout",
     "output_type": "stream",
     "text": [
      "[True, True, False, False, True]\n",
      "[True, True, True, False, False]\n",
      "[False, False, False, False, False]\n",
      "[True, True, True, True, True]\n"
     ]
    }
   ],
   "source": [
    "for row in visited:\n",
    "    print(row)"
   ]
  },
  {
   "cell_type": "code",
   "execution_count": 131,
   "metadata": {},
   "outputs": [
    {
     "name": "stdout",
     "output_type": "stream",
     "text": [
      "(0, 0) \n",
      "(0, 1) \n",
      "(0, 2)칸의 값은 1입니다.\n",
      "\n",
      "(0, 3)칸의 값은 1입니다.\n",
      "\n",
      "(0, 4) \n",
      "\n",
      "(1, 0) \n",
      "(1, 1) \n",
      "(1, 2) \n",
      "(1, 3)칸의 값은 1입니다.\n",
      "\n",
      "(1, 4)칸의 값은 1입니다.\n",
      "\n",
      "\n",
      "(2, 0)칸의 값은 1입니다.\n",
      "\n",
      "(2, 1)칸의 값은 1입니다.\n",
      "\n",
      "(2, 2)칸의 값은 1입니다.\n",
      "\n",
      "(2, 3)칸의 값은 1입니다.\n",
      "\n",
      "(2, 4)칸의 값은 1입니다.\n",
      "\n",
      "\n",
      "(3, 0) \n",
      "(3, 1) \n",
      "(3, 2) \n",
      "(3, 3) \n",
      "(3, 4) \n",
      "\n"
     ]
    }
   ],
   "source": [
    "for i in range(len(graph)):\n",
    "    for j in range(len(graph[i])):\n",
    "        dfs(graph, i, j, visited)\n",
    "        print()\n",
    "    print()"
   ]
  }
 ],
 "metadata": {
  "kernelspec": {
   "display_name": "base",
   "language": "python",
   "name": "python3"
  },
  "language_info": {
   "codemirror_mode": {
    "name": "ipython",
    "version": 3
   },
   "file_extension": ".py",
   "mimetype": "text/x-python",
   "name": "python",
   "nbconvert_exporter": "python",
   "pygments_lexer": "ipython3",
   "version": "3.9.12"
  },
  "orig_nbformat": 4
 },
 "nbformat": 4,
 "nbformat_minor": 2
}
