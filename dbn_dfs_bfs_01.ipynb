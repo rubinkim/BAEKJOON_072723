{
 "cells": [
  {
   "cell_type": "code",
   "execution_count": 13,
   "metadata": {},
   "outputs": [
    {
     "name": "stdout",
     "output_type": "stream",
     "text": [
      "[0, 0, 1, 1, 0]\n",
      "[0, 0, 0, 1, 1]\n",
      "[1, 1, 1, 1, 1]\n",
      "[0, 0, 0, 0, 0]\n"
     ]
    }
   ],
   "source": [
    "n, m = map(int, input().split())\n",
    "graph = [[0] * m for _ in range(n)]\n",
    "\n",
    "for i in range(len(graph)):\n",
    "    for j, val in enumerate(map(int, input().split())):\n",
    "        graph[i][j] = val\n",
    "\n",
    "for row in graph:\n",
    "    print(row)"
   ]
  },
  {
   "cell_type": "code",
   "execution_count": 14,
   "metadata": {},
   "outputs": [
    {
     "name": "stdout",
     "output_type": "stream",
     "text": [
      "[False, False, False, False, False]\n",
      "[False, False, False, False, False]\n",
      "[False, False, False, False, False]\n",
      "[False, False, False, False, False]\n",
      "[False, False, False, False, False]\n"
     ]
    }
   ],
   "source": [
    "visited = [[False] * m for _ in range(m)]\n",
    "for row in visited:\n",
    "    print(row)"
   ]
  },
  {
   "cell_type": "code",
   "execution_count": 16,
   "metadata": {},
   "outputs": [],
   "source": [
    "def dfs(graph, i, j, visited):\n",
    "    visited[i][j] = True\n",
    "    print((i, j), end=' ')\n",
    "    \n",
    "    for k in range(len(graph)):\n",
    "        for l in range(len(graph(k))):     \n",
    "            if not graph[k][l] and not visited[k][l]:\n",
    "                dfs(graph, k, l, visited)"
   ]
  },
  {
   "cell_type": "code",
   "execution_count": 17,
   "metadata": {},
   "outputs": [
    {
     "name": "stdout",
     "output_type": "stream",
     "text": [
      "(0, 0) "
     ]
    },
    {
     "ename": "UnboundLocalError",
     "evalue": "local variable 'l' referenced before assignment",
     "output_type": "error",
     "traceback": [
      "\u001b[1;31m---------------------------------------------------------------------------\u001b[0m",
      "\u001b[1;31mUnboundLocalError\u001b[0m                         Traceback (most recent call last)",
      "\u001b[1;32me:\\BAEKJOON_072723\\dbn_dfs_bfs_01.ipynb Cell 4\u001b[0m line \u001b[0;36m<cell line: 1>\u001b[1;34m()\u001b[0m\n\u001b[1;32m----> <a href='vscode-notebook-cell:/e%3A/BAEKJOON_072723/dbn_dfs_bfs_01.ipynb#X10sZmlsZQ%3D%3D?line=0'>1</a>\u001b[0m dfs(graph, \u001b[39m0\u001b[39;49m, \u001b[39m0\u001b[39;49m, visited)\n",
      "\u001b[1;32me:\\BAEKJOON_072723\\dbn_dfs_bfs_01.ipynb Cell 4\u001b[0m line \u001b[0;36mdfs\u001b[1;34m(graph, i, j, visited)\u001b[0m\n\u001b[0;32m      <a href='vscode-notebook-cell:/e%3A/BAEKJOON_072723/dbn_dfs_bfs_01.ipynb#X10sZmlsZQ%3D%3D?line=2'>3</a>\u001b[0m \u001b[39mprint\u001b[39m((i, j), end\u001b[39m=\u001b[39m\u001b[39m'\u001b[39m\u001b[39m \u001b[39m\u001b[39m'\u001b[39m)\n\u001b[0;32m      <a href='vscode-notebook-cell:/e%3A/BAEKJOON_072723/dbn_dfs_bfs_01.ipynb#X10sZmlsZQ%3D%3D?line=4'>5</a>\u001b[0m \u001b[39mfor\u001b[39;00m k \u001b[39min\u001b[39;00m \u001b[39mrange\u001b[39m(\u001b[39mlen\u001b[39m(graph)):\n\u001b[1;32m----> <a href='vscode-notebook-cell:/e%3A/BAEKJOON_072723/dbn_dfs_bfs_01.ipynb#X10sZmlsZQ%3D%3D?line=5'>6</a>\u001b[0m     \u001b[39mfor\u001b[39;00m l \u001b[39min\u001b[39;00m \u001b[39mrange\u001b[39m(\u001b[39mlen\u001b[39m(graph(l))):     \n\u001b[0;32m      <a href='vscode-notebook-cell:/e%3A/BAEKJOON_072723/dbn_dfs_bfs_01.ipynb#X10sZmlsZQ%3D%3D?line=6'>7</a>\u001b[0m         \u001b[39mif\u001b[39;00m \u001b[39mnot\u001b[39;00m graph[k][l] \u001b[39mand\u001b[39;00m \u001b[39mnot\u001b[39;00m visited[k][l]:\n\u001b[0;32m      <a href='vscode-notebook-cell:/e%3A/BAEKJOON_072723/dbn_dfs_bfs_01.ipynb#X10sZmlsZQ%3D%3D?line=7'>8</a>\u001b[0m             dfs(graph, k, l, visited)\n",
      "\u001b[1;31mUnboundLocalError\u001b[0m: local variable 'l' referenced before assignment"
     ]
    }
   ],
   "source": [
    "dfs(graph, 0, 0, visited)"
   ]
  }
 ],
 "metadata": {
  "kernelspec": {
   "display_name": "base",
   "language": "python",
   "name": "python3"
  },
  "language_info": {
   "codemirror_mode": {
    "name": "ipython",
    "version": 3
   },
   "file_extension": ".py",
   "mimetype": "text/x-python",
   "name": "python",
   "nbconvert_exporter": "python",
   "pygments_lexer": "ipython3",
   "version": "3.9.12"
  },
  "orig_nbformat": 4
 },
 "nbformat": 4,
 "nbformat_minor": 2
}
