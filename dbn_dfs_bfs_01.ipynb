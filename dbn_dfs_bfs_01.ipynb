{
 "cells": [
  {
   "cell_type": "code",
   "execution_count": 160,
   "metadata": {},
   "outputs": [
    {
     "name": "stdout",
     "output_type": "stream",
     "text": [
      "[0, 0, 1, 1, 0]\n",
      "[0, 0, 0, 1, 1]\n",
      "[1, 1, 1, 1, 1]\n",
      "[0, 0, 0, 0, 0]\n"
     ]
    }
   ],
   "source": [
    "n, m = map(int, input().split())\n",
    "graph = [[0] * m for _ in range(n)]\n",
    "\n",
    "for i in range(len(graph)):\n",
    "    for j, val in enumerate(map(int, input().split())):\n",
    "        graph[i][j] = val\n",
    "\n",
    "for row in graph:\n",
    "    print(row)"
   ]
  },
  {
   "cell_type": "code",
   "execution_count": 161,
   "metadata": {},
   "outputs": [
    {
     "name": "stdout",
     "output_type": "stream",
     "text": [
      "[False, False, False, False, False]\n",
      "[False, False, False, False, False]\n",
      "[False, False, False, False, False]\n",
      "[False, False, False, False, False]\n"
     ]
    }
   ],
   "source": [
    "visited = [[False] * m for _ in range(n)]\n",
    "for row in visited:\n",
    "    print(row)    "
   ]
  },
  {
   "cell_type": "code",
   "execution_count": 162,
   "metadata": {},
   "outputs": [],
   "source": [
    "def is_valid_coord(y, x, n, m):\n",
    "    return 0 <= y <= n-1 and 0 <= x <= m-1"
   ]
  },
  {
   "cell_type": "code",
   "execution_count": 163,
   "metadata": {},
   "outputs": [],
   "source": [
    "dy = (1, 0, -1,  0)\n",
    "dx = (0, 1,  0, -1)"
   ]
  },
  {
   "cell_type": "code",
   "execution_count": 164,
   "metadata": {},
   "outputs": [],
   "source": [
    "connected_component = []\n",
    "ans = \"\""
   ]
  },
  {
   "cell_type": "code",
   "execution_count": 83,
   "metadata": {},
   "outputs": [],
   "source": [
    "def dfs(graph, i, j, visited):\n",
    "    global cnt, n, m\n",
    "    \n",
    "    if graph[i][j] == 0:\n",
    "        visited[i][j] = True\n",
    "        print((i, j), end=' ')        \n",
    "        #return (i, j)      \n",
    "    \n",
    "    for k in range(4):        \n",
    "        n_i = i + dy[k]\n",
    "        n_j = j + dx[k]\n",
    "        \n",
    "        if is_valid_coord(n_i, n_j, n, m) and not visited[n_i][n_j] and not graph[n_i][n_j]:           \n",
    "            dfs(graph, n_i, n_j, visited)            \n",
    "        else:\n",
    "            continue"
   ]
  },
  {
   "cell_type": "code",
   "execution_count": 157,
   "metadata": {},
   "outputs": [],
   "source": [
    "def dfs(graph, i, j, visited):\n",
    "    global ans, n, m   \n",
    "    \n",
    "    if graph[i][j] == 0:\n",
    "        visited[i][j] = True\n",
    "        #print((i, j), end=' ')        \n",
    "        ans += str((i, j))  \n",
    "  \n",
    "    for k in range(4):        \n",
    "        i += dy[k]\n",
    "        j += dx[k]\n",
    "        \n",
    "        if is_valid_coord(i, j, n, m) and not visited[i][j] and not graph[i][j]:                       \n",
    "            dfs(graph, i, j, visited)            \n",
    "        else:\n",
    "           continue\n",
    "    return ans"
   ]
  },
  {
   "cell_type": "code",
   "execution_count": 165,
   "metadata": {},
   "outputs": [],
   "source": [
    "def dfs(graph, i, j, visited):\n",
    "    global connected_component, n, m   \n",
    "    sub_component = []\n",
    "    \n",
    "    if graph[i][j] == 0:\n",
    "        visited[i][j] = True\n",
    "        #print((i, j), end=' ')  \n",
    "    \n",
    "  \n",
    "    for k in range(4):        \n",
    "        i += dy[k]\n",
    "        j += dx[k]\n",
    "        \n",
    "        if is_valid_coord(i, j, n, m) and not visited[i][j] and not graph[i][j]:\n",
    "            sub_component.append((i, j))                       \n",
    "            dfs(graph, i, j, visited)            \n",
    "        else:\n",
    "           continue\n",
    "    \n",
    "    connected_component.append(sub_component)\n",
    "    return connected_component"
   ]
  },
  {
   "cell_type": "code",
   "execution_count": 166,
   "metadata": {},
   "outputs": [
    {
     "name": "stdout",
     "output_type": "stream",
     "text": [
      "\n",
      "\n",
      "\n",
      "\n",
      "\n",
      "\n",
      "\n",
      "\n",
      "\n",
      "\n",
      "\n",
      "\n",
      "\n",
      "\n"
     ]
    }
   ],
   "source": [
    "for i in range(len(graph)):\n",
    "    for j in range(len(graph[i])):        \n",
    "        if not visited[i][j]:\n",
    "            dfs(graph, i, j, visited)                                 \n",
    "        else:\n",
    "            continue           \n",
    "        print()    \n",
    "    print()     "
   ]
  },
  {
   "cell_type": "code",
   "execution_count": 159,
   "metadata": {},
   "outputs": [
    {
     "name": "stdout",
     "output_type": "stream",
     "text": [
      "(0, 0)(1, 0)(1, 1)(1, 2)(0, 1)(0, 4)(3, 0)(3, 1)(3, 2)(3, 3)(3, 4)\n"
     ]
    }
   ],
   "source": [
    "print(ans)"
   ]
  },
  {
   "cell_type": "code",
   "execution_count": 167,
   "metadata": {},
   "outputs": [
    {
     "name": "stdout",
     "output_type": "stream",
     "text": [
      "[[], [(1, 2)], [(1, 1)], [], [(1, 0), (0, 1)], [], [], [(0, 4)], [], [], [], [(3, 4)], [(3, 3)], [(3, 2)], [(3, 1)], [(3, 0)], [], [], [], []]\n"
     ]
    }
   ],
   "source": [
    "print(connected_component)"
   ]
  },
  {
   "cell_type": "code",
   "execution_count": null,
   "metadata": {},
   "outputs": [],
   "source": []
  },
  {
   "cell_type": "code",
   "execution_count": null,
   "metadata": {},
   "outputs": [],
   "source": []
  },
  {
   "cell_type": "code",
   "execution_count": 5,
   "metadata": {},
   "outputs": [],
   "source": [
    "def dfs(graph, i, j, visited):\n",
    "    global cnt, n, m\n",
    "    if graph[i][j] == 0:\n",
    "        visited[i][j] = True\n",
    "        print((i, j), end=' ')\n",
    "    else:\n",
    "        print(f\"{(i,j)}칸의 값은 1입니다.\")\n",
    "    \n",
    "    for k in range(4):        \n",
    "        n_i = i + dy[k]\n",
    "        n_j = j + dx[k]\n",
    "        \n",
    "        if is_valid_coord(n_i, n_j, n, m) and not visited[n_i][n_j] and not graph[n_i][n_j]:            \n",
    "            dfs(graph, n_i, n_j, visited)    "
   ]
  },
  {
   "cell_type": "code",
   "execution_count": 29,
   "metadata": {},
   "outputs": [],
   "source": [
    "def dfs(graph, i, j, visited):\n",
    "    global cnt, n, m\n",
    "    if graph[i][j] == 0:\n",
    "        visited[i][j] = True\n",
    "        print((i, j), end=' ')\n",
    "    else:\n",
    "        print(f\"{(i,j)}칸의 값은 1입니다.\")\n",
    "    \n",
    "    for k in range(4):        \n",
    "        n_i = i + dy[k]\n",
    "        n_j = j + dx[k]\n",
    "        \n",
    "        if is_valid_coord(n_i, n_j, n, m) and not visited[n_i][n_j] and not graph[n_i][n_j]:            \n",
    "            dfs(graph, n_i, n_j, visited)\n",
    "        elif is_valid_coord(n_i, n_j, n, m) and visited[n_i][n_j] and not graph[n_i][n_j]: \n",
    "            continue     "
   ]
  },
  {
   "cell_type": "code",
   "execution_count": 35,
   "metadata": {},
   "outputs": [],
   "source": [
    "def dfs(graph, i, j, visited):\n",
    "    global cnt, n, m\n",
    "    if graph[i][j] == 0:\n",
    "        visited[i][j] = True\n",
    "        print((i, j), end=' ')\n",
    "    else:\n",
    "        print(f\"{(i,j)}칸의 값은 1입니다.\")\n",
    "    \n",
    "    for k in range(4):        \n",
    "        n_i = i + dy[k]\n",
    "        n_j = j + dx[k]\n",
    "        \n",
    "        if is_valid_coord(n_i, n_j, n, m) and not visited[n_i][n_j] and not graph[n_i][n_j]:\n",
    "            visited[n_i][n_j] = True          \n",
    "            dfs(graph, n_i, n_j, visited) "
   ]
  },
  {
   "cell_type": "code",
   "execution_count": 6,
   "metadata": {},
   "outputs": [
    {
     "name": "stdout",
     "output_type": "stream",
     "text": [
      "(0, 0) (1, 0) (1, 1) (1, 2) (0, 1) "
     ]
    }
   ],
   "source": [
    "dfs(graph, 0, 0, visited)"
   ]
  },
  {
   "cell_type": "code",
   "execution_count": 7,
   "metadata": {},
   "outputs": [
    {
     "name": "stdout",
     "output_type": "stream",
     "text": [
      "(0, 1) "
     ]
    }
   ],
   "source": [
    "dfs(graph, 0, 1, visited)"
   ]
  },
  {
   "cell_type": "code",
   "execution_count": 8,
   "metadata": {},
   "outputs": [
    {
     "name": "stdout",
     "output_type": "stream",
     "text": [
      "(3, 0) (3, 1) (3, 2) (3, 3) (3, 4) "
     ]
    }
   ],
   "source": [
    "dfs(graph, 3, 0, visited)"
   ]
  },
  {
   "cell_type": "code",
   "execution_count": 9,
   "metadata": {},
   "outputs": [
    {
     "name": "stdout",
     "output_type": "stream",
     "text": [
      "(0, 4) "
     ]
    }
   ],
   "source": [
    "dfs(graph, 0, 4, visited)"
   ]
  },
  {
   "cell_type": "code",
   "execution_count": 10,
   "metadata": {},
   "outputs": [
    {
     "name": "stdout",
     "output_type": "stream",
     "text": [
      "(0, 3)칸의 값은 1입니다.\n"
     ]
    }
   ],
   "source": [
    "dfs(graph, 0, 3, visited)"
   ]
  },
  {
   "cell_type": "code",
   "execution_count": 11,
   "metadata": {},
   "outputs": [
    {
     "name": "stdout",
     "output_type": "stream",
     "text": [
      "[True, True, False, False, True]\n",
      "[True, True, True, False, False]\n",
      "[False, False, False, False, False]\n",
      "[True, True, True, True, True]\n"
     ]
    }
   ],
   "source": [
    "for row in visited:\n",
    "    print(row)"
   ]
  },
  {
   "cell_type": "code",
   "execution_count": 7,
   "metadata": {},
   "outputs": [
    {
     "name": "stdout",
     "output_type": "stream",
     "text": [
      "(0, 0) (1, 0) (1, 1) (1, 2) (0, 1) \n",
      "(0, 2)칸의 값은 1입니다.\n",
      "\n",
      "(0, 3)칸의 값은 1입니다.\n",
      "(0, 4) \n",
      "\n",
      "(1, 3)칸의 값은 1입니다.\n",
      "\n",
      "(1, 4)칸의 값은 1입니다.\n",
      "\n",
      "\n",
      "(2, 0)칸의 값은 1입니다.\n",
      "(3, 0) (3, 1) (3, 2) (3, 3) (3, 4) \n",
      "(2, 1)칸의 값은 1입니다.\n",
      "\n",
      "(2, 2)칸의 값은 1입니다.\n",
      "\n",
      "(2, 3)칸의 값은 1입니다.\n",
      "\n",
      "(2, 4)칸의 값은 1입니다.\n",
      "\n",
      "\n",
      "\n"
     ]
    }
   ],
   "source": [
    "for i in range(len(graph)):\n",
    "    for j in range(len(graph[i])):\n",
    "        if not visited[i][j]:\n",
    "            dfs(graph, i, j, visited)\n",
    "        else:\n",
    "            continue\n",
    "        print()\n",
    "    print()"
   ]
  }
 ],
 "metadata": {
  "kernelspec": {
   "display_name": "base",
   "language": "python",
   "name": "python3"
  },
  "language_info": {
   "codemirror_mode": {
    "name": "ipython",
    "version": 3
   },
   "file_extension": ".py",
   "mimetype": "text/x-python",
   "name": "python",
   "nbconvert_exporter": "python",
   "pygments_lexer": "ipython3",
   "version": "3.9.12"
  },
  "orig_nbformat": 4
 },
 "nbformat": 4,
 "nbformat_minor": 2
}
