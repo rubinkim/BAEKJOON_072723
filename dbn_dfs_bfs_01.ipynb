{
 "cells": [
  {
   "cell_type": "code",
   "execution_count": 13,
   "metadata": {},
   "outputs": [
    {
     "name": "stdout",
     "output_type": "stream",
     "text": [
      "[0, 0, 1, 1, 0]\n",
      "[0, 0, 0, 1, 1]\n",
      "[1, 1, 1, 1, 1]\n",
      "[0, 0, 0, 0, 0]\n"
     ]
    }
   ],
   "source": [
    "n, m = map(int, input().split())\n",
    "graph = [[0] * m for _ in range(n)]\n",
    "\n",
    "for i in range(len(graph)):\n",
    "    for j, val in enumerate(map(int, input().split())):\n",
    "        graph[i][j] = val\n",
    "\n",
    "for row in graph:\n",
    "    print(row)"
   ]
  },
  {
   "cell_type": "code",
   "execution_count": 14,
   "metadata": {},
   "outputs": [
    {
     "name": "stdout",
     "output_type": "stream",
     "text": [
      "[False, False, False, False, False]\n",
      "[False, False, False, False, False]\n",
      "[False, False, False, False, False]\n",
      "[False, False, False, False, False]\n",
      "[False, False, False, False, False]\n"
     ]
    }
   ],
   "source": [
    "visited = [[False] * m for _ in range(m)]\n",
    "for row in visited:\n",
    "    print(row)"
   ]
  },
  {
   "cell_type": "code",
   "execution_count": 16,
   "metadata": {},
   "outputs": [],
   "source": [
    "def dfs(graph, i, j, visited):\n",
    "    visited[i][j] = True\n",
    "    print((i, j), end=' ')\n",
    "    \n",
    "    for k in range(len(graph)):\n",
    "        for l in range(len(graph(l))):     \n",
    "            if not graph[k][l] and not visited[k][l]:\n",
    "                dfs(graph, k, l, visited)"
   ]
  }
 ],
 "metadata": {
  "kernelspec": {
   "display_name": "base",
   "language": "python",
   "name": "python3"
  },
  "language_info": {
   "codemirror_mode": {
    "name": "ipython",
    "version": 3
   },
   "file_extension": ".py",
   "mimetype": "text/x-python",
   "name": "python",
   "nbconvert_exporter": "python",
   "pygments_lexer": "ipython3",
   "version": "3.9.12"
  },
  "orig_nbformat": 4
 },
 "nbformat": 4,
 "nbformat_minor": 2
}
