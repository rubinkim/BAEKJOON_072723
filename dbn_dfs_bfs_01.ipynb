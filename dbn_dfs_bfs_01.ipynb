{
 "cells": [
  {
   "cell_type": "code",
   "execution_count": 80,
   "metadata": {},
   "outputs": [
    {
     "name": "stdout",
     "output_type": "stream",
     "text": [
      "[0, 0, 1, 1, 0]\n",
      "[0, 0, 0, 1, 1]\n",
      "[1, 1, 1, 1, 1]\n",
      "[0, 0, 0, 0, 0]\n"
     ]
    }
   ],
   "source": [
    "n, m = map(int, input().split())\n",
    "graph = [[0] * m for _ in range(n)]\n",
    "\n",
    "for i in range(len(graph)):\n",
    "    for j, val in enumerate(map(int, input().split())):\n",
    "        graph[i][j] = val\n",
    "\n",
    "for row in graph:\n",
    "    print(row)"
   ]
  },
  {
   "cell_type": "code",
   "execution_count": 81,
   "metadata": {},
   "outputs": [
    {
     "name": "stdout",
     "output_type": "stream",
     "text": [
      "[False, False, False, False, False]\n",
      "[False, False, False, False, False]\n",
      "[False, False, False, False, False]\n",
      "[False, False, False, False, False]\n"
     ]
    }
   ],
   "source": [
    "visited = [[False] * m for _ in range(n)]\n",
    "for row in visited:\n",
    "    print(row)    "
   ]
  },
  {
   "cell_type": "code",
   "execution_count": 82,
   "metadata": {},
   "outputs": [],
   "source": [
    "def is_valid_coord(y, x, n, m):\n",
    "    return 0 <= y <= n-1 and 0 <= x <= m-1"
   ]
  },
  {
   "cell_type": "code",
   "execution_count": 77,
   "metadata": {},
   "outputs": [],
   "source": [
    "def dfs(graph, i, j, visited):\n",
    "    visited[i][j] = True\n",
    "    print((i, j), end=' ')\n",
    "    \n",
    "    for k in range(len(graph)):\n",
    "        for l in range(len(graph[k])):     \n",
    "            if not graph[k][l] and not visited[k][l]:\n",
    "                dfs(graph, k, l, visited)"
   ]
  },
  {
   "cell_type": "code",
   "execution_count": 83,
   "metadata": {},
   "outputs": [],
   "source": [
    "cnt = 0\n",
    "dy = (1, 0, -1,  0)\n",
    "dx = (0, 1,  0, -1)"
   ]
  },
  {
   "cell_type": "code",
   "execution_count": 43,
   "metadata": {},
   "outputs": [],
   "source": [
    "def dfs(graph, i, j, visited):\n",
    "    global cnt, n, m\n",
    "    visited[i][j] = True\n",
    "    print((i, j), end=' ')\n",
    "    \n",
    "    for k in range(4):        \n",
    "        n_i = i + dy[k]\n",
    "        n_j = j + dx[k]\n",
    "        \n",
    "        if is_valid_coord(n_i, n_j, n, m) and not visited[n_i][n_j] and not graph[n_i][n_j]:\n",
    "            dfs(graph, n_i, n_j, visited)           "
   ]
  },
  {
   "cell_type": "code",
   "execution_count": 84,
   "metadata": {},
   "outputs": [],
   "source": [
    "def dfs(graph, i, j, visited):\n",
    "    global cnt, n, m\n",
    "    visited[i][j] = True\n",
    "    print((i, j), end=' ')\n",
    "    \n",
    "    for k in range(4):        \n",
    "        n_i = i + dy[k]\n",
    "        n_j = j + dx[k]\n",
    "        \n",
    "        if is_valid_coord(n_i, n_j, n, m) and not visited[n_i][n_j] and not graph[i][j] and graph[n_i][n_j]:\n",
    "            dfs(graph, n_i, n_j, visited)      "
   ]
  },
  {
   "cell_type": "code",
   "execution_count": 85,
   "metadata": {},
   "outputs": [
    {
     "name": "stdout",
     "output_type": "stream",
     "text": [
      "(0, 0) (1, 0) (1, 1) (1, 2) (0, 1) "
     ]
    }
   ],
   "source": [
    "dfs(graph, 0, 0, visited)"
   ]
  },
  {
   "cell_type": "code",
   "execution_count": 86,
   "metadata": {},
   "outputs": [
    {
     "name": "stdout",
     "output_type": "stream",
     "text": [
      "(3, 0) (3, 1) (3, 2) (3, 3) (3, 4) "
     ]
    }
   ],
   "source": [
    "dfs(graph, 3, 0, visited)"
   ]
  },
  {
   "cell_type": "code",
   "execution_count": 87,
   "metadata": {},
   "outputs": [
    {
     "name": "stdout",
     "output_type": "stream",
     "text": [
      "(0, 4) "
     ]
    }
   ],
   "source": [
    "dfs(graph, 0, 4, visited)"
   ]
  },
  {
   "cell_type": "code",
   "execution_count": 89,
   "metadata": {},
   "outputs": [
    {
     "name": "stdout",
     "output_type": "stream",
     "text": [
      "(0, 3) "
     ]
    }
   ],
   "source": [
    "dfs(graph, 0, 3, visited)"
   ]
  },
  {
   "cell_type": "code",
   "execution_count": 88,
   "metadata": {},
   "outputs": [
    {
     "name": "stdout",
     "output_type": "stream",
     "text": [
      "[True, True, False, False, True]\n",
      "[True, True, True, False, False]\n",
      "[False, False, False, False, False]\n",
      "[True, True, True, True, True]\n"
     ]
    }
   ],
   "source": [
    "for row in visited:\n",
    "    print(row)"
   ]
  },
  {
   "cell_type": "code",
   "execution_count": 50,
   "metadata": {},
   "outputs": [
    {
     "name": "stdout",
     "output_type": "stream",
     "text": [
      "(0, 0) \n",
      "(0, 1) \n",
      "(0, 2) \n",
      "(0, 3) \n",
      "(0, 4) \n",
      "\n",
      "(1, 0) \n",
      "(1, 1) \n",
      "(1, 2) \n",
      "(1, 3) \n",
      "(1, 4) \n",
      "\n",
      "(2, 0) \n",
      "(2, 1) \n",
      "(2, 2) \n",
      "(2, 3) \n",
      "(2, 4) \n",
      "\n",
      "(3, 0) \n",
      "(3, 1) \n",
      "(3, 2) \n",
      "(3, 3) \n",
      "(3, 4) \n",
      "\n"
     ]
    }
   ],
   "source": [
    "for i in range(len(graph)):\n",
    "    for j in range(len(graph[i])):\n",
    "        dfs(graph, i, j, visited)\n",
    "        print()\n",
    "    print()"
   ]
  }
 ],
 "metadata": {
  "kernelspec": {
   "display_name": "base",
   "language": "python",
   "name": "python3"
  },
  "language_info": {
   "codemirror_mode": {
    "name": "ipython",
    "version": 3
   },
   "file_extension": ".py",
   "mimetype": "text/x-python",
   "name": "python",
   "nbconvert_exporter": "python",
   "pygments_lexer": "ipython3",
   "version": "3.9.12"
  },
  "orig_nbformat": 4
 },
 "nbformat": 4,
 "nbformat_minor": 2
}
