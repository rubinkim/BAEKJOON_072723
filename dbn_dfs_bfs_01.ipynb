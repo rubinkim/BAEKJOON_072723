{
 "cells": [
  {
   "cell_type": "code",
   "execution_count": 14,
   "metadata": {},
   "outputs": [
    {
     "name": "stdout",
     "output_type": "stream",
     "text": [
      "[0, 0, 1, 1, 0]\n",
      "[0, 0, 0, 1, 1]\n",
      "[1, 1, 1, 1, 1]\n",
      "[0, 0, 0, 0, 0]\n"
     ]
    }
   ],
   "source": [
    "n, m = map(int, input().split())\n",
    "graph = [[0] * m for _ in range(n)]\n",
    "\n",
    "for i in range(len(graph)):\n",
    "    for j, val in enumerate(map(int, input().split())):\n",
    "        graph[i][j] = val\n",
    "\n",
    "for row in graph:\n",
    "    print(row)"
   ]
  },
  {
   "cell_type": "code",
   "execution_count": 15,
   "metadata": {},
   "outputs": [
    {
     "name": "stdout",
     "output_type": "stream",
     "text": [
      "[False, False, False, False, False]\n",
      "[False, False, False, False, False]\n",
      "[False, False, False, False, False]\n",
      "[False, False, False, False, False]\n"
     ]
    }
   ],
   "source": [
    "visited = [[False] * m for _ in range(n)]\n",
    "for row in visited:\n",
    "    print(row)    "
   ]
  },
  {
   "cell_type": "code",
   "execution_count": 17,
   "metadata": {},
   "outputs": [],
   "source": [
    "def is_valid_coord(y, x, n, m):\n",
    "    return 0 <= y <= n-1 and 0 <= x <= m-1"
   ]
  },
  {
   "cell_type": "code",
   "execution_count": 77,
   "metadata": {},
   "outputs": [],
   "source": [
    "def dfs(graph, i, j, visited):\n",
    "    visited[i][j] = True\n",
    "    print((i, j), end=' ')\n",
    "    \n",
    "    for k in range(len(graph)):\n",
    "        for l in range(len(graph[k])):     \n",
    "            if not graph[k][l] and not visited[k][l]:\n",
    "                dfs(graph, k, l, visited)"
   ]
  },
  {
   "cell_type": "code",
   "execution_count": 18,
   "metadata": {},
   "outputs": [],
   "source": [
    "cnt = 0\n",
    "dy = (1, 0, -1,  0)\n",
    "dx = (0, 1,  0, -1)"
   ]
  },
  {
   "cell_type": "code",
   "execution_count": 19,
   "metadata": {},
   "outputs": [],
   "source": [
    "def dfs(graph, i, j, visited):\n",
    "    global cnt\n",
    "    visited[i][j] = True\n",
    "    print((i, j), end=' ')\n",
    "    \n",
    "    for k in range(4):        \n",
    "        n_i = i + dy[k]\n",
    "        n_j = j + dx[k]\n",
    "        \n",
    "        if not graph[n_i][n_j] and not visited[n_i][n_j] and is_valid_coord(n_i, n_j, 4, 5):\n",
    "            dfs(graph, n_i, n_j, visited)"
   ]
  },
  {
   "cell_type": "code",
   "execution_count": 22,
   "metadata": {},
   "outputs": [
    {
     "name": "stdout",
     "output_type": "stream",
     "text": [
      "(0, 0) "
     ]
    }
   ],
   "source": [
    "dfs(graph, 0, 0, visited)"
   ]
  },
  {
   "cell_type": "code",
   "execution_count": 21,
   "metadata": {},
   "outputs": [
    {
     "name": "stdout",
     "output_type": "stream",
     "text": [
      "(3, 0) "
     ]
    },
    {
     "ename": "IndexError",
     "evalue": "list index out of range",
     "output_type": "error",
     "traceback": [
      "\u001b[1;31m---------------------------------------------------------------------------\u001b[0m",
      "\u001b[1;31mIndexError\u001b[0m                                Traceback (most recent call last)",
      "\u001b[1;32me:\\BAEKJOON_072723\\dbn_dfs_bfs_01.ipynb Cell 8\u001b[0m line \u001b[0;36m<cell line: 1>\u001b[1;34m()\u001b[0m\n\u001b[1;32m----> <a href='vscode-notebook-cell:/e%3A/BAEKJOON_072723/dbn_dfs_bfs_01.ipynb#X11sZmlsZQ%3D%3D?line=0'>1</a>\u001b[0m dfs(graph, \u001b[39m3\u001b[39;49m, \u001b[39m0\u001b[39;49m, visited)\n",
      "\u001b[1;32me:\\BAEKJOON_072723\\dbn_dfs_bfs_01.ipynb Cell 8\u001b[0m line \u001b[0;36mdfs\u001b[1;34m(graph, i, j, visited)\u001b[0m\n\u001b[0;32m      <a href='vscode-notebook-cell:/e%3A/BAEKJOON_072723/dbn_dfs_bfs_01.ipynb#X11sZmlsZQ%3D%3D?line=6'>7</a>\u001b[0m n_i \u001b[39m=\u001b[39m i \u001b[39m+\u001b[39m dy[k]\n\u001b[0;32m      <a href='vscode-notebook-cell:/e%3A/BAEKJOON_072723/dbn_dfs_bfs_01.ipynb#X11sZmlsZQ%3D%3D?line=7'>8</a>\u001b[0m n_j \u001b[39m=\u001b[39m j \u001b[39m+\u001b[39m dx[k]\n\u001b[1;32m---> <a href='vscode-notebook-cell:/e%3A/BAEKJOON_072723/dbn_dfs_bfs_01.ipynb#X11sZmlsZQ%3D%3D?line=9'>10</a>\u001b[0m \u001b[39mif\u001b[39;00m \u001b[39mnot\u001b[39;00m graph[n_i][n_j] \u001b[39mand\u001b[39;00m \u001b[39mnot\u001b[39;00m visited[n_i][n_j] \u001b[39mand\u001b[39;00m is_valid_coord(n_i, n_j, \u001b[39m4\u001b[39m, \u001b[39m5\u001b[39m):\n\u001b[0;32m     <a href='vscode-notebook-cell:/e%3A/BAEKJOON_072723/dbn_dfs_bfs_01.ipynb#X11sZmlsZQ%3D%3D?line=10'>11</a>\u001b[0m     dfs(graph, n_i, n_j, visited)\n",
      "\u001b[1;31mIndexError\u001b[0m: list index out of range"
     ]
    }
   ],
   "source": [
    "dfs(graph, 3, 0, visited)"
   ]
  },
  {
   "cell_type": "code",
   "execution_count": 5,
   "metadata": {},
   "outputs": [
    {
     "name": "stdout",
     "output_type": "stream",
     "text": [
      "[True, True, False, False, True]\n",
      "[True, True, True, False, False]\n",
      "[False, False, False, False, False]\n",
      "[True, True, True, True, True]\n"
     ]
    }
   ],
   "source": [
    "for row in visited:\n",
    "    print(row)"
   ]
  }
 ],
 "metadata": {
  "kernelspec": {
   "display_name": "base",
   "language": "python",
   "name": "python3"
  },
  "language_info": {
   "codemirror_mode": {
    "name": "ipython",
    "version": 3
   },
   "file_extension": ".py",
   "mimetype": "text/x-python",
   "name": "python",
   "nbconvert_exporter": "python",
   "pygments_lexer": "ipython3",
   "version": "3.9.12"
  },
  "orig_nbformat": 4
 },
 "nbformat": 4,
 "nbformat_minor": 2
}
