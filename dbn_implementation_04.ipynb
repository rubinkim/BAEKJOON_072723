{
 "cells": [
  {
   "cell_type": "code",
   "execution_count": 14,
   "metadata": {},
   "outputs": [
    {
     "name": "stdout",
     "output_type": "stream",
     "text": [
      "AJKDLSI412K4JSJ9D\n",
      "ADDIJJJKKLSS20\n"
     ]
    }
   ],
   "source": [
    "n = input() # AJKDLSI412K4JSJ9D\n",
    "print(n)\n",
    "\n",
    "alpha_list = []\n",
    "num_list = []\n",
    "\n",
    "for x in n:\n",
    "    if x in map(str, range(10)):\n",
    "        num_list.append(int(x))\n",
    "    else:\n",
    "        alpha_list.append(x)\n",
    "\n",
    "alpha_str = \"\".join(sorted(alpha_list))\n",
    "num_str = str(sum(num_list))\n",
    "ans = alpha_str + num_str\n",
    "print(ans)"
   ]
  }
 ],
 "metadata": {
  "kernelspec": {
   "display_name": "base",
   "language": "python",
   "name": "python3"
  },
  "language_info": {
   "codemirror_mode": {
    "name": "ipython",
    "version": 3
   },
   "file_extension": ".py",
   "mimetype": "text/x-python",
   "name": "python",
   "nbconvert_exporter": "python",
   "pygments_lexer": "ipython3",
   "version": "3.9.12"
  },
  "orig_nbformat": 4
 },
 "nbformat": 4,
 "nbformat_minor": 2
}
