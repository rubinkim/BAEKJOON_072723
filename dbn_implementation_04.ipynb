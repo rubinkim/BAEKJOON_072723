{
 "cells": [
  {
   "cell_type": "code",
   "execution_count": 12,
   "metadata": {},
   "outputs": [
    {
     "name": "stdout",
     "output_type": "stream",
     "text": [
      "AJKDLSI412K4JSJ9D\n"
     ]
    },
    {
     "ename": "NameError",
     "evalue": "name 'A' is not defined",
     "output_type": "error",
     "traceback": [
      "\u001b[1;31m---------------------------------------------------------------------------\u001b[0m",
      "\u001b[1;31mNameError\u001b[0m                                 Traceback (most recent call last)",
      "\u001b[1;32me:\\BAEKJOON_072723\\dbn_implementation_04.ipynb Cell 1\u001b[0m line \u001b[0;36m<cell line: 7>\u001b[1;34m()\u001b[0m\n\u001b[0;32m      <a href='vscode-notebook-cell:/e%3A/BAEKJOON_072723/dbn_implementation_04.ipynb#W0sZmlsZQ%3D%3D?line=4'>5</a>\u001b[0m num_list \u001b[39m=\u001b[39m []\n\u001b[0;32m      <a href='vscode-notebook-cell:/e%3A/BAEKJOON_072723/dbn_implementation_04.ipynb#W0sZmlsZQ%3D%3D?line=6'>7</a>\u001b[0m \u001b[39mfor\u001b[39;00m x \u001b[39min\u001b[39;00m n:\n\u001b[1;32m----> <a href='vscode-notebook-cell:/e%3A/BAEKJOON_072723/dbn_implementation_04.ipynb#W0sZmlsZQ%3D%3D?line=7'>8</a>\u001b[0m     \u001b[39mif\u001b[39;00m \u001b[39meval\u001b[39;49m(x) \u001b[39min\u001b[39;00m \u001b[39mlist\u001b[39m(\u001b[39mrange\u001b[39m(\u001b[39m10\u001b[39m)):\n\u001b[0;32m      <a href='vscode-notebook-cell:/e%3A/BAEKJOON_072723/dbn_implementation_04.ipynb#W0sZmlsZQ%3D%3D?line=8'>9</a>\u001b[0m         num_list\u001b[39m.\u001b[39mappend(x)\n\u001b[0;32m     <a href='vscode-notebook-cell:/e%3A/BAEKJOON_072723/dbn_implementation_04.ipynb#W0sZmlsZQ%3D%3D?line=9'>10</a>\u001b[0m     \u001b[39melse\u001b[39;00m:\n",
      "File \u001b[1;32m<string>:1\u001b[0m, in \u001b[0;36m<module>\u001b[1;34m\u001b[0m\n",
      "\u001b[1;31mNameError\u001b[0m: name 'A' is not defined"
     ]
    }
   ],
   "source": [
    "n = input() # AJKDLSI412K4JSJ9D\n",
    "print(n)\n",
    "\n",
    "alpha_list = []\n",
    "num_list = []\n",
    "\n",
    "for x in n:\n",
    "    if x in map(str, range(10)):\n",
    "        num_list.append(x)\n",
    "    else:\n",
    "        alpha_list.append(x)\n",
    "\n",
    "alpha_str = \"\".join(sorted(alpha_list))\n",
    "num_str = str(sum(num_list))\n",
    "ans = alpha_str + num_str\n",
    "print(ans)"
   ]
  },
  {
   "cell_type": "code",
   "execution_count": 11,
   "metadata": {},
   "outputs": [
    {
     "name": "stdout",
     "output_type": "stream",
     "text": [
      "A, J, K, D, L, S, I, 4, 1, 2, K, 4, J, S, J, 9, D, "
     ]
    }
   ],
   "source": [
    "for x in n:\n",
    "    print(x, end=', ')\n",
    "    if x in list(range(10)):\n",
    "        print(x)"
   ]
  },
  {
   "cell_type": "code",
   "execution_count": null,
   "metadata": {},
   "outputs": [],
   "source": []
  }
 ],
 "metadata": {
  "kernelspec": {
   "display_name": "base",
   "language": "python",
   "name": "python3"
  },
  "language_info": {
   "codemirror_mode": {
    "name": "ipython",
    "version": 3
   },
   "file_extension": ".py",
   "mimetype": "text/x-python",
   "name": "python",
   "nbconvert_exporter": "python",
   "pygments_lexer": "ipython3",
   "version": "3.9.12"
  },
  "orig_nbformat": 4
 },
 "nbformat": 4,
 "nbformat_minor": 2
}
