{
 "cells": [
  {
   "cell_type": "code",
   "execution_count": null,
   "metadata": {},
   "outputs": [],
   "source": [
    "n = input() # AJKDLSI412K4JSJ9D\n",
    "\n",
    "alpha_list = []\n",
    "num_list = []\n",
    "\n",
    "for x in n:\n",
    "    if x in range(10):\n",
    "        num_list.append(x)\n",
    "    else:\n",
    "        alpha_list.append(x)\n",
    "\n",
    "alpha_str = \"\".join(sorted(alpha_list))\n",
    "num_str = str(sum(num_list))\n",
    "ans = alpha_str + num_str\n",
    "print(ans)"
   ]
  }
 ],
 "metadata": {
  "language_info": {
   "name": "python"
  },
  "orig_nbformat": 4
 },
 "nbformat": 4,
 "nbformat_minor": 2
}
