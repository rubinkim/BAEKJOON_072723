{
 "cells": [
  {
   "cell_type": "code",
   "execution_count": 1,
   "metadata": {},
   "outputs": [
    {
     "name": "stdout",
     "output_type": "stream",
     "text": [
      "[0, 1, 0, 0]\n",
      "[0, 1, 1, 1]\n",
      "[1, 1, 1, 0]\n",
      "[0, 0, 1, 0]\n"
     ]
    }
   ],
   "source": [
    "n, m = map(int, input().split())\n",
    "rectangle = [[0] * m for _ in range(n)]\n",
    "\n",
    "for i in range(n):\n",
    "    row = map(int, input())\n",
    "    for j, v in enumerate(row):\n",
    "        rectangle[i][j] = v\n",
    "    \n",
    "for row in rectangle:\n",
    "    print(row)"
   ]
  },
  {
   "cell_type": "code",
   "execution_count": 153,
   "metadata": {},
   "outputs": [
    {
     "name": "stdout",
     "output_type": "stream",
     "text": [
      "n : 5,  m : 10\n",
      "[0, 1, 0, 1, 1, 0, 0, 0, 0, 1]\n",
      "[1, 0, 1, 1, 1, 1, 0, 0, 0, 0]\n",
      "[0, 1, 1, 1, 1, 1, 1, 0, 0, 1]\n",
      "[1, 0, 1, 1, 1, 1, 0, 1, 1, 0]\n",
      "[0, 0, 1, 1, 1, 1, 0, 0, 0, 1]\n"
     ]
    }
   ],
   "source": [
    "fast_input = open(\"data/boj_1915.txt\", \"r\")\n",
    "n, m = map(int, fast_input.readline().strip(\"\\n\").split())\n",
    "rectangle = [[0] * m for _ in range(n)]\n",
    "\n",
    "print(f\"n : {n},  m : {m}\")\n",
    "\n",
    "for i in range(n):\n",
    "    row = map(int, fast_input.readline().strip(\"\\n\"))\n",
    "    for j, v in enumerate(row):\n",
    "        rectangle[i][j] = v\n",
    "    \n",
    "for row in rectangle:\n",
    "    print(row)"
   ]
  },
  {
   "cell_type": "code",
   "execution_count": null,
   "metadata": {},
   "outputs": [],
   "source": []
  },
  {
   "cell_type": "code",
   "execution_count": 4,
   "metadata": {},
   "outputs": [
    {
     "name": "stdout",
     "output_type": "stream",
     "text": [
      "m : 8,  w : 3, area_length : 3,  area_width : 3,   i : 5,  j : 4 ---> 9\n"
     ]
    },
    {
     "data": {
      "text/plain": [
       "9"
      ]
     },
     "execution_count": 4,
     "metadata": {},
     "output_type": "execute_result"
    }
   ],
   "source": [
    "n, m = map(int, input().split())\n",
    "rectangle = [[0] * m for _ in range(n)]\n",
    "\n",
    "for i in range(n):\n",
    "    row = map(int, input())\n",
    "    for j, v in enumerate(row):\n",
    "        rectangle[i][j] = v\n",
    "        \n",
    "def draw_rectangle(Rectangle):\n",
    "    n = len(rectangle)\n",
    "    m = len(rectangle[0])\n",
    "    \n",
    "    if n >= m:\n",
    "        for w in range(m, 0, -1):\n",
    "            for i in range(n - w + 1):\n",
    "                for j in range(m - w + 1):                    \n",
    "                    area = [x[j : j + w] for x in rectangle[i : i + w]]                    \n",
    "                    if sum([sum(k) for k in area]) == w ** 2: \n",
    "                        print (f\"m : {m},  w : {w}, area_length : {len(area)},  area_width : {len(area[0])},   i : {i},  j : {j} ---> {w ** 2}\")                       \n",
    "                        return w ** 2                                \n",
    "                \n",
    "    else:\n",
    "        for w in range(n, 0, -1):\n",
    "            for i in range(n - w + 1):\n",
    "                for j in range(m - w + 1):\n",
    "                    area = [x[j : j + w] for x in rectangle[i : i + w]]                    \n",
    "                    if sum([sum(k) for k in area]) == w ** 2: \n",
    "                        print (f\"n : {n},  w : {w}, area_length : {len(area)},  area_width : {len(area[0])},  i : {i},   j : {j} ---> {w ** 2}\")                       \n",
    "                        return w ** 2   \n",
    "                    \n",
    "draw_rectangle(rectangle)                                                 "
   ]
  },
  {
   "cell_type": "code",
   "execution_count": 1,
   "metadata": {},
   "outputs": [],
   "source": [
    "import sys\n",
    "\n",
    "input = sys.stdin.readline\n",
    "\n",
    "n, m = map(int, input().split())\n",
    "rectangle = [[0] * m for _ in range(n)]\n",
    "\n",
    "for i in range(n):\n",
    "    row = map(int, input().strip(\"\\n\"))\n",
    "    for j, v in enumerate(row):\n",
    "        rectangle[i][j] = v\n",
    "        \n",
    "def draw_rectangle(Rectangle):\n",
    "    n = len(rectangle)\n",
    "    m = len(rectangle[0])\n",
    "    \n",
    "    if n >= m:\n",
    "        for w in range(m, 0, -1):\n",
    "            for i in range(n - w + 1):\n",
    "                for j in range(m - w + 1):                    \n",
    "                    area = [x[j : j + w] for x in rectangle[i : i + w]]                    \n",
    "                    if sum([sum(k) for k in area]) == w ** 2:                        \n",
    "                        return w ** 2                                \n",
    "                \n",
    "    else:\n",
    "        for w in range(n, 0, -1):\n",
    "            for i in range(n - w + 1):\n",
    "                for j in range(m - w + 1):\n",
    "                    area = [x[j : j + w] for x in rectangle[i : i + w]]                    \n",
    "                    if sum([sum(k) for k in area]) == w ** 2:                        \n",
    "                        return w ** 2   \n",
    "                    \n",
    "draw_rectangle(rectangle)          "
   ]
  },
  {
   "cell_type": "code",
   "execution_count": null,
   "metadata": {},
   "outputs": [],
   "source": [
    "# 08/30/23에 마지막으로 제출했으나 시간초과 당한 것임\n",
    "import sys\n",
    "\n",
    "input = sys.stdin.readline\n",
    "n, m = map(int, input().split())\n",
    "\n",
    "rectangle = [[0] * m for _ in range(n)]\n",
    "for i in range(n):\n",
    "    rectangle[i] = [int(x) for x in input().strip(\"\\n\")]    \n",
    "   \n",
    "def draw_rectangle(Rectangle):\n",
    "    n = len(rectangle)\n",
    "    m = len(rectangle[0])\n",
    "    \n",
    "    if n >= m:\n",
    "        for w in range(m, 0, -1):\n",
    "            for i in range(n - w + 1):\n",
    "                for j in range(m - w + 1):                    \n",
    "                    area = [x[j : j + w] for x in rectangle[i : i + w]]                    \n",
    "                    if sum([sum(k) for k in area]) == w ** 2: \n",
    "                        #print (f\"m : {m},  w : {w}, area_length : {len(area)},  area_width : {len(area[0])},   i : {i},  j : {j} ---> {w ** 2}\")                       \n",
    "                        return w ** 2                                \n",
    "                \n",
    "    else:\n",
    "        for w in range(n, 0, -1):\n",
    "            for i in range(n - w + 1):\n",
    "                for j in range(m - w + 1):\n",
    "                    area = [x[j : j + w] for x in rectangle[i : i + w]]                    \n",
    "                    if sum([sum(k) for k in area]) == w ** 2: \n",
    "                        #print (f\"n : {n},  w : {w}, area_length : {len(area)},  area_width : {len(area[0])},  i : {i},   j : {j} ---> {w ** 2}\")                       \n",
    "                        return w ** 2   \n",
    "                    \n",
    "print(draw_rectangle(rectangle))  "
   ]
  },
  {
   "cell_type": "code",
   "execution_count": null,
   "metadata": {},
   "outputs": [],
   "source": []
  },
  {
   "cell_type": "code",
   "execution_count": null,
   "metadata": {},
   "outputs": [],
   "source": []
  },
  {
   "cell_type": "markdown",
   "metadata": {},
   "source": [
    "##### 정답"
   ]
  },
  {
   "cell_type": "code",
   "execution_count": 1,
   "metadata": {},
   "outputs": [],
   "source": [
    "n, m = map(int, input().split())\n",
    "\n",
    "arr = [input() for _ in range(n)]\n",
    "dp = [[0] * m for _ in range(n)]\n",
    "\n",
    "for i in range(m):\n",
    "    if arr[0][i] == \"1\":\n",
    "        dp[0][i] = 1\n",
    "        \n",
    "for i in range(n):\n",
    "    for j in range(m):\n",
    "        if arr[i][0] == \"1\":\n",
    "            dp[i][0] = 1\n",
    "        for j in range(m):\n",
    "            if arr[i][j] == \"1\":\n",
    "                dp[i][j] = min(dp[i][j-1], dp[i-1][j], dp[i-1][j-1]) + 1"
   ]
  },
  {
   "cell_type": "code",
   "execution_count": 2,
   "metadata": {},
   "outputs": [
    {
     "name": "stdout",
     "output_type": "stream",
     "text": [
      "01011000\n",
      "10110100\n",
      "01100110\n",
      "10111111\n",
      "00111110\n",
      "00111111\n",
      "11111111\n",
      "10111110\n",
      "00011000\n",
      "\n",
      "[0, 1, 0, 1, 1, 0, 0, 0]\n",
      "[1, 0, 1, 1, 0, 1, 0, 0]\n",
      "[0, 1, 1, 0, 0, 1, 1, 0]\n",
      "[1, 0, 1, 1, 1, 1, 2, 1]\n",
      "[0, 0, 1, 2, 2, 2, 2, 0]\n",
      "[0, 0, 1, 2, 3, 3, 3, 1]\n",
      "[1, 1, 1, 2, 3, 4, 4, 2]\n",
      "[1, 0, 1, 2, 3, 4, 5, 0]\n",
      "[0, 0, 0, 1, 2, 0, 0, 0]\n"
     ]
    }
   ],
   "source": [
    "for row in arr:\n",
    "    print(row)\n",
    "print()\n",
    "\n",
    "for row in dp:\n",
    "    print(row)"
   ]
  },
  {
   "cell_type": "code",
   "execution_count": 3,
   "metadata": {},
   "outputs": [
    {
     "name": "stdout",
     "output_type": "stream",
     "text": [
      "한변의 길이 : 5,  사각형의 넓이 : 25\n"
     ]
    }
   ],
   "source": [
    "ans = 0\n",
    "for i in range(n):\n",
    "    for j in range(m):\n",
    "        ans = max(ans, dp[i][j])\n",
    "\n",
    "print(f\"한변의 길이 : {ans},  사각형의 넓이 : {ans ** 2}\")"
   ]
  }
 ],
 "metadata": {
  "kernelspec": {
   "display_name": "base",
   "language": "python",
   "name": "python3"
  },
  "language_info": {
   "codemirror_mode": {
    "name": "ipython",
    "version": 3
   },
   "file_extension": ".py",
   "mimetype": "text/x-python",
   "name": "python",
   "nbconvert_exporter": "python",
   "pygments_lexer": "ipython3",
   "version": "3.9.12"
  },
  "orig_nbformat": 4
 },
 "nbformat": 4,
 "nbformat_minor": 2
}
