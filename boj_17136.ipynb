{
 "cells": [
  {
   "cell_type": "code",
   "execution_count": 26,
   "metadata": {},
   "outputs": [
    {
     "name": "stdout",
     "output_type": "stream",
     "text": [
      "{5: 1, 4: 1, 2: 1, 3: 1, 1: 1}\n",
      "5\n"
     ]
    }
   ],
   "source": [
    "input = open(\"data/boj_17136.txt\", \"r\").readline\n",
    "\n",
    "arr = [input().split() for _ in range(10)]\n",
    "dp = [[[0, i, j, False] for j in range(len(arr[0]))] for i in range(10)]\n",
    "\n",
    "for i in range(len(arr[0])):\n",
    "    if arr[0][i] == \"1\":\n",
    "        dp[0][i][0] = 1\n",
    "        \n",
    "for i in range(1, 10):\n",
    "    if arr[i][0] == \"1\":\n",
    "        dp[i][0][0] = 1\n",
    "    for j in range(1, len(arr[0])):\n",
    "        if arr[i][j] == \"1\":\n",
    "            dp[i][j][0] = min(dp[i][j-1][0], dp[i-1][j][0], dp[i-1][j-1][0]) + 1\n",
    "            if dp[i][j][0] >= 5:\n",
    "                dp[i][j][0] = 5\n",
    "                \n",
    "size = 5\n",
    "while size >=1:\n",
    "    for i in range(10):\n",
    "        for j in range(len(dp[0])):\n",
    "            if dp[i][j][0] == size and not dp[i][j][3]:\n",
    "                sum = 0\n",
    "                for k in range(size-1, -1, -1):\n",
    "                    for l in range(size-1, -1, -1):\n",
    "                        if not dp[i-k][j-l][3] and dp[i-k][j-l][0] != 0:\n",
    "                            sum += 1\n",
    "                #print(f\"(i, j) : ({i}, {j}),  sum : {sum}\")\n",
    "                \n",
    "                \n",
    "                if sum == size ** 2:\n",
    "                    dp[i][j][3] = True                                             \n",
    "                    for k in range(size-1, -1, -1):\n",
    "                        for l in range(size-1, -1, -1):\n",
    "                            if not(k==0 and l==0):\n",
    "                                dp[i-k][j-l][0] = 0\n",
    "                else:\n",
    "                    dp[i][j][0] -= 1                        \n",
    "    size -= 1  \n",
    "\n",
    "\n",
    "box_dict = {}\n",
    "for i in range(10):\n",
    "    for j in range(len(dp[0])):\n",
    "        if dp[i][j][0] > 0:\n",
    "            if dp[i][j][0] not in box_dict:\n",
    "                box_dict[dp[i][j][0]] = 1\n",
    "            else:\n",
    "                box_dict[dp[i][j][0]] += 1\n",
    "                \n",
    "print(box_dict)\n",
    "\n",
    "sum = 0\n",
    "if any([x <= 5 for x in box_dict.values()]):\n",
    "    for i in range(len(dp)):\n",
    "        for j in range(len(dp[i])):\n",
    "            if dp[i][j][0] != 0:\n",
    "                sum += 1\n",
    "elif not box_dict:\n",
    "    sum = 0\n",
    "else:\n",
    "    sum = -1 \n",
    "print(sum)"
   ]
  },
  {
   "cell_type": "code",
   "execution_count": 27,
   "metadata": {},
   "outputs": [
    {
     "name": "stdout",
     "output_type": "stream",
     "text": [
      "0 0 0 0 0 0 0 0 0 0 \n",
      "0 0 0 0 0 0 0 0 0 0 \n",
      "0 0 0 0 0 0 0 0 0 0 \n",
      "0 0 0 0 0 0 0 0 0 0 \n",
      "0 0 0 0 0 0 0 0 0 0 \n",
      "0 0 0 0 5 0 0 0 0 4 \n",
      "0 0 0 0 0 0 0 0 0 0 \n",
      "0 0 0 0 0 0 0 0 0 0 \n",
      "0 0 0 0 0 0 2 0 0 0 \n",
      "0 0 0 3 0 0 0 0 0 1 \n"
     ]
    }
   ],
   "source": [
    "for i in range(10):\n",
    "    for j in range(len(dp[0])):\n",
    "        print(dp[i][j][0], end=\" \")\n",
    "    print()"
   ]
  },
  {
   "cell_type": "code",
   "execution_count": 28,
   "metadata": {},
   "outputs": [
    {
     "name": "stdout",
     "output_type": "stream",
     "text": [
      "False False False False False False False False False False \n",
      "False False False False False False False False False False \n",
      "False False False False False False False False False False \n",
      "False False False False False False False False False False \n",
      "False False False False False False False False False False \n",
      "False False False False True False False False False True \n",
      "False False False False False False False False False False \n",
      "False False False False False False False False False False \n",
      "False False False False False False True False False False \n",
      "False False False True False False False False False True \n"
     ]
    }
   ],
   "source": [
    "for i in range(10):\n",
    "    for j in range(len(dp[0])):\n",
    "        print(dp[i][j][3], end=\" \")\n",
    "    print()"
   ]
  }
 ],
 "metadata": {
  "kernelspec": {
   "display_name": "base",
   "language": "python",
   "name": "python3"
  },
  "language_info": {
   "codemirror_mode": {
    "name": "ipython",
    "version": 3
   },
   "file_extension": ".py",
   "mimetype": "text/x-python",
   "name": "python",
   "nbconvert_exporter": "python",
   "pygments_lexer": "ipython3",
   "version": "3.9.12"
  },
  "orig_nbformat": 4
 },
 "nbformat": 4,
 "nbformat_minor": 2
}
