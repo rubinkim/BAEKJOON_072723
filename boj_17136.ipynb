{
 "cells": [
  {
   "cell_type": "code",
   "execution_count": 2,
   "metadata": {},
   "outputs": [
    {
     "name": "stdout",
     "output_type": "stream",
     "text": [
      "['1', '1', '1', '1', '1', '1', '1', '1', '1', '1']\n",
      "['1', '1', '1', '1', '1', '1', '1', '1', '1', '1']\n",
      "['1', '1', '1', '1', '1', '1', '1', '1', '1', '1']\n",
      "['1', '1', '1', '1', '1', '1', '1', '1', '1', '1']\n",
      "['1', '1', '1', '1', '1', '1', '1', '1', '1', '1']\n",
      "['1', '1', '1', '1', '1', '1', '1', '1', '1', '1']\n",
      "['1', '1', '1', '1', '1', '1', '1', '1', '1', '1']\n",
      "['1', '1', '1', '1', '1', '1', '1', '1', '1', '1']\n",
      "['1', '1', '1', '1', '1', '1', '1', '1', '1', '1']\n",
      "['1', '1', '1', '1', '1', '1', '1', '1', '1', '1']\n",
      "\n",
      "[[0, 0, 0, False], [0, 0, 1, False], [0, 0, 2, False], [0, 0, 3, False], [0, 0, 4, False], [0, 0, 5, False], [0, 0, 6, False], [0, 0, 7, False], [0, 0, 8, False], [0, 0, 9, False]]\n",
      "[[0, 1, 0, False], [0, 1, 1, False], [0, 1, 2, False], [0, 1, 3, False], [0, 1, 4, False], [0, 1, 5, False], [0, 1, 6, False], [0, 1, 7, False], [0, 1, 8, False], [0, 1, 9, False]]\n",
      "[[0, 2, 0, False], [0, 2, 1, False], [0, 2, 2, False], [0, 2, 3, False], [0, 2, 4, False], [0, 2, 5, False], [0, 2, 6, False], [0, 2, 7, False], [0, 2, 8, False], [0, 2, 9, False]]\n",
      "[[0, 3, 0, False], [0, 3, 1, False], [0, 3, 2, False], [0, 3, 3, False], [0, 3, 4, False], [0, 3, 5, False], [0, 3, 6, False], [0, 3, 7, False], [0, 3, 8, False], [0, 3, 9, False]]\n",
      "[[0, 4, 0, False], [0, 4, 1, False], [0, 4, 2, False], [0, 4, 3, False], [0, 4, 4, False], [0, 4, 5, False], [0, 4, 6, False], [0, 4, 7, False], [0, 4, 8, False], [0, 4, 9, False]]\n",
      "[[0, 5, 0, False], [0, 5, 1, False], [0, 5, 2, False], [0, 5, 3, False], [0, 5, 4, False], [0, 5, 5, False], [0, 5, 6, False], [0, 5, 7, False], [0, 5, 8, False], [0, 5, 9, False]]\n",
      "[[0, 6, 0, False], [0, 6, 1, False], [0, 6, 2, False], [0, 6, 3, False], [0, 6, 4, False], [0, 6, 5, False], [0, 6, 6, False], [0, 6, 7, False], [0, 6, 8, False], [0, 6, 9, False]]\n",
      "[[0, 7, 0, False], [0, 7, 1, False], [0, 7, 2, False], [0, 7, 3, False], [0, 7, 4, False], [0, 7, 5, False], [0, 7, 6, False], [0, 7, 7, False], [0, 7, 8, False], [0, 7, 9, False]]\n",
      "[[0, 8, 0, False], [0, 8, 1, False], [0, 8, 2, False], [0, 8, 3, False], [0, 8, 4, False], [0, 8, 5, False], [0, 8, 6, False], [0, 8, 7, False], [0, 8, 8, False], [0, 8, 9, False]]\n",
      "[[0, 9, 0, False], [0, 9, 1, False], [0, 9, 2, False], [0, 9, 3, False], [0, 9, 4, False], [0, 9, 5, False], [0, 9, 6, False], [0, 9, 7, False], [0, 9, 8, False], [0, 9, 9, False]]\n"
     ]
    }
   ],
   "source": [
    "input = open(\"data/boj_17136.txt\", \"r\").readline\n",
    "\n",
    "\n",
    "arr = [input().split() for _ in range(10)]\n",
    "dp = [[[0, i, j, False] for j in range(len(arr[0]))] for i in range(10)]\n",
    "\n",
    "for row in arr:\n",
    "    print(row)\n",
    "print()\n",
    "\n",
    "for row in dp:\n",
    "    print(row)"
   ]
  },
  {
   "cell_type": "code",
   "execution_count": null,
   "metadata": {},
   "outputs": [],
   "source": [
    "arr = [input().split() for _ in range(10)]\n",
    "dp = [[[0, i, j, False] for j in range(len(arr[0]))] for i in range(10)]\n",
    "\n",
    "for row in arr:\n",
    "    print(row)\n",
    "print()\n",
    "\n",
    "for row in dp:\n",
    "    print(row)"
   ]
  },
  {
   "cell_type": "code",
   "execution_count": null,
   "metadata": {},
   "outputs": [],
   "source": []
  },
  {
   "cell_type": "code",
   "execution_count": 2,
   "metadata": {},
   "outputs": [],
   "source": [
    "dp = [[[0, i, j, False] for j in range(len(arr[0]))] for i in range(10)]\n",
    "dp_new = [[[0, i, j, False] for j in range(len(arr[0]))] for i in range(10)]"
   ]
  },
  {
   "cell_type": "code",
   "execution_count": 4,
   "metadata": {},
   "outputs": [],
   "source": [
    "for i in range(len(arr[0])):\n",
    "    if arr[0][i] == \"1\":\n",
    "        dp[0][i][0] = 1\n",
    "        \n",
    "for i in range(len(arr[0])):\n",
    "    if arr[0][i] == \"1\":\n",
    "        dp_new[0][i][0] = 1"
   ]
  },
  {
   "cell_type": "code",
   "execution_count": 5,
   "metadata": {},
   "outputs": [],
   "source": [
    "for i in range(1, 10):\n",
    "    if arr[i][0] == \"1\":\n",
    "        dp[i][0][0] = 1\n",
    "    for j in range(1, len(arr[0])):\n",
    "        if arr[i][j] == \"1\":\n",
    "            dp[i][j][0] = min(dp[i][j-1][0], dp[i-1][j][0], dp[i-1][j-1][0]) + 1\n",
    "            if dp[i][j][0] >= 5:\n",
    "                dp[i][j][0] = 5\n",
    "            \n",
    "for i in range(1, 10):\n",
    "    if arr[i][0] == \"1\":\n",
    "        dp_new[i][0][0] = 1\n",
    "    for j in range(1, len(arr[0])):\n",
    "        if arr[i][j] == \"1\":\n",
    "            dp_new[i][j][0] = min(dp_new[i][j-1][0], dp_new[i-1][j][0], dp_new[i-1][j-1][0]) + 1\n",
    "            if dp_new[i][j][0] >= 5:\n",
    "                dp_new[i][j][0] = 5"
   ]
  },
  {
   "cell_type": "code",
   "execution_count": 6,
   "metadata": {},
   "outputs": [
    {
     "name": "stdout",
     "output_type": "stream",
     "text": [
      "['1', '1', '1', '1', '1', '1', '1', '1', '1', '1']\n",
      "['1', '1', '1', '1', '1', '1', '1', '1', '1', '1']\n",
      "['1', '1', '1', '1', '1', '1', '1', '1', '1', '1']\n",
      "['1', '1', '1', '1', '1', '1', '1', '1', '1', '1']\n",
      "['1', '1', '1', '1', '1', '1', '1', '1', '1', '1']\n",
      "['1', '1', '1', '1', '1', '1', '1', '1', '1', '1']\n",
      "['1', '1', '1', '1', '1', '1', '1', '1', '1', '1']\n",
      "['1', '1', '1', '1', '1', '1', '1', '1', '1', '1']\n",
      "['1', '1', '1', '1', '1', '1', '1', '1', '1', '1']\n",
      "['1', '1', '1', '1', '1', '1', '1', '1', '1', '1']\n"
     ]
    }
   ],
   "source": [
    "for row in arr:\n",
    "    print(row)"
   ]
  },
  {
   "cell_type": "code",
   "execution_count": 7,
   "metadata": {},
   "outputs": [
    {
     "name": "stdout",
     "output_type": "stream",
     "text": [
      "1 1 1 1 1 1 1 1 1 1 \n",
      "1 2 2 2 2 2 2 2 2 2 \n",
      "1 2 3 3 3 3 3 3 3 3 \n",
      "1 2 3 4 4 4 4 4 4 4 \n",
      "1 2 3 4 5 5 5 5 5 5 \n",
      "1 2 3 4 5 5 5 5 5 5 \n",
      "1 2 3 4 5 5 5 5 5 5 \n",
      "1 2 3 4 5 5 5 5 5 5 \n",
      "1 2 3 4 5 5 5 5 5 5 \n",
      "1 2 3 4 5 5 5 5 5 5 \n"
     ]
    }
   ],
   "source": [
    "for i in range(10):\n",
    "    for j in range(len(dp[0])):\n",
    "        print(dp[i][j][0], end=\" \")\n",
    "    print()"
   ]
  },
  {
   "cell_type": "code",
   "execution_count": 8,
   "metadata": {},
   "outputs": [
    {
     "name": "stdout",
     "output_type": "stream",
     "text": [
      "[[1, 0, 0, False], [1, 0, 1, False], [1, 0, 2, False], [1, 0, 3, False], [1, 0, 4, False], [1, 0, 5, False], [1, 0, 6, False], [1, 0, 7, False], [1, 0, 8, False], [1, 0, 9, False]]\n",
      "[[1, 1, 0, False], [2, 1, 1, False], [2, 1, 2, False], [2, 1, 3, False], [2, 1, 4, False], [2, 1, 5, False], [2, 1, 6, False], [2, 1, 7, False], [2, 1, 8, False], [2, 1, 9, False]]\n",
      "[[1, 2, 0, False], [2, 2, 1, False], [3, 2, 2, False], [3, 2, 3, False], [3, 2, 4, False], [3, 2, 5, False], [3, 2, 6, False], [3, 2, 7, False], [3, 2, 8, False], [3, 2, 9, False]]\n",
      "[[1, 3, 0, False], [2, 3, 1, False], [3, 3, 2, False], [4, 3, 3, False], [4, 3, 4, False], [4, 3, 5, False], [4, 3, 6, False], [4, 3, 7, False], [4, 3, 8, False], [4, 3, 9, False]]\n",
      "[[1, 4, 0, False], [2, 4, 1, False], [3, 4, 2, False], [4, 4, 3, False], [5, 4, 4, False], [5, 4, 5, False], [5, 4, 6, False], [5, 4, 7, False], [5, 4, 8, False], [5, 4, 9, False]]\n",
      "[[1, 5, 0, False], [2, 5, 1, False], [3, 5, 2, False], [4, 5, 3, False], [5, 5, 4, False], [5, 5, 5, False], [5, 5, 6, False], [5, 5, 7, False], [5, 5, 8, False], [5, 5, 9, False]]\n",
      "[[1, 6, 0, False], [2, 6, 1, False], [3, 6, 2, False], [4, 6, 3, False], [5, 6, 4, False], [5, 6, 5, False], [5, 6, 6, False], [5, 6, 7, False], [5, 6, 8, False], [5, 6, 9, False]]\n",
      "[[1, 7, 0, False], [2, 7, 1, False], [3, 7, 2, False], [4, 7, 3, False], [5, 7, 4, False], [5, 7, 5, False], [5, 7, 6, False], [5, 7, 7, False], [5, 7, 8, False], [5, 7, 9, False]]\n",
      "[[1, 8, 0, False], [2, 8, 1, False], [3, 8, 2, False], [4, 8, 3, False], [5, 8, 4, False], [5, 8, 5, False], [5, 8, 6, False], [5, 8, 7, False], [5, 8, 8, False], [5, 8, 9, False]]\n",
      "[[1, 9, 0, False], [2, 9, 1, False], [3, 9, 2, False], [4, 9, 3, False], [5, 9, 4, False], [5, 9, 5, False], [5, 9, 6, False], [5, 9, 7, False], [5, 9, 8, False], [5, 9, 9, False]]\n"
     ]
    }
   ],
   "source": [
    "for row in dp_new:\n",
    "    print(row)"
   ]
  },
  {
   "cell_type": "code",
   "execution_count": 9,
   "metadata": {},
   "outputs": [
    {
     "name": "stdout",
     "output_type": "stream",
     "text": [
      "1 1 1 1 1 1 1 1 1 1 \n",
      "1 2 2 2 2 2 2 2 2 2 \n",
      "1 2 3 3 3 3 3 3 3 3 \n",
      "1 2 3 4 4 4 4 4 4 4 \n",
      "1 2 3 4 5 5 5 5 5 5 \n",
      "1 2 3 4 5 5 5 5 5 5 \n",
      "1 2 3 4 5 5 5 5 5 5 \n",
      "1 2 3 4 5 5 5 5 5 5 \n",
      "1 2 3 4 5 5 5 5 5 5 \n",
      "1 2 3 4 5 5 5 5 5 5 \n"
     ]
    }
   ],
   "source": [
    "for i in range(10):\n",
    "    for j in range(len(dp_new[0])):\n",
    "        print(dp_new[i][j][0], end=\" \")\n",
    "    print()"
   ]
  },
  {
   "cell_type": "code",
   "execution_count": 10,
   "metadata": {},
   "outputs": [
    {
     "name": "stdout",
     "output_type": "stream",
     "text": [
      "False False False False False False False False False False \n",
      "False False False False False False False False False False \n",
      "False False False False False False False False False False \n",
      "False False False False False False False False False False \n",
      "False False False False False False False False False False \n",
      "False False False False False False False False False False \n",
      "False False False False False False False False False False \n",
      "False False False False False False False False False False \n",
      "False False False False False False False False False False \n",
      "False False False False False False False False False False \n"
     ]
    }
   ],
   "source": [
    "for i in range(10):\n",
    "    for j in range(len(dp_new[0])):\n",
    "        \n",
    "        print(dp_new[i][j][3], end=\" \")\n",
    "    print()"
   ]
  },
  {
   "cell_type": "code",
   "execution_count": null,
   "metadata": {},
   "outputs": [],
   "source": []
  },
  {
   "cell_type": "code",
   "execution_count": null,
   "metadata": {},
   "outputs": [],
   "source": []
  },
  {
   "cell_type": "code",
   "execution_count": null,
   "metadata": {},
   "outputs": [],
   "source": []
  },
  {
   "cell_type": "code",
   "execution_count": null,
   "metadata": {},
   "outputs": [],
   "source": []
  },
  {
   "cell_type": "code",
   "execution_count": null,
   "metadata": {},
   "outputs": [],
   "source": []
  },
  {
   "cell_type": "code",
   "execution_count": null,
   "metadata": {},
   "outputs": [],
   "source": [
    "size = 5\n",
    "box_dict = {}\n",
    "\n",
    "while size >=1:\n",
    "    for i in range(10):\n",
    "        for j in range(len(dp[0])):\n",
    "            sum = 0            \n",
    "            if dp[i][j][0] == size:                \n",
    "                for k in range(size-1, -1, -1):\n",
    "                    for l in range(size-1, -1, -1):\n",
    "                        if not dp[i-k][j-k][3]:\n",
    "                            sum += 1 \n",
    "                            #print(f\"size : {size},  i-k : {i-k},  j-l : {j-l},  {dp_new[i-k][j-l][3]}\")\n",
    "                    #print()            \n",
    "                               \n",
    "            if sum == size ** 2:\n",
    "                if size not in box_dict.keys():\n",
    "                    box_dict[size] = 1\n",
    "                else:\n",
    "                    box_dict[size] += 1\n",
    "                \n",
    "                if box_dict[size] <= 5:                    \n",
    "                    #print(f\"sum : {sum}, i : {i},  j :{j}\")                \n",
    "                    for k in range(size-1, -1, -1):\n",
    "                        for l in range(size-1, -1, -1):\n",
    "                            dp[i-k][j-l][3] = True                            \n",
    "                            if not(k==0 and l==0) :                      \n",
    "                                dp[i-k][j-l][0] = 0              \n",
    "                                        \n",
    "    size -= 1            "
   ]
  },
  {
   "cell_type": "code",
   "execution_count": 25,
   "metadata": {},
   "outputs": [
    {
     "name": "stdout",
     "output_type": "stream",
     "text": [
      "-1\n"
     ]
    }
   ],
   "source": [
    "sum = 0\n",
    "if any([x <= 5 for x in box_dict.values()]):\n",
    "    for i in range(len(dp)):\n",
    "        for j in range(len(dp[i])):\n",
    "            if dp[i][j][0] != 0:\n",
    "                sum += 1\n",
    "elif not box_dict:\n",
    "    sum = 0\n",
    "else:\n",
    "    sum = -1"
   ]
  },
  {
   "cell_type": "code",
   "execution_count": null,
   "metadata": {},
   "outputs": [],
   "source": []
  },
  {
   "cell_type": "code",
   "execution_count": null,
   "metadata": {},
   "outputs": [],
   "source": []
  },
  {
   "cell_type": "code",
   "execution_count": null,
   "metadata": {},
   "outputs": [],
   "source": []
  },
  {
   "cell_type": "code",
   "execution_count": null,
   "metadata": {},
   "outputs": [],
   "source": []
  },
  {
   "cell_type": "code",
   "execution_count": null,
   "metadata": {},
   "outputs": [],
   "source": [
    "for i in range(10):\n",
    "    for j in range(len(dp_new[0])):\n",
    "        print(dp_new[i][j][0], end=\" \")\n",
    "    print()"
   ]
  },
  {
   "cell_type": "code",
   "execution_count": 2,
   "metadata": {},
   "outputs": [
    {
     "name": "stdout",
     "output_type": "stream",
     "text": [
      "-1\n"
     ]
    }
   ],
   "source": [
    "input = open(\"data/boj_17136.txt\", \"r\").readline\n",
    "arr = [input().split() for _ in range(10)]\n",
    "dp = [[[0, i, j, False] for j in range(len(arr[0]))] for i in range(10)]\n",
    "\n",
    "for i in range(len(arr[0])):\n",
    "    if arr[0][i] == \"1\":\n",
    "        dp[0][i][0] = 1\n",
    "        \n",
    "for i in range(1, 10):\n",
    "    if arr[i][0] == \"1\":\n",
    "        dp[i][0][0] = 1\n",
    "    for j in range(1, len(arr[0])):\n",
    "        if arr[i][j] == \"1\":\n",
    "            dp[i][j][0] = min(dp[i][j-1][0], dp[i-1][j][0], dp[i-1][j-1][0]) + 1\n",
    "            if dp[i][j][0] >= 5:\n",
    "                dp[i][j][0] = 5\n",
    "                \n",
    "size = 5\n",
    "box_dict = {}\n",
    "\n",
    "while size >=1:\n",
    "    for i in range(10):\n",
    "        for j in range(len(dp[0])):\n",
    "            sum = 0            \n",
    "            if dp[i][j][0] == size:                \n",
    "                for k in range(size-1, -1, -1):\n",
    "                    for l in range(size-1, -1, -1):\n",
    "                        if not dp[i-k][j-k][3]:\n",
    "                            sum += 1 \n",
    "                            #print(f\"size : {size},  i-k : {i-k},  j-l : {j-l},  {dp_new[i-k][j-l][3]}\")\n",
    "                    #print()            \n",
    "                               \n",
    "            if sum == size ** 2:\n",
    "                if size not in box_dict.keys():\n",
    "                    box_dict[size] = 1\n",
    "                else:\n",
    "                    box_dict[size] += 1\n",
    "                \n",
    "                if box_dict[size] <= 5:                    \n",
    "                    #print(f\"sum : {sum}, i : {i},  j :{j}\")                \n",
    "                    for k in range(size-1, -1, -1):\n",
    "                        for l in range(size-1, -1, -1):\n",
    "                            dp[i-k][j-l][3] = True                            \n",
    "                            if not(k==0 and l==0) :                      \n",
    "                                dp[i-k][j-l][0] = 0              \n",
    "                                        \n",
    "    size -= 1  \n",
    "    \n",
    "sum = 0\n",
    "if any([x <= 5 for x in box_dict.values()]):\n",
    "    for i in range(len(dp)):\n",
    "        for j in range(len(dp[i])):\n",
    "            if dp[i][j][0] != 0:\n",
    "                sum += 1\n",
    "elif not box_dict:\n",
    "    sum = 0\n",
    "else:\n",
    "    sum = -1\n",
    "        \n",
    "print(sum)         "
   ]
  },
  {
   "cell_type": "code",
   "execution_count": 7,
   "metadata": {},
   "outputs": [
    {
     "data": {
      "text/plain": [
       "{}"
      ]
     },
     "execution_count": 7,
     "metadata": {},
     "output_type": "execute_result"
    }
   ],
   "source": [
    "arr = [input().split() for _ in range(10)]\n",
    "dp = [[[0, i, j, False] for j in range(len(arr[0]))] for i in range(10)]\n",
    "\n",
    "for i in range(len(arr[0])):\n",
    "    if arr[0][i] == \"1\":\n",
    "        dp[0][i][0] = 1\n",
    "        \n",
    "for i in range(1, 10):\n",
    "    if arr[i][0] == \"1\":\n",
    "        dp[i][0][0] = 1\n",
    "    for j in range(1, len(arr[0])):\n",
    "        if arr[i][j] == \"1\":\n",
    "            dp[i][j][0] = min(dp[i][j-1][0], dp[i-1][j][0], dp[i-1][j-1][0]) + 1\n",
    "            if dp[i][j][0] >= 5:\n",
    "                dp[i][j][0] = 5\n",
    "                \n",
    "size = 5\n",
    "box_dict = {}\n",
    "\n",
    "while size >=1:\n",
    "    for i in range(10):\n",
    "        for j in range(len(dp[0])):\n",
    "            sum = 0            \n",
    "            if dp[i][j][0] == size:                \n",
    "                for k in range(size-1, -1, -1):\n",
    "                    for l in range(size-1, -1, -1):\n",
    "                        if not dp[i-k][j-k][3]:\n",
    "                            sum += 1 \n",
    "                            #print(f\"size : {size},  i-k : {i-k},  j-l : {j-l},  {dp_new[i-k][j-l][3]}\")\n",
    "                    #print()            \n",
    "                               \n",
    "            if sum == size ** 2:\n",
    "                if size not in box_dict.keys():\n",
    "                    box_dict[size] = 1\n",
    "                else:\n",
    "                    box_dict[size] += 1\n",
    "                \n",
    "                if box_dict[size] <= 5:                    \n",
    "                    #print(f\"sum : {sum}, i : {i},  j :{j}\")                \n",
    "                    for k in range(size-1, -1, -1):\n",
    "                        for l in range(size-1, -1, -1):\n",
    "                            dp[i-k][j-l][3] = True                            \n",
    "                            if not(k==0 and l==0) :                      \n",
    "                                dp[i-k][j-l][0] = 0              \n",
    "                                        \n",
    "    size -= 1  \n",
    "    \n",
    "sum = 0\n",
    "if any([x <= 5 for x in box_dict.values()]):\n",
    "    for i in range(len(dp)):\n",
    "        for j in range(len(dp[i])):\n",
    "            if dp[i][j][0] != 0:\n",
    "                sum += 1\n",
    "elif not box_dict:\n",
    "    sum = 0\n",
    "else:\n",
    "    sum = -1\n",
    "        \n",
    "print(sum)         "
   ]
  },
  {
   "cell_type": "code",
   "execution_count": null,
   "metadata": {},
   "outputs": [],
   "source": []
  },
  {
   "cell_type": "code",
   "execution_count": null,
   "metadata": {},
   "outputs": [],
   "source": []
  },
  {
   "cell_type": "code",
   "execution_count": null,
   "metadata": {},
   "outputs": [],
   "source": []
  },
  {
   "cell_type": "code",
   "execution_count": null,
   "metadata": {},
   "outputs": [],
   "source": [
    "size = 5\n",
    "box_dict = {}\n",
    "\n",
    "while size >=1:\n",
    "    for i in range(10):\n",
    "        for j in range(len(dp[0])):\n",
    "            sum = 0            \n",
    "            if dp[i][j][0] == size:                \n",
    "                for k in range(size-1, -1, -1):\n",
    "                    for l in range(size-1, -1, -1):\n",
    "                        if not dp[i-k][j-k][3]:\n",
    "                            sum += 1 \n",
    "                            #print(f\"size : {size},  i-k : {i-k},  j-l : {j-l},  {dp_new[i-k][j-l][3]}\")\n",
    "                    #print()            \n",
    "                               \n",
    "            if sum == size ** 2:\n",
    "                if size not in box_dict.keys():\n",
    "                    box_dict[size] = 1\n",
    "                else:\n",
    "                    box_dict[size] += 1\n",
    "                \n",
    "                if box_dict[size] <= 5:                    \n",
    "                    #print(f\"sum : {sum}, i : {i},  j :{j}\")                \n",
    "                    for k in range(size-1, -1, -1):\n",
    "                        for l in range(size-1, -1, -1):\n",
    "                            dp[i-k][j-l][3] = True                            \n",
    "                            if not(k==0 and l==0) :                      \n",
    "                                dp[i-k][j-l][0] = 0              \n",
    "                                        \n",
    "    size -= 1            "
   ]
  }
 ],
 "metadata": {
  "kernelspec": {
   "display_name": "base",
   "language": "python",
   "name": "python3"
  },
  "language_info": {
   "codemirror_mode": {
    "name": "ipython",
    "version": 3
   },
   "file_extension": ".py",
   "mimetype": "text/x-python",
   "name": "python",
   "nbconvert_exporter": "python",
   "pygments_lexer": "ipython3",
   "version": "3.9.12"
  },
  "orig_nbformat": 4
 },
 "nbformat": 4,
 "nbformat_minor": 2
}
