{
 "cells": [
  {
   "cell_type": "code",
   "execution_count": 2,
   "metadata": {},
   "outputs": [
    {
     "name": "stdout",
     "output_type": "stream",
     "text": [
      "[9, 8]\n",
      "[1011000]\n",
      "[10110100]\n",
      "[1100110]\n",
      "[10111111]\n",
      "[111110]\n",
      "[111111]\n",
      "[11111111]\n",
      "[10111110]\n",
      "[11000]\n",
      "\n",
      "(0, 0, 0, False)\n",
      "(0, 1, 0, False)\n",
      "(0, 2, 0, False)\n",
      "(0, 3, 0, False)\n",
      "(0, 4, 0, False)\n",
      "(0, 5, 0, False)\n",
      "(0, 6, 0, False)\n",
      "(0, 7, 0, False)\n",
      "(0, 8, 0, False)\n",
      "(0, 9, 0, False)\n",
      "(0, 0, 1, False)\n",
      "(0, 1, 1, False)\n",
      "(0, 2, 1, False)\n",
      "(0, 3, 1, False)\n",
      "(0, 4, 1, False)\n",
      "(0, 5, 1, False)\n",
      "(0, 6, 1, False)\n",
      "(0, 7, 1, False)\n",
      "(0, 8, 1, False)\n",
      "(0, 9, 1, False)\n"
     ]
    }
   ],
   "source": [
    "arr = [list(map(int, input().split())) for _ in range(10)]\n",
    "dp = [[(0, i, j, False) for j in range(len(arr[0]))] for i in range(10)]\n",
    "\n",
    "for row in arr:\n",
    "    print(row)\n",
    "print()\n",
    "\n",
    "for row in dp:\n",
    "    print(row)"
   ]
  },
  {
   "cell_type": "code",
   "execution_count": 6,
   "metadata": {},
   "outputs": [
    {
     "ename": "IndexError",
     "evalue": "tuple index out of range",
     "output_type": "error",
     "traceback": [
      "\u001b[1;31m---------------------------------------------------------------------------\u001b[0m",
      "\u001b[1;31mIndexError\u001b[0m                                Traceback (most recent call last)",
      "\u001b[1;32me:\\BAEKJOON_072723\\boj_17136.ipynb Cell 2\u001b[0m in \u001b[0;36m<cell line: 1>\u001b[1;34m()\u001b[0m\n\u001b[1;32m----> <a href='vscode-notebook-cell:/e%3A/BAEKJOON_072723/boj_17136.ipynb#X12sZmlsZQ%3D%3D?line=0'>1</a>\u001b[0m dp[\u001b[39m1\u001b[39;49m][\u001b[39m10\u001b[39;49m]\n",
      "\u001b[1;31mIndexError\u001b[0m: tuple index out of range"
     ]
    }
   ],
   "source": [
    "dp[1][10]"
   ]
  },
  {
   "cell_type": "code",
   "execution_count": 44,
   "metadata": {},
   "outputs": [
    {
     "name": "stdout",
     "output_type": "stream",
     "text": [
      "[False, False, False, False, False, False, False, False, False, False]\n",
      "[False, False, False, False, False, False, False, False, False, False]\n",
      "[False, False, False, False, False, False, False, False, False, False]\n",
      "[False, False, False, False, False, False, False, False, False, False]\n",
      "[False, False, False, False, False, False, False, False, False, False]\n",
      "[False, False, False, False, False, False, False, False, False, False]\n",
      "[False, False, False, False, False, False, False, False, False, False]\n",
      "[False, False, False, False, False, False, False, False, False, False]\n",
      "[False, False, False, False, False, False, False, False, False, False]\n",
      "[False, False, False, False, False, False, False, False, False, False]\n"
     ]
    }
   ],
   "source": [
    "chk = [[False] * len(arr[0]) for _ in range(10)]\n",
    "\n",
    "for row in chk:\n",
    "    print(row)"
   ]
  },
  {
   "cell_type": "code",
   "execution_count": 37,
   "metadata": {},
   "outputs": [],
   "source": [
    "dp = [[0] * len(arr[0]) for _ in range(10)]"
   ]
  },
  {
   "cell_type": "code",
   "execution_count": 38,
   "metadata": {},
   "outputs": [],
   "source": [
    "for i in range(len(arr[0])):\n",
    "    if arr[0][i] == 1:\n",
    "        dp[0][i] = 1"
   ]
  },
  {
   "cell_type": "code",
   "execution_count": 39,
   "metadata": {},
   "outputs": [],
   "source": [
    "for i in range(1, 10):\n",
    "    if arr[i][0] == 1:\n",
    "        dp[i][0] = 1\n",
    "    for j in range(1, len(arr[0])):\n",
    "        if arr[i][j] == 1:\n",
    "            dp[i][j] = min(dp[i][j-1], dp[i-1][j], dp[i-1][j-1]) + 1"
   ]
  },
  {
   "cell_type": "code",
   "execution_count": 40,
   "metadata": {},
   "outputs": [
    {
     "name": "stdout",
     "output_type": "stream",
     "text": [
      "[0, 0, 0, 0, 0, 0, 0, 0, 0, 0]\n",
      "[0, 1, 1, 0, 0, 0, 0, 0, 0, 0]\n",
      "[0, 1, 1, 1, 0, 0, 0, 0, 0, 0]\n",
      "[0, 0, 1, 1, 1, 1, 1, 0, 0, 0]\n",
      "[0, 0, 0, 1, 1, 1, 1, 0, 0, 0]\n",
      "[0, 0, 0, 0, 1, 1, 1, 0, 0, 0]\n",
      "[0, 0, 1, 0, 0, 0, 0, 0, 0, 0]\n",
      "[0, 0, 0, 0, 0, 0, 0, 0, 0, 0]\n",
      "[0, 0, 0, 0, 0, 0, 0, 0, 0, 0]\n",
      "[0, 0, 0, 0, 0, 0, 0, 0, 0, 0]\n"
     ]
    }
   ],
   "source": [
    "for row in arr:\n",
    "    print(row)"
   ]
  },
  {
   "cell_type": "code",
   "execution_count": 41,
   "metadata": {},
   "outputs": [
    {
     "name": "stdout",
     "output_type": "stream",
     "text": [
      "[0, 0, 0, 0, 0, 0, 0, 0, 0, 0]\n",
      "[0, 1, 1, 0, 0, 0, 0, 0, 0, 0]\n",
      "[0, 1, 2, 1, 0, 0, 0, 0, 0, 0]\n",
      "[0, 0, 1, 2, 1, 1, 1, 0, 0, 0]\n",
      "[0, 0, 0, 1, 2, 2, 2, 0, 0, 0]\n",
      "[0, 0, 0, 0, 1, 2, 3, 0, 0, 0]\n",
      "[0, 0, 1, 0, 0, 0, 0, 0, 0, 0]\n",
      "[0, 0, 0, 0, 0, 0, 0, 0, 0, 0]\n",
      "[0, 0, 0, 0, 0, 0, 0, 0, 0, 0]\n",
      "[0, 0, 0, 0, 0, 0, 0, 0, 0, 0]\n"
     ]
    }
   ],
   "source": [
    "for row in dp:\n",
    "    print(row)"
   ]
  },
  {
   "cell_type": "code",
   "execution_count": 42,
   "metadata": {},
   "outputs": [],
   "source": [
    "for i in range(10):\n",
    "    for j in range(len(arr[0])):\n",
    "        if dp[i][j] == 2 and dp[i][j] > max(dp[i][j-1], dp[i-1][j], dp[i-1][j-1]):\n",
    "            dp[i][j-1] = dp[i-1][j] = dp[i-1][j-1] = 0\n",
    "        elif dp[i][j] == 2 and dp[i][j] <= max(dp[i][j-1], dp[i-1][j], dp[i-1][j-1]):\n",
    "            dp[i][j] -= 1\n",
    "        elif dp[i][j] == 3 and dp[i][j] > max(dp[i][j-2], dp[i][j-1], dp[i-1][j-2], dp[i-1][j-1], dp[i-1][j], dp[i-2][j-2], dp[i-2][j-1], dp[j-2][j]):\n",
    "            dp[i][j-2] = dp[i][j-1] = dp[i-1][j-2] = dp[i-1][j-1] = dp[i-1][j] = dp[i-2][j-2] = dp[i-2][j-1] = dp[j-2][j] = 0\n",
    "        elif dp[i][j] == 3 and dp[i][j] <= max(dp[i][j-2], dp[i][j-1], dp[i-1][j-2], dp[i-1][j-1], dp[i-1][j], dp[i-2][j-2], dp[i-2][j-1], dp[j-2][j]):\n",
    "            dp[i][j] -= 1"
   ]
  },
  {
   "cell_type": "code",
   "execution_count": 43,
   "metadata": {},
   "outputs": [
    {
     "name": "stdout",
     "output_type": "stream",
     "text": [
      "[0, 0, 0, 0, 0, 0, 0, 0, 0, 0]\n",
      "[0, 0, 0, 0, 0, 0, 0, 0, 0, 0]\n",
      "[0, 0, 2, 1, 0, 0, 0, 0, 0, 0]\n",
      "[0, 0, 1, 0, 0, 0, 0, 0, 0, 0]\n",
      "[0, 0, 0, 0, 0, 0, 0, 0, 0, 0]\n",
      "[0, 0, 0, 0, 0, 0, 3, 0, 0, 0]\n",
      "[0, 0, 1, 0, 0, 0, 0, 0, 0, 0]\n",
      "[0, 0, 0, 0, 0, 0, 0, 0, 0, 0]\n",
      "[0, 0, 0, 0, 0, 0, 0, 0, 0, 0]\n",
      "[0, 0, 0, 0, 0, 0, 0, 0, 0, 0]\n"
     ]
    }
   ],
   "source": [
    "for row in dp:\n",
    "    print(row)"
   ]
  }
 ],
 "metadata": {
  "kernelspec": {
   "display_name": "base",
   "language": "python",
   "name": "python3"
  },
  "language_info": {
   "codemirror_mode": {
    "name": "ipython",
    "version": 3
   },
   "file_extension": ".py",
   "mimetype": "text/x-python",
   "name": "python",
   "nbconvert_exporter": "python",
   "pygments_lexer": "ipython3",
   "version": "3.9.12"
  },
  "orig_nbformat": 4
 },
 "nbformat": 4,
 "nbformat_minor": 2
}
