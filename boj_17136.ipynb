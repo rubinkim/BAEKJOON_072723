{
 "cells": [
  {
   "cell_type": "code",
   "execution_count": 1,
   "metadata": {},
   "outputs": [
    {
     "name": "stdout",
     "output_type": "stream",
     "text": [
      "{1: 3, 4: 1, 3: 1, 5: 1}\n",
      "6\n"
     ]
    }
   ],
   "source": [
    "input = open(\"data/boj_17136.txt\", \"r\").readline\n",
    "\n",
    "arr = [input().split() for _ in range(10)]\n",
    "dp = [[[0, i, j, False] for j in range(len(arr[0]))] for i in range(10)]\n",
    "\n",
    "for i in range(len(arr[0])):\n",
    "    if arr[0][i] == \"1\":\n",
    "        dp[0][i][0] = 1\n",
    "        \n",
    "for i in range(1, 10):\n",
    "    if arr[i][0] == \"1\":\n",
    "        dp[i][0][0] = 1\n",
    "    for j in range(1, len(arr[0])):\n",
    "        if arr[i][j] == \"1\":\n",
    "            dp[i][j][0] = min(dp[i][j-1][0], dp[i-1][j][0], dp[i-1][j-1][0]) + 1\n",
    "            if dp[i][j][0] >= 5:\n",
    "                dp[i][j][0] = 5\n",
    "                \n",
    "size = 5\n",
    "while size >=1:\n",
    "    for i in range(10):\n",
    "        for j in range(len(dp[0])):\n",
    "            if dp[i][j][0] == size and not dp[i][j][3]:\n",
    "                sum = 0\n",
    "                for k in range(size-1, -1, -1):\n",
    "                    for l in range(size-1, -1, -1):\n",
    "                        if not dp[i-k][j-l][3] and dp[i-k][j-l][0] != 0:\n",
    "                            sum += 1\n",
    "                #print(f\"(i, j) : ({i}, {j}),  sum : {sum}\")\n",
    "                \n",
    "                \n",
    "                if sum == size ** 2:\n",
    "                    dp[i][j][3] = True                                             \n",
    "                    for k in range(size-1, -1, -1):\n",
    "                        for l in range(size-1, -1, -1):\n",
    "                            if not(k==0 and l==0):\n",
    "                                dp[i-k][j-l][0] = 0\n",
    "                else:\n",
    "                    dp[i][j][0] -= 1                        \n",
    "    size -= 1  \n",
    "\n",
    "\n",
    "box_dict = {}\n",
    "for i in range(10):\n",
    "    for j in range(len(dp[0])):\n",
    "        if dp[i][j][0] > 0:\n",
    "            if dp[i][j][0] not in box_dict:\n",
    "                box_dict[dp[i][j][0]] = 1\n",
    "            else:\n",
    "                box_dict[dp[i][j][0]] += 1\n",
    "                \n",
    "print(box_dict)\n",
    "\n",
    "sum = 0\n",
    "if all([x <= 5 for x in box_dict.values()]):\n",
    "    for i in range(len(dp)):\n",
    "        for j in range(len(dp[i])):\n",
    "            if dp[i][j][0] != 0:\n",
    "                sum += 1\n",
    "elif not box_dict:\n",
    "    sum = 0\n",
    "else:\n",
    "    sum = -1 \n",
    "print(sum)"
   ]
  },
  {
   "cell_type": "code",
   "execution_count": 27,
   "metadata": {},
   "outputs": [
    {
     "name": "stdout",
     "output_type": "stream",
     "text": [
      "0 0 0 0 0 0 0 0 0 0 \n",
      "0 0 0 0 0 0 0 0 0 0 \n",
      "0 0 0 0 0 0 0 0 0 0 \n",
      "0 0 0 0 0 0 0 0 0 0 \n",
      "0 0 0 0 0 0 0 0 0 0 \n",
      "0 0 0 0 5 0 0 0 0 4 \n",
      "0 0 0 0 0 0 0 0 0 0 \n",
      "0 0 0 0 0 0 0 0 0 0 \n",
      "0 0 0 0 0 0 2 0 0 0 \n",
      "0 0 0 3 0 0 0 0 0 1 \n"
     ]
    }
   ],
   "source": [
    "for i in range(10):\n",
    "    for j in range(len(dp[0])):\n",
    "        print(dp[i][j][0], end=\" \")\n",
    "    print()"
   ]
  },
  {
   "cell_type": "code",
   "execution_count": 28,
   "metadata": {},
   "outputs": [
    {
     "name": "stdout",
     "output_type": "stream",
     "text": [
      "False False False False False False False False False False \n",
      "False False False False False False False False False False \n",
      "False False False False False False False False False False \n",
      "False False False False False False False False False False \n",
      "False False False False False False False False False False \n",
      "False False False False True False False False False True \n",
      "False False False False False False False False False False \n",
      "False False False False False False False False False False \n",
      "False False False False False False True False False False \n",
      "False False False True False False False False False True \n"
     ]
    }
   ],
   "source": [
    "for i in range(10):\n",
    "    for j in range(len(dp[0])):\n",
    "        print(dp[i][j][3], end=\" \")\n",
    "    print()"
   ]
  },
  {
   "cell_type": "code",
   "execution_count": 4,
   "metadata": {},
   "outputs": [
    {
     "name": "stdout",
     "output_type": "stream",
     "text": [
      "{1: 3, 4: 1, 3: 1, 5: 1}\n",
      "6\n"
     ]
    }
   ],
   "source": [
    "input = open(\"data/boj_17136.txt\", \"r\").readline\n",
    "\n",
    "arr = [input().split() for _ in range(10)]\n",
    "dp = [[[0, i, j, False] for j in range(len(arr[0]))] for i in range(10)]\n",
    "\n",
    "for i in range(len(arr[0])):\n",
    "    if arr[0][i] == \"1\":\n",
    "        dp[0][i][0] = 1\n",
    "        \n",
    "for i in range(1, 10):\n",
    "    if arr[i][0] == \"1\":\n",
    "        dp[i][0][0] = 1\n",
    "    for j in range(1, len(arr[0])):\n",
    "        if arr[i][j] == \"1\":\n",
    "            dp[i][j][0] = min(dp[i][j-1][0], dp[i-1][j][0], dp[i-1][j-1][0]) + 1\n",
    "            if dp[i][j][0] >= 5:\n",
    "                dp[i][j][0] = 5\n",
    "                \n",
    "size = 5\n",
    "while size >=1:\n",
    "    for i in range(10):\n",
    "        for j in range(len(dp[0])):\n",
    "            if dp[i][j][0] == size and not dp[i][j][3]:\n",
    "                sum = 0\n",
    "                for k in range(size-1, -1, -1):\n",
    "                    for l in range(size-1, -1, -1):\n",
    "                        if not dp[i-k][j-l][3] and dp[i-k][j-l][0] != 0:\n",
    "                            sum += 1               \n",
    "                \n",
    "                if sum == size ** 2:                                                                \n",
    "                    for k in range(size-1, -1, -1):\n",
    "                        for l in range(size-1, -1, -1):\n",
    "                            dp[i-k][j-l][3] = True\n",
    "                            if not(k==0 and l==0):\n",
    "                                dp[i-k][j-l][0] = 0\n",
    "                                \n",
    "                else:\n",
    "                    dp[i][j][0] -= 1                        \n",
    "    size -= 1\n",
    "\n",
    "box_dict = {}\n",
    "for i in range(10):\n",
    "    for j in range(len(dp[0])):\n",
    "        if dp[i][j][0] > 0:\n",
    "            if dp[i][j][0] not in box_dict.keys():\n",
    "                box_dict[dp[i][j][0]] = 1\n",
    "            else:\n",
    "                box_dict[dp[i][j][0]] += 1\n",
    "print(box_dict)\n",
    "\n",
    "total = 0\n",
    "if all([x <= 5 for x in box_dict.values()]):\n",
    "    for i in range(len(dp)):\n",
    "        for j in range(len(dp[i])):\n",
    "            if dp[i][j][0] != 0:\n",
    "                total += 1\n",
    "elif len(box_dict) == 0:\n",
    "    total = 0\n",
    "elif any([x > 5 for x in box_dict.values()]):\n",
    "    total = -1 \n",
    "print(total)"
   ]
  },
  {
   "cell_type": "markdown",
   "metadata": {},
   "source": [
    "##### 정답 : Greedy전략에는 반례(counter example)가 있다. ---> 8*8 크기의 연속된 1들의 모양이 있다면 5*5로 시작하는 것보다 4*4크기의 색종이 4장이 정답인 것이다.\n",
    "##### Backtracking을 이용해야 한다. 10*10크기의 종이위를 한칸씩 이동하다가 1을 만나면 1*1, 2*2...5*5까지 모든 종류의 색종이를 다 대보고 덮은 다음에는<br> 0으로 마킹하고 또다시 이동하고.... "
   ]
  },
  {
   "cell_type": "code",
   "execution_count": 3,
   "metadata": {},
   "outputs": [],
   "source": [
    "import sys\n",
    "input = open(\"data/boj_17136.txt\").readline"
   ]
  },
  {
   "cell_type": "code",
   "execution_count": 4,
   "metadata": {},
   "outputs": [],
   "source": [
    "board = [list(map(int, input().split())) for _ in range(10)]\n",
    "ans = 25 \n",
    "paper = [0] * 6"
   ]
  }
 ],
 "metadata": {
  "kernelspec": {
   "display_name": "base",
   "language": "python",
   "name": "python3"
  },
  "language_info": {
   "codemirror_mode": {
    "name": "ipython",
    "version": 3
   },
   "file_extension": ".py",
   "mimetype": "text/x-python",
   "name": "python",
   "nbconvert_exporter": "python",
   "pygments_lexer": "ipython3",
   "version": "3.9.12"
  },
  "orig_nbformat": 4
 },
 "nbformat": 4,
 "nbformat_minor": 2
}
