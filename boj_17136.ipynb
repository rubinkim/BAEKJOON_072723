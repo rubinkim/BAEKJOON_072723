{
 "cells": [
  {
   "cell_type": "code",
   "execution_count": 10,
   "metadata": {},
   "outputs": [
    {
     "name": "stdout",
     "output_type": "stream",
     "text": [
      "['0', '0', '0', '0', '0', '0', '0', '0', '0', '0']\n",
      "['0', '1', '1', '0', '0', '0', '0', '0', '0', '0']\n",
      "['0', '1', '1', '1', '0', '0', '0', '0', '0', '0']\n",
      "['0', '0', '1', '1', '1', '1', '1', '0', '0', '0']\n",
      "['0', '0', '0', '1', '1', '1', '1', '0', '0', '0']\n",
      "['0', '0', '0', '0', '1', '1', '1', '0', '0', '0']\n",
      "['0', '0', '1', '0', '0', '0', '0', '0', '0', '0']\n",
      "['0', '0', '0', '0', '0', '0', '0', '0', '0', '0']\n",
      "['0', '0', '0', '0', '0', '0', '0', '0', '0', '0']\n",
      "['0', '0', '0', '0', '0', '0', '0', '0', '0', '0']\n",
      "\n",
      "[(0, 0, 0, False), (0, 0, 1, False), (0, 0, 2, False), (0, 0, 3, False), (0, 0, 4, False), (0, 0, 5, False), (0, 0, 6, False), (0, 0, 7, False), (0, 0, 8, False), (0, 0, 9, False)]\n",
      "[(0, 1, 0, False), (0, 1, 1, False), (0, 1, 2, False), (0, 1, 3, False), (0, 1, 4, False), (0, 1, 5, False), (0, 1, 6, False), (0, 1, 7, False), (0, 1, 8, False), (0, 1, 9, False)]\n",
      "[(0, 2, 0, False), (0, 2, 1, False), (0, 2, 2, False), (0, 2, 3, False), (0, 2, 4, False), (0, 2, 5, False), (0, 2, 6, False), (0, 2, 7, False), (0, 2, 8, False), (0, 2, 9, False)]\n",
      "[(0, 3, 0, False), (0, 3, 1, False), (0, 3, 2, False), (0, 3, 3, False), (0, 3, 4, False), (0, 3, 5, False), (0, 3, 6, False), (0, 3, 7, False), (0, 3, 8, False), (0, 3, 9, False)]\n",
      "[(0, 4, 0, False), (0, 4, 1, False), (0, 4, 2, False), (0, 4, 3, False), (0, 4, 4, False), (0, 4, 5, False), (0, 4, 6, False), (0, 4, 7, False), (0, 4, 8, False), (0, 4, 9, False)]\n",
      "[(0, 5, 0, False), (0, 5, 1, False), (0, 5, 2, False), (0, 5, 3, False), (0, 5, 4, False), (0, 5, 5, False), (0, 5, 6, False), (0, 5, 7, False), (0, 5, 8, False), (0, 5, 9, False)]\n",
      "[(0, 6, 0, False), (0, 6, 1, False), (0, 6, 2, False), (0, 6, 3, False), (0, 6, 4, False), (0, 6, 5, False), (0, 6, 6, False), (0, 6, 7, False), (0, 6, 8, False), (0, 6, 9, False)]\n",
      "[(0, 7, 0, False), (0, 7, 1, False), (0, 7, 2, False), (0, 7, 3, False), (0, 7, 4, False), (0, 7, 5, False), (0, 7, 6, False), (0, 7, 7, False), (0, 7, 8, False), (0, 7, 9, False)]\n",
      "[(0, 8, 0, False), (0, 8, 1, False), (0, 8, 2, False), (0, 8, 3, False), (0, 8, 4, False), (0, 8, 5, False), (0, 8, 6, False), (0, 8, 7, False), (0, 8, 8, False), (0, 8, 9, False)]\n",
      "[(0, 9, 0, False), (0, 9, 1, False), (0, 9, 2, False), (0, 9, 3, False), (0, 9, 4, False), (0, 9, 5, False), (0, 9, 6, False), (0, 9, 7, False), (0, 9, 8, False), (0, 9, 9, False)]\n"
     ]
    }
   ],
   "source": [
    "arr = [input().split() for _ in range(10)]\n",
    "dp = [[[0, i, j, False] for j in range(len(arr[0]))] for i in range(10)]\n",
    "\n",
    "for row in arr:\n",
    "    print(row)\n",
    "print()\n",
    "\n",
    "for row in dp:\n",
    "    print(row)"
   ]
  },
  {
   "cell_type": "code",
   "execution_count": 11,
   "metadata": {},
   "outputs": [],
   "source": [
    "for i in range(len(arr[0])):\n",
    "    if arr[0][i] == \"1\":\n",
    "        dp[0][i][0] = 1"
   ]
  },
  {
   "cell_type": "code",
   "execution_count": 12,
   "metadata": {},
   "outputs": [
    {
     "ename": "TypeError",
     "evalue": "'tuple' object does not support item assignment",
     "output_type": "error",
     "traceback": [
      "\u001b[1;31m---------------------------------------------------------------------------\u001b[0m",
      "\u001b[1;31mTypeError\u001b[0m                                 Traceback (most recent call last)",
      "\u001b[1;32me:\\BAEKJOON_072723\\boj_17136.ipynb Cell 3\u001b[0m in \u001b[0;36m<cell line: 1>\u001b[1;34m()\u001b[0m\n\u001b[0;32m      <a href='vscode-notebook-cell:/e%3A/BAEKJOON_072723/boj_17136.ipynb#W4sZmlsZQ%3D%3D?line=3'>4</a>\u001b[0m \u001b[39mfor\u001b[39;00m j \u001b[39min\u001b[39;00m \u001b[39mrange\u001b[39m(\u001b[39m1\u001b[39m, \u001b[39mlen\u001b[39m(arr[\u001b[39m0\u001b[39m])):\n\u001b[0;32m      <a href='vscode-notebook-cell:/e%3A/BAEKJOON_072723/boj_17136.ipynb#W4sZmlsZQ%3D%3D?line=4'>5</a>\u001b[0m     \u001b[39mif\u001b[39;00m arr[i][j] \u001b[39m==\u001b[39m \u001b[39m\"\u001b[39m\u001b[39m1\u001b[39m\u001b[39m\"\u001b[39m:\n\u001b[1;32m----> <a href='vscode-notebook-cell:/e%3A/BAEKJOON_072723/boj_17136.ipynb#W4sZmlsZQ%3D%3D?line=5'>6</a>\u001b[0m         dp[i][j][\u001b[39m0\u001b[39m] \u001b[39m=\u001b[39m \u001b[39mmin\u001b[39m(dp[i][j\u001b[39m-\u001b[39m\u001b[39m1\u001b[39m][\u001b[39m0\u001b[39m], dp[i\u001b[39m-\u001b[39m\u001b[39m1\u001b[39m][j][\u001b[39m0\u001b[39m], dp[i\u001b[39m-\u001b[39m\u001b[39m1\u001b[39m][j\u001b[39m-\u001b[39m\u001b[39m1\u001b[39m][\u001b[39m0\u001b[39m]) \u001b[39m+\u001b[39m \u001b[39m1\u001b[39m\n",
      "\u001b[1;31mTypeError\u001b[0m: 'tuple' object does not support item assignment"
     ]
    }
   ],
   "source": [
    "for i in range(1, 10):\n",
    "    if arr[i][0] == \"1\":\n",
    "        dp[i][0][0] = 1\n",
    "    for j in range(1, len(arr[0])):\n",
    "        if arr[i][j] == \"1\":\n",
    "            dp[i][j][0] = min(dp[i][j-1][0], dp[i-1][j][0], dp[i-1][j-1][0]) + 1"
   ]
  },
  {
   "cell_type": "code",
   "execution_count": 40,
   "metadata": {},
   "outputs": [
    {
     "name": "stdout",
     "output_type": "stream",
     "text": [
      "[0, 0, 0, 0, 0, 0, 0, 0, 0, 0]\n",
      "[0, 1, 1, 0, 0, 0, 0, 0, 0, 0]\n",
      "[0, 1, 1, 1, 0, 0, 0, 0, 0, 0]\n",
      "[0, 0, 1, 1, 1, 1, 1, 0, 0, 0]\n",
      "[0, 0, 0, 1, 1, 1, 1, 0, 0, 0]\n",
      "[0, 0, 0, 0, 1, 1, 1, 0, 0, 0]\n",
      "[0, 0, 1, 0, 0, 0, 0, 0, 0, 0]\n",
      "[0, 0, 0, 0, 0, 0, 0, 0, 0, 0]\n",
      "[0, 0, 0, 0, 0, 0, 0, 0, 0, 0]\n",
      "[0, 0, 0, 0, 0, 0, 0, 0, 0, 0]\n"
     ]
    }
   ],
   "source": [
    "for row in arr:\n",
    "    print(row)"
   ]
  },
  {
   "cell_type": "code",
   "execution_count": 41,
   "metadata": {},
   "outputs": [
    {
     "name": "stdout",
     "output_type": "stream",
     "text": [
      "[0, 0, 0, 0, 0, 0, 0, 0, 0, 0]\n",
      "[0, 1, 1, 0, 0, 0, 0, 0, 0, 0]\n",
      "[0, 1, 2, 1, 0, 0, 0, 0, 0, 0]\n",
      "[0, 0, 1, 2, 1, 1, 1, 0, 0, 0]\n",
      "[0, 0, 0, 1, 2, 2, 2, 0, 0, 0]\n",
      "[0, 0, 0, 0, 1, 2, 3, 0, 0, 0]\n",
      "[0, 0, 1, 0, 0, 0, 0, 0, 0, 0]\n",
      "[0, 0, 0, 0, 0, 0, 0, 0, 0, 0]\n",
      "[0, 0, 0, 0, 0, 0, 0, 0, 0, 0]\n",
      "[0, 0, 0, 0, 0, 0, 0, 0, 0, 0]\n"
     ]
    }
   ],
   "source": [
    "for row in dp:\n",
    "    print(row)"
   ]
  },
  {
   "cell_type": "code",
   "execution_count": 42,
   "metadata": {},
   "outputs": [],
   "source": [
    "for i in range(10):\n",
    "    for j in range(len(arr[0])):\n",
    "        if dp[i][j] == 2 and dp[i][j] > max(dp[i][j-1], dp[i-1][j], dp[i-1][j-1]):\n",
    "            dp[i][j-1] = dp[i-1][j] = dp[i-1][j-1] = 0\n",
    "        elif dp[i][j] == 2 and dp[i][j] <= max(dp[i][j-1], dp[i-1][j], dp[i-1][j-1]):\n",
    "            dp[i][j] -= 1\n",
    "        elif dp[i][j] == 3 and dp[i][j] > max(dp[i][j-2], dp[i][j-1], dp[i-1][j-2], dp[i-1][j-1], dp[i-1][j], dp[i-2][j-2], dp[i-2][j-1], dp[j-2][j]):\n",
    "            dp[i][j-2] = dp[i][j-1] = dp[i-1][j-2] = dp[i-1][j-1] = dp[i-1][j] = dp[i-2][j-2] = dp[i-2][j-1] = dp[j-2][j] = 0\n",
    "        elif dp[i][j] == 3 and dp[i][j] <= max(dp[i][j-2], dp[i][j-1], dp[i-1][j-2], dp[i-1][j-1], dp[i-1][j], dp[i-2][j-2], dp[i-2][j-1], dp[j-2][j]):\n",
    "            dp[i][j] -= 1"
   ]
  },
  {
   "cell_type": "code",
   "execution_count": 43,
   "metadata": {},
   "outputs": [
    {
     "name": "stdout",
     "output_type": "stream",
     "text": [
      "[0, 0, 0, 0, 0, 0, 0, 0, 0, 0]\n",
      "[0, 0, 0, 0, 0, 0, 0, 0, 0, 0]\n",
      "[0, 0, 2, 1, 0, 0, 0, 0, 0, 0]\n",
      "[0, 0, 1, 0, 0, 0, 0, 0, 0, 0]\n",
      "[0, 0, 0, 0, 0, 0, 0, 0, 0, 0]\n",
      "[0, 0, 0, 0, 0, 0, 3, 0, 0, 0]\n",
      "[0, 0, 1, 0, 0, 0, 0, 0, 0, 0]\n",
      "[0, 0, 0, 0, 0, 0, 0, 0, 0, 0]\n",
      "[0, 0, 0, 0, 0, 0, 0, 0, 0, 0]\n",
      "[0, 0, 0, 0, 0, 0, 0, 0, 0, 0]\n"
     ]
    }
   ],
   "source": [
    "for row in dp:\n",
    "    print(row)"
   ]
  }
 ],
 "metadata": {
  "kernelspec": {
   "display_name": "base",
   "language": "python",
   "name": "python3"
  },
  "language_info": {
   "codemirror_mode": {
    "name": "ipython",
    "version": 3
   },
   "file_extension": ".py",
   "mimetype": "text/x-python",
   "name": "python",
   "nbconvert_exporter": "python",
   "pygments_lexer": "ipython3",
   "version": "3.9.12"
  },
  "orig_nbformat": 4
 },
 "nbformat": 4,
 "nbformat_minor": 2
}
