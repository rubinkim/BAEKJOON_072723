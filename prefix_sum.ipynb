{
 "cells": [
  {
   "cell_type": "markdown",
   "metadata": {},
   "source": [
    "##### 누적합(Prefix Sum) & 구간합(Interval Sum)"
   ]
  },
  {
   "cell_type": "code",
   "execution_count": 3,
   "metadata": {},
   "outputs": [
    {
     "name": "stdout",
     "output_type": "stream",
     "text": [
      "1 9 16 20 23 28 34 "
     ]
    }
   ],
   "source": [
    "array = [1, 8, 7, 4, 3, 5, 6]\n",
    "n = len(array)\n",
    "prefix_sum = [0] * n\n",
    "\n",
    "for i in range(n):\n",
    "    for j in range(i+1):\n",
    "        prefix_sum[i] += array[j]\n",
    "        \n",
    "for i in range(n):\n",
    "    print(prefix_sum[i], end=' ')"
   ]
  },
  {
   "cell_type": "code",
   "execution_count": 6,
   "metadata": {},
   "outputs": [
    {
     "name": "stdout",
     "output_type": "stream",
     "text": [
      "1 9 16 20 23 28 34\n"
     ]
    }
   ],
   "source": [
    "array = [1, 8, 7, 4, 3, 5, 6]\n",
    "n = len(array)\n",
    "prefix_sum = [0] * n\n",
    "\n",
    "for i in range(n):\n",
    "    for j in range(i+1):\n",
    "        prefix_sum[i] = prefix_sum[i-1] + array[j]\n",
    "\n",
    "print(*prefix_sum)       "
   ]
  }
 ],
 "metadata": {
  "kernelspec": {
   "display_name": "base",
   "language": "python",
   "name": "python3"
  },
  "language_info": {
   "codemirror_mode": {
    "name": "ipython",
    "version": 3
   },
   "file_extension": ".py",
   "mimetype": "text/x-python",
   "name": "python",
   "nbconvert_exporter": "python",
   "pygments_lexer": "ipython3",
   "version": "3.9.12"
  },
  "orig_nbformat": 4
 },
 "nbformat": 4,
 "nbformat_minor": 2
}
