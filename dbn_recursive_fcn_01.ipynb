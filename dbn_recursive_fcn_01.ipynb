{
 "cells": [
  {
   "cell_type": "code",
   "execution_count": 18,
   "metadata": {},
   "outputs": [
    {
     "name": "stdout",
     "output_type": "stream",
     "text": [
      "a : 31,   b : 7\n"
     ]
    }
   ],
   "source": [
    "a, b = map(int, input().split())\n",
    "a, b = (a, b) if a >= b else (b, a)\n",
    "print(f\"a : {a},   b : {b}\")"
   ]
  },
  {
   "cell_type": "code",
   "execution_count": 115,
   "metadata": {},
   "outputs": [],
   "source": [
    "def calc_gcd(a, b):\n",
    "    c = a % b  \n",
    "    print(f\"a : {a}, b :{b}, c : {c}\")  \n",
    "    \n",
    "    if c == 0:\n",
    "        return b  \n",
    "    elif c == 1:\n",
    "        return 1\n",
    "    else:   \n",
    "        calc_gcd(b, c)       "
   ]
  },
  {
   "cell_type": "code",
   "execution_count": 117,
   "metadata": {},
   "outputs": [
    {
     "name": "stdout",
     "output_type": "stream",
     "text": [
      "a : 81, b :17, c : 13\n",
      "a : 17, b :13, c : 4\n",
      "a : 13, b :4, c : 1\n"
     ]
    }
   ],
   "source": [
    "calc_gcd(81, 17)"
   ]
  },
  {
   "cell_type": "code",
   "execution_count": 109,
   "metadata": {},
   "outputs": [],
   "source": [
    "calc_gcd(840, 17)"
   ]
  },
  {
   "cell_type": "code",
   "execution_count": 111,
   "metadata": {},
   "outputs": [],
   "source": [
    "x = calc_gcd(840, 17)\n",
    "x"
   ]
  },
  {
   "cell_type": "code",
   "execution_count": 113,
   "metadata": {},
   "outputs": [],
   "source": [
    "def add(x, y):\n",
    "    z = x + y\n",
    "    if z == 0:\n",
    "        return y\n",
    "    if z == 1:\n",
    "        return 1\n",
    "    else:\n",
    "        return z    "
   ]
  },
  {
   "cell_type": "code",
   "execution_count": 114,
   "metadata": {},
   "outputs": [
    {
     "data": {
      "text/plain": [
       "12"
      ]
     },
     "execution_count": 114,
     "metadata": {},
     "output_type": "execute_result"
    }
   ],
   "source": [
    "add(4, 8)"
   ]
  }
 ],
 "metadata": {
  "kernelspec": {
   "display_name": "base",
   "language": "python",
   "name": "python3"
  },
  "language_info": {
   "codemirror_mode": {
    "name": "ipython",
    "version": 3
   },
   "file_extension": ".py",
   "mimetype": "text/x-python",
   "name": "python",
   "nbconvert_exporter": "python",
   "pygments_lexer": "ipython3",
   "version": "3.9.12"
  },
  "orig_nbformat": 4
 },
 "nbformat": 4,
 "nbformat_minor": 2
}
