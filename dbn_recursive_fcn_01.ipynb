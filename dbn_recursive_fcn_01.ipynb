{
 "cells": [
  {
   "cell_type": "code",
   "execution_count": 18,
   "metadata": {},
   "outputs": [
    {
     "name": "stdout",
     "output_type": "stream",
     "text": [
      "a : 31,   b : 7\n"
     ]
    }
   ],
   "source": [
    "a, b = map(int, input().split())\n",
    "a, b = (a, b) if a >= b else (b, a)\n",
    "print(f\"a : {a},   b : {b}\")"
   ]
  },
  {
   "cell_type": "code",
   "execution_count": 4,
   "metadata": {},
   "outputs": [],
   "source": [
    "def calc_gcd(n):\n",
    "    global a, b\n",
    "    if n == 0 or n == 1:\n",
    "        r = a % b\n"
   ]
  },
  {
   "cell_type": "code",
   "execution_count": 16,
   "metadata": {},
   "outputs": [],
   "source": [
    "i = 0\n",
    "\n",
    "def calc_gcd(a, b):\n",
    "    global i\n",
    "    r = a % b\n",
    "    print(f\"{i}번째 재귀 시작합니다.\")\n",
    "    if b != 0:\n",
    "        r = b % calc_gcd(b, r)\n",
    "    print(f\"{i}번째 재귀 종료합니다.\")\n",
    "    i += 1    \n",
    "    return r"
   ]
  },
  {
   "cell_type": "code",
   "execution_count": 17,
   "metadata": {},
   "outputs": [
    {
     "name": "stdout",
     "output_type": "stream",
     "text": [
      "0번째 재귀 시작합니다.\n",
      "0번째 재귀 시작합니다.\n"
     ]
    },
    {
     "ename": "ZeroDivisionError",
     "evalue": "integer division or modulo by zero",
     "output_type": "error",
     "traceback": [
      "\u001b[1;31m---------------------------------------------------------------------------\u001b[0m",
      "\u001b[1;31mZeroDivisionError\u001b[0m                         Traceback (most recent call last)",
      "\u001b[1;32me:\\BAEKJOON_072723\\dbn_recursive_fcn_01.ipynb Cell 4\u001b[0m line \u001b[0;36m<cell line: 1>\u001b[1;34m()\u001b[0m\n\u001b[1;32m----> <a href='vscode-notebook-cell:/e%3A/BAEKJOON_072723/dbn_recursive_fcn_01.ipynb#W6sZmlsZQ%3D%3D?line=0'>1</a>\u001b[0m calc_gcd(\u001b[39m15\u001b[39;49m, \u001b[39m7\u001b[39;49m)\n",
      "\u001b[1;32me:\\BAEKJOON_072723\\dbn_recursive_fcn_01.ipynb Cell 4\u001b[0m line \u001b[0;36mcalc_gcd\u001b[1;34m(a, b)\u001b[0m\n\u001b[0;32m      <a href='vscode-notebook-cell:/e%3A/BAEKJOON_072723/dbn_recursive_fcn_01.ipynb#W6sZmlsZQ%3D%3D?line=5'>6</a>\u001b[0m \u001b[39mprint\u001b[39m(\u001b[39mf\u001b[39m\u001b[39m\"\u001b[39m\u001b[39m{\u001b[39;00mi\u001b[39m}\u001b[39;00m\u001b[39m번째 재귀 시작합니다.\u001b[39m\u001b[39m\"\u001b[39m)\n\u001b[0;32m      <a href='vscode-notebook-cell:/e%3A/BAEKJOON_072723/dbn_recursive_fcn_01.ipynb#W6sZmlsZQ%3D%3D?line=6'>7</a>\u001b[0m \u001b[39mif\u001b[39;00m b \u001b[39m!=\u001b[39m \u001b[39m0\u001b[39m:\n\u001b[1;32m----> <a href='vscode-notebook-cell:/e%3A/BAEKJOON_072723/dbn_recursive_fcn_01.ipynb#W6sZmlsZQ%3D%3D?line=7'>8</a>\u001b[0m     r \u001b[39m=\u001b[39m b \u001b[39m%\u001b[39m calc_gcd(b, r)\n\u001b[0;32m      <a href='vscode-notebook-cell:/e%3A/BAEKJOON_072723/dbn_recursive_fcn_01.ipynb#W6sZmlsZQ%3D%3D?line=8'>9</a>\u001b[0m \u001b[39mprint\u001b[39m(\u001b[39mf\u001b[39m\u001b[39m\"\u001b[39m\u001b[39m{\u001b[39;00mi\u001b[39m}\u001b[39;00m\u001b[39m번째 재귀 종료합니다.\u001b[39m\u001b[39m\"\u001b[39m)\n\u001b[0;32m     <a href='vscode-notebook-cell:/e%3A/BAEKJOON_072723/dbn_recursive_fcn_01.ipynb#W6sZmlsZQ%3D%3D?line=9'>10</a>\u001b[0m i \u001b[39m+\u001b[39m\u001b[39m=\u001b[39m \u001b[39m1\u001b[39m    \n",
      "\u001b[1;32me:\\BAEKJOON_072723\\dbn_recursive_fcn_01.ipynb Cell 4\u001b[0m line \u001b[0;36mcalc_gcd\u001b[1;34m(a, b)\u001b[0m\n\u001b[0;32m      <a href='vscode-notebook-cell:/e%3A/BAEKJOON_072723/dbn_recursive_fcn_01.ipynb#W6sZmlsZQ%3D%3D?line=5'>6</a>\u001b[0m \u001b[39mprint\u001b[39m(\u001b[39mf\u001b[39m\u001b[39m\"\u001b[39m\u001b[39m{\u001b[39;00mi\u001b[39m}\u001b[39;00m\u001b[39m번째 재귀 시작합니다.\u001b[39m\u001b[39m\"\u001b[39m)\n\u001b[0;32m      <a href='vscode-notebook-cell:/e%3A/BAEKJOON_072723/dbn_recursive_fcn_01.ipynb#W6sZmlsZQ%3D%3D?line=6'>7</a>\u001b[0m \u001b[39mif\u001b[39;00m b \u001b[39m!=\u001b[39m \u001b[39m0\u001b[39m:\n\u001b[1;32m----> <a href='vscode-notebook-cell:/e%3A/BAEKJOON_072723/dbn_recursive_fcn_01.ipynb#W6sZmlsZQ%3D%3D?line=7'>8</a>\u001b[0m     r \u001b[39m=\u001b[39m b \u001b[39m%\u001b[39m calc_gcd(b, r)\n\u001b[0;32m      <a href='vscode-notebook-cell:/e%3A/BAEKJOON_072723/dbn_recursive_fcn_01.ipynb#W6sZmlsZQ%3D%3D?line=8'>9</a>\u001b[0m \u001b[39mprint\u001b[39m(\u001b[39mf\u001b[39m\u001b[39m\"\u001b[39m\u001b[39m{\u001b[39;00mi\u001b[39m}\u001b[39;00m\u001b[39m번째 재귀 종료합니다.\u001b[39m\u001b[39m\"\u001b[39m)\n\u001b[0;32m     <a href='vscode-notebook-cell:/e%3A/BAEKJOON_072723/dbn_recursive_fcn_01.ipynb#W6sZmlsZQ%3D%3D?line=9'>10</a>\u001b[0m i \u001b[39m+\u001b[39m\u001b[39m=\u001b[39m \u001b[39m1\u001b[39m    \n",
      "\u001b[1;32me:\\BAEKJOON_072723\\dbn_recursive_fcn_01.ipynb Cell 4\u001b[0m line \u001b[0;36mcalc_gcd\u001b[1;34m(a, b)\u001b[0m\n\u001b[0;32m      <a href='vscode-notebook-cell:/e%3A/BAEKJOON_072723/dbn_recursive_fcn_01.ipynb#W6sZmlsZQ%3D%3D?line=2'>3</a>\u001b[0m \u001b[39mdef\u001b[39;00m \u001b[39mcalc_gcd\u001b[39m(a, b):\n\u001b[0;32m      <a href='vscode-notebook-cell:/e%3A/BAEKJOON_072723/dbn_recursive_fcn_01.ipynb#W6sZmlsZQ%3D%3D?line=3'>4</a>\u001b[0m     \u001b[39mglobal\u001b[39;00m i\n\u001b[1;32m----> <a href='vscode-notebook-cell:/e%3A/BAEKJOON_072723/dbn_recursive_fcn_01.ipynb#W6sZmlsZQ%3D%3D?line=4'>5</a>\u001b[0m     r \u001b[39m=\u001b[39m a \u001b[39m%\u001b[39;49m b\n\u001b[0;32m      <a href='vscode-notebook-cell:/e%3A/BAEKJOON_072723/dbn_recursive_fcn_01.ipynb#W6sZmlsZQ%3D%3D?line=5'>6</a>\u001b[0m     \u001b[39mprint\u001b[39m(\u001b[39mf\u001b[39m\u001b[39m\"\u001b[39m\u001b[39m{\u001b[39;00mi\u001b[39m}\u001b[39;00m\u001b[39m번째 재귀 시작합니다.\u001b[39m\u001b[39m\"\u001b[39m)\n\u001b[0;32m      <a href='vscode-notebook-cell:/e%3A/BAEKJOON_072723/dbn_recursive_fcn_01.ipynb#W6sZmlsZQ%3D%3D?line=6'>7</a>\u001b[0m     \u001b[39mif\u001b[39;00m b \u001b[39m!=\u001b[39m \u001b[39m0\u001b[39m:\n",
      "\u001b[1;31mZeroDivisionError\u001b[0m: integer division or modulo by zero"
     ]
    }
   ],
   "source": [
    "calc_gcd(15, 7)"
   ]
  },
  {
   "cell_type": "code",
   "execution_count": 1,
   "metadata": {},
   "outputs": [],
   "source": [
    "def factorial(n):\n",
    "    if n == 1:\n",
    "        return 1\n",
    "    return n * factorial(n-1)"
   ]
  },
  {
   "cell_type": "code",
   "execution_count": 2,
   "metadata": {},
   "outputs": [
    {
     "data": {
      "text/plain": [
       "120"
      ]
     },
     "execution_count": 2,
     "metadata": {},
     "output_type": "execute_result"
    }
   ],
   "source": [
    "factorial(5)"
   ]
  },
  {
   "cell_type": "code",
   "execution_count": null,
   "metadata": {},
   "outputs": [],
   "source": [
    "def calc_gcd(a, b):\n",
    "    c = a % b    \n",
    "    if c == 0 or c == 1:\n",
    "        return b, c\n",
    "    calc_gcd(b, c)"
   ]
  }
 ],
 "metadata": {
  "kernelspec": {
   "display_name": "base",
   "language": "python",
   "name": "python3"
  },
  "language_info": {
   "codemirror_mode": {
    "name": "ipython",
    "version": 3
   },
   "file_extension": ".py",
   "mimetype": "text/x-python",
   "name": "python",
   "nbconvert_exporter": "python",
   "pygments_lexer": "ipython3",
   "version": "3.9.12"
  },
  "orig_nbformat": 4
 },
 "nbformat": 4,
 "nbformat_minor": 2
}
