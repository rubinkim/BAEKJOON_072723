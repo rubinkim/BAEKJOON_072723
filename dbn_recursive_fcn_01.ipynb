{
 "cells": [
  {
   "cell_type": "code",
   "execution_count": 131,
   "metadata": {},
   "outputs": [],
   "source": [
    "def calc_gcd(a, b):\n",
    "    r = a % b  \n",
    "    print(f\"a : {a}, b :{b}, r : {r}\")  \n",
    "    \n",
    "    if r == 0:\n",
    "        return b  \n",
    "    elif r == 1:\n",
    "        return 1\n",
    "    else:   \n",
    "        return calc_gcd(b, r)       "
   ]
  },
  {
   "cell_type": "code",
   "execution_count": 27,
   "metadata": {},
   "outputs": [],
   "source": [
    "def calc_gcd(a, b, i=0):    \n",
    "    r = a % b  \n",
    "    #print(f\"a : {a}, b :{b}, r : {r}\")  \n",
    "    \n",
    "    if r == 0:\n",
    "        print(f\"a : {a}, b :{b}, r : {r}\") \n",
    "        return b\n",
    "      \n",
    "    elif r == 1: \n",
    "        print(f\"a : {a}, b :{b}, r : {r}\") \n",
    "        return 1\n",
    "    \n",
    "    else:\n",
    "        print(f\"a : {a}, b :{b}, r : {r}\") \n",
    "        #print(f\"return value : {calc_gcd(b, r)}\")\n",
    "        print()           \n",
    "        return calc_gcd(b, r)       "
   ]
  },
  {
   "cell_type": "code",
   "execution_count": 25,
   "metadata": {},
   "outputs": [
    {
     "name": "stdout",
     "output_type": "stream",
     "text": [
      "i : 0, a : 81, b :17, r : 13\n",
      "\n",
      "i : 0, a : 17, b :13, r : 4\n",
      "\n",
      "i : 0, a : 13, b :4, r : 1\n"
     ]
    },
    {
     "data": {
      "text/plain": [
       "1"
      ]
     },
     "execution_count": 25,
     "metadata": {},
     "output_type": "execute_result"
    }
   ],
   "source": [
    "calc_gcd(81, 17)"
   ]
  },
  {
   "cell_type": "code",
   "execution_count": 133,
   "metadata": {},
   "outputs": [
    {
     "name": "stdout",
     "output_type": "stream",
     "text": [
      "a : 840, b :17, r : 7\n",
      "a : 17, b :7, r : 3\n",
      "a : 7, b :3, r : 1\n"
     ]
    },
    {
     "data": {
      "text/plain": [
       "1"
      ]
     },
     "execution_count": 133,
     "metadata": {},
     "output_type": "execute_result"
    }
   ],
   "source": [
    "calc_gcd(840, 17)"
   ]
  },
  {
   "cell_type": "code",
   "execution_count": 28,
   "metadata": {},
   "outputs": [
    {
     "name": "stdout",
     "output_type": "stream",
     "text": [
      "a : 192, b :162, r : 30\n",
      "\n",
      "a : 162, b :30, r : 12\n",
      "\n",
      "a : 30, b :12, r : 6\n",
      "\n",
      "a : 12, b :6, r : 0\n"
     ]
    },
    {
     "data": {
      "text/plain": [
       "6"
      ]
     },
     "execution_count": 28,
     "metadata": {},
     "output_type": "execute_result"
    }
   ],
   "source": [
    "calc_gcd(192, 162)"
   ]
  },
  {
   "cell_type": "code",
   "execution_count": 135,
   "metadata": {},
   "outputs": [
    {
     "name": "stdout",
     "output_type": "stream",
     "text": [
      "a : 843, b :123, r : 105\n",
      "a : 123, b :105, r : 18\n",
      "a : 105, b :18, r : 15\n",
      "a : 18, b :15, r : 3\n",
      "a : 15, b :3, r : 0\n"
     ]
    },
    {
     "data": {
      "text/plain": [
       "3"
      ]
     },
     "execution_count": 135,
     "metadata": {},
     "output_type": "execute_result"
    }
   ],
   "source": [
    "calc_gcd(843, 123)"
   ]
  },
  {
   "cell_type": "code",
   "execution_count": 138,
   "metadata": {},
   "outputs": [
    {
     "data": {
      "text/plain": [
       "(434980, 19110)"
      ]
     },
     "execution_count": 138,
     "metadata": {},
     "output_type": "execute_result"
    }
   ],
   "source": [
    "91*4780,  91*210"
   ]
  },
  {
   "cell_type": "code",
   "execution_count": 137,
   "metadata": {},
   "outputs": [
    {
     "name": "stdout",
     "output_type": "stream",
     "text": [
      "a : 434980, b :19110, r : 14560\n",
      "a : 19110, b :14560, r : 4550\n",
      "a : 14560, b :4550, r : 910\n",
      "a : 4550, b :910, r : 0\n"
     ]
    },
    {
     "data": {
      "text/plain": [
       "910"
      ]
     },
     "execution_count": 137,
     "metadata": {},
     "output_type": "execute_result"
    }
   ],
   "source": [
    "calc_gcd(434980, 19110)"
   ]
  }
 ],
 "metadata": {
  "kernelspec": {
   "display_name": "base",
   "language": "python",
   "name": "python3"
  },
  "language_info": {
   "codemirror_mode": {
    "name": "ipython",
    "version": 3
   },
   "file_extension": ".py",
   "mimetype": "text/x-python",
   "name": "python",
   "nbconvert_exporter": "python",
   "pygments_lexer": "ipython3",
   "version": "3.9.12"
  },
  "orig_nbformat": 4
 },
 "nbformat": 4,
 "nbformat_minor": 2
}
