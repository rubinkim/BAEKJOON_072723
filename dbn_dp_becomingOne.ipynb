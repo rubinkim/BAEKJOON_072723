{
 "cells": [
  {
   "cell_type": "markdown",
   "metadata": {},
   "source": [
    "##### Bottom Up"
   ]
  },
  {
   "cell_type": "code",
   "execution_count": 1,
   "metadata": {},
   "outputs": [],
   "source": [
    "x = int(input())\n",
    "d = [0] * 30001   # d[i] : i를 1로 만들기 위한 최소 연산횟수"
   ]
  },
  {
   "cell_type": "code",
   "execution_count": 2,
   "metadata": {},
   "outputs": [],
   "source": [
    "for i in range(2, x+1):\n",
    "    d[i] = d[i-1] + 1\n",
    "    \n",
    "    if i % 2 == 0:      # 현재의 수가 2로 나눠서 떨어지는 경우\n",
    "        d[i] = min(d[i], d[i//2]+1)\n",
    "    if i % 3 == 0:      # 현재의 수가 3으로 나눠서 떨어지는 경우      \n",
    "        d[i] = min(d[i], d[i//3]+1)\n",
    "    if i % 5 == 0:      # 현재의 수가 5로 나눠서 떨어지는 경우\n",
    "        d[i] = min(d[i], d[i//5]+1)    "
   ]
  },
  {
   "cell_type": "code",
   "execution_count": 6,
   "metadata": {},
   "outputs": [
    {
     "name": "stdout",
     "output_type": "stream",
     "text": [
      "6 7 8\n"
     ]
    }
   ],
   "source": [
    "print(d[297], d[298], d[299])"
   ]
  },
  {
   "cell_type": "markdown",
   "metadata": {},
   "source": [
    "##### Top Down"
   ]
  },
  {
   "cell_type": "code",
   "execution_count": 2,
   "metadata": {},
   "outputs": [
    {
     "name": "stdout",
     "output_type": "stream",
     "text": [
      "x : 161\n"
     ]
    }
   ],
   "source": [
    "x = int(input())\n",
    "d = [0] * 30001\n",
    "print(f\"x : {x}\")"
   ]
  },
  {
   "cell_type": "code",
   "execution_count": 17,
   "metadata": {},
   "outputs": [],
   "source": [
    "def calc_min_count(x):    \n",
    "    if x >= 2:    \n",
    "        d[x] = calc_min_count(x-1) + 1\n",
    "        if x % 2 == 0:\n",
    "            d[x] = min(calc_min_count(x), calc_min_count(x//2)+1)\n",
    "        if x % 3 == 0:\n",
    "            d[x] = min(calc_min_count(x), calc_min_count(x//3)+1)\n",
    "        if x % 5 == 0:\n",
    "            d[x] = min(calc_min_count(x), calc_min_count(x//5)+1)\n",
    "    return d[x]"
   ]
  },
  {
   "cell_type": "code",
   "execution_count": 18,
   "metadata": {},
   "outputs": [
    {
     "name": "stdout",
     "output_type": "stream",
     "text": [
      "0 0 0\n"
     ]
    }
   ],
   "source": [
    "print(d[297], d[298], d[299])"
   ]
  },
  {
   "cell_type": "code",
   "execution_count": 20,
   "metadata": {},
   "outputs": [
    {
     "data": {
      "text/plain": [
       "0"
      ]
     },
     "execution_count": 20,
     "metadata": {},
     "output_type": "execute_result"
    }
   ],
   "source": [
    "d[1]"
   ]
  }
 ],
 "metadata": {
  "kernelspec": {
   "display_name": "base",
   "language": "python",
   "name": "python3"
  },
  "language_info": {
   "codemirror_mode": {
    "name": "ipython",
    "version": 3
   },
   "file_extension": ".py",
   "mimetype": "text/x-python",
   "name": "python",
   "nbconvert_exporter": "python",
   "pygments_lexer": "ipython3",
   "version": "3.9.12"
  },
  "orig_nbformat": 4
 },
 "nbformat": 4,
 "nbformat_minor": 2
}
