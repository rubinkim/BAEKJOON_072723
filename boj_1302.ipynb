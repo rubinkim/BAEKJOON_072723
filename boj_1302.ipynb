{
 "cells": [
  {
   "cell_type": "code",
   "execution_count": null,
   "metadata": {},
   "outputs": [],
   "source": [
    "import sys\n",
    "\n",
    "fast_input = sys.stdin.readline\n",
    "book_dict = {}\n",
    "\n",
    "for _ in range(int(fast_input())):\n",
    "    name = fast_input()\n",
    "    if name not in book_dict.keys():\n",
    "        book_dict[name] = 1\n",
    "    else:\n",
    "        book_dict[name] += 1\n",
    "        \n",
    "print(book_dict)\n",
    "\n",
    "new_book_dict = sorted(book_dict.items(), key=lambda x : x[1], reverse=True)\n",
    "print(new_book_dict)"
   ]
  },
  {
   "cell_type": "code",
   "execution_count": 3,
   "metadata": {},
   "outputs": [
    {
     "name": "stdout",
     "output_type": "stream",
     "text": [
      "{'top\\n': 4, 'kimtop': 1}\n",
      "[('top\\n', 4), ('kimtop', 1)]\n"
     ]
    }
   ],
   "source": [
    "import sys\n",
    "\n",
    "sys.stdin = open(\"data/boj_1302.txt\", \"r\")\n",
    "book_dict = {}\n",
    "\n",
    "for _ in range(int(sys.stdin.readline())):\n",
    "    name = sys.stdin.readline()\n",
    "    if name not in book_dict.keys():\n",
    "        book_dict[name] = 1\n",
    "    else:\n",
    "        book_dict[name] += 1\n",
    "        \n",
    "print(book_dict)\n",
    "\n",
    "new_book_dict = sorted(book_dict.items(), key=lambda x : x[1], reverse=True)\n",
    "print(new_book_dict)"
   ]
  },
  {
   "cell_type": "code",
   "execution_count": 9,
   "metadata": {},
   "outputs": [
    {
     "name": "stdout",
     "output_type": "stream",
     "text": [
      "{'icecream': 2, 'peanuts': 2, 'chocolate': 2, 'candy': 1, 'apple': 1}\n",
      "[('icecream', 2), ('peanuts', 2), ('chocolate', 2), ('candy', 1), ('apple', 1)]\n",
      "icecream\n"
     ]
    }
   ],
   "source": [
    "book_dict = {}\n",
    "\n",
    "for _ in range(int(input())):\n",
    "    name = input()\n",
    "    if name not in book_dict.keys():\n",
    "        book_dict[name] = 1\n",
    "    else:\n",
    "        book_dict[name] += 1\n",
    "        \n",
    "print(book_dict)\n",
    "\n",
    "sorted_book_count = sorted(book_dict.items(), key=lambda x : x[1], reverse=True)\n",
    "sorted_book_name = sorted(sorted_book_count, key=lambda x : x[0])\n",
    "print(sorted_book_name)\n",
    "print(sorted_book_name[0][0])"
   ]
  },
  {
   "cell_type": "code",
   "execution_count": 10,
   "metadata": {},
   "outputs": [
    {
     "name": "stdout",
     "output_type": "stream",
     "text": [
      "{'icecream': 2, 'peanuts': 2, 'chocolate': 2, 'candy': 1, 'apple': 1}\n",
      "[('apple', 1), ('candy', 1), ('chocolate', 2), ('icecream', 2), ('peanuts', 2)]\n",
      "apple\n"
     ]
    }
   ],
   "source": [
    "book_dict = {}\n",
    "\n",
    "for _ in range(int(input())):\n",
    "    name = input()\n",
    "    if name not in book_dict.keys():\n",
    "        book_dict[name] = 1\n",
    "    else:\n",
    "        book_dict[name] += 1\n",
    "        \n",
    "print(book_dict)\n",
    "\n",
    "sorted_book_count = sorted(book_dict.items(), key=lambda x : x[1], reverse=True)\n",
    "sorted_book_name = sorted(sorted_book_count, key=lambda x : x[0])\n",
    "print(sorted_book_name)\n",
    "print(sorted_book_name[0][0])"
   ]
  },
  {
   "cell_type": "code",
   "execution_count": 11,
   "metadata": {},
   "outputs": [
    {
     "name": "stdout",
     "output_type": "stream",
     "text": [
      "{'icecream': 2, 'peanuts': 2, 'chocolate': 2, 'candy': 1, 'apple': 1}\n",
      "[('chocolate', 2), ('icecream', 2), ('peanuts', 2), ('apple', 1), ('candy', 1)]\n",
      "chocolate\n"
     ]
    }
   ],
   "source": [
    "book_dict = {}\n",
    "\n",
    "for _ in range(int(input())):\n",
    "    name = input()\n",
    "    if name not in book_dict.keys():\n",
    "        book_dict[name] = 1\n",
    "    else:\n",
    "        book_dict[name] += 1\n",
    "        \n",
    "print(book_dict)\n",
    "\n",
    "sorted_book_count_name = sorted(book_dict.items(), key=lambda x : (-x[1], x[0]))\n",
    "print(sorted_book_count_name)\n",
    "print(sorted_book_count_name[0][0])"
   ]
  },
  {
   "cell_type": "code",
   "execution_count": null,
   "metadata": {},
   "outputs": [],
   "source": [
    "book_dict = {}\n",
    "\n",
    "for _ in range(int(input())):\n",
    "    name = input()\n",
    "    if name not in book_dict.keys():\n",
    "        book_dict[name] = 1\n",
    "    else:\n",
    "        book_dict[name] += 1\n",
    "        \n",
    "print(book_dict)\n",
    "\n",
    "sorted_book_count_name = sorted(book_dict.items(), key=lambda x : (-x[1], x[0]))\n",
    "print(sorted_book_count_name)\n",
    "print(sorted_book_count_name[0][0])"
   ]
  },
  {
   "cell_type": "code",
   "execution_count": 18,
   "metadata": {},
   "outputs": [
    {
     "name": "stdout",
     "output_type": "stream",
     "text": [
      "{'icecream': 2, 'peanuts': 2, 'chocolate': 2, 'candy': 1, 'apple': 1}\n",
      "[('icecream', 2), ('peanuts', 2), ('chocolate', 2), ('candy', 1), ('apple', 1)]\n",
      "icecream\n"
     ]
    }
   ],
   "source": [
    "book_dict = {}\n",
    "\n",
    "for _ in range(int(input())):\n",
    "    name = input()\n",
    "    if name not in book_dict.keys():\n",
    "        book_dict[name] = 1\n",
    "    else:\n",
    "        book_dict[name] += 1\n",
    "        \n",
    "print(book_dict)\n",
    "\n",
    "sorted_book_count_name = sorted(book_dict.items(), key=lambda x : x[1], reverse=True)\n",
    "sorted_book_count_name = sorted(sorted_book_count_name, key=lambda x : x[0],reverse=False)\n",
    "\n",
    "print(sorted_book_count_name)\n",
    "print(sorted_book_count_name[0][0])"
   ]
  },
  {
   "cell_type": "code",
   "execution_count": 20,
   "metadata": {},
   "outputs": [
    {
     "name": "stdout",
     "output_type": "stream",
     "text": [
      "{'icecream': 2, 'peanuts': 2, 'chocolate': 2, 'candy': 1, 'apple': 1}\n"
     ]
    },
    {
     "ename": "TypeError",
     "evalue": "an integer is required (got type tuple)",
     "output_type": "error",
     "traceback": [
      "\u001b[1;31m---------------------------------------------------------------------------\u001b[0m",
      "\u001b[1;31mTypeError\u001b[0m                                 Traceback (most recent call last)",
      "\u001b[1;32me:\\BAEKJOON_072723\\boj_1302.ipynb Cell 8\u001b[0m in \u001b[0;36m<cell line: 12>\u001b[1;34m()\u001b[0m\n\u001b[0;32m      <a href='vscode-notebook-cell:/e%3A/BAEKJOON_072723/boj_1302.ipynb#X13sZmlsZQ%3D%3D?line=7'>8</a>\u001b[0m         book_dict[name] \u001b[39m+\u001b[39m\u001b[39m=\u001b[39m \u001b[39m1\u001b[39m\n\u001b[0;32m     <a href='vscode-notebook-cell:/e%3A/BAEKJOON_072723/boj_1302.ipynb#X13sZmlsZQ%3D%3D?line=9'>10</a>\u001b[0m \u001b[39mprint\u001b[39m(book_dict)\n\u001b[1;32m---> <a href='vscode-notebook-cell:/e%3A/BAEKJOON_072723/boj_1302.ipynb#X13sZmlsZQ%3D%3D?line=11'>12</a>\u001b[0m sorted_book_count_name \u001b[39m=\u001b[39m \u001b[39msorted\u001b[39;49m(book_dict\u001b[39m.\u001b[39;49mitems(), key\u001b[39m=\u001b[39;49m\u001b[39mlambda\u001b[39;49;00m x : (x[\u001b[39m1\u001b[39;49m], x[\u001b[39m0\u001b[39;49m]), reverse\u001b[39m=\u001b[39;49m(\u001b[39mTrue\u001b[39;49;00m, \u001b[39mFalse\u001b[39;49;00m))\n\u001b[0;32m     <a href='vscode-notebook-cell:/e%3A/BAEKJOON_072723/boj_1302.ipynb#X13sZmlsZQ%3D%3D?line=13'>14</a>\u001b[0m \u001b[39mprint\u001b[39m(sorted_book_count_name)\n\u001b[0;32m     <a href='vscode-notebook-cell:/e%3A/BAEKJOON_072723/boj_1302.ipynb#X13sZmlsZQ%3D%3D?line=14'>15</a>\u001b[0m \u001b[39mprint\u001b[39m(sorted_book_count_name[\u001b[39m0\u001b[39m][\u001b[39m0\u001b[39m])\n",
      "\u001b[1;31mTypeError\u001b[0m: an integer is required (got type tuple)"
     ]
    }
   ],
   "source": [
    "book_dict = {}\n",
    "\n",
    "for _ in range(int(input())):\n",
    "    name = input()\n",
    "    if name not in book_dict.keys():\n",
    "        book_dict[name] = 1\n",
    "    else:\n",
    "        book_dict[name] += 1\n",
    "        \n",
    "print(book_dict)\n",
    "\n",
    "sorted_book_count_name = sorted(book_dict.items(), key=lambda x : (x[1], x[0]), reverse=(True, False))\n",
    "\n",
    "print(sorted_book_count_name)\n",
    "print(sorted_book_count_name[0][0])"
   ]
  },
  {
   "cell_type": "code",
   "execution_count": null,
   "metadata": {},
   "outputs": [],
   "source": [
    "book_dict = {}\n",
    "\n",
    "for _ in range(int(input())):\n",
    "    name = input()\n",
    "    if name not in book_dict.keys():\n",
    "        book_dict[name] = 1\n",
    "    else:\n",
    "        book_dict[name] += 1\n",
    "        \n",
    "print(book_dict)\n",
    "\n",
    "sorted_book_count_name = sorted(book_dict.items(), key=lambda x : (x[1], -ord(x[0])))\n",
    "\n",
    "print(sorted_book_count_name)\n",
    "print(sorted_book_count_name[0][0])"
   ]
  },
  {
   "cell_type": "code",
   "execution_count": 3,
   "metadata": {},
   "outputs": [
    {
     "name": "stdout",
     "output_type": "stream",
     "text": [
      "[('candy', 1), ('apple', 1), ('icecream', 2), ('peanuts', 2), ('chocolate', 2)]\n",
      "[('peanuts', 2), ('icecream', 2), ('chocolate', 2), ('candy', 1), ('apple', 1)]\n",
      "\n",
      "[('apple', 1), ('candy', 1), ('chocolate', 2), ('icecream', 2), ('peanuts', 2)]\n",
      "[('chocolate', 2), ('icecream', 2), ('peanuts', 2), ('apple', 1), ('candy', 1)]\n"
     ]
    }
   ],
   "source": [
    "book_dict = {}\n",
    "\n",
    "for _ in range(int(input())):\n",
    "    name = input()\n",
    "    \n",
    "    if name not in book_dict.keys():\n",
    "        book_dict[name] = 1\n",
    "    else:\n",
    "        book_dict[name] += 1\n",
    "        \n",
    "# name은 내림차순, count는 오름차순\n",
    "sorted_book_count = sorted(book_dict.items(), key = lambda x : x[1])\n",
    "print(sorted_book_count)\n",
    "\n",
    "sorted_book_name_count = sorted(sorted_book_count, key = lambda x : x[0], reverse=True)\n",
    "print(sorted_book_name_count)\n",
    "print()\n",
    "\n",
    "# count는 내림차순, name은 오름차순\n",
    "sorted_book_name = sorted(book_dict.items(), key = lambda x : x[0])\n",
    "print(sorted_book_name)\n",
    "\n",
    "sorted_book_count_name = sorted(sorted_book_name, key = lambda x : x[1], reverse=True)\n",
    "print(sorted_book_count_name)"
   ]
  },
  {
   "cell_type": "code",
   "execution_count": 4,
   "metadata": {},
   "outputs": [
    {
     "name": "stdout",
     "output_type": "stream",
     "text": [
      "[('apple', 1), ('icecream', 2), ('peanuts', 2), ('chocolate', 2), ('candy', 3)]\n",
      "[('peanuts', 2), ('icecream', 2), ('chocolate', 2), ('candy', 3), ('apple', 1)]\n",
      "\n",
      "[('apple', 1), ('candy', 3), ('chocolate', 2), ('icecream', 2), ('peanuts', 2)]\n",
      "[('candy', 3), ('chocolate', 2), ('icecream', 2), ('peanuts', 2), ('apple', 1)]\n"
     ]
    }
   ],
   "source": [
    "book_dict = {}\n",
    "\n",
    "for _ in range(int(input())):\n",
    "    name = input()\n",
    "    \n",
    "    if name not in book_dict.keys():\n",
    "        book_dict[name] = 1\n",
    "    else:\n",
    "        book_dict[name] += 1\n",
    "        \n",
    "# name은 내림차순, count는 오름차순\n",
    "sorted_book_count = sorted(book_dict.items(), key = lambda x : x[1])\n",
    "print(sorted_book_count)\n",
    "\n",
    "sorted_book_name_count = sorted(sorted_book_count, key = lambda x : x[0], reverse=True)\n",
    "print(sorted_book_name_count)\n",
    "print()\n",
    "\n",
    "# count는 내림차순, name은 오름차순\n",
    "sorted_book_name = sorted(book_dict.items(), key = lambda x : x[0])\n",
    "print(sorted_book_name)\n",
    "\n",
    "sorted_book_count_name = sorted(sorted_book_name, key = lambda x : x[1], reverse=True)\n",
    "print(sorted_book_count_name)"
   ]
  },
  {
   "cell_type": "code",
   "execution_count": 2,
   "metadata": {},
   "outputs": [
    {
     "name": "stdout",
     "output_type": "stream",
     "text": [
      "[(10, 1), (5, 2), (5, 3), (10, 99)]\n",
      "[(10, 1), (10, 99), (5, 2), (5, 3)]\n"
     ]
    }
   ],
   "source": [
    "votes = [(5,3),(5,2),(10,99),(10,1)]\n",
    "\n",
    "votes_1 = sorted(votes, key = lambda x : x[1])\n",
    "print(votes_1)\n",
    "\n",
    "votes_2 = sorted(votes_1, key = lambda x : x[0], reverse=True)\n",
    "print(votes_2)"
   ]
  },
  {
   "cell_type": "code",
   "execution_count": null,
   "metadata": {},
   "outputs": [],
   "source": []
  }
 ],
 "metadata": {
  "kernelspec": {
   "display_name": "keras_study",
   "language": "python",
   "name": "keras_study"
  },
  "language_info": {
   "codemirror_mode": {
    "name": "ipython",
    "version": 3
   },
   "file_extension": ".py",
   "mimetype": "text/x-python",
   "name": "python",
   "nbconvert_exporter": "python",
   "pygments_lexer": "ipython3",
   "version": "3.9.12"
  },
  "orig_nbformat": 4
 },
 "nbformat": 4,
 "nbformat_minor": 2
}
