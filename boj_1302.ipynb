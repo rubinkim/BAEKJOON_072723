{
 "cells": [
  {
   "cell_type": "code",
   "execution_count": null,
   "metadata": {},
   "outputs": [],
   "source": [
    "import sys\n",
    "\n",
    "fast_input = sys.stdin.readline\n",
    "book_dict = {}\n",
    "\n",
    "for _ in range(int(fast_input())):\n",
    "    name = fast_input()\n",
    "    if name not in book_dict.keys():\n",
    "        book_dict[name] = 1\n",
    "    else:\n",
    "        book_dict[name] += 1\n",
    "        \n",
    "print(book_dict)\n",
    "\n",
    "new_book_dict = sorted(book_dict.items(), key=lambda x : x[1], reverse=True)\n",
    "print(new_book_dict)"
   ]
  },
  {
   "cell_type": "code",
   "execution_count": 3,
   "metadata": {},
   "outputs": [
    {
     "name": "stdout",
     "output_type": "stream",
     "text": [
      "{'top\\n': 4, 'kimtop': 1}\n",
      "[('top\\n', 4), ('kimtop', 1)]\n"
     ]
    }
   ],
   "source": [
    "import sys\n",
    "\n",
    "sys.stdin = open(\"data/boj_1302.txt\", \"r\")\n",
    "book_dict = {}\n",
    "\n",
    "for _ in range(int(sys.stdin.readline())):\n",
    "    name = sys.stdin.readline()\n",
    "    if name not in book_dict.keys():\n",
    "        book_dict[name] = 1\n",
    "    else:\n",
    "        book_dict[name] += 1\n",
    "        \n",
    "print(book_dict)\n",
    "\n",
    "new_book_dict = sorted(book_dict.items(), key=lambda x : x[1], reverse=True)\n",
    "print(new_book_dict)"
   ]
  }
 ],
 "metadata": {
  "kernelspec": {
   "display_name": "keras_study",
   "language": "python",
   "name": "keras_study"
  },
  "language_info": {
   "codemirror_mode": {
    "name": "ipython",
    "version": 3
   },
   "file_extension": ".py",
   "mimetype": "text/x-python",
   "name": "python",
   "nbconvert_exporter": "python",
   "pygments_lexer": "ipython3",
   "version": "3.9.12"
  },
  "orig_nbformat": 4
 },
 "nbformat": 4,
 "nbformat_minor": 2
}
