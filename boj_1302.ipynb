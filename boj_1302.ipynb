{
 "cells": [
  {
   "cell_type": "code",
   "execution_count": null,
   "metadata": {},
   "outputs": [],
   "source": [
    "import sys\n",
    "\n",
    "fast_input = sys.stdin.readline\n",
    "book_dict = {}\n",
    "\n",
    "for _ in range(int(fast_input())):\n",
    "    name = fast_input()\n",
    "    if name not in book_dict.keys():\n",
    "        book_dict[name] = 1\n",
    "    else:\n",
    "        book_dict[name] += 1\n",
    "        \n",
    "print(book_dict)\n",
    "\n",
    "new_book_dict = sorted(book_dict.items(), key=lambda x : x[1], reverse=True)\n",
    "print(new_book_dict)"
   ]
  },
  {
   "cell_type": "code",
   "execution_count": 3,
   "metadata": {},
   "outputs": [
    {
     "name": "stdout",
     "output_type": "stream",
     "text": [
      "{'top\\n': 4, 'kimtop': 1}\n",
      "[('top\\n', 4), ('kimtop', 1)]\n"
     ]
    }
   ],
   "source": [
    "import sys\n",
    "\n",
    "sys.stdin = open(\"data/boj_1302.txt\", \"r\")\n",
    "book_dict = {}\n",
    "\n",
    "for _ in range(int(sys.stdin.readline())):\n",
    "    name = sys.stdin.readline()\n",
    "    if name not in book_dict.keys():\n",
    "        book_dict[name] = 1\n",
    "    else:\n",
    "        book_dict[name] += 1\n",
    "        \n",
    "print(book_dict)\n",
    "\n",
    "new_book_dict = sorted(book_dict.items(), key=lambda x : x[1], reverse=True)\n",
    "print(new_book_dict)"
   ]
  },
  {
   "cell_type": "code",
   "execution_count": 9,
   "metadata": {},
   "outputs": [
    {
     "name": "stdout",
     "output_type": "stream",
     "text": [
      "{'icecream': 2, 'peanuts': 2, 'chocolate': 2, 'candy': 1, 'apple': 1}\n",
      "[('icecream', 2), ('peanuts', 2), ('chocolate', 2), ('candy', 1), ('apple', 1)]\n",
      "icecream\n"
     ]
    }
   ],
   "source": [
    "book_dict = {}\n",
    "\n",
    "for _ in range(int(input())):\n",
    "    name = input()\n",
    "    if name not in book_dict.keys():\n",
    "        book_dict[name] = 1\n",
    "    else:\n",
    "        book_dict[name] += 1\n",
    "        \n",
    "print(book_dict)\n",
    "\n",
    "sorted_book_count = sorted(book_dict.items(), key=lambda x : x[1], reverse=True)\n",
    "sorted_book_name = sorted(sorted_book_count, key=lambda x : x[0])\n",
    "print(sorted_book_name)\n",
    "print(sorted_book_name[0][0])"
   ]
  },
  {
   "cell_type": "code",
   "execution_count": 10,
   "metadata": {},
   "outputs": [
    {
     "name": "stdout",
     "output_type": "stream",
     "text": [
      "{'icecream': 2, 'peanuts': 2, 'chocolate': 2, 'candy': 1, 'apple': 1}\n",
      "[('apple', 1), ('candy', 1), ('chocolate', 2), ('icecream', 2), ('peanuts', 2)]\n",
      "apple\n"
     ]
    }
   ],
   "source": [
    "book_dict = {}\n",
    "\n",
    "for _ in range(int(input())):\n",
    "    name = input()\n",
    "    if name not in book_dict.keys():\n",
    "        book_dict[name] = 1\n",
    "    else:\n",
    "        book_dict[name] += 1\n",
    "        \n",
    "print(book_dict)\n",
    "\n",
    "sorted_book_count = sorted(book_dict.items(), key=lambda x : x[1], reverse=True)\n",
    "sorted_book_name = sorted(sorted_book_count, key=lambda x : x[0])\n",
    "print(sorted_book_name)\n",
    "print(sorted_book_name[0][0])"
   ]
  },
  {
   "cell_type": "code",
   "execution_count": 11,
   "metadata": {},
   "outputs": [
    {
     "name": "stdout",
     "output_type": "stream",
     "text": [
      "{'icecream': 2, 'peanuts': 2, 'chocolate': 2, 'candy': 1, 'apple': 1}\n",
      "[('chocolate', 2), ('icecream', 2), ('peanuts', 2), ('apple', 1), ('candy', 1)]\n",
      "chocolate\n"
     ]
    }
   ],
   "source": [
    "book_dict = {}\n",
    "\n",
    "for _ in range(int(input())):\n",
    "    name = input()\n",
    "    if name not in book_dict.keys():\n",
    "        book_dict[name] = 1\n",
    "    else:\n",
    "        book_dict[name] += 1\n",
    "        \n",
    "print(book_dict)\n",
    "\n",
    "sorted_book_count_name = sorted(book_dict.items(), key=lambda x : (-x[1], x[0]))\n",
    "print(sorted_book_count_name)\n",
    "print(sorted_book_count_name[0][0])"
   ]
  },
  {
   "cell_type": "code",
   "execution_count": null,
   "metadata": {},
   "outputs": [],
   "source": [
    "book_dict = {}\n",
    "\n",
    "for _ in range(int(input())):\n",
    "    name = input()\n",
    "    if name not in book_dict.keys():\n",
    "        book_dict[name] = 1\n",
    "    else:\n",
    "        book_dict[name] += 1\n",
    "        \n",
    "print(book_dict)\n",
    "\n",
    "sorted_book_count_name = sorted(book_dict.items(), key=lambda x : (-x[1], x[0]))\n",
    "print(sorted_book_count_name)\n",
    "print(sorted_book_count_name[0][0])"
   ]
  },
  {
   "cell_type": "code",
   "execution_count": 13,
   "metadata": {},
   "outputs": [
    {
     "name": "stdout",
     "output_type": "stream",
     "text": [
      "{'icecream': 2, 'peanuts': 2, 'chocolate': 2, 'candy': 1, 'apple': 1}\n",
      "[('apple', 1), ('candy', 1), ('chocolate', 2), ('icecream', 2), ('peanuts', 2)]\n",
      "apple\n"
     ]
    }
   ],
   "source": [
    "book_dict = {}\n",
    "\n",
    "for _ in range(int(input())):\n",
    "    name = input()\n",
    "    if name not in book_dict.keys():\n",
    "        book_dict[name] = 1\n",
    "    else:\n",
    "        book_dict[name] += 1\n",
    "        \n",
    "print(book_dict)\n",
    "\n",
    "sorted_book_count_name = sorted(book_dict.items(), key=lambda x : (x[1], x[0].lower()))\n",
    "print(sorted_book_count_name)\n",
    "print(sorted_book_count_name[0][0])"
   ]
  }
 ],
 "metadata": {
  "kernelspec": {
   "display_name": "keras_study",
   "language": "python",
   "name": "keras_study"
  },
  "language_info": {
   "codemirror_mode": {
    "name": "ipython",
    "version": 3
   },
   "file_extension": ".py",
   "mimetype": "text/x-python",
   "name": "python",
   "nbconvert_exporter": "python",
   "pygments_lexer": "ipython3",
   "version": "3.9.12"
  },
  "orig_nbformat": 4
 },
 "nbformat": 4,
 "nbformat_minor": 2
}
