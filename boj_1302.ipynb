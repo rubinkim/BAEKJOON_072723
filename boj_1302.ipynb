{
 "cells": [
  {
   "cell_type": "code",
   "execution_count": null,
   "metadata": {},
   "outputs": [],
   "source": [
    "import sys\n",
    "\n",
    "fast_input = sys.stdin.readline\n",
    "book_dict = {}\n",
    "\n",
    "for _ in range(int(fast_input())):\n",
    "    name = fast_input()\n",
    "    if name not in book_dict.keys():\n",
    "        book_dict[name] = 1\n",
    "    else:\n",
    "        book_dict[name] += 1\n",
    "        \n",
    "print(book_dict)\n",
    "\n",
    "new_book_dict = sorted(book_dict.items(), key=lambda x : x[1])\n",
    "print(new_book_dict)"
   ]
  },
  {
   "cell_type": "code",
   "execution_count": null,
   "metadata": {},
   "outputs": [],
   "source": []
  }
 ],
 "metadata": {
  "language_info": {
   "name": "python"
  },
  "orig_nbformat": 4
 },
 "nbformat": 4,
 "nbformat_minor": 2
}
