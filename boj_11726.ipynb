{
 "cells": [
  {
   "cell_type": "code",
   "execution_count": 17,
   "metadata": {},
   "outputs": [
    {
     "name": "stdout",
     "output_type": "stream",
     "text": [
      "55\n"
     ]
    }
   ],
   "source": [
    "n = int(input())\n",
    "MOD = 10007\n",
    "\n",
    "cache = [0] * 1001\n",
    "\n",
    "def f(N):\n",
    "    cache[0] = 0\n",
    "    cache[1] = 1\n",
    "    cache[2] = 2\n",
    "    \n",
    "    if N >= 3:\n",
    "        if not cache[N]:\n",
    "            cache[N] = f(N-1) + f(N-2)\n",
    "            cache[N] %= MOD\n",
    "    \n",
    "    return cache[N]\n",
    "\n",
    "print(f(n))   "
   ]
  },
  {
   "cell_type": "code",
   "execution_count": 21,
   "metadata": {},
   "outputs": [
    {
     "name": "stdout",
     "output_type": "stream",
     "text": [
      "6463\n"
     ]
    }
   ],
   "source": [
    "n = int(input())\n",
    "MOD = 10007\n",
    "cache = [0] * 1001\n",
    "cache[0] = 0\n",
    "cache[1] = 1\n",
    "cache[2] = 2\n",
    "\n",
    "for i in range(3, n+1):\n",
    "    if not cache[i]:\n",
    "        cache[i] = cache[i-1] + cache[i-2]\n",
    "        cache[i] %= MOD\n",
    "        \n",
    "print(cache[n])"
   ]
  }
 ],
 "metadata": {
  "kernelspec": {
   "display_name": "base",
   "language": "python",
   "name": "python3"
  },
  "language_info": {
   "codemirror_mode": {
    "name": "ipython",
    "version": 3
   },
   "file_extension": ".py",
   "mimetype": "text/x-python",
   "name": "python",
   "nbconvert_exporter": "python",
   "pygments_lexer": "ipython3",
   "version": "3.9.12"
  },
  "orig_nbformat": 4
 },
 "nbformat": 4,
 "nbformat_minor": 2
}
