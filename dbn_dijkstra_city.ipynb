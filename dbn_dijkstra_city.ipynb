{
 "cells": [
  {
   "cell_type": "code",
   "execution_count": 58,
   "metadata": {},
   "outputs": [
    {
     "name": "stdout",
     "output_type": "stream",
     "text": [
      "n : 6,  m : 11,  city_num : 1\n"
     ]
    }
   ],
   "source": [
    "input = open(\"data/dbn_dijkstra_city.txt\", \"r\")\n",
    "n, m, city_num = map(int, input.readline().rstrip().split())\n",
    "print(f\"n : {n},  m : {m},  city_num : {city_num}\")      # n : number of city,  m : number of edges,  c : start city number"
   ]
  },
  {
   "cell_type": "code",
   "execution_count": 59,
   "metadata": {},
   "outputs": [
    {
     "name": "stdout",
     "output_type": "stream",
     "text": [
      "5 : [(6, 2), (3, 1)]\n",
      "4 : [(5, 1), (3, 3)]\n",
      "3 : [(6, 5), (2, 3)]\n",
      "1 : [(3, 5), (4, 1), (2, 2)]\n",
      "2 : [(3, 3), (4, 2)]\n"
     ]
    }
   ],
   "source": [
    "graph_dict = {}\n",
    "for i in input.readlines():\n",
    "    a, b, c = map(int, i.split())\n",
    "    if a not in graph_dict.keys():\n",
    "        graph_dict[a] = [(b, c)]\n",
    "    else:\n",
    "        graph_dict[a].append((b, c))\n",
    "        \n",
    "for k, v in graph_dict.items():\n",
    "    print(f\"{k} : {v}\")"
   ]
  },
  {
   "cell_type": "code",
   "execution_count": 60,
   "metadata": {},
   "outputs": [],
   "source": [
    "INF = int(1e9)\n",
    "visited = [False] * (n+1)\n",
    "distance = [INF] * (n+1)"
   ]
  },
  {
   "cell_type": "code",
   "execution_count": 61,
   "metadata": {},
   "outputs": [],
   "source": [
    "def get_smallest_node():\n",
    "    min_value = INF\n",
    "    index = 0\n",
    "    for i in range(1, n+1):\n",
    "        if distance[i] < min_value and not visited[i]:\n",
    "            min_value = distance[i]\n",
    "            index = i\n",
    "    return index"
   ]
  },
  {
   "cell_type": "code",
   "execution_count": 62,
   "metadata": {},
   "outputs": [],
   "source": [
    "def dijkstra(start):\n",
    "    distance[start] = 0\n",
    "    visited[start] = True\n",
    "    \n",
    "    for j in graph_dict[start]:\n",
    "        distance[j[0]] = j[1]\n",
    "        \n",
    "    for _ in range(n-1):\n",
    "        now = get_smallest_node()\n",
    "        visited[now] = True\n",
    "        \n",
    "        if now not in graph_dict.keys():\n",
    "            continue\n",
    "        else:\n",
    "            for j in graph_dict[now]:\n",
    "                cost = distance[now] + j[1]\n",
    "                if cost < distance[j[0]]:\n",
    "                    distance[j[0]] = cost\n",
    "    return distance"
   ]
  },
  {
   "cell_type": "code",
   "execution_count": 64,
   "metadata": {},
   "outputs": [
    {
     "name": "stdout",
     "output_type": "stream",
     "text": [
      "[1000000000, 0, 2, 5, 1, 2, 4]\n",
      "answer : 5\n"
     ]
    }
   ],
   "source": [
    "start = city_num\n",
    "shortest_paths = dijkstra(start)\n",
    "print(shortest_paths)\n",
    "\n",
    "ans = max([i for i in shortest_paths[1:] if i > 0])\n",
    "print(f\"answer : {ans}\")"
   ]
  }
 ],
 "metadata": {
  "kernelspec": {
   "display_name": "base",
   "language": "python",
   "name": "python3"
  },
  "language_info": {
   "codemirror_mode": {
    "name": "ipython",
    "version": 3
   },
   "file_extension": ".py",
   "mimetype": "text/x-python",
   "name": "python",
   "nbconvert_exporter": "python",
   "pygments_lexer": "ipython3",
   "version": "3.9.12"
  }
 },
 "nbformat": 4,
 "nbformat_minor": 2
}
