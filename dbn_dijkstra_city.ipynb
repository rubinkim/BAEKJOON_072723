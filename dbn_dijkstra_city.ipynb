{
 "cells": [
  {
   "cell_type": "code",
   "execution_count": 4,
   "metadata": {},
   "outputs": [
    {
     "name": "stdout",
     "output_type": "stream",
     "text": [
      "n : 3,  m : 2,  c : 1\n"
     ]
    }
   ],
   "source": [
    "input = open(\"data/dbn_dijkstra_city.txt\", \"r\")\n",
    "n, m, c = input.readline().rstrip().split()\n",
    "print(f\"n : {n},  m : {m},  c : {c}\")      # n : number of city,  m : number of edges,  c : start city number"
   ]
  },
  {
   "cell_type": "code",
   "execution_count": 5,
   "metadata": {},
   "outputs": [
    {
     "name": "stdout",
     "output_type": "stream",
     "text": [
      "1 : [(2, 4), (3, 2)]\n"
     ]
    }
   ],
   "source": [
    "graph_dict = {}\n",
    "for i in input.readlines():\n",
    "    a, b, c = map(int, i.split())\n",
    "    if a not in graph_dict.keys():\n",
    "        graph_dict[a] = [(b, c)]\n",
    "    else:\n",
    "        graph_dict[a].append((b, c))\n",
    "        \n",
    "for k, v in graph_dict.items():\n",
    "    print(f\"{k} : {v}\")"
   ]
  }
 ],
 "metadata": {
  "kernelspec": {
   "display_name": "base",
   "language": "python",
   "name": "python3"
  },
  "language_info": {
   "codemirror_mode": {
    "name": "ipython",
    "version": 3
   },
   "file_extension": ".py",
   "mimetype": "text/x-python",
   "name": "python",
   "nbconvert_exporter": "python",
   "pygments_lexer": "ipython3",
   "version": "3.9.12"
  }
 },
 "nbformat": 4,
 "nbformat_minor": 2
}
