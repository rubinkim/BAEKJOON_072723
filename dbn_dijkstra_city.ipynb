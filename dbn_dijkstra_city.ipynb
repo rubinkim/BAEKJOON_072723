{
 "cells": [
  {
   "cell_type": "code",
   "execution_count": 1,
   "metadata": {},
   "outputs": [
    {
     "name": "stdout",
     "output_type": "stream",
     "text": [
      "n : 6,  m : 11,  city_num : 1\n"
     ]
    }
   ],
   "source": [
    "input = open(\"data/dbn_dijkstra_city.txt\", \"r\")\n",
    "n, m, city_num = map(int, input.readline().rstrip().split())\n",
    "print(f\"n : {n},  m : {m},  city_num : {city_num}\")      # n : number of city,  m : number of edges,  c : start city number"
   ]
  },
  {
   "cell_type": "markdown",
   "metadata": {},
   "source": [
    "##### dijkstra using sequential search"
   ]
  },
  {
   "cell_type": "code",
   "execution_count": 2,
   "metadata": {},
   "outputs": [
    {
     "name": "stdout",
     "output_type": "stream",
     "text": [
      "5 : [(6, 2), (3, 1)]\n",
      "4 : [(5, 1), (3, 3)]\n",
      "3 : [(6, 5), (2, 3)]\n",
      "1 : [(3, 5), (4, 1), (2, 2)]\n",
      "2 : [(3, 3), (4, 2)]\n"
     ]
    }
   ],
   "source": [
    "graph_dict = {}\n",
    "for i in input.readlines():\n",
    "    a, b, c = map(int, i.split())\n",
    "    if a not in graph_dict.keys():\n",
    "        graph_dict[a] = [(b, c)]\n",
    "    else:\n",
    "        graph_dict[a].append((b, c))\n",
    "        \n",
    "for k, v in graph_dict.items():\n",
    "    print(f\"{k} : {v}\")"
   ]
  },
  {
   "cell_type": "code",
   "execution_count": 3,
   "metadata": {},
   "outputs": [],
   "source": [
    "INF = int(1e9)\n",
    "visited = [False] * (n+1)\n",
    "distance = [INF] * (n+1)"
   ]
  },
  {
   "cell_type": "code",
   "execution_count": 4,
   "metadata": {},
   "outputs": [],
   "source": [
    "def get_smallest_node():\n",
    "    min_value = INF\n",
    "    index = 0\n",
    "    for i in range(1, n+1):\n",
    "        if distance[i] < min_value and not visited[i]:\n",
    "            min_value = distance[i]\n",
    "            index = i\n",
    "    return index"
   ]
  },
  {
   "cell_type": "code",
   "execution_count": 5,
   "metadata": {},
   "outputs": [],
   "source": [
    "def dijkstra(start):\n",
    "    distance[start] = 0\n",
    "    visited[start] = True\n",
    "    \n",
    "    for j in graph_dict[start]:\n",
    "        distance[j[0]] = j[1]\n",
    "        \n",
    "    for _ in range(n-1):\n",
    "        now = get_smallest_node()\n",
    "        visited[now] = True\n",
    "        \n",
    "        if now not in graph_dict.keys():\n",
    "            continue\n",
    "        else:\n",
    "            for j in graph_dict[now]:\n",
    "                cost = distance[now] + j[1]\n",
    "                if cost < distance[j[0]]:\n",
    "                    distance[j[0]] = cost\n",
    "    return distance"
   ]
  },
  {
   "cell_type": "code",
   "execution_count": 6,
   "metadata": {},
   "outputs": [
    {
     "name": "stdout",
     "output_type": "stream",
     "text": [
      "[1000000000, 0, 2, 3, 1, 2, 4]\n",
      "answer : 4\n"
     ]
    }
   ],
   "source": [
    "start = city_num\n",
    "shortest_paths = dijkstra(start)\n",
    "print(shortest_paths)\n",
    "\n",
    "ans = max([i for i in shortest_paths[1:] if i > 0])\n",
    "print(f\"answer : {ans}\")"
   ]
  },
  {
   "cell_type": "markdown",
   "metadata": {},
   "source": [
    "##### dijkstra using priority queue"
   ]
  },
  {
   "cell_type": "code",
   "execution_count": 7,
   "metadata": {},
   "outputs": [],
   "source": [
    "import heapq\n",
    "import sys"
   ]
  },
  {
   "cell_type": "code",
   "execution_count": 8,
   "metadata": {},
   "outputs": [
    {
     "name": "stdout",
     "output_type": "stream",
     "text": [
      "n : 6,  m : 11,  city_num : 1\n"
     ]
    }
   ],
   "source": [
    "input = open(\"data/dbn_dijkstra_city.txt\", \"r\")\n",
    "n, m, city_num = map(int, input.readline().rstrip().split())\n",
    "print(f\"n : {n},  m : {m},  city_num : {city_num}\")      # n : number of city,  m : number of edges,  c : start city number"
   ]
  },
  {
   "cell_type": "code",
   "execution_count": 10,
   "metadata": {},
   "outputs": [],
   "source": [
    "INF = int(1e9)\n",
    "distance = [INF] * (n+1)\n",
    "graph_dict = {}"
   ]
  },
  {
   "cell_type": "code",
   "execution_count": 11,
   "metadata": {},
   "outputs": [
    {
     "name": "stdout",
     "output_type": "stream",
     "text": [
      "5 : [(6, 2), (3, 1)]\n",
      "4 : [(5, 1), (3, 3)]\n",
      "3 : [(6, 5), (2, 3)]\n",
      "1 : [(3, 5), (4, 1), (2, 2)]\n",
      "2 : [(3, 3), (4, 2)]\n"
     ]
    }
   ],
   "source": [
    "for i in input.readlines():\n",
    "    a, b, c = map(int, i.split())\n",
    "    if a not in graph_dict.keys():\n",
    "        graph_dict[a] = [(b, c)]\n",
    "    else:\n",
    "        graph_dict[a].append((b, c))\n",
    "        \n",
    "for k, v in graph_dict.items():\n",
    "    print(f\"{k} : {v}\")"
   ]
  },
  {
   "cell_type": "code",
   "execution_count": 15,
   "metadata": {},
   "outputs": [],
   "source": [
    "\"\"\"dijkstra_pq\"\"\"\n",
    "def dijkstra_pq(start):\n",
    "    q = []\n",
    "    heapq.heappush(q, (0, start))         # start node로 가는 최단경로비용은 0이며 이거리와 start node를 tuple로 새롭게 만들어진 큐인 q에 삽입한다.\n",
    "    distance[start] = 0\n",
    "    \n",
    "    while q:                              # 큐가 빌 때까지 계속 반복한다.\n",
    "        dist, now = heapq.heappop(q)\n",
    "        if distance[now] < dist or now not in graph_dict.keys():          # 현재노드인 now가 이미 처리된적이 있다면 이조건을 충족할거고, 이경우 무시하고 다음번 원소를 큐에서 꺼낸다.\n",
    "            continue\n",
    "        for i in graph_dict[now]:\n",
    "            cost = dist + i[1]\n",
    "            if cost < distance[i[0]]:\n",
    "                distance[i[0]] = cost\n",
    "                heapq.heappush(q, (cost, i[0]))\n",
    "    return distance"
   ]
  },
  {
   "cell_type": "code",
   "execution_count": 16,
   "metadata": {},
   "outputs": [
    {
     "name": "stdout",
     "output_type": "stream",
     "text": [
      "[1000000000, 0, 2, 3, 1, 2, 4]\n",
      "answer : 4\n"
     ]
    }
   ],
   "source": [
    "start = city_num\n",
    "shortest_paths = dijkstra_pq(start)\n",
    "print(shortest_paths)\n",
    "\n",
    "ans = max([i for i in shortest_paths[1:] if i > 0])\n",
    "print(f\"answer : {ans}\")"
   ]
  },
  {
   "cell_type": "markdown",
   "metadata": {},
   "source": [
    "##### Floyd-Warshall "
   ]
  },
  {
   "cell_type": "code",
   "execution_count": 17,
   "metadata": {},
   "outputs": [
    {
     "name": "stdout",
     "output_type": "stream",
     "text": [
      "n : 6,   m : 11\n"
     ]
    }
   ],
   "source": [
    "input = open(\"data/dbn_dijkstra_city_floyd_warshall.txt\", \"r\")\n",
    "n, m = map(int, input.readline().rstrip().split())\n",
    "print(f\"n : {n},   m : {m}\")"
   ]
  },
  {
   "cell_type": "code",
   "execution_count": 23,
   "metadata": {},
   "outputs": [
    {
     "name": "stdout",
     "output_type": "stream",
     "text": [
      "1000000000\n"
     ]
    }
   ],
   "source": [
    "INF = int(float(1e9))\n",
    "print(INF)"
   ]
  },
  {
   "cell_type": "code",
   "execution_count": 19,
   "metadata": {},
   "outputs": [
    {
     "name": "stdout",
     "output_type": "stream",
     "text": [
      "[1000000000, 1000000000, 1000000000, 1000000000, 1000000000, 1000000000, 1000000000]\n",
      "[1000000000, 0, 2, 5, 1, 1000000000, 1000000000]\n",
      "[1000000000, 1000000000, 0, 3, 2, 1000000000, 1000000000]\n",
      "[1000000000, 1000000000, 3, 0, 1000000000, 1000000000, 5]\n",
      "[1000000000, 1000000000, 1000000000, 3, 0, 1, 1000000000]\n",
      "[1000000000, 1000000000, 1000000000, 1, 1000000000, 0, 2]\n",
      "[1000000000, 1000000000, 1000000000, 1000000000, 1000000000, 1000000000, 0]\n"
     ]
    }
   ],
   "source": [
    "graph = [[INF] * (n+1) for _ in range(n+1)]\n",
    "\n",
    "for a in range(1, n+1):\n",
    "    for b in range(1, n+1):\n",
    "        if a == b:\n",
    "            graph[a][b] = 0\n",
    "            \n",
    "for _ in range(m):\n",
    "    a, b, c = map(int, input.readline().rstrip().split())\n",
    "    graph[a][b] = c\n",
    "    \n",
    "for row in graph:\n",
    "    print(row)"
   ]
  },
  {
   "cell_type": "code",
   "execution_count": 29,
   "metadata": {},
   "outputs": [
    {
     "name": "stdout",
     "output_type": "stream",
     "text": [
      "1.000000e+09\n"
     ]
    }
   ],
   "source": [
    "scientific_notation = \"{:e}\".format(1e9)\n",
    "print(scientific_notation)"
   ]
  },
  {
   "cell_type": "code",
   "execution_count": 30,
   "metadata": {},
   "outputs": [],
   "source": [
    "\"\"\"recurrence relation에 따라 Floyd Warshall을 수행한다.\"\"\"\n",
    "for k in range(1, n+1):\n",
    "    for a in range(1, n+1):\n",
    "        for b in range(1, n+1):\n",
    "            graph[a][b] = min(graph[a][b], graph[a][k] + graph[k][b])"
   ]
  },
  {
   "cell_type": "code",
   "execution_count": 33,
   "metadata": {},
   "outputs": [
    {
     "name": "stdout",
     "output_type": "stream",
     "text": [
      "0 2 3 1 2 4 \n",
      "INF 0 3 2 3 5 \n",
      "INF 3 0 5 6 5 \n",
      "INF 5 2 0 1 3 \n",
      "INF 4 1 6 0 2 \n",
      "INF INF INF INF INF 0 \n"
     ]
    }
   ],
   "source": [
    "\"\"\"수행된 결과를 출력한다.\"\"\"\n",
    "for a in range(1, n+1):\n",
    "    for b in range(1, n+1):\n",
    "        if graph[a][b] == INF:\n",
    "            print(\"INF\", end=\" \")\n",
    "        else:\n",
    "            print(graph[a][b], end=\" \")\n",
    "    print()"
   ]
  },
  {
   "cell_type": "markdown",
   "metadata": {},
   "source": [
    "##### 문제풀이 : 양방향 & 소개팅"
   ]
  },
  {
   "cell_type": "code",
   "execution_count": 3,
   "metadata": {},
   "outputs": [
    {
     "name": "stdout",
     "output_type": "stream",
     "text": [
      "n : 5,  m : 7\n"
     ]
    }
   ],
   "source": [
    "input = open(\"data/dbn_dijkstra_floyd_warshall.txt\", \"r\")\n",
    "n, m = map(int, input.readline().rstrip().split())\n",
    "print(f\"n : {n},  m : {m}\")"
   ]
  },
  {
   "cell_type": "code",
   "execution_count": 6,
   "metadata": {},
   "outputs": [],
   "source": [
    "INF = int(1e2)"
   ]
  },
  {
   "cell_type": "code",
   "execution_count": 7,
   "metadata": {},
   "outputs": [
    {
     "name": "stdout",
     "output_type": "stream",
     "text": [
      "[100, 100, 100, 100, 100, 100, 100, 100]\n",
      "[100, 100, 100, 100, 100, 100, 100, 100]\n",
      "[100, 100, 100, 100, 100, 100, 100, 100]\n",
      "[100, 100, 100, 100, 100, 100, 100, 100]\n",
      "[100, 100, 100, 100, 100, 100, 100, 100]\n",
      "[100, 100, 100, 100, 100, 100, 100, 100]\n",
      "[100, 100, 100, 100, 100, 100, 100, 100]\n",
      "[100, 100, 100, 100, 100, 100, 100, 100]\n"
     ]
    }
   ],
   "source": [
    "graph = [[INF] * (m+1) for _ in range(m+1)]\n",
    "for row in graph:\n",
    "    print(row)"
   ]
  },
  {
   "cell_type": "code",
   "execution_count": 8,
   "metadata": {},
   "outputs": [
    {
     "name": "stdout",
     "output_type": "stream",
     "text": [
      "[100, 100, 100, 100, 100, 100, 100, 100]\n",
      "[100, 100, 1, 1, 1, 100, 100, 100]\n",
      "[100, 1, 100, 100, 1, 100, 100, 100]\n",
      "[100, 1, 100, 100, 1, 1, 100, 100]\n",
      "[100, 1, 1, 1, 100, 1, 100, 100]\n",
      "[100, 100, 100, 1, 1, 100, 100, 100]\n",
      "[100, 100, 100, 100, 100, 100, 100, 100]\n",
      "[100, 100, 100, 100, 100, 100, 100, 100]\n"
     ]
    }
   ],
   "source": [
    "for _ in range(m):\n",
    "    a, b = map(int, input.readline().rstrip().split())\n",
    "    graph[a][b] = graph[b][a] = 1\n",
    "    \n",
    "for row in graph:\n",
    "    print(row)    "
   ]
  },
  {
   "cell_type": "code",
   "execution_count": 9,
   "metadata": {},
   "outputs": [
    {
     "name": "stdout",
     "output_type": "stream",
     "text": [
      "1 : [100, 100, 1, 1, 1, 100, 100, 100]\n",
      "2 : [100, 1, 100, 100, 1, 100, 100, 100]\n",
      "3 : [100, 1, 100, 100, 1, 1, 100, 100]\n",
      "4 : [100, 1, 1, 1, 100, 1, 100, 100]\n",
      "5 : [100, 100, 100, 1, 1, 100, 100, 100]\n",
      "6 : [100, 100, 100, 100, 100, 100, 100, 100]\n",
      "7 : [100, 100, 100, 100, 100, 100, 100, 100]\n"
     ]
    }
   ],
   "source": [
    "graph_dict = {}\n",
    "for i, row in enumerate(graph):\n",
    "    if i == 0:\n",
    "        continue\n",
    "    graph_dict[i] = row\n",
    "    \n",
    "for k, v in graph_dict.items():\n",
    "    print(f\"{k} : {v}\")"
   ]
  }
 ],
 "metadata": {
  "kernelspec": {
   "display_name": "base",
   "language": "python",
   "name": "python3"
  },
  "language_info": {
   "codemirror_mode": {
    "name": "ipython",
    "version": 3
   },
   "file_extension": ".py",
   "mimetype": "text/x-python",
   "name": "python",
   "nbconvert_exporter": "python",
   "pygments_lexer": "ipython3",
   "version": "3.9.12"
  }
 },
 "nbformat": 4,
 "nbformat_minor": 2
}
