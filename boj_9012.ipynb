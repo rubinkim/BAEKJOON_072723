{
 "cells": [
  {
   "cell_type": "code",
   "execution_count": 9,
   "metadata": {},
   "outputs": [
    {
     "name": "stdout",
     "output_type": "stream",
     "text": [
      "NO\n",
      "NO\n",
      "YES\n",
      "NO\n",
      "YES\n",
      "NO\n"
     ]
    }
   ],
   "source": [
    "T = int(input())\n",
    "\n",
    "for _ in range(T):\n",
    "    stk = []\n",
    "    isVPS = True\n",
    "    \n",
    "    for ch in input():\n",
    "        if ch == '(':\n",
    "            stk.append(ch)\n",
    "        else:\n",
    "            if len(stk) > 0:\n",
    "                stk.pop()\n",
    "            else:\n",
    "                isVPS = False\n",
    "                break\n",
    "    \n",
    "    if len(stk) > 0:\n",
    "        isVPS = False \n",
    "        \n",
    "    print('YES' if isVPS else 'NO')"
   ]
  },
  {
   "cell_type": "markdown",
   "metadata": {},
   "source": [
    "##### boj.kr/2164"
   ]
  },
  {
   "cell_type": "code",
   "execution_count": null,
   "metadata": {},
   "outputs": [
    {
     "name": "stdout",
     "output_type": "stream",
     "text": [
      "[1, 2, 3, 4, 5, 6, 7, 8, 9, 10, 11, 12, 13]\n",
      "\n",
      "10\n"
     ]
    }
   ],
   "source": [
    "N = int(input())\n",
    "cd_list = [x for x in range(1, N+1)]\n",
    "print(cd_list)\n",
    "print()\n",
    "\n",
    "while len(cd_list) >= 2:\n",
    "    cd_list.pop(0)\n",
    "    x = cd_list.pop(0)\n",
    "    cd_list.append(x)\n",
    "    \n",
    "print(cd_list[0])"
   ]
  },
  {
   "cell_type": "code",
   "execution_count": null,
   "metadata": {},
   "outputs": [
    {
     "name": "stdout",
     "output_type": "stream",
     "text": [
      "10\n"
     ]
    }
   ],
   "source": [
    "cd_list = list(range(1, int(input())+1))\n",
    "while len(cd_list) >= 2:\n",
    "    cd_list.pop(0)\n",
    "    x = cd_list.pop(0)\n",
    "    cd_list.append(x)\n",
    "    \n",
    "print(cd_list[0])"
   ]
  },
  {
   "cell_type": "code",
   "execution_count": null,
   "metadata": {},
   "outputs": [
    {
     "name": "stdout",
     "output_type": "stream",
     "text": [
      "10\n"
     ]
    }
   ],
   "source": [
    "N = int(input())\n",
    "cd_list = list(range(1, N+1))\n",
    "\n",
    "for _ in range(len(cd_list)):\n",
    "    if len(cd_list) >= 2:\n",
    "        cd_list.pop(0)\n",
    "        cd_list.append(cd_list.pop(0))\n",
    "print(cd_list[0])    "
   ]
  },
  {
   "cell_type": "code",
   "execution_count": null,
   "metadata": {},
   "outputs": [],
   "source": [
    "N = int(input())\n",
    "cd_list = list(range(1, N+1))\n",
    "\n",
    "for _ in range(len(cd_list)):\n",
    "    if len(cd_list) >= 2:\n",
    "        x = cd_list[1]\n",
    "        cd_list = cd_list[2:]\n",
    "        cd_list.append(x)\n",
    "\n",
    "print(cd_list[0])     # takes longer than 10 minutes! The worst solution!!!!"
   ]
  },
  {
   "cell_type": "code",
   "execution_count": null,
   "metadata": {},
   "outputs": [
    {
     "name": "stdout",
     "output_type": "stream",
     "text": [
      "475712\n"
     ]
    }
   ],
   "source": [
    "N = int(input())\n",
    "arr = [*range(1, N+1)]\n",
    "\n",
    "while len(arr) > 1:\n",
    "    arr.pop(0)\n",
    "    arr.append(arr.pop(0))\n",
    "\n",
    "print(arr.pop())"
   ]
  },
  {
   "cell_type": "markdown",
   "metadata": {},
   "source": [
    "##### Queue를 이용해서 푼다!!!!"
   ]
  },
  {
   "cell_type": "code",
   "execution_count": null,
   "metadata": {},
   "outputs": [
    {
     "name": "stdout",
     "output_type": "stream",
     "text": [
      "deque([1, 2, 3, 4, 5, 6, 7, 8, 9, 10, 11, 12, 13])\n",
      "10\n"
     ]
    }
   ],
   "source": [
    "from collections import deque\n",
    "\n",
    "N = int(input())\n",
    "q = deque((range(1, N+1)))\n",
    "print(q)\n",
    "\n",
    "while(len(q)>=2):\n",
    "    x = q[1]\n",
    "    q.popleft()\n",
    "    q.popleft()\n",
    "    q.append(x)\n",
    "    \n",
    "print(q[0])"
   ]
  },
  {
   "cell_type": "code",
   "execution_count": null,
   "metadata": {},
   "outputs": [
    {
     "name": "stdout",
     "output_type": "stream",
     "text": [
      "475712\n"
     ]
    }
   ],
   "source": [
    "from collections import deque\n",
    "\n",
    "N = int(input())\n",
    "dq = deque()\n",
    "\n",
    "for i in range(1, N+1):\n",
    "    dq.append(i)\n",
    "    \n",
    "while len(dq) >= 2:\n",
    "    x = dq[1]\n",
    "    dq.popleft()\n",
    "    dq.popleft()\n",
    "    dq.append(x)\n",
    "    \n",
    "print(dq.popleft())    "
   ]
  },
  {
   "cell_type": "code",
   "execution_count": 12,
   "metadata": {},
   "outputs": [
    {
     "name": "stdout",
     "output_type": "stream",
     "text": [
      "NO\n",
      "NO\n",
      "YES\n",
      "NO\n",
      "YES\n",
      "NO\n"
     ]
    }
   ],
   "source": [
    "for _ in range(int(input())):\n",
    "    stk = []\n",
    "    isVPS = True\n",
    "    \n",
    "    for ch in input():\n",
    "        if ch == \"(\":\n",
    "            stk.append(ch)\n",
    "        else:\n",
    "            if len(stk) > 0:\n",
    "                stk.pop()\n",
    "            else:\n",
    "                isVPS = False\n",
    "                break\n",
    "    if len(stk) > 0:\n",
    "        isVPS = False\n",
    "\n",
    "    print(\"YES\" if isVPS else \"NO\")       "
   ]
  },
  {
   "cell_type": "code",
   "execution_count": 3,
   "metadata": {},
   "outputs": [
    {
     "ename": "TypeError",
     "evalue": "list.append() takes exactly one argument (0 given)",
     "output_type": "error",
     "traceback": [
      "\u001b[1;31m---------------------------------------------------------------------------\u001b[0m",
      "\u001b[1;31mTypeError\u001b[0m                                 Traceback (most recent call last)",
      "\u001b[1;32me:\\BAEKJOON_072723\\boj_9012.ipynb Cell 32\u001b[0m in \u001b[0;36m<cell line: 3>\u001b[1;34m()\u001b[0m\n\u001b[0;32m      <a href='vscode-notebook-cell:/e%3A/BAEKJOON_072723/boj_9012.ipynb#X51sZmlsZQ%3D%3D?line=7'>8</a>\u001b[0m \u001b[39mfor\u001b[39;00m ch \u001b[39min\u001b[39;00m sys\u001b[39m.\u001b[39mstdin\u001b[39m.\u001b[39mreadline():\n\u001b[0;32m      <a href='vscode-notebook-cell:/e%3A/BAEKJOON_072723/boj_9012.ipynb#X51sZmlsZQ%3D%3D?line=8'>9</a>\u001b[0m     \u001b[39mif\u001b[39;00m ch \u001b[39m==\u001b[39m \u001b[39m'\u001b[39m\u001b[39m(\u001b[39m\u001b[39m'\u001b[39m:\n\u001b[1;32m---> <a href='vscode-notebook-cell:/e%3A/BAEKJOON_072723/boj_9012.ipynb#X51sZmlsZQ%3D%3D?line=9'>10</a>\u001b[0m         stk\u001b[39m.\u001b[39;49mappend()\n\u001b[0;32m     <a href='vscode-notebook-cell:/e%3A/BAEKJOON_072723/boj_9012.ipynb#X51sZmlsZQ%3D%3D?line=10'>11</a>\u001b[0m     \u001b[39melse\u001b[39;00m:\n\u001b[0;32m     <a href='vscode-notebook-cell:/e%3A/BAEKJOON_072723/boj_9012.ipynb#X51sZmlsZQ%3D%3D?line=11'>12</a>\u001b[0m         stk\u001b[39m.\u001b[39mpop()\n",
      "\u001b[1;31mTypeError\u001b[0m: list.append() takes exactly one argument (0 given)"
     ]
    }
   ],
   "source": [
    "import sys\n",
    "\n",
    "with open(\"data/boj_9012.txt\", \"r\") as sys.stdin:\n",
    "    stk = []\n",
    "    isVPS = True\n",
    "    \n",
    "    for _ in range(int(sys.stdin.readline())):\n",
    "        for ch in sys.stdin.readline():\n",
    "            if ch == '(':\n",
    "                stk.append()\n",
    "            else:\n",
    "                stk.pop()\n",
    "        if len(stk) > 0:\n",
    "            isVPS = False\n",
    "        print(\"YES\" if isVPS else \"NO\")"
   ]
  },
  {
   "cell_type": "code",
   "execution_count": 5,
   "metadata": {},
   "outputs": [
    {
     "name": "stdout",
     "output_type": "stream",
     "text": [
      "['6\\n', '(())())\\n', '(((()())()\\n', '(()())((()))\\n', '((()()(()))(((())))()\\n', '()()()()(()()())()\\n', '(()((())()(']\n"
     ]
    }
   ],
   "source": [
    "with open(\"data/boj_9012.txt\", \"r\") as f:\n",
    "    print(f.readlines())"
   ]
  }
 ],
 "metadata": {
  "kernelspec": {
   "display_name": "keras_study",
   "language": "python",
   "name": "keras_study"
  },
  "language_info": {
   "codemirror_mode": {
    "name": "ipython",
    "version": 3
   },
   "file_extension": ".py",
   "mimetype": "text/x-python",
   "name": "python",
   "nbconvert_exporter": "python",
   "pygments_lexer": "ipython3",
   "version": "3.9.12"
  },
  "orig_nbformat": 4
 },
 "nbformat": 4,
 "nbformat_minor": 2
}
