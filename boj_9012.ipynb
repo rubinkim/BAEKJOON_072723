{
 "cells": [
  {
   "cell_type": "code",
   "execution_count": 1,
   "metadata": {},
   "outputs": [],
   "source": [
    "import numpy as np"
   ]
  },
  {
   "cell_type": "code",
   "execution_count": 10,
   "metadata": {},
   "outputs": [
    {
     "name": "stdout",
     "output_type": "stream",
     "text": [
      "[0, 2, 4]\n"
     ]
    }
   ],
   "source": [
    "s, s_trace = [], []\n",
    "s.append(0)\n",
    "s.append(2)\n",
    "s.append(4)\n",
    "\n",
    "s_trace.append(0)\n",
    "s_trace.append(2)\n",
    "s_trace.append(4)\n",
    "\n",
    "print(s)\n",
    "\n",
    "while s:\n",
    "    x = s.pop() + 1\n",
    "    s_trace.append(x)\n",
    "    #print(s.pop()+1, end=' ')"
   ]
  },
  {
   "cell_type": "code",
   "execution_count": 11,
   "metadata": {},
   "outputs": [
    {
     "data": {
      "text/plain": [
       "[0, 2, 4, 5, 3, 1]"
      ]
     },
     "execution_count": 11,
     "metadata": {},
     "output_type": "execute_result"
    }
   ],
   "source": [
    "s_trace"
   ]
  },
  {
   "cell_type": "code",
   "execution_count": 12,
   "metadata": {},
   "outputs": [],
   "source": [
    "def draw_parenthesis(x):\n",
    "    if x % 2 == 0:\n",
    "        return \"(\"\n",
    "    else: return \")\""
   ]
  },
  {
   "cell_type": "code",
   "execution_count": 14,
   "metadata": {},
   "outputs": [
    {
     "data": {
      "text/plain": [
       "['(', '(', '(', ')', ')', ')']"
      ]
     },
     "execution_count": 14,
     "metadata": {},
     "output_type": "execute_result"
    }
   ],
   "source": [
    "s_trace_parenthesis = []\n",
    "for x in s_trace:\n",
    "    s_trace_parenthesis.append(draw_parenthesis(x))\n",
    "    \n",
    "s_trace_parenthesis"
   ]
  },
  {
   "cell_type": "code",
   "execution_count": 12,
   "metadata": {},
   "outputs": [
    {
     "name": "stdout",
     "output_type": "stream",
     "text": [
      "NO\n",
      "NO\n",
      "NO\n"
     ]
    }
   ],
   "source": [
    "T = int(input())\n",
    "\n",
    "for _ in range(T):\n",
    "    stk = []\n",
    "    isVPS = True\n",
    "    \n",
    "    for ch in input():\n",
    "        if ch == '(':\n",
    "            stk.append(ch)\n",
    "        else:\n",
    "            if len(stk) > 0:\n",
    "                stk.pop()\n",
    "            else:\n",
    "                isVPS = False\n",
    "                break\n",
    "    \n",
    "    if len(stk) > 0:\n",
    "        isVPS = False \n",
    "        \n",
    "    print('YES' if isVPS else 'NO')"
   ]
  },
  {
   "cell_type": "markdown",
   "metadata": {},
   "source": [
    "##### boj.kr/2164"
   ]
  },
  {
   "cell_type": "code",
   "execution_count": 15,
   "metadata": {},
   "outputs": [
    {
     "name": "stdout",
     "output_type": "stream",
     "text": [
      "[1, 2, 3, 4, 5, 6, 7, 8, 9, 10, 11, 12, 13]\n",
      "\n",
      "10\n"
     ]
    }
   ],
   "source": [
    "N = int(input())\n",
    "cd_list = [x for x in range(1, N+1)]\n",
    "print(cd_list)\n",
    "print()\n",
    "\n",
    "while len(cd_list) >= 2:\n",
    "    cd_list.pop(0)\n",
    "    x = cd_list.pop(0)\n",
    "    cd_list.append(x)\n",
    "    \n",
    "print(cd_list[0])"
   ]
  },
  {
   "cell_type": "code",
   "execution_count": 29,
   "metadata": {},
   "outputs": [
    {
     "name": "stdout",
     "output_type": "stream",
     "text": [
      "10\n"
     ]
    }
   ],
   "source": [
    "cd_list = list(range(1, int(input())+1))\n",
    "while len(cd_list) >= 2:\n",
    "    cd_list.pop(0)\n",
    "    x = cd_list.pop(0)\n",
    "    cd_list.append(x)\n",
    "    \n",
    "print(cd_list[0])"
   ]
  },
  {
   "cell_type": "code",
   "execution_count": 6,
   "metadata": {},
   "outputs": [
    {
     "name": "stdout",
     "output_type": "stream",
     "text": [
      "10\n"
     ]
    }
   ],
   "source": [
    "N = int(input())\n",
    "cd_list = list(range(1, N+1))\n",
    "\n",
    "for _ in range(len(cd_list)):\n",
    "    if len(cd_list) >= 2:\n",
    "        cd_list.pop(0)\n",
    "        cd_list.append(cd_list.pop(0))\n",
    "print(cd_list[0])    "
   ]
  },
  {
   "cell_type": "code",
   "execution_count": 8,
   "metadata": {},
   "outputs": [
    {
     "name": "stdout",
     "output_type": "stream",
     "text": [
      "10\n"
     ]
    }
   ],
   "source": [
    "N = int(input())\n",
    "cd_list = list(range(1, N+1))\n",
    "\n",
    "for _ in range(len(cd_list)):\n",
    "    if len(cd_list) >= 2:\n",
    "        x = cd_list[1]\n",
    "        cd_list = cd_list[2:]\n",
    "        cd_list.append(x)\n",
    "\n",
    "print(cd_list[0])"
   ]
  },
  {
   "cell_type": "markdown",
   "metadata": {},
   "source": [
    "##### Queue를 이용해서 푼다!!!!"
   ]
  },
  {
   "cell_type": "code",
   "execution_count": 4,
   "metadata": {},
   "outputs": [
    {
     "name": "stdout",
     "output_type": "stream",
     "text": [
      "deque([1, 2, 3, 4, 5, 6, 7, 8, 9, 10, 11, 12, 13])\n",
      "10\n"
     ]
    }
   ],
   "source": [
    "from collections import deque\n",
    "\n",
    "N = int(input())\n",
    "q = deque((range(1, N+1)))\n",
    "print(q)\n",
    "\n",
    "while(len(q)>=2):\n",
    "    x = q[1]\n",
    "    q.popleft()\n",
    "    q.popleft()\n",
    "    q.append(x)\n",
    "    \n",
    "print(q[0])"
   ]
  },
  {
   "cell_type": "code",
   "execution_count": 3,
   "metadata": {},
   "outputs": [
    {
     "name": "stdout",
     "output_type": "stream",
     "text": [
      "10\n"
     ]
    }
   ],
   "source": [
    "from collections import deque\n",
    "\n",
    "N = int(input())\n",
    "dq = deque()\n",
    "\n",
    "for i in range(1, N+1):\n",
    "    dq.append(i)\n",
    "    \n",
    "while len(dq) >= 2:\n",
    "    x = dq[1]\n",
    "    dq.popleft()\n",
    "    dq.popleft()\n",
    "    dq.append(x)\n",
    "    \n",
    "print(dq[0])    "
   ]
  },
  {
   "cell_type": "code",
   "execution_count": null,
   "metadata": {},
   "outputs": [],
   "source": []
  }
 ],
 "metadata": {
  "kernelspec": {
   "display_name": "keras_study",
   "language": "python",
   "name": "keras_study"
  },
  "language_info": {
   "codemirror_mode": {
    "name": "ipython",
    "version": 3
   },
   "file_extension": ".py",
   "mimetype": "text/x-python",
   "name": "python",
   "nbconvert_exporter": "python",
   "pygments_lexer": "ipython3",
   "version": "3.9.12"
  },
  "orig_nbformat": 4
 },
 "nbformat": 4,
 "nbformat_minor": 2
}
