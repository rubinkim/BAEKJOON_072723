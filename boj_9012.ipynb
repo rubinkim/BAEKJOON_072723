{
 "cells": [
  {
   "cell_type": "code",
   "execution_count": 1,
   "metadata": {},
   "outputs": [],
   "source": [
    "import numpy as np"
   ]
  },
  {
   "cell_type": "code",
   "execution_count": 10,
   "metadata": {},
   "outputs": [
    {
     "name": "stdout",
     "output_type": "stream",
     "text": [
      "[0, 2, 4]\n"
     ]
    }
   ],
   "source": [
    "s, s_trace = [], []\n",
    "s.append(0)\n",
    "s.append(2)\n",
    "s.append(4)\n",
    "\n",
    "s_trace.append(0)\n",
    "s_trace.append(2)\n",
    "s_trace.append(4)\n",
    "\n",
    "print(s)\n",
    "\n",
    "while s:\n",
    "    x = s.pop() + 1\n",
    "    s_trace.append(x)\n",
    "    #print(s.pop()+1, end=' ')"
   ]
  },
  {
   "cell_type": "code",
   "execution_count": 11,
   "metadata": {},
   "outputs": [
    {
     "data": {
      "text/plain": [
       "[0, 2, 4, 5, 3, 1]"
      ]
     },
     "execution_count": 11,
     "metadata": {},
     "output_type": "execute_result"
    }
   ],
   "source": [
    "s_trace"
   ]
  },
  {
   "cell_type": "code",
   "execution_count": 12,
   "metadata": {},
   "outputs": [],
   "source": [
    "def draw_parenthesis(x):\n",
    "    if x % 2 == 0:\n",
    "        return \"(\"\n",
    "    else: return \")\""
   ]
  },
  {
   "cell_type": "code",
   "execution_count": 14,
   "metadata": {},
   "outputs": [
    {
     "data": {
      "text/plain": [
       "['(', '(', '(', ')', ')', ')']"
      ]
     },
     "execution_count": 14,
     "metadata": {},
     "output_type": "execute_result"
    }
   ],
   "source": [
    "s_trace_parenthesis = []\n",
    "for x in s_trace:\n",
    "    s_trace_parenthesis.append(draw_parenthesis(x))\n",
    "    \n",
    "s_trace_parenthesis"
   ]
  },
  {
   "cell_type": "code",
   "execution_count": 12,
   "metadata": {},
   "outputs": [
    {
     "name": "stdout",
     "output_type": "stream",
     "text": [
      "NO\n",
      "NO\n",
      "NO\n"
     ]
    }
   ],
   "source": [
    "T = int(input())\n",
    "\n",
    "for _ in range(T):\n",
    "    stk = []\n",
    "    isVPS = True\n",
    "    \n",
    "    for ch in input():\n",
    "        if ch == '(':\n",
    "            stk.append(ch)\n",
    "        else:\n",
    "            if len(stk) > 0:\n",
    "                stk.pop()\n",
    "            else:\n",
    "                isVPS = False\n",
    "                break\n",
    "    \n",
    "    if len(stk) > 0:\n",
    "        isVPS = False \n",
    "        \n",
    "    print('YES' if isVPS else 'NO')"
   ]
  },
  {
   "cell_type": "markdown",
   "metadata": {},
   "source": [
    "##### boj.kr/2164"
   ]
  },
  {
   "cell_type": "code",
   "execution_count": 15,
   "metadata": {},
   "outputs": [
    {
     "name": "stdout",
     "output_type": "stream",
     "text": [
      "[1, 2, 3, 4, 5, 6, 7, 8, 9, 10, 11, 12, 13]\n",
      "\n",
      "10\n"
     ]
    }
   ],
   "source": [
    "N = int(input())\n",
    "cd_list = [x for x in range(1, N+1)]\n",
    "print(cd_list)\n",
    "print()\n",
    "\n",
    "while len(cd_list) >= 2:\n",
    "    cd_list.pop(0)\n",
    "    x = cd_list.pop(0)\n",
    "    cd_list.append(x)\n",
    "    \n",
    "print(cd_list[0])"
   ]
  },
  {
   "cell_type": "code",
   "execution_count": 29,
   "metadata": {},
   "outputs": [
    {
     "name": "stdout",
     "output_type": "stream",
     "text": [
      "10\n"
     ]
    }
   ],
   "source": [
    "cd_list = list(range(1, int(input())+1))\n",
    "while len(cd_list) >= 2:\n",
    "    cd_list.pop(0)\n",
    "    x = cd_list.pop(0)\n",
    "    cd_list.append(x)\n",
    "    \n",
    "print(cd_list[0])"
   ]
  },
  {
   "cell_type": "code",
   "execution_count": 6,
   "metadata": {},
   "outputs": [
    {
     "name": "stdout",
     "output_type": "stream",
     "text": [
      "10\n"
     ]
    }
   ],
   "source": [
    "N = int(input())\n",
    "cd_list = list(range(1, N+1))\n",
    "\n",
    "for _ in range(len(cd_list)):\n",
    "    if len(cd_list) >= 2:\n",
    "        cd_list.pop(0)\n",
    "        cd_list.append(cd_list.pop(0))\n",
    "print(cd_list[0])    "
   ]
  },
  {
   "cell_type": "code",
   "execution_count": 7,
   "metadata": {},
   "outputs": [],
   "source": [
    "N = int(input())\n",
    "cd_list = list(range(1, N+1))\n",
    "\n",
    "for _ in range(len(cd_list)):\n",
    "    if len(cd_list) >= 2:\n",
    "        x = cd_list[1]\n",
    "        cd_list = cd_list[2:]\n",
    "        cd_list.append(x)\n",
    "\n",
    "print(cd_list[0])     # takes longer than 10 minutes! The worst solution!!!!"
   ]
  },
  {
   "cell_type": "code",
   "execution_count": 3,
   "metadata": {},
   "outputs": [
    {
     "name": "stdout",
     "output_type": "stream",
     "text": [
      "475712\n"
     ]
    }
   ],
   "source": [
    "N = int(input())\n",
    "arr = [*range(1, N+1)]\n",
    "\n",
    "while len(arr) > 1:\n",
    "    arr.pop(0)\n",
    "    arr.append(arr.pop(0))\n",
    "\n",
    "print(arr.pop())"
   ]
  },
  {
   "cell_type": "markdown",
   "metadata": {},
   "source": [
    "##### Queue를 이용해서 푼다!!!!"
   ]
  },
  {
   "cell_type": "code",
   "execution_count": 4,
   "metadata": {},
   "outputs": [
    {
     "name": "stdout",
     "output_type": "stream",
     "text": [
      "deque([1, 2, 3, 4, 5, 6, 7, 8, 9, 10, 11, 12, 13])\n",
      "10\n"
     ]
    }
   ],
   "source": [
    "from collections import deque\n",
    "\n",
    "N = int(input())\n",
    "q = deque((range(1, N+1)))\n",
    "print(q)\n",
    "\n",
    "while(len(q)>=2):\n",
    "    x = q[1]\n",
    "    q.popleft()\n",
    "    q.popleft()\n",
    "    q.append(x)\n",
    "    \n",
    "print(q[0])"
   ]
  },
  {
   "cell_type": "code",
   "execution_count": 5,
   "metadata": {},
   "outputs": [
    {
     "name": "stdout",
     "output_type": "stream",
     "text": [
      "475712\n"
     ]
    }
   ],
   "source": [
    "from collections import deque\n",
    "\n",
    "N = int(input())\n",
    "dq = deque()\n",
    "\n",
    "for i in range(1, N+1):\n",
    "    dq.append(i)\n",
    "    \n",
    "while len(dq) >= 2:\n",
    "    x = dq[1]\n",
    "    dq.popleft()\n",
    "    dq.popleft()\n",
    "    dq.append(x)\n",
    "    \n",
    "print(dq.popleft())    "
   ]
  },
  {
   "cell_type": "markdown",
   "metadata": {},
   "source": [
    "##### boj.kr/11286"
   ]
  },
  {
   "cell_type": "code",
   "execution_count": 8,
   "metadata": {},
   "outputs": [
    {
     "name": "stdout",
     "output_type": "stream",
     "text": [
      "1\n",
      "1\n",
      "0\n",
      "1\n",
      "1\n",
      "1\n",
      "1\n",
      "2\n",
      "2\n",
      "0\n"
     ]
    }
   ],
   "source": [
    "import heapq\n",
    "\n",
    "hq = []\n",
    "\n",
    "N = int(input())\n",
    "\n",
    "for _ in range(N):\n",
    "    x = int(input())\n",
    "    if x != 0:\n",
    "        abs_x = abs(x)\n",
    "        heapq.heappush(hq, abs_x)        \n",
    "        \n",
    "    elif len(hq) == 0:\n",
    "        print(0)\n",
    "        \n",
    "    elif x == 0:\n",
    "        \n",
    "        print(heapq.heappop(hq)) "
   ]
  },
  {
   "cell_type": "code",
   "execution_count": null,
   "metadata": {},
   "outputs": [],
   "source": [
    "import heapq\n",
    "\n",
    "hq = []\n",
    "\n",
    "N = int(input())\n",
    "\n",
    "for _ in range(N):\n",
    "    x = int(input())\n",
    "    if x > 0:\n",
    "        heapq.heappush(hq, x)   \n",
    "        \n",
    "    elif x < 0:\n",
    "        abs_x = abs(x)\n",
    "        heapq.heappush(hq, abs_x)     \n",
    "        \n",
    "    elif len(hq) == 0:\n",
    "        print(0)\n",
    "        \n",
    "    elif x == 0:\n",
    "        \n",
    "        print(heapq.heappop(hq)) "
   ]
  },
  {
   "cell_type": "code",
   "execution_count": null,
   "metadata": {},
   "outputs": [],
   "source": [
    "import heapq\n",
    "\n",
    "hq = []\n",
    "\n",
    "N = int(input())\n",
    "\n",
    "for _ in range(N):\n",
    "    x = int(input())\n",
    "    if x > 0:\n",
    "        heapq.heappush(hq, x)   \n",
    "        \n",
    "    elif x < 0:\n",
    "        heapq.heappush(hq, -x)     \n",
    "        \n",
    "    elif len(hq) == 0:\n",
    "        print(0)\n",
    "        \n",
    "    elif x == 0:\n",
    "        \n",
    "        print(heapq.heappop(hq)) "
   ]
  },
  {
   "cell_type": "code",
   "execution_count": 10,
   "metadata": {},
   "outputs": [
    {
     "ename": "KeyError",
     "evalue": "1",
     "output_type": "error",
     "traceback": [
      "\u001b[1;31m---------------------------------------------------------------------------\u001b[0m",
      "\u001b[1;31mKeyError\u001b[0m                                  Traceback (most recent call last)",
      "\u001b[1;32me:\\BAEKJOON_072723\\boj_9012.ipynb Cell 20\u001b[0m in \u001b[0;36m<cell line: 7>\u001b[1;34m()\u001b[0m\n\u001b[0;32m     <a href='vscode-notebook-cell:/e%3A/BAEKJOON_072723/boj_9012.ipynb#X24sZmlsZQ%3D%3D?line=19'>20</a>\u001b[0m     \u001b[39mprint\u001b[39m(\u001b[39m0\u001b[39m)\n\u001b[0;32m     <a href='vscode-notebook-cell:/e%3A/BAEKJOON_072723/boj_9012.ipynb#X24sZmlsZQ%3D%3D?line=21'>22</a>\u001b[0m \u001b[39melif\u001b[39;00m x \u001b[39m==\u001b[39m \u001b[39m0\u001b[39m:\n\u001b[1;32m---> <a href='vscode-notebook-cell:/e%3A/BAEKJOON_072723/boj_9012.ipynb#X24sZmlsZQ%3D%3D?line=22'>23</a>\u001b[0m     \u001b[39mif\u001b[39;00m x_dict[hq[\u001b[39m0\u001b[39;49m]] \u001b[39m==\u001b[39m \u001b[39m\"\u001b[39m\u001b[39mpositive\u001b[39m\u001b[39m\"\u001b[39m:\n\u001b[0;32m     <a href='vscode-notebook-cell:/e%3A/BAEKJOON_072723/boj_9012.ipynb#X24sZmlsZQ%3D%3D?line=23'>24</a>\u001b[0m         \u001b[39mprint\u001b[39m(heapq\u001b[39m.\u001b[39mheappop(hq)) \n\u001b[0;32m     <a href='vscode-notebook-cell:/e%3A/BAEKJOON_072723/boj_9012.ipynb#X24sZmlsZQ%3D%3D?line=24'>25</a>\u001b[0m     \u001b[39melse\u001b[39;00m:\n",
      "\u001b[1;31mKeyError\u001b[0m: 1"
     ]
    }
   ],
   "source": [
    "import heapq\n",
    "\n",
    "hq = []\n",
    "\n",
    "N = int(input())\n",
    "\n",
    "for _ in range(N):\n",
    "    x = int(input())\n",
    "    x_dict = {}\n",
    "    \n",
    "    if x > 0:\n",
    "        x_dict[x] = \"positive\"\n",
    "        heapq.heappush(hq, x)   \n",
    "        \n",
    "    elif x < 0:\n",
    "        x_dict[x] = \"negative\"\n",
    "        heapq.heappush(hq, -x)     \n",
    "        \n",
    "    elif len(hq) == 0:\n",
    "        print(0)\n",
    "        \n",
    "    elif x == 0:\n",
    "        if x_dict[hq[0]] == \"positive\":\n",
    "            print(heapq.heappop(hq)) \n",
    "        else:\n",
    "            y = -hq[0]\n",
    "            heapq.heappop(hq)\n",
    "            print(y)"
   ]
  },
  {
   "cell_type": "code",
   "execution_count": 15,
   "metadata": {},
   "outputs": [
    {
     "name": "stdout",
     "output_type": "stream",
     "text": [
      "-1\n",
      "1\n",
      "0\n",
      "-1\n",
      "-1\n",
      "1\n",
      "1\n",
      "-2\n",
      "2\n",
      "0\n"
     ]
    }
   ],
   "source": [
    "import heapq\n",
    "N = int(input())\n",
    "\n",
    "hq_positive, hq_negative = [], []\n",
    "\n",
    "for _ in range(N):\n",
    "    x = int(input())\n",
    "    \n",
    "    if x > 0:\n",
    "        heapq.heappush(hq_positive, x)\n",
    "        \n",
    "    elif x < 0:\n",
    "        heapq.heappush(hq_negative, -x)\n",
    "        \n",
    "    elif (len(hq_positive) == 0) and (len(hq_negative) == 0):\n",
    "        print(0)\n",
    "        \n",
    "    elif (len(hq_positive) == 0) and (len(hq_negative) > 0) and (x == 0):\n",
    "        print(-hq_negative[0])\n",
    "        heapq.heappop(hq_negative)\n",
    "        \n",
    "    elif (len(hq_positive) > 0) and (len(hq_negative) == 0) and (x == 0):\n",
    "        print(hq_positive[0])\n",
    "        heapq.heappop(hq_positive)\n",
    "          \n",
    "    elif (x == 0) and (hq_positive[0] == hq_negative[0]):\n",
    "        print(-hq_negative[0])\n",
    "        heapq.heappop(hq_negative)\n",
    "        \n",
    "    elif (x == 0) and (hq_positive[0] > hq_negative[0]):\n",
    "        print(-hq_negative[0])\n",
    "        heapq.heappop(hq_negative)\n",
    "        \n",
    "    elif (x == 0) and (hq_positive[0] < hq_negative[0]):\n",
    "        print(hq_positive[0])     \n",
    "        heapq.heappop(hq_positive)  "
   ]
  },
  {
   "cell_type": "markdown",
   "metadata": {},
   "source": [
    "##### 우선순위큐에 튜플을 넣이보자"
   ]
  },
  {
   "cell_type": "code",
   "execution_count": 5,
   "metadata": {},
   "outputs": [
    {
     "name": "stdout",
     "output_type": "stream",
     "text": [
      "[(1, -1), (1, 1), (5, 5), (5, -5), (4, 4)]\n"
     ]
    }
   ],
   "source": [
    "import heapq\n",
    "N = int(input())\n",
    "hq = []\n",
    "\n",
    "for _ in range(N):\n",
    "    x = int(input())\n",
    "    \n",
    "    if x != 0:\n",
    "        heapq.heappush(hq, (abs(x), x))\n",
    "        \n",
    "print(hq)"
   ]
  },
  {
   "cell_type": "code",
   "execution_count": 6,
   "metadata": {},
   "outputs": [],
   "source": [
    "heapq.heapify(hq)"
   ]
  },
  {
   "cell_type": "code",
   "execution_count": 7,
   "metadata": {},
   "outputs": [
    {
     "name": "stdout",
     "output_type": "stream",
     "text": [
      "[(1, -1), (1, 1), (5, 5), (5, -5), (4, 4)]\n"
     ]
    }
   ],
   "source": [
    "print(hq)"
   ]
  },
  {
   "cell_type": "code",
   "execution_count": null,
   "metadata": {},
   "outputs": [],
   "source": [
    "import sys\n",
    "import heapq as hq\n",
    "\n",
    "fast_input = sys.stdin.readline\n",
    "pq = []\n",
    "\n",
    "for _ in range(int(fast_input())):\n",
    "    x = int(fast_input())\n",
    "    \n",
    "    if x:\n",
    "        hq.heappush(pq, (abs(x), x))\n",
    "    else:\n",
    "        print(hq.heappop(pq)[1] if pq else 0)"
   ]
  },
  {
   "cell_type": "markdown",
   "metadata": {},
   "source": [
    "##### Using min_heap & max_heap"
   ]
  },
  {
   "cell_type": "code",
   "execution_count": null,
   "metadata": {},
   "outputs": [],
   "source": [
    "import heapq as hq\n",
    "import sys\n",
    "\n",
    "fast_input = sys.stdin.readline\n",
    "min_heap, max_heap = [], []\n",
    "\n",
    "for _ in range(int(fast_input())):\n",
    "    x = int(fast_input())\n",
    "    \n",
    "    if x:\n",
    "        if x > 0: \n",
    "            hq.heappush(min_heap, x)\n",
    "        else: \n",
    "            hq.heappush(max_heap, -x)\n",
    "    \n",
    "    else:\n",
    "        if min_heap:\n",
    "            if max_heap:\n",
    "                if min_heap[0] < abs(-max_heap[0]):\n",
    "                    print(hq.heappop(min_heap))\n",
    "                elif min_heap[0] > abs(-max_heap[0]):\n",
    "                    print(-hq.heappop(max_heap))\n",
    "                else:\n",
    "                    print(-hq.heappop(max_heap))\n",
    "            else:\n",
    "                print(hq.heappop(min_heap))\n",
    "        \n",
    "        else:\n",
    "            if max_heap:\n",
    "                print(-hq.heappop(max_heap))\n",
    "            else:\n",
    "                print(0)"
   ]
  },
  {
   "cell_type": "code",
   "execution_count": 8,
   "metadata": {},
   "outputs": [],
   "source": [
    "import sys\n",
    "import heapq as hq\n",
    "\n",
    "min_hq, max_hq = [], []\n",
    "fast_input = sys.stdin.readline\n",
    "\n",
    "for _ in range(int(fast_input())):\n",
    "    x = int(fast_input())\n",
    "    \n",
    "    if x:\n",
    "        if x > 0:\n",
    "            hq.heappush(min_hq, x)\n",
    "        elif x < 0:\n",
    "            hq.heappush(max_hq, -x)        \n",
    "        \n",
    "    else:\n",
    "        if min_hq:\n",
    "            if max_hq:                \n",
    "                if min_hq[0] < max_hq[0]:\n",
    "                    print(hq.heappop(min_hq))\n",
    "                elif min_hq[0] > max_hq[0]:\n",
    "                    print(-hq.heappop(max_hq))\n",
    "                else:\n",
    "                    print(-hq.heappop(max_hq))                    \n",
    "            else:\n",
    "                print(hq.heappop(min_hq))\n",
    "        else:\n",
    "            if max_hq:\n",
    "                print(-hq.heappop(max_hq))\n",
    "            else:\n",
    "                print(0)"
   ]
  },
  {
   "cell_type": "code",
   "execution_count": 4,
   "metadata": {},
   "outputs": [
    {
     "name": "stdout",
     "output_type": "stream",
     "text": [
      "[1, 3, 2]\n",
      "[1, 3, 2]\n"
     ]
    }
   ],
   "source": [
    "18 1 -1 0 0 0 1 1 -1 -1 2 -2 0 0 0 0 0 0 0\n",
    "\n",
    "-1\n",
    "1\n",
    "0\n",
    "-1\n",
    "-1\n",
    "1\n",
    "1\n",
    "-2\n",
    "2\n",
    "0"
   ]
  },
  {
   "cell_type": "code",
   "execution_count": null,
   "metadata": {},
   "outputs": [],
   "source": []
  },
  {
   "cell_type": "code",
   "execution_count": null,
   "metadata": {},
   "outputs": [],
   "source": []
  },
  {
   "cell_type": "code",
   "execution_count": null,
   "metadata": {},
   "outputs": [],
   "source": []
  },
  {
   "cell_type": "code",
   "execution_count": null,
   "metadata": {},
   "outputs": [],
   "source": []
  },
  {
   "cell_type": "code",
   "execution_count": null,
   "metadata": {},
   "outputs": [],
   "source": []
  },
  {
   "cell_type": "code",
   "execution_count": null,
   "metadata": {},
   "outputs": [],
   "source": []
  }
 ],
 "metadata": {
  "kernelspec": {
   "display_name": "keras_study",
   "language": "python",
   "name": "keras_study"
  },
  "language_info": {
   "codemirror_mode": {
    "name": "ipython",
    "version": 3
   },
   "file_extension": ".py",
   "mimetype": "text/x-python",
   "name": "python",
   "nbconvert_exporter": "python",
   "pygments_lexer": "ipython3",
   "version": "3.9.12"
  },
  "orig_nbformat": 4
 },
 "nbformat": 4,
 "nbformat_minor": 2
}
