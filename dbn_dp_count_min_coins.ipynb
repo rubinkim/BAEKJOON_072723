{
 "cells": [
  {
   "cell_type": "code",
   "execution_count": 2,
   "metadata": {},
   "outputs": [
    {
     "name": "stdout",
     "output_type": "stream",
     "text": [
      "n : 2,    m : 15\n",
      "coin_kinds : [2, 3]\n"
     ]
    }
   ],
   "source": [
    "n, m = list(map(int, input().split()))\n",
    "print(f\"n : {n},    m : {m}\")      # n : number of coin assortments,  m : target amount\n",
    "\n",
    "coin_kinds = [k for k in map(int, input().split())]\n",
    "print(f\"coin_kinds : {coin_kinds}\")\n",
    "\n",
    "d = [0] * 16\n",
    "d[0], d[1], d[2], d[3] = 0, 0, 1, 1"
   ]
  },
  {
   "cell_type": "code",
   "execution_count": 19,
   "metadata": {},
   "outputs": [],
   "source": [
    "for i in range(4, m+1):\n",
    "    di_alternatives = []\n",
    "    for coin in coin_kinds:\n",
    "        if i % coin == 0:\n",
    "            di_alternatives.append(d[i//coin]+1)\n",
    "        else:\n",
    "            continue\n",
    "    if len(di_alternatives) == 0:\n",
    "        if d[i] == 0:\n",
    "            d[i] = -1\n",
    "    else:\n",
    "        if d[i] == 0:\n",
    "            d[i] = min(di_alternatives)"
   ]
  },
  {
   "cell_type": "code",
   "execution_count": 20,
   "metadata": {},
   "outputs": [
    {
     "name": "stdout",
     "output_type": "stream",
     "text": [
      "[0, 0, 1, 1, 2, -1, 2, -1, 3, 2, 1, -1, 3, -1, 1, 1, 0, 0, 0, 0, 0, 0, 0, 0, 0, 0, 0, 0, 0, 0, 0, 0, 0, 0, 0, 0, 0, 0, 0, 0, 0, 0, 0, 0, 0, 0, 0, 0, 0, 0]\n"
     ]
    }
   ],
   "source": [
    "print(d)"
   ]
  },
  {
   "cell_type": "code",
   "execution_count": 2,
   "metadata": {},
   "outputs": [],
   "source": [
    "for i in range(4, m+1):\n",
    "    i_chg = i\n",
    "    while i_chg > 1:\n",
    "        di_alternatives = []\n",
    "        for coin in coin_kinds:\n",
    "            if i_chg % coin == 0:\n",
    "                di_alternatives.append(d[i_chg//coin]+1)\n",
    "                i_chg //= coin\n",
    "            else:\n",
    "                continue\n",
    "        if len(di_alternatives) == 0:\n",
    "            if d[i] == 0:\n",
    "                d[i] = -1\n",
    "                break\n",
    "        else:\n",
    "            if d[i] == 0:\n",
    "                d[i] = min(di_alternatives)\n",
    "        \n",
    "        if i_chg == 1:\n",
    "            break               "
   ]
  },
  {
   "cell_type": "code",
   "execution_count": 3,
   "metadata": {},
   "outputs": [],
   "source": [
    "for i in range(4, m+1):\n",
    "    i_chg = i\n",
    "    while i_chg > 1:\n",
    "        di_alternatives = []\n",
    "        for coin in coin_kinds:\n",
    "            if i_chg % coin == 0:\n",
    "                di_alternatives.append(d[i_chg//coin]+1)\n",
    "                i_chg //= coin\n",
    "            else:\n",
    "                continue\n",
    "        if len(di_alternatives) == 0:\n",
    "            d[i] = -1\n",
    "            break\n",
    "        else:\n",
    "            if d[i] == 0:\n",
    "                d[i] = min(di_alternatives)\n",
    "        \n",
    "        if i_chg == 1:\n",
    "            break               "
   ]
  },
  {
   "cell_type": "code",
   "execution_count": 4,
   "metadata": {},
   "outputs": [
    {
     "name": "stdout",
     "output_type": "stream",
     "text": [
      "[0, 0, 1, 1, 2, -1, 1, -1, 3, 2, -1, -1, 2, -1, -1, -1]\n"
     ]
    }
   ],
   "source": [
    "print(d)"
   ]
  },
  {
   "cell_type": "code",
   "execution_count": null,
   "metadata": {},
   "outputs": [],
   "source": [
    "for i in range(10, 11):\n",
    "    i_chg = i\n",
    "    di_alternatives = []\n",
    "    while i_chg > 1:\n",
    "        #di_alternatives = []\n",
    "        for coin in coin_kinds:\n",
    "            if i_chg % coin == 0:\n",
    "                di_alternatives.append(d[i_chg//coin]+1)\n",
    "                i_chg //= coin\n",
    "            else:\n",
    "                continue\n",
    "        if len(di_alternatives) == 0:\n",
    "            d[i] = -1\n",
    "            break\n",
    "        else:\n",
    "            if d[i] == 0:\n",
    "                d[i] = min(di_alternatives)\n",
    "        \n",
    "        if i_chg == 1:\n",
    "            break               "
   ]
  },
  {
   "cell_type": "code",
   "execution_count": 3,
   "metadata": {},
   "outputs": [
    {
     "ename": "NameError",
     "evalue": "name 'di_alternatives' is not defined",
     "output_type": "error",
     "traceback": [
      "\u001b[1;31m---------------------------------------------------------------------------\u001b[0m",
      "\u001b[1;31mNameError\u001b[0m                                 Traceback (most recent call last)",
      "\u001b[1;32me:\\BAEKJOON_072723\\dbn_dp_count_min_coins.ipynb Cell 8\u001b[0m line \u001b[0;36m<cell line: 3>\u001b[1;34m()\u001b[0m\n\u001b[0;32m      <a href='vscode-notebook-cell:/e%3A/BAEKJOON_072723/dbn_dp_count_min_coins.ipynb#X10sZmlsZQ%3D%3D?line=2'>3</a>\u001b[0m \u001b[39mfor\u001b[39;00m coin \u001b[39min\u001b[39;00m coin_kinds:\n\u001b[0;32m      <a href='vscode-notebook-cell:/e%3A/BAEKJOON_072723/dbn_dp_count_min_coins.ipynb#X10sZmlsZQ%3D%3D?line=3'>4</a>\u001b[0m     \u001b[39mif\u001b[39;00m k \u001b[39m%\u001b[39m coin \u001b[39m==\u001b[39m \u001b[39m0\u001b[39m:\n\u001b[1;32m----> <a href='vscode-notebook-cell:/e%3A/BAEKJOON_072723/dbn_dp_count_min_coins.ipynb#X10sZmlsZQ%3D%3D?line=4'>5</a>\u001b[0m         di_alternatives\u001b[39m.\u001b[39mappend(d[k\u001b[39m/\u001b[39m\u001b[39m/\u001b[39mcoin]\u001b[39m+\u001b[39m\u001b[39m1\u001b[39m)\n\u001b[0;32m      <a href='vscode-notebook-cell:/e%3A/BAEKJOON_072723/dbn_dp_count_min_coins.ipynb#X10sZmlsZQ%3D%3D?line=5'>6</a>\u001b[0m         k \u001b[39m/\u001b[39m\u001b[39m/\u001b[39m\u001b[39m=\u001b[39m coin\n\u001b[0;32m      <a href='vscode-notebook-cell:/e%3A/BAEKJOON_072723/dbn_dp_count_min_coins.ipynb#X10sZmlsZQ%3D%3D?line=6'>7</a>\u001b[0m         \u001b[39mprint\u001b[39m(\u001b[39mf\u001b[39m\u001b[39m\"\u001b[39m\u001b[39m{\u001b[39;00mk\u001b[39m}\u001b[39;00m\u001b[39m : \u001b[39m\u001b[39m{\u001b[39;00mdi_alternatives\u001b[39m}\u001b[39;00m\u001b[39m\"\u001b[39m)\n",
      "\u001b[1;31mNameError\u001b[0m: name 'di_alternatives' is not defined"
     ]
    }
   ],
   "source": [
    "k = 10\n",
    "k_alternatives = []\n",
    "for coin in coin_kinds:\n",
    "    if k % coin == 0:\n",
    "        di_alternatives.append(d[k//coin]+1)\n",
    "        k //= coin\n",
    "        print(f\"{k} : {k_alternatives}\")\n",
    "    else:\n",
    "        continue\n",
    "    if coin_kinds.index(coin) == len(coin_kinds)-1:\n",
    "        break   "
   ]
  }
 ],
 "metadata": {
  "kernelspec": {
   "display_name": "base",
   "language": "python",
   "name": "python3"
  },
  "language_info": {
   "codemirror_mode": {
    "name": "ipython",
    "version": 3
   },
   "file_extension": ".py",
   "mimetype": "text/x-python",
   "name": "python",
   "nbconvert_exporter": "python",
   "pygments_lexer": "ipython3",
   "version": "3.9.12"
  },
  "orig_nbformat": 4
 },
 "nbformat": 4,
 "nbformat_minor": 2
}
