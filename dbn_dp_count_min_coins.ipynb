{
 "cells": [
  {
   "cell_type": "code",
   "execution_count": 1,
   "metadata": {},
   "outputs": [
    {
     "name": "stdout",
     "output_type": "stream",
     "text": [
      "n : 4,    m : 30\n",
      "coin_kinds : [2, 3, 5, 7]\n",
      "[0, 0, 1, 1, 0, 1, 0, 1, 0, 0, 0, 0, 0, 0, 0, 0, 0, 0, 0, 0, 0, 0, 0, 0, 0, 0, 0, 0, 0, 0, 0]\n"
     ]
    }
   ],
   "source": [
    "n, m = list(map(int, input().split()))\n",
    "print(f\"n : {n},    m : {m}\")      # n : number of coin assortments,  m : target amount\n",
    "\n",
    "coin_kinds = [k for k in map(int, input().split())]\n",
    "print(f\"coin_kinds : {coin_kinds}\")\n",
    "\n",
    "d = [1 if k in coin_kinds else 0 for k in range(m+1)]\n",
    "print(d)"
   ]
  },
  {
   "cell_type": "code",
   "execution_count": 2,
   "metadata": {},
   "outputs": [
    {
     "name": "stdout",
     "output_type": "stream",
     "text": [
      "i : 4,  di_alt : [2]\n",
      "i : 5,  di_alt : [1]\n",
      "i : 6,  di_alt : [2, 2]\n",
      "i : 7,  di_alt : [1]\n",
      "i : 8,  di_alt : [3]\n",
      "i : 9,  di_alt : [2]\n",
      "i : 10,  di_alt : [2, 2]\n",
      "i : 11,  di_alt : []\n",
      "i : 12,  di_alt : [3, 3]\n",
      "i : 13,  di_alt : []\n",
      "i : 14,  di_alt : [2, 2]\n",
      "i : 15,  di_alt : [2, 2]\n",
      "i : 16,  di_alt : [4]\n",
      "i : 17,  di_alt : []\n",
      "i : 18,  di_alt : [3, 3]\n",
      "i : 19,  di_alt : []\n",
      "i : 20,  di_alt : [3, 3]\n",
      "i : 21,  di_alt : [2, 2]\n",
      "i : 22,  di_alt : [0]\n",
      "i : 23,  di_alt : []\n",
      "i : 24,  di_alt : [4, 4]\n",
      "i : 25,  di_alt : [2]\n",
      "i : 26,  di_alt : [0]\n",
      "i : 27,  di_alt : [3]\n",
      "i : 28,  di_alt : [3, 3]\n",
      "i : 29,  di_alt : []\n",
      "i : 30,  di_alt : [3, 3, 3]\n"
     ]
    }
   ],
   "source": [
    "for i in range(4, m+1):\n",
    "    di_alt = []\n",
    "    for coin in coin_kinds:    \n",
    "        if i % coin == 0:\n",
    "           di_alt.append(d[i//coin]+1)\n",
    "        else:            \n",
    "            continue\n",
    "    print(f\"i : {i},  di_alt : {di_alt}\")\n",
    "    if len(di_alt) == 0 or min(di_alt) == 0:\n",
    "        d[i] = -1\n",
    "    else:\n",
    "        d[i] = min(di_alt)"
   ]
  },
  {
   "cell_type": "code",
   "execution_count": 3,
   "metadata": {},
   "outputs": [
    {
     "name": "stdout",
     "output_type": "stream",
     "text": [
      "[0, 0, 1, 1, 2, 1, 2, 1, 3, 2, 2, -1, 3, -1, 2, 2, 4, -1, 3, -1, 3, 2, -1, -1, 4, 2, -1, 3, 3, -1, 3]\n"
     ]
    }
   ],
   "source": [
    "print(d)"
   ]
  },
  {
   "cell_type": "code",
   "execution_count": null,
   "metadata": {},
   "outputs": [],
   "source": []
  }
 ],
 "metadata": {
  "kernelspec": {
   "display_name": "base",
   "language": "python",
   "name": "python3"
  },
  "language_info": {
   "codemirror_mode": {
    "name": "ipython",
    "version": 3
   },
   "file_extension": ".py",
   "mimetype": "text/x-python",
   "name": "python",
   "nbconvert_exporter": "python",
   "pygments_lexer": "ipython3",
   "version": "3.9.12"
  },
  "orig_nbformat": 4
 },
 "nbformat": 4,
 "nbformat_minor": 2
}
