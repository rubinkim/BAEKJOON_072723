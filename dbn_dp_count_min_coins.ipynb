{
 "cells": [
  {
   "cell_type": "code",
   "execution_count": 28,
   "metadata": {},
   "outputs": [
    {
     "name": "stdout",
     "output_type": "stream",
     "text": [
      "n : 3,    m : 30\n",
      "coin_kinds : [2, 3, 5]\n"
     ]
    }
   ],
   "source": [
    "n, m = list(map(int, input().split()))\n",
    "print(f\"n : {n},    m : {m}\")      # n : number of coin assortments,  m : target amount\n",
    "\n",
    "coin_kinds = [k for k in map(int, input().split())]\n",
    "print(f\"coin_kinds : {coin_kinds}\")\n",
    "\n",
    "d = [0] * 16\n",
    "d[0], d[1], d[2], d[3], d[5] = 0, 0, 1, 1, 1"
   ]
  },
  {
   "cell_type": "code",
   "execution_count": 18,
   "metadata": {},
   "outputs": [],
   "source": [
    "for i in range(4, m+1):\n",
    "    di_alternatives = []\n",
    "    for coin in coin_kinds:\n",
    "        if i % coin == 0:\n",
    "            di_alternatives.append(d[i//coin]+1)\n",
    "        else:\n",
    "            continue\n",
    "    if len(di_alternatives) == 0:\n",
    "        if d[i] == 0:\n",
    "            d[i] = -1\n",
    "    else:\n",
    "        if d[i] == 0:\n",
    "            d[i] = min(di_alternatives)"
   ]
  },
  {
   "cell_type": "code",
   "execution_count": 19,
   "metadata": {},
   "outputs": [
    {
     "name": "stdout",
     "output_type": "stream",
     "text": [
      "[0, 0, 1, 1, 2, -1, 2, -1, 3, 2, 0, -1, 3, -1, 0, 0]\n"
     ]
    }
   ],
   "source": [
    "print(d)"
   ]
  },
  {
   "cell_type": "code",
   "execution_count": 29,
   "metadata": {},
   "outputs": [
    {
     "ename": "IndexError",
     "evalue": "list index out of range",
     "output_type": "error",
     "traceback": [
      "\u001b[1;31m---------------------------------------------------------------------------\u001b[0m",
      "\u001b[1;31mIndexError\u001b[0m                                Traceback (most recent call last)",
      "\u001b[1;32me:\\BAEKJOON_072723\\dbn_dp_count_min_coins.ipynb Cell 4\u001b[0m line \u001b[0;36m<cell line: 1>\u001b[1;34m()\u001b[0m\n\u001b[0;32m     <a href='vscode-notebook-cell:/e%3A/BAEKJOON_072723/dbn_dp_count_min_coins.ipynb#W4sZmlsZQ%3D%3D?line=12'>13</a>\u001b[0m     \u001b[39mbreak\u001b[39;00m\n\u001b[0;32m     <a href='vscode-notebook-cell:/e%3A/BAEKJOON_072723/dbn_dp_count_min_coins.ipynb#W4sZmlsZQ%3D%3D?line=13'>14</a>\u001b[0m \u001b[39melse\u001b[39;00m:\n\u001b[1;32m---> <a href='vscode-notebook-cell:/e%3A/BAEKJOON_072723/dbn_dp_count_min_coins.ipynb#W4sZmlsZQ%3D%3D?line=14'>15</a>\u001b[0m     \u001b[39mif\u001b[39;00m d[i] \u001b[39m==\u001b[39m \u001b[39m0\u001b[39m:\n\u001b[0;32m     <a href='vscode-notebook-cell:/e%3A/BAEKJOON_072723/dbn_dp_count_min_coins.ipynb#W4sZmlsZQ%3D%3D?line=15'>16</a>\u001b[0m         d[i] \u001b[39m=\u001b[39m \u001b[39mmin\u001b[39m(di_alternatives)\n\u001b[0;32m     <a href='vscode-notebook-cell:/e%3A/BAEKJOON_072723/dbn_dp_count_min_coins.ipynb#W4sZmlsZQ%3D%3D?line=17'>18</a>\u001b[0m \u001b[39mif\u001b[39;00m i_chg \u001b[39m==\u001b[39m \u001b[39m1\u001b[39m:\n",
      "\u001b[1;31mIndexError\u001b[0m: list index out of range"
     ]
    }
   ],
   "source": [
    "for i in range(4, m+1):\n",
    "    i_chg = i\n",
    "    while i_chg > 1:\n",
    "        di_alternatives = []\n",
    "        for coin in coin_kinds:\n",
    "            if i_chg % coin == 0:\n",
    "                di_alternatives.append(d[i_chg//coin]+1)\n",
    "                i_chg //= coin\n",
    "            else:\n",
    "                continue\n",
    "        if len(di_alternatives) == 0:\n",
    "            d[i] = -1\n",
    "            break\n",
    "        else:\n",
    "            if d[i] == 0:\n",
    "                d[i] = min(di_alternatives)\n",
    "        \n",
    "        if i_chg == 1:\n",
    "            break               "
   ]
  },
  {
   "cell_type": "code",
   "execution_count": 30,
   "metadata": {},
   "outputs": [
    {
     "name": "stdout",
     "output_type": "stream",
     "text": [
      "[0, 0, 1, 1, 2, 1, 1, -1, 3, 2, 1, -1, 2, -1, -1, 1]\n"
     ]
    }
   ],
   "source": [
    "print(d)"
   ]
  },
  {
   "cell_type": "code",
   "execution_count": 5,
   "metadata": {},
   "outputs": [
    {
     "name": "stdout",
     "output_type": "stream",
     "text": [
      "n : 3,    m : 30\n",
      "coin_kinds : [2, 3, 5]\n",
      "[-1, -1, 1, 1, -1, 1, -1, -1, -1, -1, -1, -1, -1, -1, -1, -1, -1, -1, -1, -1, -1, -1, -1, -1, -1, -1, -1, -1, -1, -1, -1]\n"
     ]
    }
   ],
   "source": [
    "n, m = list(map(int, input().split()))\n",
    "print(f\"n : {n},    m : {m}\")      # n : number of coin assortments,  m : target amount\n",
    "\n",
    "coin_kinds = [k for k in map(int, input().split())]\n",
    "print(f\"coin_kinds : {coin_kinds}\")\n",
    "\n",
    "d = [1 if i in coin_kinds else -1 for i in range(m+1)]\n",
    "\n",
    "print(d)"
   ]
  },
  {
   "cell_type": "code",
   "execution_count": null,
   "metadata": {},
   "outputs": [],
   "source": [
    "def count_min_coins(x):\n",
    "    min_list = []\n",
    "    for coin in coin_kinds:\n",
    "        if x % coin == 0:\n",
    "            min_list.append(count_min_coins(x//coin)+1)\n",
    "        else:\n",
    "            continue\n",
    "    d[x] = min(min_list)\n",
    "    return d[x]         "
   ]
  }
 ],
 "metadata": {
  "kernelspec": {
   "display_name": "base",
   "language": "python",
   "name": "python3"
  },
  "language_info": {
   "codemirror_mode": {
    "name": "ipython",
    "version": 3
   },
   "file_extension": ".py",
   "mimetype": "text/x-python",
   "name": "python",
   "nbconvert_exporter": "python",
   "pygments_lexer": "ipython3",
   "version": "3.9.12"
  },
  "orig_nbformat": 4
 },
 "nbformat": 4,
 "nbformat_minor": 2
}
