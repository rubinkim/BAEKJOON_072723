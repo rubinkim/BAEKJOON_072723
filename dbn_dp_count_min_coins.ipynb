{
 "cells": [
  {
   "cell_type": "code",
   "execution_count": 9,
   "metadata": {},
   "outputs": [
    {
     "name": "stdout",
     "output_type": "stream",
     "text": [
      "n : 2,    m : 15\n",
      "coin_kinds : [2, 3]\n"
     ]
    }
   ],
   "source": [
    "n, m = list(map(int, input().split()))\n",
    "print(f\"n : {n},    m : {m}\")      # n : number of coin assortments,  m : target amount\n",
    "\n",
    "coin_kinds = [k for k in map(int, input().split())]\n",
    "print(f\"coin_kinds : {coin_kinds}\")\n",
    "\n",
    "d = [0] * 10001\n",
    "d[0], d[1], d[2], d[3] = 0, 0, 1, 1"
   ]
  },
  {
   "cell_type": "code",
   "execution_count": 11,
   "metadata": {},
   "outputs": [
    {
     "name": "stdout",
     "output_type": "stream",
     "text": [
      "-1\n"
     ]
    },
    {
     "ename": "ValueError",
     "evalue": "min() arg is an empty sequence",
     "output_type": "error",
     "traceback": [
      "\u001b[1;31m---------------------------------------------------------------------------\u001b[0m",
      "\u001b[1;31mValueError\u001b[0m                                Traceback (most recent call last)",
      "\u001b[1;32me:\\BAEKJOON_072723\\dbn_dp_count_min_coins.ipynb Cell 2\u001b[0m line \u001b[0;36m<cell line: 1>\u001b[1;34m()\u001b[0m\n\u001b[0;32m      <a href='vscode-notebook-cell:/e%3A/BAEKJOON_072723/dbn_dp_count_min_coins.ipynb#W3sZmlsZQ%3D%3D?line=6'>7</a>\u001b[0m     \u001b[39melse\u001b[39;00m:\n\u001b[0;32m      <a href='vscode-notebook-cell:/e%3A/BAEKJOON_072723/dbn_dp_count_min_coins.ipynb#W3sZmlsZQ%3D%3D?line=7'>8</a>\u001b[0m         \u001b[39mcontinue\u001b[39;00m\n\u001b[1;32m---> <a href='vscode-notebook-cell:/e%3A/BAEKJOON_072723/dbn_dp_count_min_coins.ipynb#W3sZmlsZQ%3D%3D?line=9'>10</a>\u001b[0m d[i] \u001b[39m=\u001b[39m \u001b[39mmin\u001b[39;49m(di_alternatives)\n\u001b[0;32m     <a href='vscode-notebook-cell:/e%3A/BAEKJOON_072723/dbn_dp_count_min_coins.ipynb#W3sZmlsZQ%3D%3D?line=11'>12</a>\u001b[0m \u001b[39mif\u001b[39;00m d[i]:\n\u001b[0;32m     <a href='vscode-notebook-cell:/e%3A/BAEKJOON_072723/dbn_dp_count_min_coins.ipynb#W3sZmlsZQ%3D%3D?line=12'>13</a>\u001b[0m     \u001b[39mprint\u001b[39m(\u001b[39m-\u001b[39m\u001b[39m1\u001b[39m)\n",
      "\u001b[1;31mValueError\u001b[0m: min() arg is an empty sequence"
     ]
    }
   ],
   "source": [
    "for i in range(4, m+1):         # i : target amount    \n",
    "    #coin_baskets = []\n",
    "    di_alternatives = []\n",
    "    for j in coin_kinds:        # j : coin kind                \n",
    "        if i % j == 0:\n",
    "            di_alternatives.append(d[i//j] + 1)\n",
    "        else:\n",
    "            continue\n",
    "\n",
    "    d[i] = min(di_alternatives)\n",
    "    \n",
    "    if d[i]:\n",
    "        print(-1)\n",
    "    else:\n",
    "        print(d[i])"
   ]
  }
 ],
 "metadata": {
  "kernelspec": {
   "display_name": "base",
   "language": "python",
   "name": "python3"
  },
  "language_info": {
   "codemirror_mode": {
    "name": "ipython",
    "version": 3
   },
   "file_extension": ".py",
   "mimetype": "text/x-python",
   "name": "python",
   "nbconvert_exporter": "python",
   "pygments_lexer": "ipython3",
   "version": "3.9.12"
  },
  "orig_nbformat": 4
 },
 "nbformat": 4,
 "nbformat_minor": 2
}
