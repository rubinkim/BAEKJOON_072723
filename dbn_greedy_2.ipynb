{
 "cells": [
  {
   "cell_type": "code",
   "execution_count": 15,
   "metadata": {},
   "outputs": [
    {
     "name": "stdout",
     "output_type": "stream",
     "text": [
      "n : 31    k : 7\n"
     ]
    }
   ],
   "source": [
    "n, k = map(int, input().split())\n",
    "print(\"n : \" + str(n) +  \"    k : \" + str(k))"
   ]
  },
  {
   "cell_type": "code",
   "execution_count": 16,
   "metadata": {},
   "outputs": [
    {
     "name": "stdout",
     "output_type": "stream",
     "text": [
      "target : 28\n",
      "n : 28, result : 3\n",
      "n : 4,  result : 4\n",
      "\n",
      "target : 0\n",
      "n : 0, result : 8\n",
      "\n",
      "result : 8\n"
     ]
    }
   ],
   "source": [
    "result = 0\n",
    "\n",
    "while True:\n",
    "    target = (n // k) * k\n",
    "    print(f\"target : {target}\")\n",
    "    \n",
    "    result += n - target\n",
    "    n = target\n",
    "    print(f\"n : {n}, result : {result}\")\n",
    "    \n",
    "    if n < k:\n",
    "        break\n",
    "    \n",
    "    n //= k\n",
    "    result += 1\n",
    "    print(f\"n : {n},  result : {result}\")\n",
    "    print()\n",
    "\n",
    "print()    \n",
    "print(f\"result : {result}\")"
   ]
  },
  {
   "cell_type": "code",
   "execution_count": 17,
   "metadata": {},
   "outputs": [
    {
     "name": "stdout",
     "output_type": "stream",
     "text": [
      "-1\n"
     ]
    }
   ],
   "source": [
    "result = 0\n",
    "\n",
    "while True:\n",
    "    target = (n // k) * k\n",
    "    result += (n - target)\n",
    "    n = target\n",
    "    \n",
    "    if n < k:\n",
    "        break\n",
    "    result += 1\n",
    "    n //= k\n",
    "    \n",
    "result += (n - 1)\n",
    "print(result)"
   ]
  }
 ],
 "metadata": {
  "kernelspec": {
   "display_name": "base",
   "language": "python",
   "name": "python3"
  },
  "language_info": {
   "codemirror_mode": {
    "name": "ipython",
    "version": 3
   },
   "file_extension": ".py",
   "mimetype": "text/x-python",
   "name": "python",
   "nbconvert_exporter": "python",
   "pygments_lexer": "ipython3",
   "version": "3.9.12"
  },
  "orig_nbformat": 4
 },
 "nbformat": 4,
 "nbformat_minor": 2
}
