{
 "cells": [
  {
   "cell_type": "code",
   "execution_count": 7,
   "metadata": {},
   "outputs": [
    {
     "name": "stdout",
     "output_type": "stream",
     "text": [
      "n : 28    k : 5\n"
     ]
    }
   ],
   "source": [
    "n, k = map(int, input().split())\n",
    "print(\"n : \" + str(n) +  \"    k : \" + str(k))"
   ]
  },
  {
   "cell_type": "code",
   "execution_count": 8,
   "metadata": {},
   "outputs": [
    {
     "name": "stdout",
     "output_type": "stream",
     "text": [
      "target : 25\n",
      "n : 5,  result : 4\n",
      "target : 5\n",
      "n : 1,  result : 5\n",
      "target : 0\n",
      "result : 6\n"
     ]
    }
   ],
   "source": [
    "result = 0\n",
    "\n",
    "while True:\n",
    "    target = (n // k) * k\n",
    "    print(f\"target : {target}\")\n",
    "    \n",
    "    result += n - target\n",
    "    n = target\n",
    "    print(f\"n : {n}\")\n",
    "    \n",
    "    if n < k:\n",
    "        break\n",
    "    \n",
    "    n //= k\n",
    "    result += 1\n",
    "    print(f\"n : {n},  result : {result}\")\n",
    "    \n",
    "print(f\"result : {result}\")"
   ]
  }
 ],
 "metadata": {
  "kernelspec": {
   "display_name": "base",
   "language": "python",
   "name": "python3"
  },
  "language_info": {
   "codemirror_mode": {
    "name": "ipython",
    "version": 3
   },
   "file_extension": ".py",
   "mimetype": "text/x-python",
   "name": "python",
   "nbconvert_exporter": "python",
   "pygments_lexer": "ipython3",
   "version": "3.9.12"
  },
  "orig_nbformat": 4
 },
 "nbformat": 4,
 "nbformat_minor": 2
}
