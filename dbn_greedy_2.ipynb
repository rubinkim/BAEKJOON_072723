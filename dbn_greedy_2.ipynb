{
 "cells": [
  {
   "cell_type": "code",
   "execution_count": 25,
   "metadata": {},
   "outputs": [
    {
     "name": "stdout",
     "output_type": "stream",
     "text": [
      "n : 31    k : 7\n"
     ]
    }
   ],
   "source": [
    "n, k = map(int, input().split())\n",
    "print(\"n : \" + str(n) +  \"    k : \" + str(k))"
   ]
  },
  {
   "cell_type": "code",
   "execution_count": 26,
   "metadata": {},
   "outputs": [
    {
     "name": "stdout",
     "output_type": "stream",
     "text": [
      "n : 28,  target : 28,  result : 3\n",
      "n : 4,  result : 4\n",
      "\n",
      "n : 0,  target : 0,  result : 8\n",
      "\n",
      "result : 7\n"
     ]
    }
   ],
   "source": [
    "result = 0\n",
    "\n",
    "while True:\n",
    "    target = (n // k) * k   \n",
    "    result += (n - target)\n",
    "    n = target\n",
    "    print(f\"n : {n},  target : {target},  result : {result}\")\n",
    "    \n",
    "    if n < k:\n",
    "        break\n",
    "    \n",
    "    n //= k\n",
    "    result += 1\n",
    "    print(f\"n : {n},  result : {result}\")\n",
    "    print()\n",
    "\n",
    "result += (n - 1)\n",
    "print()    \n",
    "print(f\"result : {result}\")"
   ]
  },
  {
   "cell_type": "code",
   "execution_count": 23,
   "metadata": {},
   "outputs": [
    {
     "name": "stdout",
     "output_type": "stream",
     "text": [
      "7\n"
     ]
    }
   ],
   "source": [
    "result = 0\n",
    "\n",
    "while True:\n",
    "    target = (n // k) * k\n",
    "    result += (n - target)\n",
    "    n = target\n",
    "    \n",
    "    if n < k:\n",
    "        break\n",
    "    result += 1\n",
    "    n //= k\n",
    "    \n",
    "result += (n - 1)\n",
    "print(result)"
   ]
  },
  {
   "cell_type": "code",
   "execution_count": null,
   "metadata": {},
   "outputs": [],
   "source": [
    "n, k = map(int, input().split())\n",
    "import time\n",
    "\n",
    "start_time = time.time()\n",
    "cnt = 0\n",
    "\n",
    "while n >= 1:\n",
    "  if n % k == 0:\n",
    "    n //= k\n",
    "    cnt += 1\n",
    "    print(f\"Division  n : {n},  cnt : {cnt}\")\n",
    "  else:\n",
    "    n -= 1\n",
    "    cnt += 1\n",
    "    print(f\"Subtraction : n : {n}, cnt : {cnt}\")\n",
    "  if n == 1:\n",
    "    break\n",
    "print()\n",
    "print(cnt)\n",
    "end_time = time.time()\n",
    "print(\"time spent : {end_time - start_time}\")"
   ]
  }
 ],
 "metadata": {
  "kernelspec": {
   "display_name": "base",
   "language": "python",
   "name": "python3"
  },
  "language_info": {
   "codemirror_mode": {
    "name": "ipython",
    "version": 3
   },
   "file_extension": ".py",
   "mimetype": "text/x-python",
   "name": "python",
   "nbconvert_exporter": "python",
   "pygments_lexer": "ipython3",
   "version": "3.9.12"
  },
  "orig_nbformat": 4
 },
 "nbformat": 4,
 "nbformat_minor": 2
}
