{
 "cells": [
  {
   "cell_type": "code",
   "execution_count": 1,
   "metadata": {},
   "outputs": [
    {
     "name": "stdout",
     "output_type": "stream",
     "text": [
      "Case 1: 14\n",
      "Case 2: 11\n"
     ]
    }
   ],
   "source": [
    "for i in range(3):    \n",
    "    L, P, V = map(int, input().split())\n",
    "    if i < 2:\n",
    "        full_use, incomplete_use = (V // P) * L, V % P\n",
    "        total_use = full_use + incomplete_use\n",
    "        print(f\"Case {i+1}: {total_use}\")"
   ]
  },
  {
   "cell_type": "code",
   "execution_count": 2,
   "metadata": {},
   "outputs": [
    {
     "name": "stdout",
     "output_type": "stream",
     "text": [
      "Case 1: 14\n",
      "Case 2: 11\n"
     ]
    }
   ],
   "source": [
    "for i in range(3):    \n",
    "    L, P, V = map(int, input().split())\n",
    "    if i < 2:\n",
    "        full_use, incomplete_use = (V // P) * L, V % P\n",
    "        total_use = full_use + incomplete_use\n",
    "        print(f\"Case {i+1}: {total_use}\")"
   ]
  },
  {
   "cell_type": "code",
   "execution_count": 5,
   "metadata": {},
   "outputs": [
    {
     "name": "stdout",
     "output_type": "stream",
     "text": [
      "Case 1: 10\n",
      "Case 2: 12\n"
     ]
    }
   ],
   "source": [
    "for i in range(3):\n",
    "    L, P, V = map(int, input().split())\n",
    "    if i < 2:\n",
    "        first_comp = (V // P) * L\n",
    "        remainage = V - (V // P) * P\n",
    "        second_comp =  L if remainage >= L else (V % P)\n",
    "        total_comp = first_comp + second_comp\n",
    "        print(f\"Case {i+1}: {total_comp}\")"
   ]
  },
  {
   "cell_type": "code",
   "execution_count": 8,
   "metadata": {},
   "outputs": [
    {
     "name": "stdout",
     "output_type": "stream",
     "text": [
      "Case 2: 14\n",
      "Case 3: 11\n",
      "Case 4: 10\n",
      "Case 5: 27\n"
     ]
    }
   ],
   "source": [
    "i = 0\n",
    "while True:\n",
    "   L, P, V = map(int, input().split())\n",
    "   if L==0 and P==0 and V==0:\n",
    "       break\n",
    "   \n",
    "   first_comp = (V // P) * L\n",
    "   remainage = V - (V // P) * P\n",
    "   second_comp = L if remainage >= L else (V % P)\n",
    "   total_comp = first_comp + second_comp\n",
    "   print(f\"Case {i+1}: {total_comp}\")\n",
    "   i += 1"
   ]
  }
 ],
 "metadata": {
  "kernelspec": {
   "display_name": "base",
   "language": "python",
   "name": "python3"
  },
  "language_info": {
   "codemirror_mode": {
    "name": "ipython",
    "version": 3
   },
   "file_extension": ".py",
   "mimetype": "text/x-python",
   "name": "python",
   "nbconvert_exporter": "python",
   "pygments_lexer": "ipython3",
   "version": "3.9.12"
  },
  "orig_nbformat": 4
 },
 "nbformat": 4,
 "nbformat_minor": 2
}
