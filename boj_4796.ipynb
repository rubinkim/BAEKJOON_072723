{
 "cells": [
  {
   "cell_type": "code",
   "execution_count": 1,
   "metadata": {},
   "outputs": [
    {
     "name": "stdout",
     "output_type": "stream",
     "text": [
      "Case 1: 14\n",
      "Case 2: 11\n"
     ]
    }
   ],
   "source": [
    "for i in range(3):    \n",
    "    L, P, V = map(int, input().split())\n",
    "    if i < 2:\n",
    "        full_use, incomplete_use = (V // P) * L, V % P\n",
    "        total_use = full_use + incomplete_use\n",
    "        print(f\"Case {i+1}: {total_use}\")"
   ]
  },
  {
   "cell_type": "code",
   "execution_count": 2,
   "metadata": {},
   "outputs": [
    {
     "name": "stdout",
     "output_type": "stream",
     "text": [
      "Case 1: 14\n",
      "Case 2: 11\n"
     ]
    }
   ],
   "source": [
    "for i in range(3):    \n",
    "    L, P, V = map(int, input().split())\n",
    "    if i < 2:\n",
    "        full_use, incomplete_use = (V // P) * L, V % P\n",
    "        total_use = full_use + incomplete_use\n",
    "        print(f\"Case {i+1}: {total_use}\")"
   ]
  }
 ],
 "metadata": {
  "kernelspec": {
   "display_name": "base",
   "language": "python",
   "name": "python3"
  },
  "language_info": {
   "codemirror_mode": {
    "name": "ipython",
    "version": 3
   },
   "file_extension": ".py",
   "mimetype": "text/x-python",
   "name": "python",
   "nbconvert_exporter": "python",
   "pygments_lexer": "ipython3",
   "version": "3.9.12"
  },
  "orig_nbformat": 4
 },
 "nbformat": 4,
 "nbformat_minor": 2
}
