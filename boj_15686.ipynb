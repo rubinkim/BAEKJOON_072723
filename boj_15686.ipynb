{
 "cells": [
  {
   "cell_type": "code",
   "execution_count": 3,
   "metadata": {},
   "outputs": [
    {
     "name": "stdout",
     "output_type": "stream",
     "text": [
      "[(1, 2, 3), (1, 2, 4), (1, 2, 5), (1, 3, 4), (1, 3, 5), (1, 4, 5), (2, 3, 4), (2, 3, 5), (2, 4, 5), (3, 4, 5)]\n"
     ]
    }
   ],
   "source": [
    "from itertools import combinations\n",
    "\n",
    "x = [1,2,3,4,5]\n",
    "\n",
    "combi_list = []\n",
    "for c in combinations(x, 3):\n",
    "    combi_list.append(c)\n",
    "    \n",
    "print(combi_list)"
   ]
  },
  {
   "cell_type": "code",
   "execution_count": 8,
   "metadata": {},
   "outputs": [
    {
     "name": "stdout",
     "output_type": "stream",
     "text": [
      "[0, 2, 0, 1, 0]\n",
      "[1, 0, 1, 0, 0]\n",
      "[0, 0, 0, 0, 0]\n",
      "[2, 0, 0, 1, 1]\n",
      "[2, 2, 0, 1, 2]\n"
     ]
    }
   ],
   "source": [
    "N, M = map(int, input().split())  # (5, 2)\n",
    "city = [[0] * M for _ in range(N)]\n",
    "\n",
    "for i in range(N):\n",
    "    city[i] = list(map(int, input().split()))\n",
    "    \n",
    "for l in city:\n",
    "    print(l)    "
   ]
  },
  {
   "cell_type": "code",
   "execution_count": 9,
   "metadata": {},
   "outputs": [
    {
     "name": "stdout",
     "output_type": "stream",
     "text": [
      "[[0, 2, 0, 1, 0], [1, 0, 1, 0, 0], [0, 0, 0, 0, 0], [2, 0, 0, 1, 1], [2, 2, 0, 1, 2]]\n"
     ]
    }
   ],
   "source": [
    "print(city)"
   ]
  },
  {
   "cell_type": "code",
   "execution_count": 18,
   "metadata": {},
   "outputs": [
    {
     "name": "stdout",
     "output_type": "stream",
     "text": [
      "5\n"
     ]
    }
   ],
   "source": [
    "# N = 5,  M = 2,  num_chicken = 5\n",
    "num_chicken = sum([sum([x == 2 for x in city[i]]) for i in range(len(city))])\n",
    "print(num_chicken)"
   ]
  },
  {
   "cell_type": "code",
   "execution_count": 35,
   "metadata": {},
   "outputs": [
    {
     "name": "stdout",
     "output_type": "stream",
     "text": [
      "{'chicken_01': (0, 1), 'chicken_30': (3, 0), 'chicken_40': (4, 0), 'chicken_41': (4, 1), 'chicken_44': (4, 4)}\n"
     ]
    }
   ],
   "source": [
    "chicken_dict = {}\n",
    "for i in range(N):\n",
    "    for j in range(N):\n",
    "        if city[i][j] == 2:\n",
    "            chicken_dict['chicken_' + str(i) + str(j)] = (i, j)\n",
    "            \n",
    "print(chicken_dict)"
   ]
  }
 ],
 "metadata": {
  "kernelspec": {
   "display_name": "base",
   "language": "python",
   "name": "python3"
  },
  "language_info": {
   "codemirror_mode": {
    "name": "ipython",
    "version": 3
   },
   "file_extension": ".py",
   "mimetype": "text/x-python",
   "name": "python",
   "nbconvert_exporter": "python",
   "pygments_lexer": "ipython3",
   "version": "3.9.12"
  },
  "orig_nbformat": 4
 },
 "nbformat": 4,
 "nbformat_minor": 2
}
