{
 "cells": [
  {
   "cell_type": "code",
   "execution_count": 3,
   "metadata": {},
   "outputs": [
    {
     "name": "stdout",
     "output_type": "stream",
     "text": [
      "[(1, 2, 3), (1, 2, 4), (1, 2, 5), (1, 3, 4), (1, 3, 5), (1, 4, 5), (2, 3, 4), (2, 3, 5), (2, 4, 5), (3, 4, 5)]\n"
     ]
    }
   ],
   "source": [
    "from itertools import combinations\n",
    "\n",
    "x = [1,2,3,4,5]\n",
    "\n",
    "combi_list = []\n",
    "for c in combinations(x, 3):\n",
    "    combi_list.append(c)\n",
    "    \n",
    "print(combi_list)"
   ]
  },
  {
   "cell_type": "code",
   "execution_count": 1,
   "metadata": {},
   "outputs": [
    {
     "name": "stdout",
     "output_type": "stream",
     "text": [
      "[0, 2, 0, 1, 0]\n",
      "[1, 0, 1, 0, 0]\n",
      "[0, 0, 0, 0, 0]\n",
      "[2, 0, 0, 1, 1]\n",
      "[2, 2, 0, 1, 2]\n"
     ]
    }
   ],
   "source": [
    "N, M = map(int, input().split())  # (5, 2)\n",
    "city = [[0] * M for _ in range(N)]\n",
    "\n",
    "for i in range(N):\n",
    "    city[i] = list(map(int, input().split()))\n",
    "    \n",
    "for l in city:\n",
    "    print(l)    "
   ]
  },
  {
   "cell_type": "code",
   "execution_count": 2,
   "metadata": {},
   "outputs": [
    {
     "name": "stdout",
     "output_type": "stream",
     "text": [
      "[[0, 2, 0, 1, 0], [1, 0, 1, 0, 0], [0, 0, 0, 0, 0], [2, 0, 0, 1, 1], [2, 2, 0, 1, 2]]\n"
     ]
    }
   ],
   "source": [
    "print(city)"
   ]
  },
  {
   "cell_type": "code",
   "execution_count": 5,
   "metadata": {},
   "outputs": [
    {
     "name": "stdout",
     "output_type": "stream",
     "text": [
      "number of chicken houses : 5   number of houses : 6\n"
     ]
    }
   ],
   "source": [
    "# N = 5,  M = 2,  num_chicken = 5\n",
    "num_chicken = sum([sum([x == 2 for x in city[i]]) for i in range(len(city))])\n",
    "num_house =   sum([sum([x == 1 for x in city[i]]) for i in range(len(city))])\n",
    "\n",
    "print(f\"number of chicken houses : {num_chicken}   number of houses : {num_house}\")"
   ]
  },
  {
   "cell_type": "code",
   "execution_count": 6,
   "metadata": {},
   "outputs": [
    {
     "name": "stdout",
     "output_type": "stream",
     "text": [
      "{'chicken_01': (0, 1), 'chicken_30': (3, 0), 'chicken_40': (4, 0), 'chicken_41': (4, 1), 'chicken_44': (4, 4)}\n"
     ]
    }
   ],
   "source": [
    "chicken_dict = {}\n",
    "for i in range(N):\n",
    "    for j in range(N):\n",
    "        if city[i][j] == 2:\n",
    "            chicken_dict['chicken_' + str(i) + str(j)] = (i, j)\n",
    "            \n",
    "print(chicken_dict)"
   ]
  },
  {
   "cell_type": "code",
   "execution_count": 7,
   "metadata": {},
   "outputs": [
    {
     "name": "stdout",
     "output_type": "stream",
     "text": [
      "{'house_03': (0, 3), 'house_10': (1, 0), 'house_12': (1, 2), 'house_33': (3, 3), 'house_34': (3, 4), 'house_43': (4, 3)}\n"
     ]
    }
   ],
   "source": [
    "house_dict = {}\n",
    "for i in range(N):\n",
    "    for j in range(N):\n",
    "        if city[i][j] == 1:\n",
    "            house_dict['house_' + str(i) + str(j)] = (i, j)\n",
    "            \n",
    "print(house_dict)"
   ]
  },
  {
   "cell_type": "code",
   "execution_count": 10,
   "metadata": {},
   "outputs": [
    {
     "name": "stdout",
     "output_type": "stream",
     "text": [
      "chicken_01 (0, 1) chicken_30 (3, 0)\n",
      "chicken_01 (0, 1) chicken_40 (4, 0)\n",
      "chicken_01 (0, 1) chicken_41 (4, 1)\n",
      "chicken_01 (0, 1) chicken_44 (4, 4)\n",
      "chicken_30 (3, 0) chicken_40 (4, 0)\n",
      "chicken_30 (3, 0) chicken_41 (4, 1)\n",
      "chicken_30 (3, 0) chicken_44 (4, 4)\n",
      "chicken_40 (4, 0) chicken_41 (4, 1)\n",
      "chicken_40 (4, 0) chicken_44 (4, 4)\n",
      "chicken_41 (4, 1) chicken_44 (4, 4)\n"
     ]
    }
   ],
   "source": [
    "from itertools import combinations\n",
    "\n",
    "for c in combinations(chicken_dict.items(), M):\n",
    "    print(c[0][0], c[0][1], c[1][0], c[1][1])"
   ]
  },
  {
   "cell_type": "code",
   "execution_count": 25,
   "metadata": {},
   "outputs": [
    {
     "name": "stdout",
     "output_type": "stream",
     "text": [
      "chicken_01 (0, 1) chicken_30 (3, 0)\n",
      "(0, 1)\n",
      "(3, 0)\n",
      "\n",
      "chicken_01 (0, 1) chicken_40 (4, 0)\n",
      "(0, 1)\n",
      "(4, 0)\n",
      "\n",
      "chicken_01 (0, 1) chicken_41 (4, 1)\n",
      "(0, 1)\n",
      "(4, 1)\n",
      "\n",
      "chicken_01 (0, 1) chicken_44 (4, 4)\n",
      "(0, 1)\n",
      "(4, 4)\n",
      "\n",
      "chicken_30 (3, 0) chicken_40 (4, 0)\n",
      "(3, 0)\n",
      "(4, 0)\n",
      "\n",
      "chicken_30 (3, 0) chicken_41 (4, 1)\n",
      "(3, 0)\n",
      "(4, 1)\n",
      "\n",
      "chicken_30 (3, 0) chicken_44 (4, 4)\n",
      "(3, 0)\n",
      "(4, 4)\n",
      "\n",
      "chicken_40 (4, 0) chicken_41 (4, 1)\n",
      "(4, 0)\n",
      "(4, 1)\n",
      "\n",
      "chicken_40 (4, 0) chicken_44 (4, 4)\n",
      "(4, 0)\n",
      "(4, 4)\n",
      "\n",
      "chicken_41 (4, 1) chicken_44 (4, 4)\n",
      "(4, 1)\n",
      "(4, 4)\n",
      "\n"
     ]
    }
   ],
   "source": [
    "from itertools import combinations\n",
    "\n",
    "for c in combinations(chicken_dict.items(), M):\n",
    "    print(c[0][0], c[0][1], c[1][0], c[1][1])\n",
    "    for cc in c:\n",
    "        print(cc[1])\n",
    "    print()"
   ]
  },
  {
   "cell_type": "code",
   "execution_count": 11,
   "metadata": {},
   "outputs": [],
   "source": [
    "def measure_dist(tuple1, tuple2):\n",
    "    dist = abs(tuple1[0] - tuple2[0]) + abs(tuple1[1] - tuple2[1])\n",
    "    return dist"
   ]
  },
  {
   "cell_type": "code",
   "execution_count": 13,
   "metadata": {},
   "outputs": [],
   "source": [
    "city_distances = []\n",
    "\n",
    "for c in combinations(chicken_dict.items(), M):    \n",
    "    dist = 0    \n",
    "    for name, coord in house_dict.items():\n",
    "        dist += min(measure_dist(c[0][1], coord), measure_dist(c[1][1], coord))\n",
    "    city_distances.append(dist)"
   ]
  },
  {
   "cell_type": "code",
   "execution_count": 14,
   "metadata": {},
   "outputs": [
    {
     "data": {
      "text/plain": [
       "[17, 18, 15, 10, 22, 21, 15, 22, 17, 17]"
      ]
     },
     "execution_count": 14,
     "metadata": {},
     "output_type": "execute_result"
    }
   ],
   "source": [
    "city_distances"
   ]
  },
  {
   "cell_type": "code",
   "execution_count": 34,
   "metadata": {},
   "outputs": [
    {
     "name": "stdout",
     "output_type": "stream",
     "text": [
      "(0, 1) (0, 3)\n",
      "2\n",
      "\n",
      "(3, 0) (0, 3)\n",
      "6\n",
      "\n",
      "(0, 1) (1, 0)\n",
      "2\n",
      "\n",
      "(3, 0) (1, 0)\n",
      "2\n",
      "\n",
      "(0, 1) (1, 2)\n",
      "2\n",
      "\n",
      "(3, 0) (1, 2)\n",
      "4\n",
      "\n",
      "(0, 1) (3, 3)\n",
      "5\n",
      "\n",
      "(3, 0) (3, 3)\n",
      "3\n",
      "\n",
      "(0, 1) (3, 4)\n",
      "6\n",
      "\n",
      "(3, 0) (3, 4)\n",
      "4\n",
      "\n",
      "(0, 1) (4, 3)\n",
      "6\n",
      "\n",
      "(3, 0) (4, 3)\n",
      "4\n",
      "\n",
      "\n",
      "(0, 1) (0, 3)\n",
      "2\n",
      "\n",
      "(4, 0) (0, 3)\n",
      "7\n",
      "\n",
      "(0, 1) (1, 0)\n",
      "2\n",
      "\n",
      "(4, 0) (1, 0)\n",
      "3\n",
      "\n",
      "(0, 1) (1, 2)\n",
      "2\n",
      "\n",
      "(4, 0) (1, 2)\n",
      "5\n",
      "\n",
      "(0, 1) (3, 3)\n",
      "5\n",
      "\n",
      "(4, 0) (3, 3)\n",
      "4\n",
      "\n",
      "(0, 1) (3, 4)\n",
      "6\n",
      "\n",
      "(4, 0) (3, 4)\n",
      "5\n",
      "\n",
      "(0, 1) (4, 3)\n",
      "6\n",
      "\n",
      "(4, 0) (4, 3)\n",
      "3\n",
      "\n",
      "\n",
      "(0, 1) (0, 3)\n",
      "2\n",
      "\n",
      "(4, 1) (0, 3)\n",
      "6\n",
      "\n",
      "(0, 1) (1, 0)\n",
      "2\n",
      "\n",
      "(4, 1) (1, 0)\n",
      "4\n",
      "\n",
      "(0, 1) (1, 2)\n",
      "2\n",
      "\n",
      "(4, 1) (1, 2)\n",
      "4\n",
      "\n",
      "(0, 1) (3, 3)\n",
      "5\n",
      "\n",
      "(4, 1) (3, 3)\n",
      "3\n",
      "\n",
      "(0, 1) (3, 4)\n",
      "6\n",
      "\n",
      "(4, 1) (3, 4)\n",
      "4\n",
      "\n",
      "(0, 1) (4, 3)\n",
      "6\n",
      "\n",
      "(4, 1) (4, 3)\n",
      "2\n",
      "\n",
      "\n",
      "(0, 1) (0, 3)\n",
      "2\n",
      "\n",
      "(4, 4) (0, 3)\n",
      "5\n",
      "\n",
      "(0, 1) (1, 0)\n",
      "2\n",
      "\n",
      "(4, 4) (1, 0)\n",
      "7\n",
      "\n",
      "(0, 1) (1, 2)\n",
      "2\n",
      "\n",
      "(4, 4) (1, 2)\n",
      "5\n",
      "\n",
      "(0, 1) (3, 3)\n",
      "5\n",
      "\n",
      "(4, 4) (3, 3)\n",
      "2\n",
      "\n",
      "(0, 1) (3, 4)\n",
      "6\n",
      "\n",
      "(4, 4) (3, 4)\n",
      "1\n",
      "\n",
      "(0, 1) (4, 3)\n",
      "6\n",
      "\n",
      "(4, 4) (4, 3)\n",
      "1\n",
      "\n",
      "\n",
      "(3, 0) (0, 3)\n",
      "6\n",
      "\n",
      "(4, 0) (0, 3)\n",
      "7\n",
      "\n",
      "(3, 0) (1, 0)\n",
      "2\n",
      "\n",
      "(4, 0) (1, 0)\n",
      "3\n",
      "\n",
      "(3, 0) (1, 2)\n",
      "4\n",
      "\n",
      "(4, 0) (1, 2)\n",
      "5\n",
      "\n",
      "(3, 0) (3, 3)\n",
      "3\n",
      "\n",
      "(4, 0) (3, 3)\n",
      "4\n",
      "\n",
      "(3, 0) (3, 4)\n",
      "4\n",
      "\n",
      "(4, 0) (3, 4)\n",
      "5\n",
      "\n",
      "(3, 0) (4, 3)\n",
      "4\n",
      "\n",
      "(4, 0) (4, 3)\n",
      "3\n",
      "\n",
      "\n",
      "(3, 0) (0, 3)\n",
      "6\n",
      "\n",
      "(4, 1) (0, 3)\n",
      "6\n",
      "\n",
      "(3, 0) (1, 0)\n",
      "2\n",
      "\n",
      "(4, 1) (1, 0)\n",
      "4\n",
      "\n",
      "(3, 0) (1, 2)\n",
      "4\n",
      "\n",
      "(4, 1) (1, 2)\n",
      "4\n",
      "\n",
      "(3, 0) (3, 3)\n",
      "3\n",
      "\n",
      "(4, 1) (3, 3)\n",
      "3\n",
      "\n",
      "(3, 0) (3, 4)\n",
      "4\n",
      "\n",
      "(4, 1) (3, 4)\n",
      "4\n",
      "\n",
      "(3, 0) (4, 3)\n",
      "4\n",
      "\n",
      "(4, 1) (4, 3)\n",
      "2\n",
      "\n",
      "\n",
      "(3, 0) (0, 3)\n",
      "6\n",
      "\n",
      "(4, 4) (0, 3)\n",
      "5\n",
      "\n",
      "(3, 0) (1, 0)\n",
      "2\n",
      "\n",
      "(4, 4) (1, 0)\n",
      "7\n",
      "\n",
      "(3, 0) (1, 2)\n",
      "4\n",
      "\n",
      "(4, 4) (1, 2)\n",
      "5\n",
      "\n",
      "(3, 0) (3, 3)\n",
      "3\n",
      "\n",
      "(4, 4) (3, 3)\n",
      "2\n",
      "\n",
      "(3, 0) (3, 4)\n",
      "4\n",
      "\n",
      "(4, 4) (3, 4)\n",
      "1\n",
      "\n",
      "(3, 0) (4, 3)\n",
      "4\n",
      "\n",
      "(4, 4) (4, 3)\n",
      "1\n",
      "\n",
      "\n",
      "(4, 0) (0, 3)\n",
      "7\n",
      "\n",
      "(4, 1) (0, 3)\n",
      "6\n",
      "\n",
      "(4, 0) (1, 0)\n",
      "3\n",
      "\n",
      "(4, 1) (1, 0)\n",
      "4\n",
      "\n",
      "(4, 0) (1, 2)\n",
      "5\n",
      "\n",
      "(4, 1) (1, 2)\n",
      "4\n",
      "\n",
      "(4, 0) (3, 3)\n",
      "4\n",
      "\n",
      "(4, 1) (3, 3)\n",
      "3\n",
      "\n",
      "(4, 0) (3, 4)\n",
      "5\n",
      "\n",
      "(4, 1) (3, 4)\n",
      "4\n",
      "\n",
      "(4, 0) (4, 3)\n",
      "3\n",
      "\n",
      "(4, 1) (4, 3)\n",
      "2\n",
      "\n",
      "\n",
      "(4, 0) (0, 3)\n",
      "7\n",
      "\n",
      "(4, 4) (0, 3)\n",
      "5\n",
      "\n",
      "(4, 0) (1, 0)\n",
      "3\n",
      "\n",
      "(4, 4) (1, 0)\n",
      "7\n",
      "\n",
      "(4, 0) (1, 2)\n",
      "5\n",
      "\n",
      "(4, 4) (1, 2)\n",
      "5\n",
      "\n",
      "(4, 0) (3, 3)\n",
      "4\n",
      "\n",
      "(4, 4) (3, 3)\n",
      "2\n",
      "\n",
      "(4, 0) (3, 4)\n",
      "5\n",
      "\n",
      "(4, 4) (3, 4)\n",
      "1\n",
      "\n",
      "(4, 0) (4, 3)\n",
      "3\n",
      "\n",
      "(4, 4) (4, 3)\n",
      "1\n",
      "\n",
      "\n",
      "(4, 1) (0, 3)\n",
      "6\n",
      "\n",
      "(4, 4) (0, 3)\n",
      "5\n",
      "\n",
      "(4, 1) (1, 0)\n",
      "4\n",
      "\n",
      "(4, 4) (1, 0)\n",
      "7\n",
      "\n",
      "(4, 1) (1, 2)\n",
      "4\n",
      "\n",
      "(4, 4) (1, 2)\n",
      "5\n",
      "\n",
      "(4, 1) (3, 3)\n",
      "3\n",
      "\n",
      "(4, 4) (3, 3)\n",
      "2\n",
      "\n",
      "(4, 1) (3, 4)\n",
      "4\n",
      "\n",
      "(4, 4) (3, 4)\n",
      "1\n",
      "\n",
      "(4, 1) (4, 3)\n",
      "2\n",
      "\n",
      "(4, 4) (4, 3)\n",
      "1\n",
      "\n",
      "\n",
      "1\n"
     ]
    }
   ],
   "source": [
    "from itertools import combinations\n",
    "\n",
    "def measure_dist(tuple1, tuple2):\n",
    "    dist = abs(tuple1[0] - tuple2[0]) + abs(tuple1[1] - tuple2[1])\n",
    "    return dist\n",
    "\n",
    "N, M = map(int, input().split())  # (5, 2)\n",
    "city = [[0] * M for _ in range(N)]\n",
    "\n",
    "for i in range(N):\n",
    "    city[i] = list(map(int, input().split()))\n",
    "    \n",
    "chicken_dict = {}\n",
    "for i in range(N):\n",
    "    for j in range(N):\n",
    "        if city[i][j] == 2:\n",
    "            chicken_dict['chicken_' + str(i) + str(j)] = (i, j)\n",
    "            \n",
    "house_dict = {}\n",
    "for i in range(N):\n",
    "    for j in range(N):\n",
    "        if city[i][j] == 1:\n",
    "            house_dict['house_' + str(i) + str(j)] = (i, j)\n",
    "            \n",
    "city_distances = []\n",
    "\n",
    "for c in combinations(chicken_dict.items(), M):    \n",
    "    dist = 0    \n",
    "    for name, coord in house_dict.items():\n",
    "        cc_list = []\n",
    "        min_cc_dist = 0        \n",
    "        for i in range(len(c)):\n",
    "            print(c[i][1], coord)\n",
    "            \n",
    "            cc_dist = measure_dist(c[i][1], coord)\n",
    "            print(cc_dist)                       \n",
    "            \n",
    "            cc_list.append(cc_dist)\n",
    "            min_cc_dist = min(cc_list)\n",
    "            print(min_cc_dist)\n",
    "            print()\n",
    "        \n",
    "    city_distances.append(min_cc_dist)\n",
    "    print()\n",
    "    \n",
    "min_city_distance = min(city_distances)\n",
    "print(min_city_distance)"
   ]
  },
  {
   "cell_type": "code",
   "execution_count": 33,
   "metadata": {},
   "outputs": [
    {
     "name": "stdout",
     "output_type": "stream",
     "text": [
      "[4, 3, 2, 1, 3, 2, 1, 2, 1, 1]\n"
     ]
    },
    {
     "data": {
      "text/plain": [
       "(10, None)"
      ]
     },
     "execution_count": 33,
     "metadata": {},
     "output_type": "execute_result"
    }
   ],
   "source": [
    "len(city_distances), print(city_distances)"
   ]
  },
  {
   "cell_type": "code",
   "execution_count": 30,
   "metadata": {},
   "outputs": [
    {
     "data": {
      "text/plain": [
       "2"
      ]
     },
     "execution_count": 30,
     "metadata": {},
     "output_type": "execute_result"
    }
   ],
   "source": [
    "measure_dist((0, 1), (0, 3))"
   ]
  },
  {
   "cell_type": "code",
   "execution_count": 19,
   "metadata": {},
   "outputs": [
    {
     "name": "stdout",
     "output_type": "stream",
     "text": [
      "[1, 2, 0, 0, 0]\n",
      "[1, 2, 0, 0, 0]\n",
      "[1, 2, 0, 0, 0]\n",
      "[1, 2, 0, 0, 0]\n",
      "[1, 2, 0, 0, 0]\n"
     ]
    }
   ],
   "source": [
    "for l in city:\n",
    "    print(l)"
   ]
  },
  {
   "cell_type": "code",
   "execution_count": 20,
   "metadata": {},
   "outputs": [
    {
     "name": "stdout",
     "output_type": "stream",
     "text": [
      "{'chicken_01': (0, 1), 'chicken_11': (1, 1), 'chicken_21': (2, 1), 'chicken_31': (3, 1), 'chicken_41': (4, 1)}\n",
      "{'house_00': (0, 0), 'house_10': (1, 0), 'house_20': (2, 0), 'house_30': (3, 0), 'house_40': (4, 0)}\n"
     ]
    }
   ],
   "source": [
    "print(chicken_dict)\n",
    "print(house_dict)"
   ]
  }
 ],
 "metadata": {
  "kernelspec": {
   "display_name": "base",
   "language": "python",
   "name": "python3"
  },
  "language_info": {
   "codemirror_mode": {
    "name": "ipython",
    "version": 3
   },
   "file_extension": ".py",
   "mimetype": "text/x-python",
   "name": "python",
   "nbconvert_exporter": "python",
   "pygments_lexer": "ipython3",
   "version": "3.9.12"
  },
  "orig_nbformat": 4
 },
 "nbformat": 4,
 "nbformat_minor": 2
}
