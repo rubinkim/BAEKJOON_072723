{
 "cells": [
  {
   "cell_type": "code",
   "execution_count": 16,
   "metadata": {},
   "outputs": [
    {
     "name": "stdout",
     "output_type": "stream",
     "text": [
      "02984\n"
     ]
    }
   ],
   "source": [
    "n = input()\n",
    "print(n)"
   ]
  },
  {
   "cell_type": "code",
   "execution_count": 18,
   "metadata": {},
   "outputs": [
    {
     "name": "stdout",
     "output_type": "stream",
     "text": [
      "1번째 x : 2,   result : 2\n",
      "2번째 x : 9,   result : 18\n",
      "3번째 x : 8,   result : 144\n",
      "4번째 x : 4,   result : 576\n",
      "576\n"
     ]
    }
   ],
   "source": [
    "result = int(n[0])\n",
    "\n",
    "for i, x in enumerate(n): \n",
    "    if i == 0:\n",
    "        continue  \n",
    "    if result == 0:    \n",
    "        result = int(x)\n",
    "    elif x == 0:\n",
    "        continue\n",
    "    elif x == 1:    \n",
    "        result += int(x)       \n",
    "    else:        \n",
    "        result *= int(x)\n",
    "    \n",
    "    print(f\"{i}번째 x : {x},   result : {result}\")\n",
    "        \n",
    "print(result)"
   ]
  },
  {
   "cell_type": "code",
   "execution_count": 7,
   "metadata": {},
   "outputs": [
    {
     "data": {
      "text/plain": [
       "1152"
      ]
     },
     "execution_count": 7,
     "metadata": {},
     "output_type": "execute_result"
    }
   ],
   "source": [
    "576 * 2"
   ]
  }
 ],
 "metadata": {
  "kernelspec": {
   "display_name": "base",
   "language": "python",
   "name": "python3"
  },
  "language_info": {
   "codemirror_mode": {
    "name": "ipython",
    "version": 3
   },
   "file_extension": ".py",
   "mimetype": "text/x-python",
   "name": "python",
   "nbconvert_exporter": "python",
   "pygments_lexer": "ipython3",
   "version": "3.9.12"
  },
  "orig_nbformat": 4
 },
 "nbformat": 4,
 "nbformat_minor": 2
}
