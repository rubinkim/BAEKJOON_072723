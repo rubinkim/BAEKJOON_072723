{
 "cells": [
  {
   "cell_type": "code",
   "execution_count": null,
   "metadata": {},
   "outputs": [],
   "source": [
    "result = 0\n",
    "\n",
    "for i, x in enumerate(input()):  # 00002010900100000\n",
    "    if x == \"0\":\n",
    "        continue\n",
    "    elif x == \"1\":\n",
    "        result += int(x)\n",
    "    else:\n",
    "        if result == 0:\n",
    "            result = int(x)        \n",
    "        else:\n",
    "            result *= int(x)\n",
    "\n",
    "print(result)"
   ]
  }
 ],
 "metadata": {
  "language_info": {
   "name": "python"
  },
  "orig_nbformat": 4
 },
 "nbformat": 4,
 "nbformat_minor": 2
}
